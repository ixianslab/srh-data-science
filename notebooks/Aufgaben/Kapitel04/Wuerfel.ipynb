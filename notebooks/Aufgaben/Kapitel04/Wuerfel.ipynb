{
 "cells": [
  {
   "cell_type": "code",
   "execution_count": 1,
   "id": "d40c0770-6c29-4f1f-9fe4-a6731c9980d1",
   "metadata": {
    "tags": [
     "remove-cell"
    ]
   },
   "outputs": [
    {
     "name": "stdout",
     "output_type": "stream",
     "text": [
      "\n",
      "---------------------------------\n",
      "Working on the host: imarevic-pc\n",
      "\n",
      "---------------------------------\n",
      "Python version: 3.10.9 | packaged by conda-forge | (main, Feb  2 2023, 20:20:04) [GCC 11.3.0]\n",
      "\n",
      "---------------------------------\n",
      "Python interpreter: /home/imarevic/anaconda3/envs/srh/bin/python3.10\n"
     ]
    }
   ],
   "source": [
    "%matplotlib inline\n",
    "# Load the \"autoreload\" extension\n",
    "%load_ext autoreload\n",
    "# always reload modules\n",
    "%autoreload 2\n",
    "# black formatter for jupyter notebooks\n",
    "# %load_ext nb_black\n",
    "# black formatter for jupyter lab\n",
    "%load_ext lab_black\n",
    "\n",
    "%run ../../../src/notebook_env.py"
   ]
  },
  {
   "cell_type": "markdown",
   "id": "7cf2b6ab-5b3a-402e-a0b3-9caee6be6cfc",
   "metadata": {},
   "source": [
    "# Würfelexperiment\n",
    "\n",
    "1. Generieren Sie $100.000$ (gleichwahrscheinliche) Würfe eines Würfels und berechnen Sie Mittelwert und Standardabweichung der Würfelsumme. \n",
    "\n",
    "2. Wählen Sie aus den Würfelsummen $200$ Stichproben mit einer Stichprobengrösse von $50$ aus. Berechnen Sie den Standardfehler mit \n",
    "\n",
    "$$\\sigma_{\\bar{x}} = \\frac{\\sigma}{\\sqrt{n}}$$\n",
    "\n",
    "\n",
    "&nbsp;&nbsp;&nbsp;&nbsp;&nbsp;&nbsp;&nbsp;&nbsp;wobei $\\sigma_{\\bar{x}}$ als Standardfehler, $\\sigma$ als Standardabweichung der Stichprobe und $\\sqrt{n}$ als Wurzel aus der Stichprobengrösse \n",
    "\n",
    "3. Wiederholen Sie das Experiment für $10$ Würfel"
   ]
  },
  {
   "cell_type": "markdown",
   "id": "c2921007-43f9-477d-bd27-25a2848f178e",
   "metadata": {},
   "source": [
    "__Hilfsfunktionen__"
   ]
  },
  {
   "cell_type": "code",
   "execution_count": 2,
   "id": "26504b3b-db8b-43ed-ae5e-9c97566c915b",
   "metadata": {
    "tags": [
     "thebe-init"
    ]
   },
   "outputs": [],
   "source": [
    "import numpy as np\n",
    "\n",
    "\n",
    "def dice_roll(nrolls: int, nsides: int = 6, seed=None) -> list:\n",
    "    \"\"\"Function to simulate a dice roll\n",
    "    params:\n",
    "       nrolls: number of rolls/dices\n",
    "       nsides: number of sides\n",
    "    \"\"\"\n",
    "    if seed is not None:\n",
    "        np.random.seed(seed)\n",
    "\n",
    "    return [np.random.randint(1, nsides + 1) for x in range(nrolls)]"
   ]
  },
  {
   "cell_type": "markdown",
   "id": "563c85ee-7cac-472f-9ec2-6046675b5f57",
   "metadata": {},
   "source": [
    "-------------------------------------------------------"
   ]
  },
  {
   "cell_type": "code",
   "execution_count": null,
   "id": "b7f471df-59e0-432b-b166-681a182127ce",
   "metadata": {},
   "outputs": [],
   "source": [
    "# Frage 1 ..."
   ]
  },
  {
   "cell_type": "code",
   "execution_count": 32,
   "id": "ddec2ef5-30d2-47a0-b8d2-f38af41d694c",
   "metadata": {},
   "outputs": [],
   "source": [
    "# Frage 2 ..."
   ]
  },
  {
   "cell_type": "code",
   "execution_count": null,
   "id": "2936f170-9ad7-49b9-8955-7d6ab9a1897a",
   "metadata": {},
   "outputs": [],
   "source": [
    "# Frage 3 ..."
   ]
  },
  {
   "cell_type": "markdown",
   "id": "0394cbe8-9963-4d25-9f7b-f0caf5c125c5",
   "metadata": {},
   "source": [
    "## Lösungen"
   ]
  },
  {
   "cell_type": "code",
   "execution_count": 3,
   "id": "c8d84fd5-c91e-470d-88d5-785db93382cb",
   "metadata": {
    "tags": [
     "hide-cell"
    ]
   },
   "outputs": [
    {
     "name": "stdout",
     "output_type": "stream",
     "text": [
      "Mittelwert Würfelsumme: 3.50312\n",
      "Standardabweichung Würfelsumme: 1.7075333863793118\n"
     ]
    }
   ],
   "source": [
    "# Experiment\n",
    "N = 100000\n",
    "experiment = dice_roll(N, seed=42)\n",
    "\n",
    "# Statistik des Experiments\n",
    "print(f\"Mittelwert Würfelsumme: {np.mean(experiment)}\")\n",
    "print(f\"Standardabweichung Würfelsumme: {np.std(experiment)}\")"
   ]
  },
  {
   "cell_type": "code",
   "execution_count": 4,
   "id": "6a4c025f-3c6a-495a-a1f1-c90fefaf77fd",
   "metadata": {
    "tags": [
     "hide-cell"
    ]
   },
   "outputs": [
    {
     "name": "stdout",
     "output_type": "stream",
     "text": [
      "Der Standardfehler beträgt 0.0312.\n"
     ]
    }
   ],
   "source": [
    "# Stichprobenverteilung und Standardfehler\n",
    "n = 50\n",
    "sample_means = []\n",
    "for i in range(200):\n",
    "    sample = np.random.choice(experiment, n, replace=True)\n",
    "    sample_means.append(np.mean(sample))\n",
    "std_error = np.std(sample_means) / np.sqrt(n)\n",
    "print(f\"Der Standardfehler beträgt {np.round(std_error,4)}.\")"
   ]
  },
  {
   "cell_type": "code",
   "execution_count": 5,
   "id": "850288d6-cf12-4a41-ab67-86fd86af71be",
   "metadata": {
    "tags": [
     "hide-cell"
    ]
   },
   "outputs": [
    {
     "name": "stdout",
     "output_type": "stream",
     "text": [
      "Mittelwert Würfelsumme: 34.99722\n",
      "Standardabweichung Würfelsumme: 5.39307076456447\n",
      "Der Standardfehler beträgt 0.1067.\n"
     ]
    }
   ],
   "source": [
    "# experiment\n",
    "N = 100000\n",
    "experiment = []\n",
    "for i in range(N):\n",
    "    roll = dice_roll(nrolls=10)\n",
    "    roll_sum = np.sum(roll)\n",
    "    experiment.append(roll_sum)\n",
    "\n",
    "# Statistik des Experiments\n",
    "print(\"Mittelwert Würfelsumme:\", np.mean(experiment))\n",
    "print(\"Standardabweichung Würfelsumme:\", np.std(experiment))\n",
    "\n",
    "# Stichprobenverteilung und Standardfehler\n",
    "n = 50\n",
    "sample_means = []\n",
    "for i in range(200):\n",
    "    sample = np.random.choice(experiment, n, replace=True)\n",
    "    sample_means.append(np.mean(sample))\n",
    "std_error = np.std(sample_means) / np.sqrt(n)\n",
    "print(f\"Der Standardfehler beträgt {np.round(std_error,4)}.\")"
   ]
  }
 ],
 "metadata": {
  "kernelspec": {
   "display_name": "Python 3 (ipykernel)",
   "language": "python",
   "name": "python3"
  },
  "language_info": {
   "codemirror_mode": {
    "name": "ipython",
    "version": 3
   },
   "file_extension": ".py",
   "mimetype": "text/x-python",
   "name": "python",
   "nbconvert_exporter": "python",
   "pygments_lexer": "ipython3",
   "version": "3.10.9"
  }
 },
 "nbformat": 4,
 "nbformat_minor": 5
}
