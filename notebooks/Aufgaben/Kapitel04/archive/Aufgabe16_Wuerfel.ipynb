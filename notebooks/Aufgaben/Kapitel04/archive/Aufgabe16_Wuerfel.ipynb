{
 "cells": [
  {
   "cell_type": "code",
   "execution_count": 1,
   "id": "d40c0770-6c29-4f1f-9fe4-a6731c9980d1",
   "metadata": {
    "tags": [
     "remove-cell"
    ]
   },
   "outputs": [
    {
     "name": "stdout",
     "output_type": "stream",
     "text": [
      "\n",
      "---------------------------------\n",
      "Working on the host: Joachims-MacBook-Pro.local\n",
      "\n",
      "---------------------------------\n",
      "Python version: 3.10.2 | packaged by conda-forge | (main, Feb  1 2022, 19:30:18) [Clang 11.1.0 ]\n",
      "\n",
      "---------------------------------\n",
      "Python interpreter: /opt/miniconda3/envs/srh-poc/bin/python\n"
     ]
    }
   ],
   "source": [
    "%matplotlib inline\n",
    "# Load the \"autoreload\" extension\n",
    "%load_ext autoreload\n",
    "# always reload modules\n",
    "%autoreload 2\n",
    "# black formatter for jupyter notebooks\n",
    "#%load_ext nb_black\n",
    "# black formatter for jupyter lab\n",
    "%load_ext lab_black\n",
    "\n",
    "%run ../src/notebook_env.py"
   ]
  },
  {
   "cell_type": "markdown",
   "id": "7cf2b6ab-5b3a-402e-a0b3-9caee6be6cfc",
   "metadata": {},
   "source": [
    "# Aufgabe 3\n",
    "\n",
    "1. Generieren Sie 100.000 (gleichwahrscheinliche) Würfe eines Würfels und berechnen Sie Mittelwert und Standardabweichung der Würfelsumme. Wählen Sie aus den Würfelsummen 200 Stichproben mit einer Stichprobengrösse von 50 aus. Berechnen Sie den Standardfehler mit \n",
    "\n",
    "$$\\sigma_{\\bar{x}} = \\frac{\\sigma}{\\sqrt{n}}$$\n",
    "\n",
    "\n",
    "&nbsp;&nbsp;&nbsp;&nbsp;&nbsp;&nbsp;&nbsp;&nbsp;wobei $\\sigma_{\\bar{x}}$ als Standardfehler, $\\sigma$ als Standardabweichung der Stichprobe und $\\sqrt{n}$ als Wurzel aus der Stichprobengrösse \n",
    "\n",
    "2. Wiederholen Sie das Experiment für 10 Würfel"
   ]
  },
  {
   "cell_type": "markdown",
   "id": "fc8500a8-f687-42a0-949f-f74e943cc512",
   "metadata": {},
   "source": [
    "**Importiere Module**"
   ]
  },
  {
   "cell_type": "code",
   "execution_count": 2,
   "id": "eb14df35-edab-4eb7-a260-503ccb11b692",
   "metadata": {
    "tags": [
     "thebe-init"
    ]
   },
   "outputs": [],
   "source": [
    "import numpy as np\n",
    "import matplotlib.pyplot as plt"
   ]
  },
  {
   "cell_type": "markdown",
   "id": "c2921007-43f9-477d-bd27-25a2848f178e",
   "metadata": {},
   "source": [
    "__Hilfsfunktionen__"
   ]
  },
  {
   "cell_type": "code",
   "execution_count": 3,
   "id": "26504b3b-db8b-43ed-ae5e-9c97566c915b",
   "metadata": {
    "tags": [
     "thebe-init"
    ]
   },
   "outputs": [],
   "source": [
    "def dice_roll(nrolls: int, nsides: int = 6, seed=None) -> list:\n",
    "    \"\"\"Function to simulate a dice roll\n",
    "    params:\n",
    "       nrolls: number of rolls/dices\n",
    "       nsides: number of sides\n",
    "    \"\"\"\n",
    "    if seed is not None:\n",
    "        np.random.seed(seed)\n",
    "\n",
    "    return [np.random.randint(1, nsides) for x in range(nrolls)]"
   ]
  },
  {
   "cell_type": "markdown",
   "id": "381c7acf-f30d-44ea-a176-f2d0ab7571d6",
   "metadata": {},
   "source": [
    "## Aufgabe 3.1\n",
    "\n",
    "Generieren Sie in 100.000 (gleichwahrscheinliche) Würfe eines Würfels und berechnen Sie Mittelwert und Standardabweichung der Würfelsumme. Wählen Sie aus den Würfelwürfen 200 Stichproben vom Umfang 50 aus und berechnen den Standardfehler mit\n",
    "\n",
    "$$\\sigma_{\\bar{x}} = \\frac{\\sigma}{\\sqrt{n}}$$\n",
    "\n",
    "\n",
    "wobei $\\sigma_{\\bar{x}}$ als Standardfehler, $\\sigma$ als Standardabweichung der Stichprobe und $\\sqrt{n}$ als Wurzel aus der Stichprobengrösse "
   ]
  },
  {
   "cell_type": "code",
   "execution_count": 4,
   "id": "4513e5c8-ea2e-4463-9a07-740b029bc5ec",
   "metadata": {},
   "outputs": [],
   "source": [
    "## your code here ..."
   ]
  },
  {
   "cell_type": "code",
   "execution_count": 5,
   "id": "6a4c025f-3c6a-495a-a1f1-c90fefaf77fd",
   "metadata": {
    "tags": [
     "hide-cell"
    ]
   },
   "outputs": [
    {
     "name": "stdout",
     "output_type": "stream",
     "text": [
      "Mittelwert Würfelsumme: 3.00237\n",
      "Standardabweichung Würfelsumme: 1.417330019120459\n",
      "Der Standardfehler beträgt 0.027.\n"
     ]
    }
   ],
   "source": [
    "# experiment\n",
    "N = 100000\n",
    "experiment = dice_roll(N, seed=42)\n",
    "\n",
    "# Statistik des Experiments\n",
    "print(\"Mittelwert Würfelsumme:\", np.mean(experiment))\n",
    "print(\"Standardabweichung Würfelsumme:\", np.std(experiment))\n",
    "\n",
    "# Stichprobenverteilung und Standardfehler\n",
    "n = 50\n",
    "sample_means = []\n",
    "for i in range(200):\n",
    "    sample = np.random.choice(experiment, n, replace=True)\n",
    "    sample_means.append(np.mean(sample))\n",
    "std_error = np.std(sample_means) / np.sqrt(n)\n",
    "print(f\"Der Standardfehler beträgt {np.round(std_error,4)}.\")"
   ]
  },
  {
   "cell_type": "markdown",
   "id": "309e9991-b3ec-4137-9daf-215f1b809638",
   "metadata": {},
   "source": [
    "## Aufgabe 3.2\n",
    "Wiederholen Sie das Experiment für 10 Würfel"
   ]
  },
  {
   "cell_type": "code",
   "execution_count": 6,
   "id": "23c0c24d-00ed-480f-b0b2-486fe240bc1d",
   "metadata": {},
   "outputs": [],
   "source": [
    "## your code here ..."
   ]
  },
  {
   "cell_type": "code",
   "execution_count": 7,
   "id": "850288d6-cf12-4a41-ab67-86fd86af71be",
   "metadata": {
    "tags": [
     "hide-cell"
    ]
   },
   "outputs": [
    {
     "name": "stdout",
     "output_type": "stream",
     "text": [
      "Mittelwert Würfelsumme: 30.00275\n",
      "Standardabweichung Würfelsumme: 4.450305881341191\n",
      "Der Standardfehler beträgt 0.0885.\n"
     ]
    }
   ],
   "source": [
    "# experiment\n",
    "N = 100000\n",
    "experiment = []\n",
    "for i in range(N):\n",
    "    roll = dice_roll(nrolls=10)\n",
    "    roll_sum = np.sum(roll)\n",
    "    experiment.append(roll_sum)\n",
    "\n",
    "# Statistik des Experiments\n",
    "print(\"Mittelwert Würfelsumme:\", np.mean(experiment))\n",
    "print(\"Standardabweichung Würfelsumme:\", np.std(experiment))\n",
    "\n",
    "# Stichprobenverteilung und Standardfehler\n",
    "n = 50\n",
    "sample_means = []\n",
    "for i in range(200):\n",
    "    sample = np.random.choice(experiment, n, replace=True)\n",
    "    sample_means.append(np.mean(sample))\n",
    "std_error = np.std(sample_means) / np.sqrt(n)\n",
    "print(f\"Der Standardfehler beträgt {np.round(std_error,4)}.\")"
   ]
  }
 ],
 "metadata": {
  "kernelspec": {
   "display_name": "Python 3 (ipykernel)",
   "language": "python",
   "name": "python3"
  },
  "language_info": {
   "codemirror_mode": {
    "name": "ipython",
    "version": 3
   },
   "file_extension": ".py",
   "mimetype": "text/x-python",
   "name": "python",
   "nbconvert_exporter": "python",
   "pygments_lexer": "ipython3",
   "version": "3.10.2"
  }
 },
 "nbformat": 4,
 "nbformat_minor": 5
}
