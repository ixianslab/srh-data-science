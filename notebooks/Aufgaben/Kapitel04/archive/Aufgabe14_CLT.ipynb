{
 "cells": [
  {
   "cell_type": "code",
   "execution_count": null,
   "id": "d40c0770-6c29-4f1f-9fe4-a6731c9980d1",
   "metadata": {
    "tags": [
     "remove-cell"
    ]
   },
   "outputs": [],
   "source": [
    "%matplotlib inline\n",
    "# Load the \"autoreload\" extension\n",
    "%load_ext autoreload\n",
    "# always reload modules\n",
    "%autoreload 2\n",
    "# black formatter for jupyter notebooks\n",
    "#%load_ext nb_black\n",
    "# black formatter for jupyter lab\n",
    "%load_ext lab_black\n",
    "\n",
    "%run ../src/notebook_env.py"
   ]
  },
  {
   "cell_type": "markdown",
   "id": "7cf2b6ab-5b3a-402e-a0b3-9caee6be6cfc",
   "metadata": {},
   "source": [
    "# Aufgabe 1"
   ]
  },
  {
   "cell_type": "markdown",
   "id": "f491facd-3dba-421a-8391-4859d3ca779c",
   "metadata": {},
   "source": [
    "Erklären Sie den Zentralen Grenzwertsatz."
   ]
  },
  {
   "cell_type": "markdown",
   "id": "bd71ff47-e0f0-4ebf-a14b-a384f35bd7bc",
   "metadata": {},
   "source": [
    "```{toggle}\n",
    "Zentraler Grenzwertsatz (informell)\n",
    "\n",
    "Die Summe von unabhängigen Zufallsvariablen besitzt eine Verteilung, die\n",
    "sich durch eine Normalverteilung approximieren lässt, sofern die Anzahl der\n",
    "Summanden gross ist. Die Approximation gelingt um so besser, je grösser\n",
    "die Anzahl der Summanden ist {cite:p}`weigand2006statistik`.\n",
    "```\n"
   ]
  },
  {
   "cell_type": "code",
   "execution_count": null,
   "id": "db27cb2b-286c-422e-9a95-9e3a2a272385",
   "metadata": {},
   "outputs": [],
   "source": []
  }
 ],
 "metadata": {
  "kernelspec": {
   "display_name": "Python 3 (ipykernel)",
   "language": "python",
   "name": "python3"
  },
  "language_info": {
   "codemirror_mode": {
    "name": "ipython",
    "version": 3
   },
   "file_extension": ".py",
   "mimetype": "text/x-python",
   "name": "python",
   "nbconvert_exporter": "python",
   "pygments_lexer": "ipython3",
   "version": "3.10.2"
  }
 },
 "nbformat": 4,
 "nbformat_minor": 5
}
