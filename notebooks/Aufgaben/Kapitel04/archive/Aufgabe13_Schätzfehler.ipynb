{
 "cells": [
  {
   "cell_type": "markdown",
   "id": "e33f6177-17e0-4a31-9a91-7b86fcf1c37c",
   "metadata": {},
   "source": [
    "-------------------------------------------------------\n",
    "-------------------------------------------------------\n",
    "### Kapitel 4\n",
    "### Aufgabenstellung: Schätzfehler,Stichprobenfehler\n",
    "\n",
    "-------------------------------------------------------\n",
    "-------------------------------------------------------"
   ]
  },
  {
   "cell_type": "markdown",
   "id": "4263dee0-bb3a-4bdb-8ca0-1d93a9037455",
   "metadata": {},
   "source": [
    "Berechnen Sie aus der gegebenen Grundgesamtheit $G$:"
   ]
  },
  {
   "cell_type": "code",
   "execution_count": 1,
   "id": "b810a98b-77d7-4b3b-bd36-c4568d979816",
   "metadata": {},
   "outputs": [],
   "source": [
    "pop = [4, 10, 10, 17, 5, 1, 11, 3, 15, 8, 10, 2, 11, 10, 15, 5, 0, 14, 1, 12]"
   ]
  },
  {
   "cell_type": "markdown",
   "id": "9ff73b49-86f8-4ed3-8c15-b9eb7e5c73a1",
   "metadata": {},
   "source": [
    "1. den Mittelwert der Grundgesamtheit\n",
    "2. den Mittelwert und Schätzfehler einer Stichprobe mit Umfang $n = 10$\n",
    "3. die untere und obere Grenze für den Schätzfehler einer Stichprobe mit Umfang $n = 4$"
   ]
  },
  {
   "cell_type": "markdown",
   "id": "2cf002f1-39c6-4363-805b-9710178d802e",
   "metadata": {},
   "source": [
    "-------------------------------------------------------"
   ]
  },
  {
   "cell_type": "markdown",
   "id": "6c545738-37c5-4f98-b6a0-b94eae1b93bd",
   "metadata": {},
   "source": [
    "### Lösung"
   ]
  },
  {
   "cell_type": "markdown",
   "id": "36e3f437-f201-4c9e-a191-7bd9faed9640",
   "metadata": {},
   "source": [
    "**1.**"
   ]
  },
  {
   "cell_type": "code",
   "execution_count": 2,
   "id": "b9cf85a4-3fae-41a1-b9db-feec971ee01d",
   "metadata": {},
   "outputs": [
    {
     "data": {
      "text/plain": [
       "8.2"
      ]
     },
     "execution_count": 2,
     "metadata": {},
     "output_type": "execute_result"
    }
   ],
   "source": [
    "import numpy as np\n",
    "pop_mean = np.mean(pop)\n",
    "pop_mean"
   ]
  },
  {
   "cell_type": "markdown",
   "id": "620f400d-4eb8-4fe6-9c7b-8def6c41db85",
   "metadata": {},
   "source": [
    "**2.**"
   ]
  },
  {
   "cell_type": "code",
   "execution_count": 5,
   "id": "33c05116-89d6-42fb-a78a-b9f89eb2d59f",
   "metadata": {},
   "outputs": [
    {
     "data": {
      "text/plain": [
       "[0, 5, 15, 10, 12, 4, 2, 11, 10, 8]"
      ]
     },
     "execution_count": 5,
     "metadata": {},
     "output_type": "execute_result"
    }
   ],
   "source": [
    "import random\n",
    "sample = random.sample(pop,10)\n",
    "sample"
   ]
  },
  {
   "cell_type": "code",
   "execution_count": 6,
   "id": "a2b9f622-c9a3-472b-9f1a-0817a6374cc6",
   "metadata": {},
   "outputs": [
    {
     "name": "stdout",
     "output_type": "stream",
     "text": [
      "7.7 Stichprobenmittel\n",
      "-0.4999999999999991 Schätzfehler\n"
     ]
    }
   ],
   "source": [
    "sample_mean = np.mean(sample)\n",
    "print(sample_mean, 'Stichprobenmittel')\n",
    "print(sample_mean-pop_mean, 'Schätzfehler')"
   ]
  },
  {
   "cell_type": "markdown",
   "id": "d6f705c3-e692-4f95-8ce5-d624ffb03be5",
   "metadata": {},
   "source": [
    "**3.**"
   ]
  },
  {
   "cell_type": "code",
   "execution_count": 7,
   "id": "b850d4e3-e892-46fc-83f5-035eaf7d12b0",
   "metadata": {},
   "outputs": [
    {
     "data": {
      "text/plain": [
       "[0, 1, 1, 2, 3, 4, 5, 5, 8, 10, 10, 10, 10, 11, 11, 12, 14, 15, 15, 17]"
      ]
     },
     "execution_count": 7,
     "metadata": {},
     "output_type": "execute_result"
    }
   ],
   "source": [
    "pop = sorted(pop)\n",
    "pop"
   ]
  },
  {
   "cell_type": "code",
   "execution_count": 8,
   "id": "6b197d9c-0608-4263-8a1f-5c7698ef6e87",
   "metadata": {},
   "outputs": [
    {
     "data": {
      "text/plain": [
       "[0, 1, 1, 2]"
      ]
     },
     "execution_count": 8,
     "metadata": {},
     "output_type": "execute_result"
    }
   ],
   "source": [
    "# Entnehme kleinste mögliche Stichprobe n = 4\n",
    "sample_min = pop[0:4]\n",
    "sample_min"
   ]
  },
  {
   "cell_type": "code",
   "execution_count": 9,
   "id": "8811eda0-3893-49b1-adce-0af4e1636cd8",
   "metadata": {},
   "outputs": [
    {
     "name": "stdout",
     "output_type": "stream",
     "text": [
      "-7.199999999999999 : Schätzfehler - untere Grenze\n"
     ]
    }
   ],
   "source": [
    "print(np.mean(sample_min) - pop_mean,': Schätzfehler - untere Grenze')"
   ]
  },
  {
   "cell_type": "code",
   "execution_count": 10,
   "id": "03a55021-9f7c-4878-86b1-af36def5c4bd",
   "metadata": {},
   "outputs": [
    {
     "data": {
      "text/plain": [
       "[14, 15, 15, 17]"
      ]
     },
     "execution_count": 10,
     "metadata": {},
     "output_type": "execute_result"
    }
   ],
   "source": [
    "# Entnehme größte mögliche Stichprobe n = 4\n",
    "sample_max = pop[16:20]\n",
    "sample_max"
   ]
  },
  {
   "cell_type": "code",
   "execution_count": 11,
   "id": "710d3a82-9754-48ae-8dee-67646e70f541",
   "metadata": {},
   "outputs": [
    {
     "name": "stdout",
     "output_type": "stream",
     "text": [
      "7.050000000000001 : Schätzfehler - obere Grenze\n"
     ]
    }
   ],
   "source": [
    "print(np.mean(sample_max) - pop_mean,': Schätzfehler - obere Grenze')"
   ]
  },
  {
   "cell_type": "code",
   "execution_count": null,
   "id": "0c9a1f81-d928-4f52-9d35-4bff20dc4591",
   "metadata": {},
   "outputs": [],
   "source": []
  }
 ],
 "metadata": {
  "kernelspec": {
   "display_name": "Python 3 (ipykernel)",
   "language": "python",
   "name": "python3"
  },
  "language_info": {
   "codemirror_mode": {
    "name": "ipython",
    "version": 3
   },
   "file_extension": ".py",
   "mimetype": "text/x-python",
   "name": "python",
   "nbconvert_exporter": "python",
   "pygments_lexer": "ipython3",
   "version": "3.10.9"
  }
 },
 "nbformat": 4,
 "nbformat_minor": 5
}
