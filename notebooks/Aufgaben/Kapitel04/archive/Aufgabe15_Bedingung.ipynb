{
 "cells": [
  {
   "cell_type": "code",
   "execution_count": 1,
   "id": "d40c0770-6c29-4f1f-9fe4-a6731c9980d1",
   "metadata": {
    "tags": [
     "remove-cell"
    ]
   },
   "outputs": [
    {
     "name": "stdout",
     "output_type": "stream",
     "text": [
      "\n",
      "---------------------------------\n",
      "Working on the host: Joachims-MacBook-Pro.local\n",
      "\n",
      "---------------------------------\n",
      "Python version: 3.10.2 | packaged by conda-forge | (main, Feb  1 2022, 19:30:18) [Clang 11.1.0 ]\n",
      "\n",
      "---------------------------------\n",
      "Python interpreter: /opt/miniconda3/envs/srh-poc/bin/python\n"
     ]
    }
   ],
   "source": [
    "%matplotlib inline\n",
    "# Load the \"autoreload\" extension\n",
    "%load_ext autoreload\n",
    "# always reload modules\n",
    "%autoreload 2\n",
    "# black formatter for jupyter notebooks\n",
    "#%load_ext nb_black\n",
    "# black formatter for jupyter lab\n",
    "%load_ext lab_black\n",
    "\n",
    "%run ../src/notebook_env.py"
   ]
  },
  {
   "cell_type": "markdown",
   "id": "7cf2b6ab-5b3a-402e-a0b3-9caee6be6cfc",
   "metadata": {},
   "source": [
    "# Aufgabe 2"
   ]
  },
  {
   "cell_type": "markdown",
   "id": "7b8dd22e-8d4a-4494-8bfe-1f887b1b0f67",
   "metadata": {},
   "source": [
    "Welche Bedingung müssen die Zufallsvariablen $X_{1},X_{2}\\dots,X_{n} $ erfüllen damit der zentrale Grenzwertsatz angewendet werden kann?"
   ]
  },
  {
   "cell_type": "markdown",
   "id": "e5a56a69-d7ea-4f07-a813-2b931cbba9d2",
   "metadata": {
    "tags": []
   },
   "source": [
    "```{toggle}\n",
    "Die Zufallsvariablen müssen unabhängig und identisch verteilt sein. Erwartungswert $\\mu$ und Standardabweichung $\\sigma$ müssen existieren und endlich sein. Zwei Zufallsvariablen $X_1$ , $X_2$ die Elemente der Ereignisräume $X_1 \\in B_1$ , $X_2 \\in B_2$ sind, sind unabhängig wenn für die Wahrscheinlichkeiten gilt $P(X_1 \\in B_1 , X_2 \\in B_2) = P(X_1 \\in B_1) \\cdot P(X_2 \\in B_2)$\"\n",
    "```"
   ]
  },
  {
   "cell_type": "code",
   "execution_count": null,
   "id": "01aed53f-2517-4b6d-b404-c848caa0e982",
   "metadata": {},
   "outputs": [],
   "source": []
  }
 ],
 "metadata": {
  "kernelspec": {
   "display_name": "Python 3 (ipykernel)",
   "language": "python",
   "name": "python3"
  },
  "language_info": {
   "codemirror_mode": {
    "name": "ipython",
    "version": 3
   },
   "file_extension": ".py",
   "mimetype": "text/x-python",
   "name": "python",
   "nbconvert_exporter": "python",
   "pygments_lexer": "ipython3",
   "version": "3.10.2"
  }
 },
 "nbformat": 4,
 "nbformat_minor": 5
}
