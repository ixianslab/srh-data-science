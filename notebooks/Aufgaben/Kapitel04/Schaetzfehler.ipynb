{
 "cells": [
  {
   "cell_type": "code",
   "execution_count": 1,
   "id": "2fd53624-a4ba-4930-90f3-ee6d64056ba3",
   "metadata": {
    "tags": [
     "remove-cell"
    ]
   },
   "outputs": [
    {
     "name": "stdout",
     "output_type": "stream",
     "text": [
      "\n",
      "---------------------------------\n",
      "Working on the host: imarevic-pc\n",
      "\n",
      "---------------------------------\n",
      "Python version: 3.10.9 | packaged by conda-forge | (main, Feb  2 2023, 20:20:04) [GCC 11.3.0]\n",
      "\n",
      "---------------------------------\n",
      "Python interpreter: /home/imarevic/anaconda3/envs/srh/bin/python3.10\n"
     ]
    }
   ],
   "source": [
    "%matplotlib inline\n",
    "# Load the \"autoreload\" extension\n",
    "%load_ext autoreload\n",
    "# always reload modules\n",
    "%autoreload 2\n",
    "# black formatter for jupyter notebooks\n",
    "# %load_ext nb_black\n",
    "# black formatter for jupyter lab\n",
    "%load_ext lab_black\n",
    "\n",
    "%run ../../../src/notebook_env.py"
   ]
  },
  {
   "cell_type": "markdown",
   "id": "e33f6177-17e0-4a31-9a91-7b86fcf1c37c",
   "metadata": {},
   "source": [
    "# Stichprobenfehler"
   ]
  },
  {
   "cell_type": "markdown",
   "id": "4263dee0-bb3a-4bdb-8ca0-1d93a9037455",
   "metadata": {},
   "source": [
    "Berechnen Sie aus der gegebenen Grundgesamtheit $pop$:"
   ]
  },
  {
   "cell_type": "code",
   "execution_count": 3,
   "id": "b810a98b-77d7-4b3b-bd36-c4568d979816",
   "metadata": {},
   "outputs": [],
   "source": [
    "pop = [4, 10, 10, 17, 5, 1, 11, 3, 15, 8, 10, 2, 11, 10, 15, 5, 0, 14, 1, 12]"
   ]
  },
  {
   "cell_type": "markdown",
   "id": "9ff73b49-86f8-4ed3-8c15-b9eb7e5c73a1",
   "metadata": {},
   "source": [
    "1. den Mittelwert der Grundgesamtheit\n",
    "2. den Mittelwert und Stichprobenfehler einer Stichprobe mit Umfang $n = 10$"
   ]
  },
  {
   "cell_type": "markdown",
   "id": "2cf002f1-39c6-4363-805b-9710178d802e",
   "metadata": {},
   "source": [
    "-------------------------------------------------------"
   ]
  },
  {
   "cell_type": "code",
   "execution_count": null,
   "id": "30153963-4052-4938-b5a4-19798c75db69",
   "metadata": {},
   "outputs": [],
   "source": [
    "# Frage 1 ..."
   ]
  },
  {
   "cell_type": "code",
   "execution_count": null,
   "id": "7f32bf15-bf85-4915-a194-3c5c6740225e",
   "metadata": {},
   "outputs": [],
   "source": [
    "# Frage 2 ..."
   ]
  },
  {
   "cell_type": "markdown",
   "id": "6c545738-37c5-4f98-b6a0-b94eae1b93bd",
   "metadata": {},
   "source": [
    "## Lösungen"
   ]
  },
  {
   "cell_type": "code",
   "execution_count": 4,
   "id": "b9cf85a4-3fae-41a1-b9db-feec971ee01d",
   "metadata": {
    "tags": [
     "hide-cell"
    ]
   },
   "outputs": [
    {
     "data": {
      "text/plain": [
       "8.2"
      ]
     },
     "execution_count": 4,
     "metadata": {},
     "output_type": "execute_result"
    }
   ],
   "source": [
    "import numpy as np\n",
    "\n",
    "pop_mean = np.mean(pop)\n",
    "pop_mean"
   ]
  },
  {
   "cell_type": "code",
   "execution_count": 5,
   "id": "33c05116-89d6-42fb-a78a-b9f89eb2d59f",
   "metadata": {
    "tags": [
     "hide-cell"
    ]
   },
   "outputs": [
    {
     "name": "stdout",
     "output_type": "stream",
     "text": [
      "Stichprobe:        [17, 4, 15, 3, 0, 10, 2, 10, 10, 14]\n",
      "Stichprobenmittel: 8.5\n",
      "Schätzfehler:      0.3000000000000007\n"
     ]
    }
   ],
   "source": [
    "import random\n",
    "\n",
    "random.seed(42)  # for reproducibility\n",
    "sample = random.sample(pop, 10)\n",
    "sample_mean = np.mean(sample)\n",
    "print(f\"Stichprobe:        {sample}\")\n",
    "print(f\"Stichprobenmittel: {sample_mean}\")\n",
    "print(f\"Schätzfehler:      {sample_mean-pop_mean}\")"
   ]
  }
 ],
 "metadata": {
  "kernelspec": {
   "display_name": "Python 3 (ipykernel)",
   "language": "python",
   "name": "python3"
  },
  "language_info": {
   "codemirror_mode": {
    "name": "ipython",
    "version": 3
   },
   "file_extension": ".py",
   "mimetype": "text/x-python",
   "name": "python",
   "nbconvert_exporter": "python",
   "pygments_lexer": "ipython3",
   "version": "3.10.9"
  }
 },
 "nbformat": 4,
 "nbformat_minor": 5
}
