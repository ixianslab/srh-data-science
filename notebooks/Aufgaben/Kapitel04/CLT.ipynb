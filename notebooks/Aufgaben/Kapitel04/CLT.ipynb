{
 "cells": [
  {
   "cell_type": "markdown",
   "id": "7cf2b6ab-5b3a-402e-a0b3-9caee6be6cfc",
   "metadata": {},
   "source": [
    "# Der Zentrale Grenzwertsatz"
   ]
  },
  {
   "cell_type": "markdown",
   "id": "f491facd-3dba-421a-8391-4859d3ca779c",
   "metadata": {},
   "source": [
    "Erklären Sie den Zentralen Grenzwertsatz."
   ]
  },
  {
   "cell_type": "markdown",
   "id": "bd71ff47-e0f0-4ebf-a14b-a384f35bd7bc",
   "metadata": {},
   "source": [
    "```{toggle}\n",
    "Zentraler Grenzwertsatz (informell)\n",
    "\n",
    "Die Summe von unabhängigen Zufallsvariablen besitzt eine Verteilung, die\n",
    "sich durch eine Normalverteilung approximieren lässt, sofern die Anzahl der\n",
    "Summanden gross ist. Die Approximation gelingt um so besser, je grösser\n",
    "die Anzahl der Summanden ist {cite:p}`weigand2006statistik`.\n",
    "```"
   ]
  }
 ],
 "metadata": {
  "kernelspec": {
   "display_name": "Python 3 (ipykernel)",
   "language": "python",
   "name": "python3"
  },
  "language_info": {
   "codemirror_mode": {
    "name": "ipython",
    "version": 3
   },
   "file_extension": ".py",
   "mimetype": "text/x-python",
   "name": "python",
   "nbconvert_exporter": "python",
   "pygments_lexer": "ipython3",
   "version": "3.10.9"
  }
 },
 "nbformat": 4,
 "nbformat_minor": 5
}
