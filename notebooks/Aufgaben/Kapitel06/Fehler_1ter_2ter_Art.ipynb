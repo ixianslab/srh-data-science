{
 "cells": [
  {
   "cell_type": "code",
   "execution_count": 1,
   "id": "c0dfd3a1-74d7-4b1b-97df-ecd9a5113b70",
   "metadata": {
    "tags": [
     "remove-cell"
    ]
   },
   "outputs": [
    {
     "name": "stdout",
     "output_type": "stream",
     "text": [
      "\n",
      "---------------------------------\n",
      "Working on the host: imarevic-pc\n",
      "\n",
      "---------------------------------\n",
      "Python version: 3.10.9 | packaged by conda-forge | (main, Feb  2 2023, 20:20:04) [GCC 11.3.0]\n",
      "\n",
      "---------------------------------\n",
      "Python interpreter: /home/imarevic/anaconda3/envs/srh/bin/python3.10\n"
     ]
    }
   ],
   "source": [
    "%matplotlib inline\n",
    "# Load the \"autoreload\" extension\n",
    "%load_ext autoreload\n",
    "# always reload modules\n",
    "%autoreload 2\n",
    "# black formatter for jupyter notebooks\n",
    "# %load_ext nb_black\n",
    "# black formatter for jupyter lab\n",
    "%load_ext lab_black\n",
    "\n",
    "%run ../../../src/notebook_env.py"
   ]
  },
  {
   "cell_type": "markdown",
   "id": "99e6331a-270d-476e-8634-86407926a300",
   "metadata": {
    "tags": []
   },
   "source": [
    "# Fehler $1$-ter und $2$-ter Art"
   ]
  },
  {
   "cell_type": "markdown",
   "id": "9b7393b1-5f51-4b19-8b40-021bd5926f8e",
   "metadata": {},
   "source": [
    "1. Erklären Sie was man unter Fehler $1$-ter und $2$-ter Art versteht.\n",
    "2. Warum kann man $\\alpha$ nicht beliebig genau wählen?\n",
    "3. Eine Maschine produziert im Schnitt $2 \\%$ Ausschuss. Unter $100$ Stück finden sich $5$ Defekte. Die Nullhypothese ist das die Maschine $2 \\%$ Ausschuss hat. Berechnen Sie Wahrscheinlichkeit des $\\alpha$-Fehlers (also bei $5$ Stück oder mehr Ausfällen fälschlicherweise die Nullhypothese abzulehnen) unter Annahme von binomialverteilten Abweichungen."
   ]
  },
  {
   "cell_type": "markdown",
   "id": "ed51cf8d-fcfb-487f-bbeb-d3387f78c387",
   "metadata": {},
   "source": [
    "-------------------------------------------------------"
   ]
  },
  {
   "cell_type": "code",
   "execution_count": 14,
   "id": "d368e7c5-42b9-4c4d-b23b-670e602a0497",
   "metadata": {},
   "outputs": [],
   "source": [
    "# Frage 3 ..."
   ]
  },
  {
   "cell_type": "markdown",
   "id": "b6e7c0ec-2770-4a49-996a-0c347604f01d",
   "metadata": {},
   "source": [
    "## Lösungen"
   ]
  },
  {
   "cell_type": "markdown",
   "id": "29a59066-a873-4c5b-9609-5edf810fdb51",
   "metadata": {
    "tags": []
   },
   "source": [
    "```{toggle}\n",
    "Der Fehler $1$-ter Art, der auch $\\alpha$-Fehler oder $\\alpha$ Signifikanzniveau genannt wird, kann als Wahrscheinlichkeit interpretiert werden die Nullhypothese $H_0$ fälschlicherweise abzulehnen. Meist wird bei Hypothesentests ein Signifikanzniveau von $\\alpha = 0,05$ oder $\\alpha = 0,01$ gewählt.\n",
    " \n",
    "Der Fehler $2$-ter Art oder $\\beta$-Fehler wird begangen, wenn die Alternativhypothese $H_0$ fälschlicherweise abgelehnt wird.\n",
    "```"
   ]
  },
  {
   "cell_type": "markdown",
   "id": "9fb2fba5-117c-46ee-9e7e-7cd4f0359cc0",
   "metadata": {
    "tags": []
   },
   "source": [
    "```{toggle}\n",
    "Der $\\alpha$-Fehler kann nicht beliebig genau gewählt werden, weil die Wahrscheinlichkeit einen Fehler $2$-ter Art zu begehen damit zunimmt. Für die meisten Experimente ist $\\alpha = 0,05$ ein geeigneter Wert um Fehler der $1$-ten und $2$-ten Art zu minimieren.\n",
    "```"
   ]
  },
  {
   "cell_type": "code",
   "execution_count": 2,
   "id": "a74c5061-3e45-41f7-8262-c4e74ed8a881",
   "metadata": {
    "tags": [
     "hide-cell"
    ]
   },
   "outputs": [
    {
     "name": "stdout",
     "output_type": "stream",
     "text": [
      "Die Wahrscheinlichkeit einen Fehler 1ter Art zu begehen ist 0.05083044536950054\n"
     ]
    }
   ],
   "source": [
    "from scipy.stats import binom\n",
    "\n",
    "n = 100\n",
    "p = 0.98\n",
    "k = 95\n",
    "p = binom.cdf(k=k, p=p, n=n)\n",
    "print(f\"Die Wahrscheinlichkeit einen Fehler 1ter Art zu begehen ist {p}\")"
   ]
  }
 ],
 "metadata": {
  "kernelspec": {
   "display_name": "Python 3 (ipykernel)",
   "language": "python",
   "name": "python3"
  },
  "language_info": {
   "codemirror_mode": {
    "name": "ipython",
    "version": 3
   },
   "file_extension": ".py",
   "mimetype": "text/x-python",
   "name": "python",
   "nbconvert_exporter": "python",
   "pygments_lexer": "ipython3",
   "version": "3.10.9"
  }
 },
 "nbformat": 4,
 "nbformat_minor": 5
}
