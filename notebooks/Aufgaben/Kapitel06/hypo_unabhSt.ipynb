{
 "cells": [
  {
   "cell_type": "code",
   "execution_count": 1,
   "id": "ae281efc-17a7-4ba0-90c3-6a4a3b9a953a",
   "metadata": {
    "tags": [
     "remove-cell"
    ]
   },
   "outputs": [
    {
     "name": "stdout",
     "output_type": "stream",
     "text": [
      "\n",
      "---------------------------------\n",
      "Working on the host: imarevic-pc\n",
      "\n",
      "---------------------------------\n",
      "Python version: 3.10.9 | packaged by conda-forge | (main, Feb  2 2023, 20:20:04) [GCC 11.3.0]\n",
      "\n",
      "---------------------------------\n",
      "Python interpreter: /home/imarevic/anaconda3/envs/srh/bin/python3.10\n"
     ]
    }
   ],
   "source": [
    "%matplotlib inline\n",
    "# Load the \"autoreload\" extension\n",
    "%load_ext autoreload\n",
    "# always reload modules\n",
    "%autoreload 2\n",
    "# black formatter for jupyter notebooks\n",
    "# %load_ext nb_black\n",
    "# black formatter for jupyter lab\n",
    "%load_ext lab_black\n",
    "\n",
    "%run ../../../src/notebook_env.py"
   ]
  },
  {
   "cell_type": "markdown",
   "id": "e74a7f4d-505e-4cbe-bdcc-4bada0c80971",
   "metadata": {},
   "source": [
    "# Hypothesentest - unabhängige Stichproben, $\\sigma_1 \\approx \\sigma_2$"
   ]
  },
  {
   "cell_type": "markdown",
   "id": "550cdc5e-800c-4cdc-a0cb-aded8a3e55c7",
   "metadata": {},
   "source": [
    "Bei $2$ Stichproben aus $2$ Grundgesamtheiten erhalten Sie folgende Mittelwerte und Standardabweichungen: $\\mu_1=61$, $\\sigma_1=15,5$, $n_1=15$, $\\mu_2=48,4$ $\\sigma_2=18,1$, $n_2 =12$ . Welchen Hypothesentest müssen Sie anwenden um zu prüfen ob $\\mu_1 \\gt \\mu_2$ gilt?\n",
    "\n",
    "1. Formulieren Sie die geeignete Null- und Alternativhypothese.\n",
    "\n",
    "2. Berechnen Sie die Teststatistik. \n",
    "\n",
    "\n",
    "3. Berechnen Sie den kritischen Wert (entweder mit Python oder Wahrscheinlichkeitstabelle) bei einem Signifikanzniveau $\\alpha = 0,01$. Wird $H_0$ abgelehnt? Hierbei ergint sich der kritische Wert bei $\\alpha = 0,01$ für einen rechtseitigen Test $\\mu_1 \\gt \\mu_2$ mit der $t$-Verteilung ($1- \\alpha, t_{df}$).\n",
    "\n",
    "4. Interpretieren Sie das Ergebnis\n",
    "\n",
    "Die gewichtete Standardabweichung ergibt sich zu:\n",
    "\n",
    "$$s_g = \\sqrt{\\frac{(n_1-1)s_1^2 + (n_2-1)s_2^2 }{n_1+n_2-2}}\\text{,}$$\n",
    "\n",
    "Die Teststatistik ist $t$-verteilt und ergibt sich für $(\\mu_1-\\mu_2)=0$ zu:\n",
    "\n",
    "$$t =  \\frac{(\\bar x_1 - \\bar x_2)}{s_g \\sqrt{\\frac{1}{n_1} + \\frac{1}{n_2}}}$$"
   ]
  },
  {
   "cell_type": "markdown",
   "id": "0906c7da-9907-41fd-87f4-b9f8abbc02dd",
   "metadata": {},
   "source": [
    "-------------------------------------------------------"
   ]
  },
  {
   "cell_type": "code",
   "execution_count": 2,
   "id": "f994a80e-009e-4d84-80c4-b79530239e90",
   "metadata": {},
   "outputs": [],
   "source": [
    "# Frage 3 ..."
   ]
  },
  {
   "cell_type": "code",
   "execution_count": 3,
   "id": "57083d27-b351-4cde-bea9-0fda63775a76",
   "metadata": {},
   "outputs": [],
   "source": [
    "# Frage 4 ..."
   ]
  },
  {
   "cell_type": "markdown",
   "id": "339843ce-1af7-4634-8675-cdbffc21d822",
   "metadata": {},
   "source": [
    "### Lösung"
   ]
  },
  {
   "cell_type": "markdown",
   "id": "bf2e086b-2826-491e-b458-e0a35b0306cc",
   "metadata": {
    "tags": []
   },
   "source": [
    "```{togle}\n",
    "$2$-Stichproben $t$-Test mit (gepoolter) gewichteter Standardabweichung.\n",
    "```"
   ]
  },
  {
   "cell_type": "markdown",
   "id": "bf9fd4d3-5416-4fb1-bff7-1ea04887d8b1",
   "metadata": {
    "tags": []
   },
   "source": [
    "```{toggle}\n",
    "$$H_0 : \\mu_1 = \\mu_2$$\n",
    "$$H_A : \\mu_1 \\gt \\mu_2$$\n",
    "```"
   ]
  },
  {
   "cell_type": "code",
   "execution_count": 4,
   "id": "655db0da-f836-4e10-ae1f-6250ba558d15",
   "metadata": {
    "tags": [
     "hide-cell"
    ]
   },
   "outputs": [
    {
     "data": {
      "text/plain": [
       "1.9487919163239615"
      ]
     },
     "execution_count": 4,
     "metadata": {},
     "output_type": "execute_result"
    }
   ],
   "source": [
    "import numpy as np\n",
    "\n",
    "n_1 = 15\n",
    "n_2 = 12\n",
    "mu_1 = 61\n",
    "mu_2 = 48.4\n",
    "s_1 = 15.5\n",
    "s_2 = 18.1\n",
    "\n",
    "s_g = np.sqrt(((n_1 - 1) * s_1**2 + (n_2 - 1) * s_2**2) / (n_1 + n_2 - 2))\n",
    "t_stat = (mu_1 - mu_2) / (s_g * np.sqrt(1 / n_1 + 1 / n_2))\n",
    "t_stat"
   ]
  },
  {
   "cell_type": "code",
   "execution_count": 5,
   "id": "47252ff2-1023-46a8-9580-26e35db759e7",
   "metadata": {
    "tags": [
     "hide-cell"
    ]
   },
   "outputs": [
    {
     "name": "stdout",
     "output_type": "stream",
     "text": [
      "Kritischer Wert: 2.4851071754106413\n"
     ]
    },
    {
     "data": {
      "text/plain": [
       "False"
      ]
     },
     "execution_count": 5,
     "metadata": {},
     "output_type": "execute_result"
    }
   ],
   "source": [
    "from scipy.stats import t\n",
    "\n",
    "alpha = 0.01\n",
    "df = 25\n",
    "critical = t.ppf(1 - alpha, df=df)\n",
    "print(f\"Kritischer Wert: {critical}\")\n",
    "t_stat >= critical"
   ]
  },
  {
   "cell_type": "markdown",
   "id": "75597438-05e0-4cc2-b367-4cbe3505fb32",
   "metadata": {
    "tags": []
   },
   "source": [
    "```{toggle}\n",
    "Die Teststatistik liegt nicht im Ablehnungsbereich daher ist für $\\alpha = 0,01$ keine signifikante Abweichung der Mittelwerte feststellbar. Die Nullhypothese wird daher beibehalten.\n",
    "```"
   ]
  },
  {
   "cell_type": "code",
   "execution_count": null,
   "id": "6740df82-29aa-4636-a3df-9d0fead3c38f",
   "metadata": {},
   "outputs": [],
   "source": []
  }
 ],
 "metadata": {
  "kernelspec": {
   "display_name": "Python 3 (ipykernel)",
   "language": "python",
   "name": "python3"
  },
  "language_info": {
   "codemirror_mode": {
    "name": "ipython",
    "version": 3
   },
   "file_extension": ".py",
   "mimetype": "text/x-python",
   "name": "python",
   "nbconvert_exporter": "python",
   "pygments_lexer": "ipython3",
   "version": "3.10.9"
  }
 },
 "nbformat": 4,
 "nbformat_minor": 5
}
