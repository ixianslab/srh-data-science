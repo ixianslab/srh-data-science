{
 "cells": [
  {
   "cell_type": "markdown",
   "id": "e74a7f4d-505e-4cbe-bdcc-4bada0c80971",
   "metadata": {},
   "source": [
    "-------------------------------------------------------\n",
    "-------------------------------------------------------\n",
    "### Kapitel 6\n",
    "### Aufgabenstellung 22 : Hypothesentest - unabhängige Stichproben, $\\sigma_1 \\approx \\sigma_2$\n",
    "\n",
    "-------------------------------------------------------\n",
    "-------------------------------------------------------"
   ]
  },
  {
   "cell_type": "markdown",
   "id": "550cdc5e-800c-4cdc-a0cb-aded8a3e55c7",
   "metadata": {},
   "source": [
    "1. Bei $2$ Stichproben aus $2$ Grundgesamtheiten erhalten Sie folgende Mittelwerte und Standardabweichungen: $\\mu_1=61$, $\\sigma_1=15,5$ $\\mu_2=48,4$ $\\sigma_2=18,1$. Welchen Hypothesentest müssen Sie anwenden um zu prüfen ob $\\mu_1 \\gt \\mu_2$ gilt?\n",
    "\n",
    "2. Formulieren Sie die geeignete Null- und Alternativhypothese.\n",
    "\n",
    "3. Berechnen Sie die Teststatistik.\n",
    "\n",
    "4. Berechnen Sie den kritischen Wert (entweder mit Python oder Wahrscheinlichkeitstabelle) bei einem Signifikanzniveau $\\alpha = 0,01$. Wird $H_0$ abgelehnt ?"
   ]
  },
  {
   "cell_type": "markdown",
   "id": "0906c7da-9907-41fd-87f4-b9f8abbc02dd",
   "metadata": {},
   "source": [
    "-------------------------------------------------------"
   ]
  },
  {
   "cell_type": "markdown",
   "id": "339843ce-1af7-4634-8675-cdbffc21d822",
   "metadata": {},
   "source": [
    "### Lösung"
   ]
  },
  {
   "cell_type": "markdown",
   "id": "bf2e086b-2826-491e-b458-e0a35b0306cc",
   "metadata": {},
   "source": [
    "**1.**\n",
    "\n",
    "$2$-Stichproben $t$-Test mit (gepoolter) gewichteter Standardabweichung."
   ]
  },
  {
   "cell_type": "markdown",
   "id": "bf9fd4d3-5416-4fb1-bff7-1ea04887d8b1",
   "metadata": {},
   "source": [
    "**2.**\n",
    "\n",
    "$$H_0 : \\mu_1 = \\mu_2$$\n",
    "\n",
    "$$H_A : \\mu_1 \\gt \\mu_2$$"
   ]
  },
  {
   "cell_type": "markdown",
   "id": "dcb445ac-94b5-459e-8157-2c46cd8afb7a",
   "metadata": {},
   "source": [
    "**3.**\n",
    "\n",
    "Die gewichtete Standardabweichung ergibt sich zu:\n",
    "\n",
    "$$s_g = \\sqrt{\\frac{(n_1-1)s_1^2 + (n_2-1)s_2^2 }{n_1+n_2-2}}\\text{,}$$"
   ]
  },
  {
   "cell_type": "code",
   "execution_count": 2,
   "id": "655db0da-f836-4e10-ae1f-6250ba558d15",
   "metadata": {},
   "outputs": [
    {
     "data": {
      "text/plain": [
       "16.693962980670587"
      ]
     },
     "execution_count": 2,
     "metadata": {},
     "output_type": "execute_result"
    }
   ],
   "source": [
    "import numpy as np\n",
    "n_1 = 15\n",
    "n_2 = 12\n",
    "mu_1 = 61\n",
    "mu_2 = 48.4\n",
    "s_1 = 15.5\n",
    "s_2 = 18.1\n",
    "\n",
    "s_g = np.sqrt(((n_1-1)*s_1**2+(n_2-1)*s_2**2)/(n_1+n_2-2))\n",
    "s_g"
   ]
  },
  {
   "cell_type": "markdown",
   "id": "f7a2bcf3-5c5e-4e19-ad7c-14f88351845f",
   "metadata": {},
   "source": [
    "Die Teststatistik ist $t$-verteilt und ergibt sich für $(\\mu_1-\\mu_2)=0$ zu:\n",
    "\n",
    "$$t =  \\frac{(\\bar x_1 - \\bar x_2)}{s_g \\sqrt{\\frac{1}{n_1} + \\frac{1}{n_2}}}$$"
   ]
  },
  {
   "cell_type": "code",
   "execution_count": 8,
   "id": "a270a7f0-57df-4dbd-b5f3-e729537c02c6",
   "metadata": {},
   "outputs": [
    {
     "data": {
      "text/plain": [
       "1.9487919163239615"
      ]
     },
     "execution_count": 8,
     "metadata": {},
     "output_type": "execute_result"
    }
   ],
   "source": [
    "t_stat = (mu_1-mu_2)/(s_g*np.sqrt(1/n_1+1/n_2))\n",
    "t_stat"
   ]
  },
  {
   "cell_type": "markdown",
   "id": "49e8bbd6-42a7-4b45-a958-e042996da279",
   "metadata": {},
   "source": [
    "**4.**\n",
    "\n",
    "Der kritische Wert bei $\\alpha = 0,01$ für einen rechtseitigen Test $\\mu_1 \\gt \\mu_2$ mit der $t$-Verteilung ($1- \\alpha, t(25)$) zu:"
   ]
  },
  {
   "cell_type": "code",
   "execution_count": 9,
   "id": "47252ff2-1023-46a8-9580-26e35db759e7",
   "metadata": {},
   "outputs": [
    {
     "data": {
      "text/plain": [
       "2.4851071754106413"
      ]
     },
     "execution_count": 9,
     "metadata": {},
     "output_type": "execute_result"
    }
   ],
   "source": [
    "from scipy.stats import t\n",
    "alpha = 0.01\n",
    "df = 25\n",
    "critical = t.ppf(1-alpha,df=25)\n",
    "critical"
   ]
  },
  {
   "cell_type": "code",
   "execution_count": 11,
   "id": "92b11686-83fd-48ed-a47f-755e77762bd7",
   "metadata": {},
   "outputs": [
    {
     "data": {
      "text/plain": [
       "False"
      ]
     },
     "execution_count": 11,
     "metadata": {},
     "output_type": "execute_result"
    }
   ],
   "source": [
    "t_stat >= critical "
   ]
  },
  {
   "cell_type": "markdown",
   "id": "75597438-05e0-4cc2-b367-4cbe3505fb32",
   "metadata": {},
   "source": [
    "Die Teststatistik liegt nicht im Ablehnungsbereich daher ist für $\\alpha = 0,01$ keine signifikante Abweichung der Mittelwerte feststellbar. Die Nullhypothese wird daher beibehalten."
   ]
  },
  {
   "cell_type": "code",
   "execution_count": null,
   "id": "a9f1cca2-cd2d-4856-b9ea-9e68f0e5775a",
   "metadata": {},
   "outputs": [],
   "source": []
  }
 ],
 "metadata": {
  "kernelspec": {
   "display_name": "Python 3 (ipykernel)",
   "language": "python",
   "name": "python3"
  },
  "language_info": {
   "codemirror_mode": {
    "name": "ipython",
    "version": 3
   },
   "file_extension": ".py",
   "mimetype": "text/x-python",
   "name": "python",
   "nbconvert_exporter": "python",
   "pygments_lexer": "ipython3",
   "version": "3.10.9"
  }
 },
 "nbformat": 4,
 "nbformat_minor": 5
}
