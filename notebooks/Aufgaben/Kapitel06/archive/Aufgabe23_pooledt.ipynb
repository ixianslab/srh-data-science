{
 "cells": [
  {
   "cell_type": "markdown",
   "id": "0b26f445-e8e0-4f1f-b991-22fa6ff36a06",
   "metadata": {},
   "source": [
    "-------------------------------------------------------\n",
    "-------------------------------------------------------\n",
    "### Kapitel 6\n",
    "### Aufgabenstellung 23 : $2$-Stichproben $t$-Test\n",
    "\n",
    "-------------------------------------------------------\n",
    "-------------------------------------------------------"
   ]
  },
  {
   "cell_type": "markdown",
   "id": "4e6d8b8f-de2f-43de-887a-eb5e9536b8b1",
   "metadata": {},
   "source": [
    "Führen Sie einen $2$-Stichproben $t$-Test für folgende unabhängige Daten mit gleicher Standardabweichung bei einem Signifikanzniveau $\\alpha = 0,01$ aus:"
   ]
  },
  {
   "cell_type": "code",
   "execution_count": 18,
   "id": "b02e304f-2dc5-43d0-9d2c-3b1a7fb7a79e",
   "metadata": {},
   "outputs": [],
   "source": [
    "from scipy.stats import norm\n",
    "from scipy.stats import t\n",
    "a = norm.rvs(loc=0, scale=2, size = 100,random_state = 1)\n",
    "b = norm.rvs(loc=1, scale=2, size = 100,random_state = 1)"
   ]
  },
  {
   "cell_type": "markdown",
   "id": "ecfaca43-0835-4a94-be9f-5b977716405a",
   "metadata": {},
   "source": [
    "Überprüfen Sie die Nullhypothese:\n",
    "\n",
    "$$H_0: \\quad \\mu_1 = \\mu_2$$\n",
    "\n",
    "und \n",
    "\n",
    "alternative Hypothese:\n",
    "\n",
    "$$H_A: \\quad \\mu_1 \\ne \\mu_2$$\n",
    "\n",
    "1. für den $p$-Wert Ansatz\n",
    "\n",
    "2. für den kritischen Wert"
   ]
  },
  {
   "cell_type": "markdown",
   "id": "b063ae27-0e0a-4dee-9a3d-ddc1b2bc86a5",
   "metadata": {},
   "source": [
    "-------------------------------------------------------"
   ]
  },
  {
   "cell_type": "markdown",
   "id": "411855d1-1223-4d03-ac6a-e4e3b91dea25",
   "metadata": {},
   "source": [
    "### Lösung"
   ]
  },
  {
   "cell_type": "markdown",
   "id": "7550ff7d-28aa-4639-84f7-2b24d75bfaf8",
   "metadata": {},
   "source": [
    "### Überprüfung der Hypothesen"
   ]
  },
  {
   "cell_type": "markdown",
   "id": "377c417b-3967-4355-b82e-57bb6c6672c8",
   "metadata": {},
   "source": [
    "Wir führen einen $2$-Stichproben $t$-Test durch, indem wir das schrittweise Durchführungsverfahren für Hypothesentests befolgen."
   ]
  },
  {
   "cell_type": "markdown",
   "id": "f227c710-8a95-42eb-bf4d-1d13a6ca339d",
   "metadata": {},
   "source": [
    "**Schritt 1 : Geben Sie die Nullhypothese $H_0$ und alternative Hypothese $H_A$ an**"
   ]
  },
  {
   "cell_type": "markdown",
   "id": "ef3262bf-b650-4c59-a56b-b807fa6e8c80",
   "metadata": {},
   "source": [
    "Die Nullhypothese besagt, dass der Mittelwert des $1$-ten Datensatzes ($μ_1$) gleich dem Mittelwert des $2$-ten Datensatzes ($μ_2$) ist."
   ]
  },
  {
   "cell_type": "markdown",
   "id": "890603b7-4810-417a-9c95-28a50da45500",
   "metadata": {},
   "source": [
    "$$H_0: \\quad \\mu_1 = \\mu_2$$"
   ]
  },
  {
   "cell_type": "markdown",
   "id": "619aaf36-17f4-41ee-a0b3-bfb0ca7e9e64",
   "metadata": {},
   "source": [
    "Wir wollen prüfen, ob sich der Mittelwert des $1$-ten Datensatzes ($μ_1$) von dem Mittelwert des $2$-ten Datensatzes ($μ_2$) unterscheidet, daher wird die Alternativhypothese wie folgt formuliert"
   ]
  },
  {
   "cell_type": "markdown",
   "id": "0f52ffdc-ddb6-4c61-be7e-d09e80b4fed8",
   "metadata": {},
   "source": [
    "**Alternative Hypothese**"
   ]
  },
  {
   "cell_type": "markdown",
   "id": "67781600-7ff7-4672-a0fb-c16b70233d0f",
   "metadata": {},
   "source": [
    "$$H_A: \\quad \\mu_1 \\ne \\mu_2$$"
   ]
  },
  {
   "cell_type": "markdown",
   "id": "09abdefc-a4dd-4f6f-929b-d9aafe594b5c",
   "metadata": {},
   "source": [
    "Aus dieser Formulierung ergibt sich ein zweiseitiger Hypothesentest."
   ]
  },
  {
   "cell_type": "markdown",
   "id": "80041d65-5d44-421e-9391-554f888ac9e2",
   "metadata": {},
   "source": [
    "**Schritt 2: Legen Sie das Signifikanzniveau,$\\alpha$ fest**"
   ]
  },
  {
   "cell_type": "markdown",
   "id": "83a9fffa-2585-489b-b415-4dac6ae86e9a",
   "metadata": {},
   "source": [
    "$$\\alpha = 0,01$$"
   ]
  },
  {
   "cell_type": "code",
   "execution_count": 19,
   "id": "5796fc91-fb7d-4792-bbaa-ea046bace219",
   "metadata": {},
   "outputs": [],
   "source": [
    "alpha = 0.01"
   ]
  },
  {
   "cell_type": "markdown",
   "id": "4ae19dbd-42ea-4106-b8d7-e4d4eb25f0b9",
   "metadata": {},
   "source": [
    "**1.**"
   ]
  },
  {
   "cell_type": "markdown",
   "id": "2fe00e25-dc1c-4342-a2a8-8dcc50d956ae",
   "metadata": {},
   "source": [
    "**Schritt 3 und 4: Berechnen Sie den Wert der Teststatistik und den $p$-Wert**"
   ]
  },
  {
   "cell_type": "code",
   "execution_count": 33,
   "id": "f7872602-7669-45d7-b7b2-800f740f262c",
   "metadata": {},
   "outputs": [],
   "source": [
    "from scipy import stats\n",
    "statistics, pvalue = stats.ttest_ind(a, b, equal_var=True)"
   ]
  },
  {
   "cell_type": "markdown",
   "id": "53cdf78e-9418-4a96-b298-0ecc2fb3651d",
   "metadata": {},
   "source": [
    "**Schritt 5: Wenn $p \\le \\alpha , H_0$ ablehnen; ansonsten $H_0$ nicht ablehnen**"
   ]
  },
  {
   "cell_type": "code",
   "execution_count": 21,
   "id": "0970039b-67e8-402a-9513-b0e163ea6c6f",
   "metadata": {},
   "outputs": [
    {
     "data": {
      "text/plain": [
       "True"
      ]
     },
     "execution_count": 21,
     "metadata": {},
     "output_type": "execute_result"
    }
   ],
   "source": [
    "pvalue <= alpha"
   ]
  },
  {
   "cell_type": "code",
   "execution_count": 26,
   "id": "e2aa88cb-e769-47f0-9871-674b0697cd7d",
   "metadata": {},
   "outputs": [
    {
     "data": {
      "text/plain": [
       "9.887561821398659e-05"
      ]
     },
     "execution_count": 26,
     "metadata": {},
     "output_type": "execute_result"
    }
   ],
   "source": [
    "pvalue"
   ]
  },
  {
   "cell_type": "markdown",
   "id": "05cf5e99-d2f8-4b39-acc4-1ee06aaa12ce",
   "metadata": {},
   "source": [
    "Der $p$-Wert ist kleiner als das angegebene Signifikanzniveau von $0,01$; wir verwerfen $H_0$. Die Testergebnisse sind statistisch signifikant auf dem $1 \\%$-Niveau und liefern einen sehr starken Beweis gegen die Nullhypothese."
   ]
  },
  {
   "cell_type": "markdown",
   "id": "d45147e1-ff5d-4d51-a54c-7874affdb6f1",
   "metadata": {},
   "source": [
    "**Schritt 6: Interpretieren Sie das Ergebnis des Hypothesentests**"
   ]
  },
  {
   "cell_type": "markdown",
   "id": "196b6aee-7db5-4c18-8f64-c2c72bc6817a",
   "metadata": {},
   "source": [
    "$p=9,888 \\cdot 10^{-5}$; Bei einem Signifikanzniveau von $1 \\%$ lassen die Daten den Schluss zu, dass der Mittelwert des $1$-ten Datensatzes ($μ_1$) nicht gleich dem Mittelwert des $2$-ten Datensatzes ($μ_2$) ist."
   ]
  },
  {
   "cell_type": "markdown",
   "id": "f3bcec03-b554-4935-aeb2-2fc0049d6ad4",
   "metadata": {
    "tags": []
   },
   "source": [
    "**2.**"
   ]
  },
  {
   "cell_type": "markdown",
   "id": "02a0de2e-23a9-4d83-a763-7a2217f3ebe2",
   "metadata": {},
   "source": [
    "**Schritt 3 und 4: Berechnen Sie den Wert der Teststatistik und den kritischen Wert**"
   ]
  },
  {
   "cell_type": "code",
   "execution_count": null,
   "id": "6edf1af4-21b0-483d-a784-1b306d2be8cb",
   "metadata": {},
   "outputs": [],
   "source": [
    "statistics, pvalue = stats.ttest_ind(a, b, equal_var=True)"
   ]
  },
  {
   "cell_type": "code",
   "execution_count": 29,
   "id": "f1dbe28e-34d5-407d-a9c7-99d648372fc0",
   "metadata": {},
   "outputs": [],
   "source": [
    "# unterer kritischer Punkt\n",
    "lower = t.ppf(alpha/2,df = 99)"
   ]
  },
  {
   "cell_type": "code",
   "execution_count": 30,
   "id": "9386ca75-ef4b-43d0-a31f-6ab27eaac635",
   "metadata": {},
   "outputs": [],
   "source": [
    "# oberer kritischer Punkt\n",
    "upper = t.ppf(1-alpha/2,df = 99)"
   ]
  },
  {
   "cell_type": "markdown",
   "id": "9c079776-b42e-461e-9509-de086559d1be",
   "metadata": {},
   "source": [
    "**Schritt 5: Wenn gilt: Teststatistik $\\lt $ unterer kritischer Wert  oder Teststatistik $\\gt$ oberer kritischer Wert, $H_0$ ablehnen; ansonsten $H_0$ nicht ablehnen**"
   ]
  },
  {
   "cell_type": "code",
   "execution_count": 31,
   "id": "84a8ff75-985a-4c87-b124-fb943adcf3b9",
   "metadata": {},
   "outputs": [
    {
     "data": {
      "text/plain": [
       "True"
      ]
     },
     "execution_count": 31,
     "metadata": {},
     "output_type": "execute_result"
    }
   ],
   "source": [
    "statistics <= lower "
   ]
  },
  {
   "cell_type": "code",
   "execution_count": 32,
   "id": "43a3c045-0217-49a3-83fd-870e9bfc2bce",
   "metadata": {},
   "outputs": [
    {
     "data": {
      "text/plain": [
       "False"
      ]
     },
     "execution_count": 32,
     "metadata": {},
     "output_type": "execute_result"
    }
   ],
   "source": [
    "statistics >= upper "
   ]
  },
  {
   "cell_type": "markdown",
   "id": "82a24c18-e77e-45e1-8106-a25ec35c9ffa",
   "metadata": {},
   "source": [
    "Aufgrund der numerischen Auswertung fällt der Wert in den Verwerfungsbereich, so dass wir $H_0$ verwerfen. Die Testergebnisse sind auf dem $1 \\%$-Niveau statistisch signifikant."
   ]
  },
  {
   "cell_type": "code",
   "execution_count": null,
   "id": "fda33a63-d9a4-4733-ad3a-ed5fd665d52d",
   "metadata": {},
   "outputs": [],
   "source": []
  }
 ],
 "metadata": {
  "kernelspec": {
   "display_name": "Python 3 (ipykernel)",
   "language": "python",
   "name": "python3"
  },
  "language_info": {
   "codemirror_mode": {
    "name": "ipython",
    "version": 3
   },
   "file_extension": ".py",
   "mimetype": "text/x-python",
   "name": "python",
   "nbconvert_exporter": "python",
   "pygments_lexer": "ipython3",
   "version": "3.10.9"
  }
 },
 "nbformat": 4,
 "nbformat_minor": 5
}
