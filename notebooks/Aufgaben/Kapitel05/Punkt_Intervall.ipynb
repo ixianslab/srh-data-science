{
 "cells": [
  {
   "cell_type": "markdown",
   "id": "378f7f38-98f8-4297-bb6b-2082ef1e7bb5",
   "metadata": {},
   "source": [
    "# Punkt- und Intervallschätzungen"
   ]
  },
  {
   "cell_type": "markdown",
   "id": "ef6535a6-40ac-4980-a855-837a32769031",
   "metadata": {},
   "source": [
    "1. Erklären Sie was man unter Punktschätzung beziehungsweise Intervallschätzung versteht.\n",
    "2. Wie viel größer muß die Stichprobe bei einer Intervallschätzung sein um die Länge der Konfidenzintervalle zu halbieren?"
   ]
  },
  {
   "cell_type": "markdown",
   "id": "d0e1d524-f202-40f1-96c5-ea66055e608a",
   "metadata": {},
   "source": [
    "-------------------------------------------------------"
   ]
  },
  {
   "cell_type": "markdown",
   "id": "94806ed6-d6f6-4d17-9efd-02903fda941a",
   "metadata": {},
   "source": [
    "### Lösung"
   ]
  },
  {
   "cell_type": "markdown",
   "id": "5771f279-c904-4115-9da0-787a3d4827e0",
   "metadata": {
    "tags": []
   },
   "source": [
    "```{toggle}\n",
    "**Punktschätzung**\n",
    "\n",
    "Mit Schätzverfahren zur Punktschätzung wird versucht aus Stichproben möglichst genaue Näherungswerte für Grundgesamtheitsparameter zu finden. Man unterscheidet unspezifische Parameter, wie z.B. Lage- bzw. Streuungsparameter, Median, Quantille und Korrelation, und spezifische Parameter eines Verteilungsmodells, wie beispielsweise $\\mu$ und $\\sigma$ der Normalverteilung $N(\\mu,\\sigma)$ oder den Parameter $\\lambda$ der Poissonverteilung $P(\\lambda)$.\n",
    "\n",
    "({cite:p}`fahrmeirstatistik` s.338)\n",
    "\n",
    "**Intervallschätzung**\n",
    "\n",
    "Die Intervallschätzung gibt die Präzision des Schätzverfahrens für die entprechende Punktschätzung an. Es wird eine obere und untere Grenze um die Punktschätzung konstruiert in dem mit der Wahrscheinlichkeit $1-\\alpha$ der Wert der Grundgesamtheit enthalten ist. $\\alpha$ entspricht der *Irrtumswahrscheinlichkeit* und wird als Signifikanzniveau bezeichnet während $1-\\alpha$ die *Überdeckungswahrscheinlichkeit* ist.\n",
    "\n",
    "({cite:p}`fahrmeirstatistik` s.356)\n",
    "```"
   ]
  },
  {
   "cell_type": "markdown",
   "id": "0cd14868-e70e-4d06-8463-eb2dab02a024",
   "metadata": {
    "tags": []
   },
   "source": [
    "```{toggle}\n",
    "Die Breite des Konfidenzintervalls ist gegeben durch $CI: \\text{Punktschätzung} \\pm \\text{kritischer Punkt} \\times \\frac{s}{\\sqrt{n}}$. Der Stichprobenumfang geht also als Faktor $\\frac{1}{\\sqrt{n}}$ in die Gleichung ein. Um die Breite zu halbieren (bei ungefähr gleicher Stichprobenstandardabweichung) muß $n$ also vervierfacht werden. $\\frac{1}{\\sqrt{4n}} = \\frac{1}{2\\sqrt{n}}$\n",
    "```"
   ]
  }
 ],
 "metadata": {
  "kernelspec": {
   "display_name": "Python 3 (ipykernel)",
   "language": "python",
   "name": "python3"
  },
  "language_info": {
   "codemirror_mode": {
    "name": "ipython",
    "version": 3
   },
   "file_extension": ".py",
   "mimetype": "text/x-python",
   "name": "python",
   "nbconvert_exporter": "python",
   "pygments_lexer": "ipython3",
   "version": "3.10.9"
  }
 },
 "nbformat": 4,
 "nbformat_minor": 5
}
