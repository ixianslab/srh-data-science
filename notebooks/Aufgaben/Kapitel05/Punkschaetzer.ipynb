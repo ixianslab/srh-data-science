{
 "cells": [
  {
   "cell_type": "code",
   "execution_count": 1,
   "id": "e5e01299-b4e3-4722-9d51-11e62338f66c",
   "metadata": {
    "tags": [
     "remove-cell"
    ]
   },
   "outputs": [
    {
     "name": "stdout",
     "output_type": "stream",
     "text": [
      "\n",
      "---------------------------------\n",
      "Working on the host: imarevic-pc\n",
      "\n",
      "---------------------------------\n",
      "Python version: 3.10.9 | packaged by conda-forge | (main, Feb  2 2023, 20:20:04) [GCC 11.3.0]\n",
      "\n",
      "---------------------------------\n",
      "Python interpreter: /home/imarevic/anaconda3/envs/srh/bin/python3.10\n"
     ]
    }
   ],
   "source": [
    "%matplotlib inline\n",
    "# Load the \"autoreload\" extension\n",
    "%load_ext autoreload\n",
    "# always reload modules\n",
    "%autoreload 2\n",
    "# black formatter for jupyter notebooks\n",
    "# %load_ext nb_black\n",
    "# black formatter for jupyter lab\n",
    "%load_ext lab_black\n",
    "\n",
    "%run ../../../src/notebook_env.py"
   ]
  },
  {
   "cell_type": "markdown",
   "id": "28ef2938-5169-4264-9a25-7cd9b4272934",
   "metadata": {},
   "source": [
    "# Punktschätzungen bei unbekanntem $\\sigma$"
   ]
  },
  {
   "cell_type": "markdown",
   "id": "4133e4f6-21d3-49ec-b9c4-1d68a7010919",
   "metadata": {},
   "source": [
    "1. Welche Wahrscheinlichkeitsverteilung wird für die Berechnungen von Punktschätzungen bei unbekannter Standardabweichnung der Grundgesamtheit und kleiner Stichprobengrösse ($n\\lt 30$) verwendet?\n",
    "2. Wir simulieren eine Grundgesamtheit an Daten indem wir $100$ Zufallszahlen zwischen $-100$ und $100$ generieren. Berechnen Sie Mittelwert und Standardabweichung für diese Zufallsdaten. \n",
    "3. Nehmen Sie eine Stichprobe vom Umfang $n=10$. Berechnen Sie Mittelwert und Konfidenzintervall ($\\alpha = 0,05$) für die Stichprobe unter der Verwendung einer geeigneten Wahrscheinlichkeitsverteilung und überprüfen Sie ob der Mittelwert der Grundgesamtheit innerhalb des Konfidenzintervalls liegt."
   ]
  },
  {
   "cell_type": "markdown",
   "id": "1e681a41-9cf1-4ade-b4a7-a66023eee338",
   "metadata": {},
   "source": [
    "-------------------------------------------------------"
   ]
  },
  {
   "cell_type": "code",
   "execution_count": 2,
   "id": "9489f6da-0d84-450a-a72d-3c4df8a41b33",
   "metadata": {},
   "outputs": [],
   "source": [
    "# Frage 2 ..."
   ]
  },
  {
   "cell_type": "code",
   "execution_count": 3,
   "id": "301da70f-6b08-42a2-8513-a805d8503152",
   "metadata": {},
   "outputs": [],
   "source": [
    "# Frage 3 ..."
   ]
  },
  {
   "cell_type": "markdown",
   "id": "2195d5e8-04e7-4ac6-90fd-4b91fca3a995",
   "metadata": {
    "tags": []
   },
   "source": [
    "## Lösungen"
   ]
  },
  {
   "cell_type": "markdown",
   "id": "888451d5-3058-4a42-b1e7-4b5e531d95cd",
   "metadata": {
    "tags": []
   },
   "source": [
    "```{toggle}\n",
    "Im Fall unbekannter Standardabweichung der Grundgesamtheit $\\sigma$ kann die Standardabweichung der Stichprobe, $s$, als Schätzer verwendet werden.\n",
    "$s$ ist gegeben durch $s =\\sqrt{\\sum_i \\frac{x_i - \\bar x}{n-1}}$ und ihre Verteilung wird durch die $t$-Verteilung beschrieben.\n",
    "\n",
    "({cite:p}`fahrmeirstatistik` s.360)\n",
    "```"
   ]
  },
  {
   "cell_type": "code",
   "execution_count": 2,
   "id": "d4c03983-3aa6-4083-90e0-3d1d0ddc32e9",
   "metadata": {
    "tags": [
     "hide-cell"
    ]
   },
   "outputs": [
    {
     "name": "stdout",
     "output_type": "stream",
     "text": [
      "Mittelwert: -0.83\n",
      "Standardabweichung: 59.96016260818511\n"
     ]
    }
   ],
   "source": [
    "import numpy as np\n",
    "\n",
    "# Erzeuge Random seed\n",
    "np.random.seed(1)\n",
    "data = []\n",
    "# Generiere Zufallszahlen\n",
    "np.random.seed(42)\n",
    "data = [np.random.randint(-100, 100) for x in range(100)]\n",
    "\n",
    "# Berechne Mittelwert und Standardabweichung\n",
    "data_mean = np.mean(data)\n",
    "print(f\"Mittelwert: {data_mean}\")\n",
    "data_std = np.std(data)\n",
    "print(f\"Standardabweichung: {data_std}\")"
   ]
  },
  {
   "cell_type": "code",
   "execution_count": 3,
   "id": "bd3bebb5-f764-490f-b656-621bdb43362c",
   "metadata": {
    "tags": [
     "hide-cell"
    ]
   },
   "outputs": [
    {
     "name": "stdout",
     "output_type": "stream",
     "text": [
      "Mittelwert der Stichprobe: 6.2\n",
      "Standardabweichung der Stichprobe: 6.2\n",
      "Lower: -42.446 <= Sample mean: 6.2 <= Upper: 40.786\n"
     ]
    }
   ],
   "source": [
    "import random\n",
    "from scipy.stats import t\n",
    "\n",
    "# Nehme Stichprobe\n",
    "n = 10\n",
    "np.random.seed(42)\n",
    "sample = random.sample(data, n)\n",
    "\n",
    "# Berechne Mittelwert und Standardabweichung der Stichprobe\n",
    "sample_mean = np.mean(sample)\n",
    "print(f\"Mittelwert der Stichprobe: {sample_mean}\")\n",
    "sample_std = np.std(sample)\n",
    "print(f\"Standardabweichung der Stichprobe: {sample_mean}\")\n",
    "\n",
    "alpha = 0.05\n",
    "lower = data_mean - t.ppf(1 - alpha / 2, df=n - 1) * (sample_std / np.sqrt(n))\n",
    "upper = data_mean + t.ppf(1 - alpha / 2, df=n - 1) * (sample_std / np.sqrt(n))\n",
    "print(\n",
    "    f\"Lower: {round(lower,3)} <= Sample mean: {sample_mean} <= Upper: {round(upper,3)}\"\n",
    ")\n",
    "\n",
    "assert lower <= data_mean and data_mean <= upper"
   ]
  }
 ],
 "metadata": {
  "kernelspec": {
   "display_name": "Python 3 (ipykernel)",
   "language": "python",
   "name": "python3"
  },
  "language_info": {
   "codemirror_mode": {
    "name": "ipython",
    "version": 3
   },
   "file_extension": ".py",
   "mimetype": "text/x-python",
   "name": "python",
   "nbconvert_exporter": "python",
   "pygments_lexer": "ipython3",
   "version": "3.10.9"
  }
 },
 "nbformat": 4,
 "nbformat_minor": 5
}
