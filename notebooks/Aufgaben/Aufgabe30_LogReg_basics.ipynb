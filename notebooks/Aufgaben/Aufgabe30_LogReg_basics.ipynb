{
 "cells": [
  {
   "cell_type": "markdown",
   "id": "5d4b8f3a-72b9-4e55-bb04-f663c4b27545",
   "metadata": {},
   "source": [
    "-------------------------------------------------------\n",
    "-------------------------------------------------------\n",
    "### Kapitel 9\n",
    "### Aufgabenstellung 30 : Logistische Regression - Grundbegriffe\n",
    "\n",
    "-------------------------------------------------------\n",
    "-------------------------------------------------------"
   ]
  },
  {
   "cell_type": "markdown",
   "id": "68191d83-b8ac-44fd-9f4a-cb687b71fbe3",
   "metadata": {},
   "source": [
    "1. Was sind Odds, Log-Odds ($Logit$)? Auf welchen Wertebereich bilden sie ab?\n",
    "\n",
    "2. Vergleichen Sie lineare und einfache logistische Regression. Worin unterscheiden sie sich?\n",
    "\n",
    "3. Was ist die logistische Funktion? Wie hängt Sie mit der $logit$-Funktion zusammen?"
   ]
  },
  {
   "cell_type": "markdown",
   "id": "024af43d-6bce-4f0b-872f-4e57a3d244eb",
   "metadata": {
    "tags": []
   },
   "source": [
    "-------------------------------------------------------"
   ]
  },
  {
   "cell_type": "markdown",
   "id": "5a461596-76db-4e13-98e5-5000eb23bc45",
   "metadata": {},
   "source": [
    "**1.**\n",
    "\n",
    "Odds ($o$) sind definiert als die Wahrscheinlichkeit, dass ein Ereignis eintritt, geteilt durch die Wahrscheinlichkeit, dass es nicht eintritt.\n",
    "\n",
    "$$o = \\frac{\\pi}{1-\\pi}$$\n",
    "\n",
    "Mit anderen Worten, es ist ein Verhältnis von Erfolgen (oder Gewinnen) zu Verlusten (oder Misserfolgen). Die Odds bilden auf den Wertebereich $]0 \\ $,$ \\ +\\infty[$ ab.\n",
    "\n",
    "Log-odds sind definiert als der Logarithmus der Odds:\n",
    "\n",
    "$$logit(\\pi) =\\log ( \\frac{\\pi}{1-\\pi} )$$\n",
    "\n",
    "Die Log-Odds bilden auf den Wertebereich $]-\\infty , +\\infty[$ ab.\n",
    "\n"
   ]
  },
  {
   "cell_type": "markdown",
   "id": "70b98218-43f8-4f14-bd93-70f2af6c327b",
   "metadata": {},
   "source": [
    "**2.**\n",
    "\n",
    "Im linearen Regressionsmodell wird versucht eine Gerade durch Datenpunkte zulegen, wobei der Abstand zu allen Punkten minimiert wird. Die $y$-Achse wird dabei als stetig angenommen. Das linearen Regressionsmodell kann wie folgt definiert werden:\n",
    "\n",
    "$$y= \\beta_0 + \\beta_1x$$\n",
    "\n",
    "$\\beta_0$ und $\\beta_1$ können über die Methode der kleinsten Quadrate geschätzt werden.\n",
    "\n",
    "Das einfache logistische Modell wird wie folgt definiert:\n",
    "\n",
    "$$\\pi = \\frac{1}{1+e^{-(\\beta_0+ \\beta_1x)}}$$\n",
    "\n",
    "Es besitzt eine binäre $y$-Achse ($1$ oder $0$) und $\\pi$ gibt die Wahrscheinlichkeit an für einen bestimmten $x$-Wert entweder $1$ oder $0$ zu erhalten. Um $\\beta_0+ \\beta_1x_1$ zu schätzen gehen wir analog zur linearen Regression vor, nur unterscheiden sie sich dadurch das wir in diesem Fall für die $logit$-Funktion:\n",
    "\n",
    "$$logit(\\pi) = \\beta_0+ \\beta_1x$$ \n",
    "\n",
    "$\\beta_0$ und $\\beta_1$ mittels Maximum-Likelihood Methode schätzen.\n",
    "\n"
   ]
  },
  {
   "cell_type": "markdown",
   "id": "ef80811a-ace1-4ead-bb6a-b6b509f1f8f7",
   "metadata": {},
   "source": [
    "**3.**\n",
    "\n",
    "Die logistische Funktion für einfache logistische Regression ist definiert als:\n",
    "\n",
    "$$\\pi = logit^{-1}(log \\left( \\frac{\\pi}{1-\\pi}\\right)) = logit^{-1}(\\eta) = \\frac{e^{\\eta}}{1+e^{\\eta}} = \\frac{1}{1+e^{-(\\beta_0+ \\beta_1x)}}$$\n",
    "\n",
    "Die logistische Funktion ist die Inverse der $logit$-Funktion."
   ]
  },
  {
   "cell_type": "code",
   "execution_count": null,
   "id": "d6788fee-6b1d-4192-b2db-5aa09faaf280",
   "metadata": {},
   "outputs": [],
   "source": []
  }
 ],
 "metadata": {
  "kernelspec": {
   "display_name": "Python 3 (ipykernel)",
   "language": "python",
   "name": "python3"
  },
  "language_info": {
   "codemirror_mode": {
    "name": "ipython",
    "version": 3
   },
   "file_extension": ".py",
   "mimetype": "text/x-python",
   "name": "python",
   "nbconvert_exporter": "python",
   "pygments_lexer": "ipython3",
   "version": "3.10.2"
  }
 },
 "nbformat": 4,
 "nbformat_minor": 5
}
