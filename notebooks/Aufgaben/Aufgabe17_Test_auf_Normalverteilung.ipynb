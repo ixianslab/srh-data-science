{
 "cells": [
  {
   "cell_type": "code",
   "execution_count": 1,
   "id": "f9720f05-acfc-4792-bda1-f793fda4f8a6",
   "metadata": {
    "tags": [
     "remove-cell"
    ]
   },
   "outputs": [
    {
     "name": "stdout",
     "output_type": "stream",
     "text": [
      "\n",
      "---------------------------------\n",
      "Working on the host: Joachims-MacBook-Pro.local\n",
      "\n",
      "---------------------------------\n",
      "Python version: 3.10.2 | packaged by conda-forge | (main, Feb  1 2022, 19:30:18) [Clang 11.1.0 ]\n",
      "\n",
      "---------------------------------\n",
      "Python interpreter: /opt/miniconda3/envs/srh-poc/bin/python\n"
     ]
    }
   ],
   "source": [
    "%matplotlib inline\n",
    "# Load the \"autoreload\" extension\n",
    "%load_ext autoreload\n",
    "# always reload modules\n",
    "%autoreload 2\n",
    "# black formatter for jupyter notebooks\n",
    "#%load_ext nb_black\n",
    "# black formatter for jupyter lab\n",
    "%load_ext lab_black\n",
    "\n",
    "%run ../src/notebook_env.py"
   ]
  },
  {
   "cell_type": "markdown",
   "id": "a2ae8c4a-d127-4628-9f0b-f156355b2389",
   "metadata": {
    "tags": []
   },
   "source": [
    "# Aufgabe 4\n",
    "Generieren Sie in 100.000 (gleichwahrscheinliche) Würfe eines Würfels und berechnen Sie Mittelwert und Standardabweichung der Würfelsumme. Wählen Sie aus den Würfelwürfen 200 Stichproben mit unterschiedlichen Stichprobenumfängen. Ab welchem Stichprobenumfang können wir dafon ausgehen, dass die Stichprobenverteilung des Mittelwertes normalverteilt ist. Nutzen sie zur Validierung des Hypothese den Wilk-Shapiro Test."
   ]
  },
  {
   "cell_type": "markdown",
   "id": "c9e8249b-a97d-4e9f-89c7-cd20e09a04da",
   "metadata": {},
   "source": [
    "**Importierte Module**"
   ]
  },
  {
   "cell_type": "code",
   "execution_count": 2,
   "id": "3dfdb417-2b37-4f49-acda-c263ba003efe",
   "metadata": {
    "tags": [
     "thebe-init"
    ]
   },
   "outputs": [],
   "source": [
    "import numpy as np\n",
    "from scipy import stats"
   ]
  },
  {
   "cell_type": "markdown",
   "id": "d4f95277-d63f-4dfa-91e5-df85c361282c",
   "metadata": {},
   "source": [
    "**Hilfsfunktionen**"
   ]
  },
  {
   "cell_type": "code",
   "execution_count": 3,
   "id": "2b4ceaf3-6061-46e3-802c-6966454e6610",
   "metadata": {
    "tags": [
     "thebe-init"
    ]
   },
   "outputs": [],
   "source": [
    "def test_for_normal_distribution(x, verbose=True):\n",
    "    \"\"\"Function to test if a sample is normally distributed.\n",
    "    Therefore the Shapiro-Wilk test is employed. If the p-value is <0.05 we recject the null hypothesis and hence\n",
    "    conclude that the data is not normally distrubuted for reference see\n",
    "    https://docs.scipy.org/doc/scipy/reference/generated/scipy.stats.shapiro.html\"\"\"\n",
    "    shapiro_test = stats.shapiro(x)\n",
    "    pvalue = shapiro_test.pvalue\n",
    "    if verbose:\n",
    "        print(f\"p-value: {pvalue}\")\n",
    "        if pvalue < 0.05:\n",
    "            print(\n",
    "                f\"The null hypothesis is rejected, the data is NOT normally distributed.\"\n",
    "            )\n",
    "        else:\n",
    "            print(\n",
    "                f\"Given the data the null hypothesis cannot be rejected, the data is likely normally distributed.\"\n",
    "            )\n",
    "    return pvalue\n",
    "\n",
    "\n",
    "def dice_roll(nrolls: int, nsides: int = 6, seed=None) -> list:\n",
    "    \"\"\"Function to simulate a dice roll\n",
    "    params:\n",
    "       nrolls: number of rolls/dices\n",
    "       nsides: number of sides\n",
    "    \"\"\"\n",
    "    if seed is not None:\n",
    "        np.random.seed(seed)\n",
    "\n",
    "    return [np.random.randint(1, nsides) for x in range(nrolls)]"
   ]
  },
  {
   "cell_type": "code",
   "execution_count": 4,
   "id": "5389847a-fca0-4c00-babf-58e90140a5df",
   "metadata": {},
   "outputs": [],
   "source": [
    "## your code here ..."
   ]
  },
  {
   "cell_type": "code",
   "execution_count": 5,
   "id": "034b16c9-20a6-4608-bb29-343da7c52478",
   "metadata": {
    "tags": [
     "hide-cell"
    ]
   },
   "outputs": [
    {
     "name": "stdout",
     "output_type": "stream",
     "text": [
      "\n",
      "Sample size: 3\n",
      "p-value: 0.0007678926340304315\n",
      "The null hypothesis is rejected, the data is NOT normally distributed.\n",
      "\n",
      "Sample size: 5\n",
      "p-value: 0.015407245606184006\n",
      "The null hypothesis is rejected, the data is NOT normally distributed.\n",
      "\n",
      "Sample size: 7\n",
      "p-value: 0.027912858873605728\n",
      "The null hypothesis is rejected, the data is NOT normally distributed.\n",
      "\n",
      "Sample size: 10\n",
      "p-value: 0.2314864993095398\n",
      "Given the data the null hypothesis cannot be rejected, the data is likely normally distributed.\n",
      "\n",
      "Sample size: 15\n",
      "p-value: 0.4181775152683258\n",
      "Given the data the null hypothesis cannot be rejected, the data is likely normally distributed.\n",
      "\n",
      "Sample size: 20\n",
      "p-value: 0.34083324670791626\n",
      "Given the data the null hypothesis cannot be rejected, the data is likely normally distributed.\n",
      "\n",
      "Sample size: 30\n",
      "p-value: 0.5110695362091064\n",
      "Given the data the null hypothesis cannot be rejected, the data is likely normally distributed.\n",
      "\n",
      "Sample size: 50\n",
      "p-value: 0.18506282567977905\n",
      "Given the data the null hypothesis cannot be rejected, the data is likely normally distributed.\n"
     ]
    }
   ],
   "source": [
    "# experiment\n",
    "N = 100000\n",
    "seed = 42\n",
    "experiment = dice_roll(N, seed=seed)\n",
    "\n",
    "# Validierung\n",
    "for n in [3, 5, 7, 10, 15, 20, 30, 50]:\n",
    "    sample_means = []\n",
    "    for i in range(200):\n",
    "        sample = np.random.choice(experiment, n, replace=True)\n",
    "        sample_means.append(np.mean(sample))\n",
    "    print(f\"\\nSample size: {n}\")\n",
    "    pvalue = test_for_normal_distribution(sample_means)"
   ]
  }
 ],
 "metadata": {
  "kernelspec": {
   "display_name": "Python 3 (ipykernel)",
   "language": "python",
   "name": "python3"
  },
  "language_info": {
   "codemirror_mode": {
    "name": "ipython",
    "version": 3
   },
   "file_extension": ".py",
   "mimetype": "text/x-python",
   "name": "python",
   "nbconvert_exporter": "python",
   "pygments_lexer": "ipython3",
   "version": "3.10.9"
  }
 },
 "nbformat": 4,
 "nbformat_minor": 5
}
