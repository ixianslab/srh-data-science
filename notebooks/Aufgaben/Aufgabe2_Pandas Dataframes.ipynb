{
 "cells": [
  {
   "cell_type": "markdown",
   "id": "f3e2503b-2a47-4af2-8183-38cb963901ee",
   "metadata": {},
   "source": [
    "-------------------------------------------------------\n",
    "-------------------------------------------------------\n",
    "### Kapitel 1\n",
    "### Aufgabenstellung 2 : Pandas Dataframes\n",
    "\n",
    "-------------------------------------------------------\n",
    "-------------------------------------------------------"
   ]
  },
  {
   "cell_type": "markdown",
   "id": "bf4833d4-8bda-4662-93a6-df1f610762db",
   "metadata": {},
   "source": [
    "1. Nutzen Sie die im Lehrbeispiel besprochenen Methoden um den Dataframe im Kapitel Strukturierte Datensätze nachzubauen.\n",
    "<body>\n",
    "\n",
    "<table border=\"1\" width=\"500\" height=\"200\">\n",
    "  <tr>\n",
    "    <td width=\"300\" height=\"100\">id </td>\n",
    "    <td width=\"300\" height=\"100\">Name</td>\n",
    "    <td width=\"300\" height=\"100\">Age</td>\n",
    "  </tr>\n",
    "  <tr>\n",
    "    <td>1</td>\n",
    "    <td>John</td>\n",
    "    <td>26</td>\n",
    "  </tr>\n",
    "  <tr>\n",
    "    <td>2</td>\n",
    "    <td>Alice</td>\n",
    "    <td>20</td>\n",
    "   </tr>\n",
    "  <tr>\n",
    "    <td>3</td>\n",
    "    <td>Mike</td>\n",
    "    <td>21</td>\n",
    "   <tr>\n",
    "    <td>4</td>\n",
    "    <td>Anne</td>\n",
    "    <td>25</td>\n",
    "  </tr>\n",
    "</table>\n",
    "\n",
    "</body>\n",
    "</html>\n",
    "\n"
   ]
  },
  {
   "cell_type": "markdown",
   "id": "ccb189a7-8c7a-4d61-8be7-f3a66091cab1",
   "metadata": {},
   "source": [
    "2. Fügen Sie die Spalte `nc_score` $= [2.5 , 3, 2.2 , 1.0] $ zum ersten Dataframe `df` hinzu."
   ]
  },
  {
   "cell_type": "markdown",
   "id": "55aae7b3-dedd-4596-bb92-08fbabc47fbe",
   "metadata": {},
   "source": [
    "3. Wählen Sie alle Daten aus für die gilt `age` $\\gt 23 $ und speichern Sie die Werte in den neuen Dataframe `df2`."
   ]
  },
  {
   "cell_type": "markdown",
   "id": "290e2b82-bde4-4fea-a07e-aa4c43aa7fb9",
   "metadata": {
    "tags": []
   },
   "source": [
    "-------------------------------------------------------"
   ]
  },
  {
   "cell_type": "markdown",
   "id": "d6356f59-09ad-4f58-9728-75b3be78bf8f",
   "metadata": {},
   "source": [
    "### Lösung :"
   ]
  },
  {
   "cell_type": "markdown",
   "id": "40ff41ce-7858-43f4-bc6d-5b3a1b97e86a",
   "metadata": {},
   "source": [
    "1."
   ]
  },
  {
   "cell_type": "code",
   "execution_count": 3,
   "id": "81be2330-26f9-4321-b206-adcc2e1a3539",
   "metadata": {},
   "outputs": [
    {
     "data": {
      "text/html": [
       "<div>\n",
       "<style scoped>\n",
       "    .dataframe tbody tr th:only-of-type {\n",
       "        vertical-align: middle;\n",
       "    }\n",
       "\n",
       "    .dataframe tbody tr th {\n",
       "        vertical-align: top;\n",
       "    }\n",
       "\n",
       "    .dataframe thead th {\n",
       "        text-align: right;\n",
       "    }\n",
       "</style>\n",
       "<table border=\"1\" class=\"dataframe\">\n",
       "  <thead>\n",
       "    <tr style=\"text-align: right;\">\n",
       "      <th></th>\n",
       "      <th>id</th>\n",
       "      <th>Name</th>\n",
       "      <th>Age</th>\n",
       "    </tr>\n",
       "  </thead>\n",
       "  <tbody>\n",
       "    <tr>\n",
       "      <th>0</th>\n",
       "      <td>1</td>\n",
       "      <td>John</td>\n",
       "      <td>26</td>\n",
       "    </tr>\n",
       "    <tr>\n",
       "      <th>1</th>\n",
       "      <td>2</td>\n",
       "      <td>Alice</td>\n",
       "      <td>20</td>\n",
       "    </tr>\n",
       "    <tr>\n",
       "      <th>2</th>\n",
       "      <td>3</td>\n",
       "      <td>Mike</td>\n",
       "      <td>21</td>\n",
       "    </tr>\n",
       "    <tr>\n",
       "      <th>3</th>\n",
       "      <td>4</td>\n",
       "      <td>Anne</td>\n",
       "      <td>25</td>\n",
       "    </tr>\n",
       "  </tbody>\n",
       "</table>\n",
       "</div>"
      ],
      "text/plain": [
       "   id   Name  Age\n",
       "0   1   John   26\n",
       "1   2  Alice   20\n",
       "2   3   Mike   21\n",
       "3   4   Anne   25"
      ]
     },
     "execution_count": 3,
     "metadata": {},
     "output_type": "execute_result"
    }
   ],
   "source": [
    "import pandas as pd\n",
    "\n",
    "# Erstelle Dataframe df\n",
    "df = pd.DataFrame({'id' : [1,2,3,4], 'Name': ['John', 'Alice', 'Mike', 'Anne'], 'Age': [26, 20, 21, 25]})\n",
    "df"
   ]
  },
  {
   "cell_type": "markdown",
   "id": "143fd173-d6eb-410c-b2df-00657161556c",
   "metadata": {},
   "source": [
    "2."
   ]
  },
  {
   "cell_type": "code",
   "execution_count": 4,
   "id": "62a65529-9e8f-4618-b509-a4bf2532dc6b",
   "metadata": {},
   "outputs": [
    {
     "data": {
      "text/html": [
       "<div>\n",
       "<style scoped>\n",
       "    .dataframe tbody tr th:only-of-type {\n",
       "        vertical-align: middle;\n",
       "    }\n",
       "\n",
       "    .dataframe tbody tr th {\n",
       "        vertical-align: top;\n",
       "    }\n",
       "\n",
       "    .dataframe thead th {\n",
       "        text-align: right;\n",
       "    }\n",
       "</style>\n",
       "<table border=\"1\" class=\"dataframe\">\n",
       "  <thead>\n",
       "    <tr style=\"text-align: right;\">\n",
       "      <th></th>\n",
       "      <th>id</th>\n",
       "      <th>Name</th>\n",
       "      <th>Age</th>\n",
       "      <th>nc_score</th>\n",
       "    </tr>\n",
       "  </thead>\n",
       "  <tbody>\n",
       "    <tr>\n",
       "      <th>0</th>\n",
       "      <td>1</td>\n",
       "      <td>John</td>\n",
       "      <td>26</td>\n",
       "      <td>2.5</td>\n",
       "    </tr>\n",
       "    <tr>\n",
       "      <th>1</th>\n",
       "      <td>2</td>\n",
       "      <td>Alice</td>\n",
       "      <td>20</td>\n",
       "      <td>3.0</td>\n",
       "    </tr>\n",
       "    <tr>\n",
       "      <th>2</th>\n",
       "      <td>3</td>\n",
       "      <td>Mike</td>\n",
       "      <td>21</td>\n",
       "      <td>2.2</td>\n",
       "    </tr>\n",
       "    <tr>\n",
       "      <th>3</th>\n",
       "      <td>4</td>\n",
       "      <td>Anne</td>\n",
       "      <td>25</td>\n",
       "      <td>1.0</td>\n",
       "    </tr>\n",
       "  </tbody>\n",
       "</table>\n",
       "</div>"
      ],
      "text/plain": [
       "   id   Name  Age  nc_score\n",
       "0   1   John   26       2.5\n",
       "1   2  Alice   20       3.0\n",
       "2   3   Mike   21       2.2\n",
       "3   4   Anne   25       1.0"
      ]
     },
     "execution_count": 4,
     "metadata": {},
     "output_type": "execute_result"
    }
   ],
   "source": [
    "df['nc_score'] = [2.5,3,2.2,1.0]\n",
    "df"
   ]
  },
  {
   "cell_type": "markdown",
   "id": "0ed57a7c-ad18-4b38-b07e-db63d131bd7a",
   "metadata": {},
   "source": [
    "3."
   ]
  },
  {
   "cell_type": "code",
   "execution_count": 42,
   "id": "6ad35f09-230c-4107-b232-34eef1844307",
   "metadata": {},
   "outputs": [
    {
     "data": {
      "text/html": [
       "<div>\n",
       "<style scoped>\n",
       "    .dataframe tbody tr th:only-of-type {\n",
       "        vertical-align: middle;\n",
       "    }\n",
       "\n",
       "    .dataframe tbody tr th {\n",
       "        vertical-align: top;\n",
       "    }\n",
       "\n",
       "    .dataframe thead th {\n",
       "        text-align: right;\n",
       "    }\n",
       "</style>\n",
       "<table border=\"1\" class=\"dataframe\">\n",
       "  <thead>\n",
       "    <tr style=\"text-align: right;\">\n",
       "      <th></th>\n",
       "      <th>id</th>\n",
       "      <th>Name</th>\n",
       "      <th>Age</th>\n",
       "      <th>nc_score</th>\n",
       "    </tr>\n",
       "  </thead>\n",
       "  <tbody>\n",
       "    <tr>\n",
       "      <th>1</th>\n",
       "      <td>2</td>\n",
       "      <td>Alice</td>\n",
       "      <td>20</td>\n",
       "      <td>3.0</td>\n",
       "    </tr>\n",
       "    <tr>\n",
       "      <th>2</th>\n",
       "      <td>3</td>\n",
       "      <td>Mike</td>\n",
       "      <td>21</td>\n",
       "      <td>2.2</td>\n",
       "    </tr>\n",
       "  </tbody>\n",
       "</table>\n",
       "</div>"
      ],
      "text/plain": [
       "   id   Name  Age  nc_score\n",
       "1   2  Alice   20       3.0\n",
       "2   3   Mike   21       2.2"
      ]
     },
     "execution_count": 42,
     "metadata": {},
     "output_type": "execute_result"
    }
   ],
   "source": [
    "df2 = df.loc[df['Age'] < 23]\n",
    "df2"
   ]
  },
  {
   "cell_type": "code",
   "execution_count": null,
   "id": "bfc8ee27-d922-47cc-99cb-12efc17f1bd9",
   "metadata": {},
   "outputs": [],
   "source": []
  }
 ],
 "metadata": {
  "kernelspec": {
   "display_name": "Python 3 (ipykernel)",
   "language": "python",
   "name": "python3"
  },
  "language_info": {
   "codemirror_mode": {
    "name": "ipython",
    "version": 3
   },
   "file_extension": ".py",
   "mimetype": "text/x-python",
   "name": "python",
   "nbconvert_exporter": "python",
   "pygments_lexer": "ipython3",
   "version": "3.10.9"
  }
 },
 "nbformat": 4,
 "nbformat_minor": 5
}
