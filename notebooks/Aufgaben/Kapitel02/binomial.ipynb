{
 "cells": [
  {
   "cell_type": "code",
   "execution_count": 1,
   "id": "7d75c8ab-1bcd-4259-adb7-f1d328f10c96",
   "metadata": {
    "tags": [
     "remove-cell"
    ]
   },
   "outputs": [
    {
     "name": "stdout",
     "output_type": "stream",
     "text": [
      "\n",
      "---------------------------------\n",
      "Working on the host: imarevic-pc\n",
      "\n",
      "---------------------------------\n",
      "Python version: 3.10.9 | packaged by conda-forge | (main, Feb  2 2023, 20:20:04) [GCC 11.3.0]\n",
      "\n",
      "---------------------------------\n",
      "Python interpreter: /home/imarevic/anaconda3/envs/srh/bin/python3.10\n"
     ]
    }
   ],
   "source": [
    "%matplotlib inline\n",
    "# Load the \"autoreload\" extension\n",
    "%load_ext autoreload\n",
    "# always reload modules\n",
    "%autoreload 2\n",
    "# black formatter for jupyter notebooks\n",
    "# %load_ext nb_black\n",
    "# black formatter for jupyter lab\n",
    "%load_ext lab_black\n",
    "\n",
    "%run ../../../src/notebook_env.py"
   ]
  },
  {
   "cell_type": "markdown",
   "id": "a3695707-7901-4625-bc60-c58548ba70ac",
   "metadata": {},
   "source": [
    "# Binomialverteilung"
   ]
  },
  {
   "cell_type": "markdown",
   "id": "fff72aac-cd02-42de-ab46-10337dac117a",
   "metadata": {},
   "source": [
    "In einer Fabrik werden serienmäßig Tübel mit einem Ausschussanteil von $4,5\\%$ hergestellt, d. h. unter $1000$ hergestellten Tübel befinden sich im Mittel genau $45$ unbrauchbare Tübel. \n",
    "\n",
    "1. Mit welchen Wahrscheinlichkeiten finden wir in einer Zufallsstichprobe von $10$ Tübel genau $0, 1, 3, 5, 8$ unbrauchbare Tübel?\n",
    "2. Mit welchen Wahrscheinlichkeiten finden wir in einer Zufallsstichprobe von $10$ Tübel $3$ oder mehr unbrauchbare Tübel?"
   ]
  },
  {
   "cell_type": "code",
   "execution_count": 2,
   "id": "094a1a80",
   "metadata": {},
   "outputs": [],
   "source": [
    "# Frage 1 ..."
   ]
  },
  {
   "cell_type": "code",
   "execution_count": 3,
   "id": "91d44098",
   "metadata": {},
   "outputs": [],
   "source": [
    "# Frage 2 ..."
   ]
  },
  {
   "cell_type": "markdown",
   "id": "562afb15-91ca-4351-b7e8-1c09de60b3ef",
   "metadata": {
    "tags": []
   },
   "source": [
    "## Lösungen"
   ]
  },
  {
   "cell_type": "markdown",
   "id": "b8852602-472c-4559-9e0c-f181dc2d1459",
   "metadata": {
    "tags": [
     "hide-cell"
    ]
   },
   "source": [
    "\n",
    "Es handelt sich hier um ein Bernoulli-Experiment. Die Wahrscheinlichkeit, beim Ziehen eines Tübels einen unbrauchbaren Tübels zu erhalten, liegt bei $p=0,04$. Die Zufallsvariable folgt der Binomialverteilung mit den Parametern $n=10$ und $p=0,4$.\n",
    "\n",
    "Somit ergbit sich \n",
    "\n",
    "$$P(X=x)= \\binom{10}{x} \\times 0,04^x \\times (1-0,04)^{(10-x)} \\qquad (x=0,1,3,5,8)$$\n"
   ]
  },
  {
   "cell_type": "code",
   "execution_count": 2,
   "id": "bf384f42",
   "metadata": {
    "tags": [
     "hide-cell"
    ]
   },
   "outputs": [
    {
     "name": "stdout",
     "output_type": "stream",
     "text": [
      "For x=0 the probabilty is 0.6648326359915008\n",
      "For x=1 the probabilty is 0.277013598329792\n",
      "For x=3 the probabilty is 0.00577111663187067\n",
      "For x=5 the probabilty is 2.104052938702848e-05\n",
      "For x=8 the probabilty is 2.7179089920000016e-10\n"
     ]
    }
   ],
   "source": [
    "from scipy.stats import binom\n",
    "\n",
    "for x in [0, 1, 3, 5, 8]:\n",
    "    rv = binom.pmf(k=x, n=10, p=0.04)\n",
    "    print(f\"For x={x} the probabilty is {rv}\")"
   ]
  },
  {
   "cell_type": "markdown",
   "id": "b61a64c8",
   "metadata": {},
   "source": [
    "$$P(X \\geq3) = 1 - P(X =0) - P(X =1) - P(X =2)$$ "
   ]
  },
  {
   "cell_type": "code",
   "execution_count": 3,
   "id": "1f2445e3",
   "metadata": {
    "tags": [
     "hide-cell"
    ]
   },
   "outputs": [
    {
     "name": "stdout",
     "output_type": "stream",
     "text": [
      "[version 1] The probabilty is is 0.00621371599187126\n",
      "[version 2] The probabilty is is 0.006213715991870816\n"
     ]
    }
   ],
   "source": [
    "from scipy.stats import binom\n",
    "\n",
    "# version 1\n",
    "rv = 0\n",
    "for x in [0, 1, 2]:\n",
    "    rv += binom.pmf(k=x, n=10, p=0.04)\n",
    "print(f\"[version 1] The probabilty is is {1 - rv}\")\n",
    "\n",
    "# version 2\n",
    "rv = 1 - binom.cdf(k=2, n=10, p=0.04)\n",
    "print(f\"[version 2] The probabilty is is {rv}\")"
   ]
  }
 ],
 "metadata": {
  "kernelspec": {
   "display_name": "Python 3 (ipykernel)",
   "language": "python",
   "name": "python3"
  },
  "language_info": {
   "codemirror_mode": {
    "name": "ipython",
    "version": 3
   },
   "file_extension": ".py",
   "mimetype": "text/x-python",
   "name": "python",
   "nbconvert_exporter": "python",
   "pygments_lexer": "ipython3",
   "version": "3.10.9"
  },
  "vscode": {
   "interpreter": {
    "hash": "a36818faf5a63422d892f0834edc6414f1b25ba9b5d6bbe87802a22f3b883f5c"
   }
  }
 },
 "nbformat": 4,
 "nbformat_minor": 5
}
