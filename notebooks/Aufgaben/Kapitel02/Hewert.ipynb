{
 "cells": [
  {
   "cell_type": "code",
   "execution_count": 1,
   "id": "7d75c8ab-1bcd-4259-adb7-f1d328f10c96",
   "metadata": {
    "tags": [
     "remove-cell"
    ]
   },
   "outputs": [
    {
     "name": "stdout",
     "output_type": "stream",
     "text": [
      "\n",
      "---------------------------------\n",
      "Working on the host: imarevic-pc\n",
      "\n",
      "---------------------------------\n",
      "Python version: 3.10.9 | packaged by conda-forge | (main, Feb  2 2023, 20:20:04) [GCC 11.3.0]\n",
      "\n",
      "---------------------------------\n",
      "Python interpreter: /home/imarevic/anaconda3/envs/srh/bin/python3.10\n"
     ]
    }
   ],
   "source": [
    "%matplotlib inline\n",
    "# Load the \"autoreload\" extension\n",
    "%load_ext autoreload\n",
    "# always reload modules\n",
    "%autoreload 2\n",
    "# black formatter for jupyter notebooks\n",
    "# %load_ext nb_black\n",
    "# black formatter for jupyter lab\n",
    "%load_ext lab_black\n",
    "\n",
    "%run ../../../src/notebook_env.py"
   ]
  },
  {
   "cell_type": "markdown",
   "id": "a3695707-7901-4625-bc60-c58548ba70ac",
   "metadata": {},
   "source": [
    "# Häufigkeiten und Erwartungswert"
   ]
  },
  {
   "cell_type": "markdown",
   "id": "fff72aac-cd02-42de-ab46-10337dac117a",
   "metadata": {},
   "source": [
    "Betrachten wir den Würfelwurf für einen fairen sechseitigen Würfel.\n",
    "Bei $10$ Würfen werden die folgenden Zahlen gewürfelt: $1,1,2,5,6,3,4,2,4,5$\n",
    "\n",
    "1) Erklären Sie anhand dieser Stichprobe relative und absolute Häufigkeiten.\n",
    "\n",
    "2) Berechnen Sie den Erwartungswert der Stichprobe.\n",
    "\n",
    "3) Berechnen Sie den Erwartungswert für einen Würfel unter der Annahme von Laplacewahrscheinlichkeit (gleicher Wahrscheinlichkeit für alle $x_i$ von $X$)"
   ]
  },
  {
   "cell_type": "code",
   "execution_count": 2,
   "id": "094a1a80",
   "metadata": {},
   "outputs": [],
   "source": [
    "# Frage 1 ..."
   ]
  },
  {
   "cell_type": "code",
   "execution_count": 3,
   "id": "91d44098",
   "metadata": {},
   "outputs": [],
   "source": [
    "# Frage 2 ..."
   ]
  },
  {
   "cell_type": "code",
   "execution_count": 4,
   "id": "6cc6641c",
   "metadata": {},
   "outputs": [],
   "source": [
    "# Frage 3 ..."
   ]
  },
  {
   "cell_type": "markdown",
   "id": "562afb15-91ca-4351-b7e8-1c09de60b3ef",
   "metadata": {
    "tags": []
   },
   "source": [
    "## Lösungen"
   ]
  },
  {
   "cell_type": "markdown",
   "id": "b8852602-472c-4559-9e0c-f181dc2d1459",
   "metadata": {
    "tags": [
     "hide-cell"
    ]
   },
   "source": [
    "**Frage 1**\n",
    "\n",
    "**Absolute Häufigkeiten** $h(a_j)=h_j$ entsprechen der Anzahl der Ereignisse/Elemente/Messergebnisse $x_i$ für die gilt $x_i = a_j$.\n",
    "**Relative Häufigkeiten**  entsprechen den **absoluten Häufigkeiten** geteilt durch die Gesamtanzahl $n$ betrachteten Ereignisse/Elemente/Messergebnisse $f(a_j)=f_j=\\frac{h_j}{n}$\n",
    "({cite:p}`fahrmeirstatistik` s.30).\n",
    "\n",
    "Angewandt auf die Stichprobe ergeben sich die absoluten und relativen Häufigkeiten wie folgt:\n",
    "\n",
    "|$X$|Absolute Häufigkeit|Relative Häufigkeit|\n",
    "|---|:---:|:---:|\n",
    "|1|2|0,2|\n",
    "|2|2|0,2|\n",
    "|3|1|0,1|\n",
    "|4|2|0,2|\n",
    "|5|2|0,2|\n",
    "|6|1|0,1|"
   ]
  },
  {
   "cell_type": "markdown",
   "id": "3d725913-bb21-4120-9fa4-ae3c9f8f263e",
   "metadata": {
    "tags": [
     "hide-cell"
    ]
   },
   "source": [
    "**Frage 2**\n",
    "\n",
    "$$E(X) = \\sum_{i=1}^6 P(x_i) x_i = 1 \\cdot 0,2 + 2 \\cdot 0,2 + 3 \\cdot 0,1 + 4 \\cdot 0,2 + 5 \\cdot 0,2 + 6 \\cdot 0,1 = 3,3$$"
   ]
  },
  {
   "cell_type": "markdown",
   "id": "ee4ea539-c3a5-403b-b731-a3fc73dc3a16",
   "metadata": {
    "tags": [
     "hide-cell"
    ]
   },
   "source": [
    "**Frage 3**\n",
    "\n",
    "Da von Laplacewahrscheinlichkeit ausgegangen werden kann gilt: $P(x_i)= \\frac{1}{6} \\approx 0,167$\n",
    "\n",
    "$$E(X) = \\sum_{i=1}^6 P(x_i) x_i = 1 \\cdot 0,167 + 2 \\cdot 0,167 + 3 \\cdot 0,167 + 4 \\cdot 0,167 + 5 \\cdot 0,167 + 6 \\cdot 0,167 = 3,5$$"
   ]
  }
 ],
 "metadata": {
  "kernelspec": {
   "display_name": "Python 3 (ipykernel)",
   "language": "python",
   "name": "python3"
  },
  "language_info": {
   "codemirror_mode": {
    "name": "ipython",
    "version": 3
   },
   "file_extension": ".py",
   "mimetype": "text/x-python",
   "name": "python",
   "nbconvert_exporter": "python",
   "pygments_lexer": "ipython3",
   "version": "3.10.9"
  },
  "vscode": {
   "interpreter": {
    "hash": "a36818faf5a63422d892f0834edc6414f1b25ba9b5d6bbe87802a22f3b883f5c"
   }
  }
 },
 "nbformat": 4,
 "nbformat_minor": 5
}
