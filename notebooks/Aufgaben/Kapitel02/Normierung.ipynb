{
 "cells": [
  {
   "cell_type": "code",
   "execution_count": 1,
   "id": "a6444c66",
   "metadata": {
    "tags": [
     "remove-cell"
    ]
   },
   "outputs": [
    {
     "name": "stdout",
     "output_type": "stream",
     "text": [
      "\n",
      "---------------------------------\n",
      "Working on the host: imarevic-pc\n",
      "\n",
      "---------------------------------\n",
      "Python version: 3.10.9 | packaged by conda-forge | (main, Feb  2 2023, 20:20:04) [GCC 11.3.0]\n",
      "\n",
      "---------------------------------\n",
      "Python interpreter: /home/imarevic/anaconda3/envs/srh/bin/python3.10\n"
     ]
    }
   ],
   "source": [
    "%matplotlib inline\n",
    "# Load the \"autoreload\" extension\n",
    "%load_ext autoreload\n",
    "# always reload modules\n",
    "%autoreload 2\n",
    "# black formatter for jupyter notebooks\n",
    "# %load_ext nb_black\n",
    "# black formatter for jupyter lab\n",
    "%load_ext lab_black\n",
    "\n",
    "%run ../../../src/notebook_env.py"
   ]
  },
  {
   "cell_type": "markdown",
   "id": "371f5c1f-dd01-49cf-8075-d082c31d038c",
   "metadata": {},
   "source": [
    "# Normierung"
   ]
  },
  {
   "cell_type": "markdown",
   "id": "81a856e3-9850-4341-ba83-e8fa5aaab1b9",
   "metadata": {},
   "source": [
    "Eine Zufallsvariable $X$ kann die Werte $1,2,3,4$ annehmen. Angenommen $f(x) = P(X = x)$ ist die dazugehörige Wahrscheinlichkeitsfunktion und ist gegeben durch:\n",
    "\n",
    "$$\n",
    "     f(x)=\\left\\{\\begin{array}{ll} \\frac{x (b - x)}{10}, & x\\in \\{ 1,2,3,4 \\} \\\\\n",
    "         0, & \\text{sonst}\\end{array}\\right. .\n",
    "  $$\n",
    "  \n",
    "Wie muß $b$ gewählt werden um die Normierung der Wahrscheinlichkeitsfunktion zu gewährleisten ?"
   ]
  },
  {
   "cell_type": "code",
   "execution_count": 2,
   "id": "10086b27",
   "metadata": {},
   "outputs": [],
   "source": [
    "# Frage 1 ..."
   ]
  },
  {
   "cell_type": "markdown",
   "id": "bc4a23f0-5fab-4cdb-873d-fe3dba7b89ec",
   "metadata": {
    "tags": []
   },
   "source": [
    "## Lösungen"
   ]
  },
  {
   "cell_type": "markdown",
   "id": "8958bc7e-0f25-41df-8203-ddaea76e0bdf",
   "metadata": {
    "tags": [
     "hide-cell"
    ]
   },
   "source": [
    "Um die Wahrscheinlichkeitsfunktion zu normieren muß \n",
    "\n",
    "$$\\sum_{i=1}^n f(x_i) = 1$$ \n",
    "gelten.\n",
    "\n",
    "$$\\sum_{i=1}^4 f(x_i) = \\frac{1 \\cdot (b-1)}{10} + \\frac{2 \\cdot (b-2)}{10} + \\frac{3 \\cdot (b-3)}{10} + \\frac{4 \\cdot (b-4)}{10} = 1$$\n",
    "$$ (b-1)+ (2b-4) + (3b-9) + (4b - 16)  = 10$$\n",
    "$$ b + 2b + 3b + 4b-1-4-9-16  = 10$$\n",
    "$$  10b-30  = 10 $$\n",
    "$$\\Rightarrow b = 4$$"
   ]
  }
 ],
 "metadata": {
  "kernelspec": {
   "display_name": "Python 3 (ipykernel)",
   "language": "python",
   "name": "python3"
  },
  "language_info": {
   "codemirror_mode": {
    "name": "ipython",
    "version": 3
   },
   "file_extension": ".py",
   "mimetype": "text/x-python",
   "name": "python",
   "nbconvert_exporter": "python",
   "pygments_lexer": "ipython3",
   "version": "3.10.9"
  },
  "vscode": {
   "interpreter": {
    "hash": "a36818faf5a63422d892f0834edc6414f1b25ba9b5d6bbe87802a22f3b883f5c"
   }
  }
 },
 "nbformat": 4,
 "nbformat_minor": 5
}
