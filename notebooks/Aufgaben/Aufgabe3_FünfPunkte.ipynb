{
 "cells": [
  {
   "cell_type": "markdown",
   "id": "bb7a56b2-4816-4363-af18-df773d1c05e6",
   "metadata": {},
   "source": [
    "-------------------------------------------------------\n",
    "-------------------------------------------------------\n",
    "### Kapitel 1\n",
    "### Aufgabenstellung 3 : Maße der zentralen Tendenz, Streumaße und Fünf-Punkte Zusammenfassung\n",
    "\n",
    "-------------------------------------------------------\n",
    "-------------------------------------------------------"
   ]
  },
  {
   "cell_type": "markdown",
   "id": "f99272d1-3f3d-447d-8623-5208bab5c8f4",
   "metadata": {},
   "source": [
    "1. Berechnen Sie Mittelwert, Standardabweichung, Modalwert für die Zahlen in `daten`.\n",
    "\n",
    "\n",
    "\n",
    "`daten = [10, 1, 17, 0, 14, 2, 11, 1, 4, 10, 5, 1, 1, 99, 47, 16, 3, 4, 9, 11]`"
   ]
  },
  {
   "cell_type": "markdown",
   "id": "ac15f127-4afa-491c-853a-90b604016e2a",
   "metadata": {},
   "source": [
    "2. Berechnen Sie die Fünf-Punkte-Zusammenfassung für `daten`."
   ]
  },
  {
   "cell_type": "markdown",
   "id": "e88a8637-3393-4c0e-81bb-749cc97f6c87",
   "metadata": {},
   "source": [
    "3. Generieren Sie mit der Funktion `np.linspace(min,max,Anzahl=Datenpunkte)` eine $x$-Achse und Stellen Sie `daten` als Scatterplot dar."
   ]
  },
  {
   "cell_type": "markdown",
   "id": "35f502d6-d652-4aba-8124-e7b08b78003a",
   "metadata": {},
   "source": [
    "4. Stellen Sie die Daten als Boxplot dar."
   ]
  },
  {
   "cell_type": "markdown",
   "id": "c50d080f-8955-4108-ab8a-dcf71d68e550",
   "metadata": {},
   "source": [
    "5. Bewerten Sie anhand der Ergebnisse mögliche Ausreißer."
   ]
  },
  {
   "cell_type": "markdown",
   "id": "7fd91ee1-23e0-4d64-8e60-596d0924918f",
   "metadata": {},
   "source": [
    "-------------------------------------------------------"
   ]
  },
  {
   "cell_type": "markdown",
   "id": "f7f4d835-cce9-4b99-9dce-83473cf7cbb3",
   "metadata": {},
   "source": [
    "### Lösung :"
   ]
  },
  {
   "cell_type": "code",
   "execution_count": 15,
   "id": "c642351c-7c07-41fb-9af0-817ce02f115a",
   "metadata": {},
   "outputs": [],
   "source": [
    "import matplotlib.pyplot as plt\n",
    "import numpy as np\n",
    "import pandas as pd\n",
    "import scipy.stats as stats\n",
    "import statistics as st"
   ]
  },
  {
   "cell_type": "code",
   "execution_count": 16,
   "id": "d1fdca4a-c2b9-4c08-9f5a-0fd659160143",
   "metadata": {},
   "outputs": [],
   "source": [
    "daten = [10, 1, 17, 0, 14, 2, 11, 1, 4, 10, 5, 1, 1, 99, 47, 16, 3, 4, 9, 11]"
   ]
  },
  {
   "cell_type": "markdown",
   "id": "010093df-4b18-42af-8e20-54013fab059a",
   "metadata": {},
   "source": [
    "1."
   ]
  },
  {
   "cell_type": "code",
   "execution_count": 17,
   "id": "3ef2bc27-b0b6-41da-a6ef-1538398f5285",
   "metadata": {},
   "outputs": [
    {
     "name": "stdout",
     "output_type": "stream",
     "text": [
      "Mittelwert : 13.3\n",
      "Standardabweichung : 22.147460351019934\n",
      "Modalwert : 1\n"
     ]
    }
   ],
   "source": [
    "print('Mittelwert :', np.mean(daten))\n",
    "print('Standardabweichung :', np.std(daten))\n",
    "print('Modalwert :', st.mode(daten))"
   ]
  },
  {
   "cell_type": "markdown",
   "id": "ffd5ce0e-453a-47e9-8cee-bf83b67cb843",
   "metadata": {},
   "source": [
    "2."
   ]
  },
  {
   "cell_type": "code",
   "execution_count": 18,
   "id": "5abc08c7-b5a2-401d-b8ea-0ebf4bc22408",
   "metadata": {},
   "outputs": [
    {
     "name": "stdout",
     "output_type": "stream",
     "text": [
      "Min:    0\n",
      "Q1:     1.75\n",
      "Median: 7.0\n",
      "Q3:     11.75\n",
      "Max:    99\n"
     ]
    }
   ],
   "source": [
    "# Berechne Fünf-Punkte-Zusammenfassung\n",
    "scores = daten\n",
    "\n",
    "# Berechne die Quartilen\n",
    "q1, median, q3 = np.percentile(scores, [25, 50, 75])\n",
    "\n",
    "# Berechne minimal/maximal Datenpunkte\n",
    "data_min, data_max = min(scores), max(scores)\n",
    "\n",
    "# Ausgabe der Daten\n",
    "print(f\"Min:    {data_min}\")\n",
    "print(f\"Q1:     {q1}\")\n",
    "print(f\"Median: {median}\")\n",
    "print(f\"Q3:     {q3}\")\n",
    "print(f\"Max:    {data_max}\")"
   ]
  },
  {
   "cell_type": "markdown",
   "id": "d1586350-6677-4612-b075-45b6371fc645",
   "metadata": {},
   "source": [
    "3."
   ]
  },
  {
   "cell_type": "code",
   "execution_count": 19,
   "id": "8478ceb8-37bb-43be-ac24-91d1dc18a9cb",
   "metadata": {},
   "outputs": [],
   "source": [
    "x = np.linspace(0,1,20)"
   ]
  },
  {
   "cell_type": "code",
   "execution_count": 20,
   "id": "841567e7-6a1f-4327-92e9-fc1349757a44",
   "metadata": {},
   "outputs": [
    {
     "data": {
      "text/plain": [
       "<matplotlib.collections.PathCollection at 0x237fb04efe0>"
      ]
     },
     "execution_count": 20,
     "metadata": {},
     "output_type": "execute_result"
    },
    {
     "data": {
      "image/png": "[encoded data removed]",
      "text/plain": [
       "<Figure size 432x288 with 1 Axes>"
      ]
     },
     "metadata": {
      "needs_background": "light"
     },
     "output_type": "display_data"
    }
   ],
   "source": [
    "plt.scatter(x,daten, marker=\"o\")"
   ]
  },
  {
   "cell_type": "markdown",
   "id": "786e2067-069f-4e36-adf1-7a3c250f1f75",
   "metadata": {},
   "source": [
    "4."
   ]
  },
  {
   "cell_type": "code",
   "execution_count": 21,
   "id": "30d1919f-6150-4881-bd87-755ecdb8af21",
   "metadata": {},
   "outputs": [
    {
     "data": {
      "text/plain": [
       "{'whiskers': [<matplotlib.lines.Line2D at 0x237fb0adf60>,\n",
       "  <matplotlib.lines.Line2D at 0x237fb0ae230>],\n",
       " 'caps': [<matplotlib.lines.Line2D at 0x237fb0ae500>,\n",
       "  <matplotlib.lines.Line2D at 0x237fb0ae7d0>],\n",
       " 'boxes': [<matplotlib.lines.Line2D at 0x237fb0adc90>],\n",
       " 'medians': [<matplotlib.lines.Line2D at 0x237fb0aeaa0>],\n",
       " 'fliers': [<matplotlib.lines.Line2D at 0x237fb0aed70>],\n",
       " 'means': []}"
      ]
     },
     "execution_count": 21,
     "metadata": {},
     "output_type": "execute_result"
    },
    {
     "data": {
      "image/png": "[encoded data removed]",
      "text/plain": [
       "<Figure size 432x288 with 1 Axes>"
      ]
     },
     "metadata": {
      "needs_background": "light"
     },
     "output_type": "display_data"
    }
   ],
   "source": [
    "plt.boxplot(daten)"
   ]
  },
  {
   "cell_type": "markdown",
   "id": "162c2c11-c898-47f7-80ff-37a352216185",
   "metadata": {},
   "source": [
    "5."
   ]
  },
  {
   "cell_type": "markdown",
   "id": "e54a4059-9826-46f3-ac8a-946371ffc79b",
   "metadata": {},
   "source": [
    "Anhand der visuellen Auswertung von Box- und Scatterplot und der grossen Abweichung vom Mittelwert ist zu vermuten das der Datenpunkt $99$ und $27$ Ausreißer sein könnten."
   ]
  },
  {
   "cell_type": "code",
   "execution_count": null,
   "id": "1696d350-bfcd-4089-af82-fd841bbfe551",
   "metadata": {},
   "outputs": [],
   "source": []
  }
 ],
 "metadata": {
  "kernelspec": {
   "display_name": "Python 3 (ipykernel)",
   "language": "python",
   "name": "python3"
  },
  "language_info": {
   "codemirror_mode": {
    "name": "ipython",
    "version": 3
   },
   "file_extension": ".py",
   "mimetype": "text/x-python",
   "name": "python",
   "nbconvert_exporter": "python",
   "pygments_lexer": "ipython3",
   "version": "3.10.2"
  }
 },
 "nbformat": 4,
 "nbformat_minor": 5
}
