{
 "cells": [
  {
   "cell_type": "markdown",
   "id": "a08051dd-0350-4554-8893-28e37407028e",
   "metadata": {},
   "source": [
    "-------------------------------------------------------\n",
    "-------------------------------------------------------\n",
    "### Kapitel 9\n",
    "### Aufgabenstellung 31 : Logistische Funktion\n",
    "\n",
    "-------------------------------------------------------\n",
    "-------------------------------------------------------"
   ]
  },
  {
   "cell_type": "markdown",
   "id": "68f51b5d-a6e6-4199-8fc2-a69ebc43d037",
   "metadata": {},
   "source": [
    "1. Zeigen Sie dass die logistische Funktion $logit^{-1}(\\eta) = \\frac{e^{\\eta}}{1+e^{\\eta}}$ die inverse Funktion zur $logit$-Funktion $\\eta = logit(\\pi) = log \\left( \\frac{\\pi}{1-\\pi}\\right)$ ist."
   ]
  },
  {
   "cell_type": "markdown",
   "id": "98f0d8e7-ce42-4627-8628-8aaa1f1f906f",
   "metadata": {},
   "source": [
    "-------------------------------------------------------"
   ]
  },
  {
   "cell_type": "markdown",
   "id": "0dc6f455-1af1-454a-b8f3-f8aeefbd1df2",
   "metadata": {
    "tags": []
   },
   "source": [
    "### Lösung"
   ]
  },
  {
   "cell_type": "markdown",
   "id": "68cd3bbf-f49b-44f5-a6ad-f2cbaacbc715",
   "metadata": {},
   "source": [
    "1. logistische Funktion umwandeln"
   ]
  },
  {
   "cell_type": "markdown",
   "id": "18df552e-c4cc-41ac-9411-a25de04a5de3",
   "metadata": {},
   "source": [
    "$$\\frac{e^{\\eta}}{1+e^{\\eta}} = \\frac{e^{\\eta}}{e^{\\eta}}\\frac{1}{e^{-\\eta}+1} = \\frac{1}{e^{-\\eta}+1}$$"
   ]
  },
  {
   "cell_type": "markdown",
   "id": "ba48cd45-9c7d-467c-a6c7-32b1f29edbc8",
   "metadata": {},
   "source": [
    "2. Logit Funktion in logistische Funktion einsetzen"
   ]
  },
  {
   "cell_type": "markdown",
   "id": "db883f3d-6179-43bc-9f7e-3ab6f0f309cc",
   "metadata": {},
   "source": [
    "$$logit^{-1}(logit(\\pi)) = logit^{-1}(log \\left( \\frac{\\pi}{1-\\pi}\\right))) = $$"
   ]
  },
  {
   "cell_type": "markdown",
   "id": "2580d32d-34f1-4587-b43e-425b46cc752b",
   "metadata": {},
   "source": [
    "$$ = \\frac{1}{1+e^{-log \\left( \\frac{\\pi}{1-\\pi}\\right)}} = \\frac{1}{1+\\frac{1}{\\left( \\frac{\\pi}{1-\\pi}\\right)}} =$$"
   ]
  },
  {
   "cell_type": "markdown",
   "id": "9ce3ca19-1a22-4080-b584-dec410c0caf9",
   "metadata": {},
   "source": [
    "$$ = \\frac{1}{1+\\frac{1 - \\pi}{\\pi}} = \\frac{1}{\\frac{\\pi + 1 - \\pi}{\\pi}} = \\pi$$"
   ]
  },
  {
   "cell_type": "markdown",
   "id": "d02ab6c1-19c9-4fa6-9c6d-7b40724c8a2b",
   "metadata": {
    "tags": []
   },
   "source": []
  }
 ],
 "metadata": {
  "kernelspec": {
   "display_name": "Python 3 (ipykernel)",
   "language": "python",
   "name": "python3"
  },
  "language_info": {
   "codemirror_mode": {
    "name": "ipython",
    "version": 3
   },
   "file_extension": ".py",
   "mimetype": "text/x-python",
   "name": "python",
   "nbconvert_exporter": "python",
   "pygments_lexer": "ipython3",
   "version": "3.10.2"
  }
 },
 "nbformat": 4,
 "nbformat_minor": 5
}
