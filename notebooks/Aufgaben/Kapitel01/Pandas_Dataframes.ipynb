{
 "cells": [
  {
   "cell_type": "code",
   "execution_count": 1,
   "id": "665ca4e4-6209-43e2-b0e5-3d10e56389ed",
   "metadata": {
    "tags": [
     "remove-cell"
    ]
   },
   "outputs": [
    {
     "name": "stdout",
     "output_type": "stream",
     "text": [
      "\n",
      "---------------------------------\n",
      "Working on the host: imarevic-pc\n",
      "\n",
      "---------------------------------\n",
      "Python version: 3.10.9 | packaged by conda-forge | (main, Feb  2 2023, 20:20:04) [GCC 11.3.0]\n",
      "\n",
      "---------------------------------\n",
      "Python interpreter: /home/imarevic/anaconda3/envs/srh/bin/python3.10\n"
     ]
    }
   ],
   "source": [
    "%matplotlib inline\n",
    "# Load the \"autoreload\" extension\n",
    "%load_ext autoreload\n",
    "# always reload modules\n",
    "%autoreload 2\n",
    "# black formatter for jupyter notebooks\n",
    "# %load_ext nb_black\n",
    "# black formatter for jupyter lab\n",
    "%load_ext lab_black\n",
    "\n",
    "%run ../../../src/notebook_env.py"
   ]
  },
  {
   "cell_type": "markdown",
   "id": "f3e2503b-2a47-4af2-8183-38cb963901ee",
   "metadata": {},
   "source": [
    "# Übung zu Pandas Dataframes"
   ]
  },
  {
   "cell_type": "markdown",
   "id": "bf4833d4-8bda-4662-93a6-df1f610762db",
   "metadata": {},
   "source": [
    "1. Erstellen Sie einen Pandas Dataframe (`df`) wie vorgegeben.\n",
    "2. Fügen Sie die Spalte `nc_score` $= [2.5, 3, 2.2, 1.0] $ zum Dataframe `df` hinzu.\n",
    "3. Wählen Sie alle Daten aus, für die gilt `age` $\\gt 23 $ und speichern Sie die Werte in den neuen Dataframe `df2`."
   ]
  },
  {
   "cell_type": "markdown",
   "id": "efb91966-9e4b-4091-a313-366904e703cc",
   "metadata": {},
   "source": [
    "|id|Name|Age|\n",
    "|---|---|---|\n",
    "|1|John|26|\n",
    "|2|Alice|20|\n",
    "|3|Mike|21|\n",
    "|4|Anne|25|"
   ]
  },
  {
   "cell_type": "markdown",
   "id": "290e2b82-bde4-4fea-a07e-aa4c43aa7fb9",
   "metadata": {
    "tags": []
   },
   "source": [
    "-------------------------------------------------------"
   ]
  },
  {
   "cell_type": "code",
   "execution_count": 2,
   "id": "8d1f4c09-871f-49e8-8a8e-d8874b17d8ed",
   "metadata": {},
   "outputs": [],
   "source": [
    "# Frage 1 ..."
   ]
  },
  {
   "cell_type": "code",
   "execution_count": 3,
   "id": "d7361ce7-beb6-4273-967f-99235292c53f",
   "metadata": {},
   "outputs": [],
   "source": [
    "# Frage 2 ..."
   ]
  },
  {
   "cell_type": "code",
   "execution_count": 4,
   "id": "bb752eeb-e665-42ca-9af0-c73db420af27",
   "metadata": {},
   "outputs": [],
   "source": [
    "# Frage 3 ..."
   ]
  },
  {
   "cell_type": "markdown",
   "id": "4132ce62-6a77-4a31-a830-d58e08adad8a",
   "metadata": {},
   "source": [
    "## Lösungen"
   ]
  },
  {
   "cell_type": "code",
   "execution_count": 3,
   "id": "79d4dfad-0ed7-4130-9613-eb6cb69342c9",
   "metadata": {
    "tags": [
     "hide-cell"
    ]
   },
   "outputs": [
    {
     "data": {
      "text/html": [
       "<div>\n",
       "<style scoped>\n",
       "    .dataframe tbody tr th:only-of-type {\n",
       "        vertical-align: middle;\n",
       "    }\n",
       "\n",
       "    .dataframe tbody tr th {\n",
       "        vertical-align: top;\n",
       "    }\n",
       "\n",
       "    .dataframe thead th {\n",
       "        text-align: right;\n",
       "    }\n",
       "</style>\n",
       "<table border=\"1\" class=\"dataframe\">\n",
       "  <thead>\n",
       "    <tr style=\"text-align: right;\">\n",
       "      <th></th>\n",
       "      <th>id</th>\n",
       "      <th>Name</th>\n",
       "      <th>Age</th>\n",
       "    </tr>\n",
       "  </thead>\n",
       "  <tbody>\n",
       "    <tr>\n",
       "      <th>0</th>\n",
       "      <td>1</td>\n",
       "      <td>John</td>\n",
       "      <td>26</td>\n",
       "    </tr>\n",
       "    <tr>\n",
       "      <th>1</th>\n",
       "      <td>2</td>\n",
       "      <td>Alice</td>\n",
       "      <td>20</td>\n",
       "    </tr>\n",
       "    <tr>\n",
       "      <th>2</th>\n",
       "      <td>3</td>\n",
       "      <td>Mike</td>\n",
       "      <td>21</td>\n",
       "    </tr>\n",
       "    <tr>\n",
       "      <th>3</th>\n",
       "      <td>4</td>\n",
       "      <td>Anne</td>\n",
       "      <td>25</td>\n",
       "    </tr>\n",
       "  </tbody>\n",
       "</table>\n",
       "</div>"
      ],
      "text/plain": [
       "   id   Name  Age\n",
       "0   1   John   26\n",
       "1   2  Alice   20\n",
       "2   3   Mike   21\n",
       "3   4   Anne   25"
      ]
     },
     "execution_count": 3,
     "metadata": {},
     "output_type": "execute_result"
    }
   ],
   "source": [
    "import pandas as pd\n",
    "\n",
    "df = pd.DataFrame(\n",
    "    {\n",
    "        \"id\": [1, 2, 3, 4],\n",
    "        \"Name\": [\"John\", \"Alice\", \"Mike\", \"Anne\"],\n",
    "        \"Age\": [26, 20, 21, 25],\n",
    "    }\n",
    ")\n",
    "df"
   ]
  },
  {
   "cell_type": "code",
   "execution_count": 4,
   "id": "9665a365-0c89-45d4-a0b8-2a45c66d5d62",
   "metadata": {
    "tags": [
     "hide-cell"
    ]
   },
   "outputs": [
    {
     "data": {
      "text/html": [
       "<div>\n",
       "<style scoped>\n",
       "    .dataframe tbody tr th:only-of-type {\n",
       "        vertical-align: middle;\n",
       "    }\n",
       "\n",
       "    .dataframe tbody tr th {\n",
       "        vertical-align: top;\n",
       "    }\n",
       "\n",
       "    .dataframe thead th {\n",
       "        text-align: right;\n",
       "    }\n",
       "</style>\n",
       "<table border=\"1\" class=\"dataframe\">\n",
       "  <thead>\n",
       "    <tr style=\"text-align: right;\">\n",
       "      <th></th>\n",
       "      <th>id</th>\n",
       "      <th>Name</th>\n",
       "      <th>Age</th>\n",
       "      <th>nc_score</th>\n",
       "    </tr>\n",
       "  </thead>\n",
       "  <tbody>\n",
       "    <tr>\n",
       "      <th>0</th>\n",
       "      <td>1</td>\n",
       "      <td>John</td>\n",
       "      <td>26</td>\n",
       "      <td>2.5</td>\n",
       "    </tr>\n",
       "    <tr>\n",
       "      <th>1</th>\n",
       "      <td>2</td>\n",
       "      <td>Alice</td>\n",
       "      <td>20</td>\n",
       "      <td>3.0</td>\n",
       "    </tr>\n",
       "    <tr>\n",
       "      <th>2</th>\n",
       "      <td>3</td>\n",
       "      <td>Mike</td>\n",
       "      <td>21</td>\n",
       "      <td>2.2</td>\n",
       "    </tr>\n",
       "    <tr>\n",
       "      <th>3</th>\n",
       "      <td>4</td>\n",
       "      <td>Anne</td>\n",
       "      <td>25</td>\n",
       "      <td>1.0</td>\n",
       "    </tr>\n",
       "  </tbody>\n",
       "</table>\n",
       "</div>"
      ],
      "text/plain": [
       "   id   Name  Age  nc_score\n",
       "0   1   John   26       2.5\n",
       "1   2  Alice   20       3.0\n",
       "2   3   Mike   21       2.2\n",
       "3   4   Anne   25       1.0"
      ]
     },
     "execution_count": 4,
     "metadata": {},
     "output_type": "execute_result"
    }
   ],
   "source": [
    "df[\"nc_score\"] = [2.5, 3, 2.2, 1.0]\n",
    "df"
   ]
  },
  {
   "cell_type": "code",
   "execution_count": 5,
   "id": "7666cc8d-3ecf-4446-9277-3320d32e9937",
   "metadata": {
    "tags": [
     "hide-cell"
    ]
   },
   "outputs": [
    {
     "data": {
      "text/html": [
       "<div>\n",
       "<style scoped>\n",
       "    .dataframe tbody tr th:only-of-type {\n",
       "        vertical-align: middle;\n",
       "    }\n",
       "\n",
       "    .dataframe tbody tr th {\n",
       "        vertical-align: top;\n",
       "    }\n",
       "\n",
       "    .dataframe thead th {\n",
       "        text-align: right;\n",
       "    }\n",
       "</style>\n",
       "<table border=\"1\" class=\"dataframe\">\n",
       "  <thead>\n",
       "    <tr style=\"text-align: right;\">\n",
       "      <th></th>\n",
       "      <th>id</th>\n",
       "      <th>Name</th>\n",
       "      <th>Age</th>\n",
       "      <th>nc_score</th>\n",
       "    </tr>\n",
       "  </thead>\n",
       "  <tbody>\n",
       "    <tr>\n",
       "      <th>1</th>\n",
       "      <td>2</td>\n",
       "      <td>Alice</td>\n",
       "      <td>20</td>\n",
       "      <td>3.0</td>\n",
       "    </tr>\n",
       "    <tr>\n",
       "      <th>2</th>\n",
       "      <td>3</td>\n",
       "      <td>Mike</td>\n",
       "      <td>21</td>\n",
       "      <td>2.2</td>\n",
       "    </tr>\n",
       "  </tbody>\n",
       "</table>\n",
       "</div>"
      ],
      "text/plain": [
       "   id   Name  Age  nc_score\n",
       "1   2  Alice   20       3.0\n",
       "2   3   Mike   21       2.2"
      ]
     },
     "execution_count": 5,
     "metadata": {},
     "output_type": "execute_result"
    }
   ],
   "source": [
    "df2 = df.loc[df[\"Age\"] < 23]\n",
    "df2"
   ]
  }
 ],
 "metadata": {
  "kernelspec": {
   "display_name": "Python 3 (ipykernel)",
   "language": "python",
   "name": "python3"
  },
  "language_info": {
   "codemirror_mode": {
    "name": "ipython",
    "version": 3
   },
   "file_extension": ".py",
   "mimetype": "text/x-python",
   "name": "python",
   "nbconvert_exporter": "python",
   "pygments_lexer": "ipython3",
   "version": "3.10.9"
  }
 },
 "nbformat": 4,
 "nbformat_minor": 5
}
