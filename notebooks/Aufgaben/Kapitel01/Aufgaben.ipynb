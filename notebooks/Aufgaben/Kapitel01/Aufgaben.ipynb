{
 "cells": [
  {
   "cell_type": "markdown",
   "id": "a2e0e45e-1b51-49a2-b2bd-8f303ab1232e",
   "metadata": {},
   "source": [
    "# Übungsaufgaben"
   ]
  }
 ],
 "metadata": {
  "kernelspec": {
   "display_name": "Python 3 (ipykernel)",
   "language": "python",
   "name": "python3"
  },
  "language_info": {
   "codemirror_mode": {
    "name": "ipython",
    "version": 3
   },
   "file_extension": ".py",
   "mimetype": "text/x-python",
   "name": "python",
   "nbconvert_exporter": "python",
   "pygments_lexer": "ipython3",
   "version": "3.10.9"
  }
 },
 "nbformat": 4,
 "nbformat_minor": 5
}
