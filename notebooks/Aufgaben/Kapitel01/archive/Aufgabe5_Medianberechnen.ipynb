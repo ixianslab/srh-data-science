{
 "cells": [
  {
   "cell_type": "markdown",
   "id": "c9c262bc-9706-4bfc-8525-335f0e687f08",
   "metadata": {},
   "source": [
    "-------------------------------------------------------\n",
    "-------------------------------------------------------\n",
    "### Kapitel 1\n",
    "### Aufgabenstellung 5 : Median berechnen\n",
    "\n",
    "-------------------------------------------------------\n",
    "-------------------------------------------------------"
   ]
  },
  {
   "cell_type": "markdown",
   "id": "86962c91-1733-49dc-b2d8-53e617d32afc",
   "metadata": {},
   "source": [
    "Schreiben Sie eine Funktion die den Median einer Liste / eines Arrays an Daten ausgibt. Das Programm soll sowohl bei gerader wie ungerader Anzahl von Elementen das richtige Ergebnis liefern. Benutzen Sie dazu den arithmetischen Operator `Floor division`. Mehr zu Python Opratoren finden Sie \n",
    "<a href=\"https://www.w3schools.com/python/python_operators.asp\">hier</a>.\n",
    "Berechnen Sie den Median für die Daten:"
   ]
  },
  {
   "cell_type": "code",
   "execution_count": 13,
   "id": "6058eadc-3da0-4eda-be80-3cad9d58af8a",
   "metadata": {},
   "outputs": [],
   "source": [
    "a = (4.1, 5.6, 7.2, 1.7, 9.3, 4.4, 3.2)\n",
    "b = (4.1, 7.2, 1.7, 9.3, 4.4, 3.2)"
   ]
  },
  {
   "cell_type": "markdown",
   "id": "43f4f887-79ae-44a0-95b1-60fb24bc77b8",
   "metadata": {},
   "source": [
    "-------------------------------------------------------"
   ]
  },
  {
   "cell_type": "markdown",
   "id": "b22f5654-0221-4a30-a0b2-1cc8542056aa",
   "metadata": {},
   "source": [
    "### Lösung"
   ]
  },
  {
   "cell_type": "code",
   "execution_count": 15,
   "id": "d40989b3-f4ee-43ed-903b-60b1efddbd84",
   "metadata": {},
   "outputs": [
    {
     "name": "stdout",
     "output_type": "stream",
     "text": [
      "Datensatz : (4.1, 5.6, 7.2, 1.7, 9.3, 4.4, 3.2) Median : 4.4\n",
      "Datensatz : (4.1, 7.2, 1.7, 9.3, 4.4, 3.2) Median : 4.25\n"
     ]
    }
   ],
   "source": [
    "def median(array):\n",
    "    sortd = sorted(array)\n",
    "    alen = len(sortd)\n",
    "    return 0.5*( sortd[(alen-1)//2] + sortd[alen//2])\n",
    " \n",
    "print('Datensatz :',a, 'Median :', median(a))\n",
    "print('Datensatz :',b, 'Median :', median(b))"
   ]
  },
  {
   "cell_type": "code",
   "execution_count": null,
   "id": "b23514d3-5f5a-4928-9000-4d4771f41d03",
   "metadata": {},
   "outputs": [],
   "source": []
  }
 ],
 "metadata": {
  "kernelspec": {
   "display_name": "Python 3 (ipykernel)",
   "language": "python",
   "name": "python3"
  },
  "language_info": {
   "codemirror_mode": {
    "name": "ipython",
    "version": 3
   },
   "file_extension": ".py",
   "mimetype": "text/x-python",
   "name": "python",
   "nbconvert_exporter": "python",
   "pygments_lexer": "ipython3",
   "version": "3.10.9"
  }
 },
 "nbformat": 4,
 "nbformat_minor": 5
}
