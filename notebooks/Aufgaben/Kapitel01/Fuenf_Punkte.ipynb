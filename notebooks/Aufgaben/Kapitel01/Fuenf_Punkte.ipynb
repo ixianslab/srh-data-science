{
 "cells": [
  {
   "cell_type": "code",
   "execution_count": 1,
   "id": "b9f8a94f-1e63-48d9-83bd-80711ddbf449",
   "metadata": {
    "tags": [
     "remove-cell"
    ]
   },
   "outputs": [
    {
     "name": "stdout",
     "output_type": "stream",
     "text": [
      "\n",
      "---------------------------------\n",
      "Working on the host: imarevic-pc\n",
      "\n",
      "---------------------------------\n",
      "Python version: 3.10.9 | packaged by conda-forge | (main, Feb  2 2023, 20:20:04) [GCC 11.3.0]\n",
      "\n",
      "---------------------------------\n",
      "Python interpreter: /home/imarevic/anaconda3/envs/srh/bin/python3.10\n"
     ]
    }
   ],
   "source": [
    "%matplotlib inline\n",
    "# Load the \"autoreload\" extension\n",
    "%load_ext autoreload\n",
    "# always reload modules\n",
    "%autoreload 2\n",
    "# black formatter for jupyter notebooks\n",
    "# %load_ext nb_black\n",
    "# black formatter for jupyter lab\n",
    "%load_ext lab_black\n",
    "\n",
    "%run ../../../src/notebook_env.py"
   ]
  },
  {
   "cell_type": "markdown",
   "id": "bb7a56b2-4816-4363-af18-df773d1c05e6",
   "metadata": {},
   "source": [
    "# Maße der zentralen Tendenz, Streumaße und Fünf-Punkte Zusammenfassung"
   ]
  },
  {
   "cell_type": "markdown",
   "id": "f99272d1-3f3d-447d-8623-5208bab5c8f4",
   "metadata": {},
   "source": [
    "1. Berechnen Sie Mittelwert, Standardabweichung, Modalwert des Vektors `data`.\n",
    "\n",
    "`data = [10, 1, 17, 0, 14, 2, 11, 1, 4, 10, 5, 1, 1, 99, 47, 16, 3, 4, 9, 11]`\n",
    "\n",
    "2. Berechnen Sie die Fünf-Punkte-Zusammenfassung für `data`.\n",
    "\n",
    "3. Generieren Sie mit der Funktion `np.linspace()` eine $x$-Achse mit Werten zwischen $0$ und $1$ und stellen Sie `data` als Streudiagramm dar.\n",
    "\n",
    "4. Stellen Sie die Daten als Boxplot dar.\n",
    "\n",
    "5. Bewerten Sie anhand der Ergebnisse mögliche Ausreißer."
   ]
  },
  {
   "cell_type": "markdown",
   "id": "7fd91ee1-23e0-4d64-8e60-596d0924918f",
   "metadata": {},
   "source": [
    "-------------------------------------------------------"
   ]
  },
  {
   "cell_type": "code",
   "execution_count": 2,
   "id": "8d1f4c09-871f-49e8-8a8e-d8874b17d8ed",
   "metadata": {},
   "outputs": [],
   "source": [
    "# Frage 1 ..."
   ]
  },
  {
   "cell_type": "code",
   "execution_count": 3,
   "id": "d7361ce7-beb6-4273-967f-99235292c53f",
   "metadata": {},
   "outputs": [],
   "source": [
    "# Frage 2 ..."
   ]
  },
  {
   "cell_type": "code",
   "execution_count": 4,
   "id": "bb752eeb-e665-42ca-9af0-c73db420af27",
   "metadata": {},
   "outputs": [],
   "source": [
    "# Frage 3 ..."
   ]
  },
  {
   "cell_type": "code",
   "execution_count": 5,
   "id": "38b4c380-24bd-4205-af3c-04916ca1a3bc",
   "metadata": {},
   "outputs": [],
   "source": [
    "# Frage 4 ..."
   ]
  },
  {
   "cell_type": "code",
   "execution_count": 6,
   "id": "a513222a-d0cd-49b2-8445-4b761bc105d2",
   "metadata": {},
   "outputs": [],
   "source": [
    "# Frage 5 ..."
   ]
  },
  {
   "cell_type": "markdown",
   "id": "f7f4d835-cce9-4b99-9dce-83473cf7cbb3",
   "metadata": {},
   "source": [
    "## Lösungen"
   ]
  },
  {
   "cell_type": "code",
   "execution_count": 2,
   "id": "c642351c-7c07-41fb-9af0-817ce02f115a",
   "metadata": {
    "tags": [
     "hide-cell"
    ]
   },
   "outputs": [
    {
     "name": "stdout",
     "output_type": "stream",
     "text": [
      "Mittelwert: 13.3\n",
      "Standardabweichung: 22.147460351019934\n",
      "Modalwert: 1\n"
     ]
    }
   ],
   "source": [
    "import numpy as np\n",
    "import statistics as st\n",
    "\n",
    "data = [10, 1, 17, 0, 14, 2, 11, 1, 4, 10, 5, 1, 1, 99, 47, 16, 3, 4, 9, 11]\n",
    "print(f\"Mittelwert: {np.mean(data)}\")\n",
    "print(f\"Standardabweichung: {np.std(data)}\")\n",
    "print(f\"Modalwert: {st.mode(data)}\")"
   ]
  },
  {
   "cell_type": "code",
   "execution_count": 3,
   "id": "5abc08c7-b5a2-401d-b8ea-0ebf4bc22408",
   "metadata": {
    "tags": [
     "hide-cell"
    ]
   },
   "outputs": [
    {
     "name": "stdout",
     "output_type": "stream",
     "text": [
      "Min:    0\n",
      "Q1:     1.75\n",
      "Median: 7.0\n",
      "Q3:     11.75\n",
      "Max:    99\n"
     ]
    }
   ],
   "source": [
    "# Berechne Fünf-Punkte-Zusammenfassung\n",
    "# Berechne die Quartilen\n",
    "q1, median, q3 = np.percentile(data, [25, 50, 75])\n",
    "\n",
    "# Berechne minimal/maximal Datenpunkte\n",
    "data_min, data_max = min(data), max(data)\n",
    "\n",
    "# Ausgabe der Daten\n",
    "print(f\"Min:    {data_min}\")\n",
    "print(f\"Q1:     {q1}\")\n",
    "print(f\"Median: {median}\")\n",
    "print(f\"Q3:     {q3}\")\n",
    "print(f\"Max:    {data_max}\")"
   ]
  },
  {
   "cell_type": "code",
   "execution_count": 4,
   "id": "8478ceb8-37bb-43be-ac24-91d1dc18a9cb",
   "metadata": {
    "tags": [
     "hide-cell"
    ]
   },
   "outputs": [
    {
     "data": {
      "image/png": "[encoded data removed]",
      "text/plain": [
       "<Figure size 864x432 with 1 Axes>"
      ]
     },
     "metadata": {
      "needs_background": "light"
     },
     "output_type": "display_data"
    }
   ],
   "source": [
    "import matplotlib.pyplot as plt\n",
    "\n",
    "x = np.linspace(0, 1, len(data))\n",
    "fig, ax = plt.subplots()\n",
    "ax.scatter(x, data, marker=\"o\")\n",
    "plt.show()"
   ]
  },
  {
   "cell_type": "code",
   "execution_count": 5,
   "id": "30d1919f-6150-4881-bd87-755ecdb8af21",
   "metadata": {
    "tags": [
     "hide-cell"
    ]
   },
   "outputs": [
    {
     "data": {
      "image/png": "[encoded data removed]",
      "text/plain": [
       "<Figure size 864x432 with 1 Axes>"
      ]
     },
     "metadata": {
      "needs_background": "light"
     },
     "output_type": "display_data"
    }
   ],
   "source": [
    "fig, ax = plt.subplots()\n",
    "ax.boxplot(data)\n",
    "plt.show()"
   ]
  },
  {
   "cell_type": "markdown",
   "id": "185a6c2d-20fd-464b-8e80-f60da0a6239d",
   "metadata": {
    "tags": [
     "hide-cell"
    ]
   },
   "source": [
    "```{toggle}\n",
    "Anhand der visuellen Auswertung von Boxplot und Streudiagram liegt es nahe, dass die Datenpunkte 99 und 27 Ausreißer sind.\n",
    "```"
   ]
  }
 ],
 "metadata": {
  "kernelspec": {
   "display_name": "Python 3 (ipykernel)",
   "language": "python",
   "name": "python3"
  },
  "language_info": {
   "codemirror_mode": {
    "name": "ipython",
    "version": 3
   },
   "file_extension": ".py",
   "mimetype": "text/x-python",
   "name": "python",
   "nbconvert_exporter": "python",
   "pygments_lexer": "ipython3",
   "version": "3.10.9"
  }
 },
 "nbformat": 4,
 "nbformat_minor": 5
}
