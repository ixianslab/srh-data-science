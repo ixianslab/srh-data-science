{
 "cells": [
  {
   "cell_type": "code",
   "execution_count": 1,
   "id": "805bad94-be20-4c4e-89ba-77d9d382737e",
   "metadata": {
    "tags": [
     "remove-cell"
    ]
   },
   "outputs": [
    {
     "name": "stdout",
     "output_type": "stream",
     "text": [
      "\n",
      "---------------------------------\n",
      "Working on the host: imarevic-pc\n",
      "\n",
      "---------------------------------\n",
      "Python version: 3.10.9 | packaged by conda-forge | (main, Feb  2 2023, 20:20:04) [GCC 11.3.0]\n",
      "\n",
      "---------------------------------\n",
      "Python interpreter: /home/imarevic/anaconda3/envs/srh/bin/python3.10\n"
     ]
    }
   ],
   "source": [
    "%matplotlib inline\n",
    "# Load the \"autoreload\" extension\n",
    "%load_ext autoreload\n",
    "# always reload modules\n",
    "%autoreload 2\n",
    "# black formatter for jupyter notebooks\n",
    "# %load_ext nb_black\n",
    "# black formatter for jupyter lab\n",
    "%load_ext lab_black\n",
    "\n",
    "%run ../../../src/notebook_env.py"
   ]
  },
  {
   "cell_type": "markdown",
   "id": "fefdc7ce-e6e7-47c2-aa55-dcf846811bec",
   "metadata": {},
   "source": [
    "# Arithmetisches Mittel"
   ]
  },
  {
   "cell_type": "markdown",
   "id": "8bddf07a-96b5-40d1-8104-e1c55843a10e",
   "metadata": {},
   "source": [
    "diedieSchreiben Sie eine Funktion (`arithmic_average`) die den Mittelwert einer Liste/eines Arrays berechnet. Vergleichen Sie Ihre Implementierung mit einer _built-in_ Funktion von Python.\n",
    "Verwenden Sie die Funktion auf die folgenden Daten an."
   ]
  },
  {
   "cell_type": "code",
   "execution_count": 2,
   "id": "20c7bb3c-dbda-4de6-805e-6705ac4d303b",
   "metadata": {},
   "outputs": [],
   "source": [
    "a = [1, 2, 3, 4, 5, 6, 7, 8, 9, 10]\n",
    "b = [-10, -8, -6, -4, -2, 0]"
   ]
  },
  {
   "cell_type": "markdown",
   "id": "4038d3a4-98c6-42c5-bcb2-a8babef1ee2d",
   "metadata": {},
   "source": [
    "-------------------------------------------------------"
   ]
  },
  {
   "cell_type": "code",
   "execution_count": 3,
   "id": "d83d08b8-4ec2-46b3-8857-41f8a2bf5a71",
   "metadata": {},
   "outputs": [],
   "source": [
    "# Frage 1 ..."
   ]
  },
  {
   "cell_type": "markdown",
   "id": "fc9671ef-a02c-41a6-9ab9-88f3c8b0442c",
   "metadata": {},
   "source": [
    "## Lösungen"
   ]
  },
  {
   "cell_type": "code",
   "execution_count": 4,
   "id": "5ae3d375-e4a7-45f8-a12e-678b3a45ab17",
   "metadata": {
    "tags": [
     "hide-cell"
    ]
   },
   "outputs": [
    {
     "name": "stdout",
     "output_type": "stream",
     "text": [
      "Self implementation\n",
      "5.5\n",
      "-5.0\n",
      "\n",
      "numpy built-in function\n",
      "5.5\n",
      "-5.0\n"
     ]
    }
   ],
   "source": [
    "def arithmic_average(values):\n",
    "    \"\"\"Function to compute the arithmic average\"\"\"\n",
    "    return sum(values) / len(values)\n",
    "\n",
    "\n",
    "print(\"Self implementation\")\n",
    "print(arithmic_average(a))\n",
    "print(arithmic_average(b))\n",
    "print(\"\\nnumpy built-in function\")\n",
    "import numpy as np\n",
    "\n",
    "print(np.mean(a))\n",
    "print(np.mean(b))"
   ]
  }
 ],
 "metadata": {
  "kernelspec": {
   "display_name": "Python 3 (ipykernel)",
   "language": "python",
   "name": "python3"
  },
  "language_info": {
   "codemirror_mode": {
    "name": "ipython",
    "version": 3
   },
   "file_extension": ".py",
   "mimetype": "text/x-python",
   "name": "python",
   "nbconvert_exporter": "python",
   "pygments_lexer": "ipython3",
   "version": "3.10.9"
  },
  "vscode": {
   "interpreter": {
    "hash": "31f2aee4e71d21fbe5cf8b01ff0e069b9275f58929596ceb00d14d90e3e16cd6"
   }
  }
 },
 "nbformat": 4,
 "nbformat_minor": 5
}
