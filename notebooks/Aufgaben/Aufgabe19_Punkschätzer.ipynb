{
 "cells": [
  {
   "cell_type": "markdown",
   "id": "28ef2938-5169-4264-9a25-7cd9b4272934",
   "metadata": {},
   "source": [
    "-------------------------------------------------------\n",
    "-------------------------------------------------------\n",
    "### Kapitel 5\n",
    "### Aufgabenstellung 19 : Punktschätzungen bei unbekanntem $\\sigma$\n",
    "\n",
    "-------------------------------------------------------\n",
    "-------------------------------------------------------"
   ]
  },
  {
   "cell_type": "markdown",
   "id": "4133e4f6-21d3-49ec-b9c4-1d68a7010919",
   "metadata": {},
   "source": [
    "1. Welche Wahrscheinlichkeitsverteilung wird für die Berechnungen von Punktschätzungen bei unbekannter Standardabweichnung der Grundgesamtheit und kleiner Stichprobengrösse ($n\\lt 30$) verwendet?\n",
    "2. Wir simulieren eine Grundgesamtheit an Daten indem wir $100$ Zufallszahlen zwischen $1$ und $100$ generieren und diese in einer Liste speichern. Berechnen Sie Mittelwert und Standardabweichung für diese Zufallsdaten. \n",
    "3. Nehmen Sie eine Stichprobe vom Umfang $n=10$. Berechnen Sie Mittelwert und Konfidenzintervall ($\\alpha = 0,05$) für die Stichprobe unter der Verwendung einer geeigneten Wahrscheinlichkeitsverteilung und überprüfen Sie ob der Mittelwert der Grundgesamtheit innerhalb des Konfidenzintervalls liegt."
   ]
  },
  {
   "cell_type": "markdown",
   "id": "1e681a41-9cf1-4ade-b4a7-a66023eee338",
   "metadata": {},
   "source": [
    "-------------------------------------------------------"
   ]
  },
  {
   "cell_type": "markdown",
   "id": "2195d5e8-04e7-4ac6-90fd-4b91fca3a995",
   "metadata": {},
   "source": [
    "### Lösung"
   ]
  },
  {
   "cell_type": "markdown",
   "id": "888451d5-3058-4a42-b1e7-4b5e531d95cd",
   "metadata": {},
   "source": [
    "**1.**\n",
    "\n",
    "Im Fall unbekannter Standardabweichung der Grundgesamtheit $\\sigma$ kann die Standardabweichung der Stichprobe, $s$, als Schätzer verwendet werden.\n",
    "$s$ ist gegeben durch $s =\\sqrt{\\sum_i \\frac{x_i - \\bar x}{n-1}}$ und ihre Verteilung wird durch die $t$-Verteilung beschrieben.\n",
    "\n",
    "({cite:p}`fahrmeirstatistik` s.360)"
   ]
  },
  {
   "cell_type": "markdown",
   "id": "9ba3ca43-0fb1-4c33-8710-8714ce745b32",
   "metadata": {},
   "source": [
    "**2.**"
   ]
  },
  {
   "cell_type": "code",
   "execution_count": 1,
   "id": "d4c03983-3aa6-4083-90e0-3d1d0ddc32e9",
   "metadata": {},
   "outputs": [
    {
     "name": "stdout",
     "output_type": "stream",
     "text": [
      "54.81 data_mean\n",
      "29.910096957382134 data_std\n"
     ]
    }
   ],
   "source": [
    "import numpy as np\n",
    "import random\n",
    "from random import seed\n",
    "\n",
    "# Erzeuge Random seed\n",
    "seed(1)\n",
    "data = []\n",
    "# Generiere Zufallszahlen\n",
    "for i in range(0,100):\n",
    "    n = random.randint(1,100)\n",
    "    data.append(n)\n",
    "\n",
    "# Berechne Mittelwert und Standardabweichung\n",
    "data_mean = np.mean(data)\n",
    "data_std = np.std(data)\n",
    "print(data_mean, 'data_mean')\n",
    "print(data_std, 'data_std')"
   ]
  },
  {
   "cell_type": "markdown",
   "id": "de057056-7de6-4d65-bbcf-e294cb2ec0c0",
   "metadata": {},
   "source": [
    "**3.**"
   ]
  },
  {
   "cell_type": "code",
   "execution_count": 2,
   "id": "bd3bebb5-f764-490f-b656-621bdb43362c",
   "metadata": {},
   "outputs": [
    {
     "name": "stdout",
     "output_type": "stream",
     "text": [
      "60.0 sample_mean\n",
      "36.40054944640259 sample_std\n"
     ]
    }
   ],
   "source": [
    "# Nehme Stichprobe\n",
    "n = 10\n",
    "sample_dat = random.sample(data,n)\n",
    "\n",
    "# Berechne Mittelwert und Standardabweichung\n",
    "sample_mean = np.mean(sample_dat)\n",
    "sample_std = np.std(sample_dat)\n",
    "print(sample_mean, 'sample_mean')\n",
    "print(sample_std, 'sample_std')"
   ]
  },
  {
   "cell_type": "code",
   "execution_count": 3,
   "id": "4d312ce2-3625-4925-b247-96de89d1d3e9",
   "metadata": {},
   "outputs": [
    {
     "data": {
      "text/plain": [
       "28.77061557304783"
      ]
     },
     "execution_count": 3,
     "metadata": {},
     "output_type": "execute_result"
    }
   ],
   "source": [
    "from scipy.stats import t\n",
    "lower = data_mean - t.ppf(1-0.05/2,df = n-1)*(sample_std/np.sqrt(n))\n",
    "lower"
   ]
  },
  {
   "cell_type": "code",
   "execution_count": 4,
   "id": "c4bb653a-18ae-40ba-b046-8c1081cdb84e",
   "metadata": {},
   "outputs": [
    {
     "data": {
      "text/plain": [
       "80.84938442695217"
      ]
     },
     "execution_count": 4,
     "metadata": {},
     "output_type": "execute_result"
    }
   ],
   "source": [
    "upper = data_mean + t.ppf(1-0.05/2,df = n-1)*(sample_std/np.sqrt(n))\n",
    "upper"
   ]
  },
  {
   "cell_type": "code",
   "execution_count": 5,
   "id": "46c8a6ac-ff48-471b-b357-79e22aae29c6",
   "metadata": {},
   "outputs": [
    {
     "name": "stdout",
     "output_type": "stream",
     "text": [
      "28.77061557304783 54.81 80.84938442695217\n"
     ]
    },
    {
     "data": {
      "text/plain": [
       "True"
      ]
     },
     "execution_count": 5,
     "metadata": {},
     "output_type": "execute_result"
    }
   ],
   "source": [
    "print(lower,data_mean,upper)\n",
    "lower <= data_mean and data_mean <= upper\n"
   ]
  },
  {
   "cell_type": "code",
   "execution_count": null,
   "id": "cab7bed2-8372-4605-ac4d-4ab665293471",
   "metadata": {},
   "outputs": [],
   "source": []
  }
 ],
 "metadata": {
  "kernelspec": {
   "display_name": "Python 3 (ipykernel)",
   "language": "python",
   "name": "python3"
  },
  "language_info": {
   "codemirror_mode": {
    "name": "ipython",
    "version": 3
   },
   "file_extension": ".py",
   "mimetype": "text/x-python",
   "name": "python",
   "nbconvert_exporter": "python",
   "pygments_lexer": "ipython3",
   "version": "3.10.9"
  }
 },
 "nbformat": 4,
 "nbformat_minor": 5
}
