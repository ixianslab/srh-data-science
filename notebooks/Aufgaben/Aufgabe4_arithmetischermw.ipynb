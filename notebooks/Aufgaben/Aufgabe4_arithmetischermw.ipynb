{
 "cells": [
  {
   "cell_type": "markdown",
   "id": "fefdc7ce-e6e7-47c2-aa55-dcf846811bec",
   "metadata": {},
   "source": [
    "-------------------------------------------------------\n",
    "-------------------------------------------------------\n",
    "### Kapitel 1\n",
    "### Aufgabenstellung 4 : Arithmetischen Mittelwert berechnen\n",
    "\n",
    "-------------------------------------------------------\n",
    "-------------------------------------------------------"
   ]
  },
  {
   "cell_type": "markdown",
   "id": "8bddf07a-96b5-40d1-8104-e1c55843a10e",
   "metadata": {},
   "source": [
    "Schreiben sie eine Funktion die den Mittelwert einer Liste/ eines Arrays berechnet.\n",
    "Verwenden Sie dazu die folgenden Daten:"
   ]
  },
  {
   "cell_type": "code",
   "execution_count": 13,
   "id": "20c7bb3c-dbda-4de6-805e-6705ac4d303b",
   "metadata": {},
   "outputs": [],
   "source": [
    "a = [1,2,3,4,5,6,7,8,9,10]\n",
    "b = (-10,-8,-6,-4,-2,0)"
   ]
  },
  {
   "cell_type": "markdown",
   "id": "fc9671ef-a02c-41a6-9ab9-88f3c8b0442c",
   "metadata": {},
   "source": [
    "-------------------------------------------------------"
   ]
  },
  {
   "cell_type": "code",
   "execution_count": 14,
   "id": "5ae3d375-e4a7-45f8-a12e-678b3a45ab17",
   "metadata": {},
   "outputs": [],
   "source": [
    "def average_arithmic(values):\n",
    "    return sum(values)/len(values)"
   ]
  },
  {
   "cell_type": "code",
   "execution_count": 15,
   "id": "1e3673d2-cb75-4173-9950-9ceb90074618",
   "metadata": {},
   "outputs": [
    {
     "data": {
      "text/plain": [
       "5.5"
      ]
     },
     "execution_count": 15,
     "metadata": {},
     "output_type": "execute_result"
    }
   ],
   "source": [
    "average_arithmic(a)"
   ]
  },
  {
   "cell_type": "code",
   "execution_count": 16,
   "id": "bb3da5e7-0461-43cd-942c-96ce311483b3",
   "metadata": {},
   "outputs": [
    {
     "data": {
      "text/plain": [
       "-5.0"
      ]
     },
     "execution_count": 16,
     "metadata": {},
     "output_type": "execute_result"
    }
   ],
   "source": [
    "average_arithmic(b)"
   ]
  }
 ],
 "metadata": {
  "kernelspec": {
   "display_name": "Python 3 (ipykernel)",
   "language": "python",
   "name": "python3"
  },
  "language_info": {
   "codemirror_mode": {
    "name": "ipython",
    "version": 3
   },
   "file_extension": ".py",
   "mimetype": "text/x-python",
   "name": "python",
   "nbconvert_exporter": "python",
   "pygments_lexer": "ipython3",
   "version": "3.10.2"
  }
 },
 "nbformat": 4,
 "nbformat_minor": 5
}
