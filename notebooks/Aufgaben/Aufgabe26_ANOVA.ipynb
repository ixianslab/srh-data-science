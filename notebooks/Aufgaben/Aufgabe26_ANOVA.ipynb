{
 "cells": [
  {
   "cell_type": "markdown",
   "id": "0fbe1133-72cb-49ee-ae48-5ec347a40ae8",
   "metadata": {
    "tags": []
   },
   "source": [
    "-------------------------------------------------------\n",
    "-------------------------------------------------------\n",
    "### Kapitel 7\n",
    "### Aufgabenstellung 26 : Multiples Testen : Bonferroni Korrektur\n",
    "\n",
    "-------------------------------------------------------\n",
    "------------------------------------------------------- "
   ]
  },
  {
   "cell_type": "markdown",
   "id": "abb8c9f1-fe6a-4deb-8896-21bd78287235",
   "metadata": {},
   "source": [
    "1. Führen Sie einen post-hoc Mehrfachhypothesentests bei den Daten aus Aufgabe $25$ (`sample_dat4,sample_dat5,sample_dat6`) durch um zu bestimmen welcher Datensatz sich unterscheidet.\n",
    "\n",
    "2. Berechnen Sie Bonferroni Korrektur für den Mehrfachhypothesentest von oben. Was ändert sich am Ergebnis?"
   ]
  },
  {
   "cell_type": "markdown",
   "id": "43c0dae2-b0eb-4fbd-9d31-57c9b01c875c",
   "metadata": {},
   "source": [
    "-------------------------------------------------------"
   ]
  },
  {
   "cell_type": "markdown",
   "id": "33b5c6cb-7b4a-47ac-b191-e54527ace8a0",
   "metadata": {},
   "source": [
    "### Lösung "
   ]
  },
  {
   "cell_type": "code",
   "execution_count": 31,
   "id": "712987b4-80d8-4c6c-8320-387e5c7c94d6",
   "metadata": {},
   "outputs": [],
   "source": [
    "import matplotlib.pyplot as plt\n",
    "import numpy as np\n",
    "from numpy.random import seed\n",
    "from numpy.random import normal\n",
    "\n",
    "import pylab\n",
    "from scipy.stats import t\n",
    "from scipy.stats import norm\n",
    "from scipy.stats import uniform\n",
    "from scipy import stats\n",
    "from scipy.stats import f_oneway\n",
    "\n",
    "sample_dat4 = t.rvs(df = 33 , loc = 0.8 , scale = 0.8, size = 34,random_state = 1)\n",
    "sample_dat5 = t.rvs(df = 26 , loc = 0.5 , scale = 1.22, size = 27,random_state = 1)\n",
    "sample_dat6 = norm.rvs(loc=0,scale=1,size = 25,random_state = 1)"
   ]
  },
  {
   "cell_type": "code",
   "execution_count": 32,
   "id": "0662c594-c627-47ed-8a4e-a67e9ad43ac8",
   "metadata": {},
   "outputs": [
    {
     "name": "stdout",
     "output_type": "stream",
     "text": [
      "Ttest_indResult(statistic=0.788554534390895, pvalue=0.43352954136077515)\n",
      "**Reject:** False\n",
      "Ttest_indResult(statistic=3.8609096740424635, pvalue=0.00029080993613885025)\n",
      "**Reject:** True\n",
      "Ttest_indResult(statistic=2.091914696306178, pvalue=0.041544968988810896)\n",
      "**Reject:** True\n"
     ]
    }
   ],
   "source": [
    "alpha = 0.05\n",
    "\n",
    "print(stats.ttest_ind(sample_dat4,sample_dat5))\n",
    "statistics,p_value=stats.ttest_ind(sample_dat4,sample_dat5)\n",
    "print('**Reject:**', p_value <= alpha)\n",
    "                         \n",
    "print(stats.ttest_ind(sample_dat4,sample_dat6))\n",
    "statistics,p_value=stats.ttest_ind(sample_dat4,sample_dat6)\n",
    "print('**Reject:**', p_value <= alpha)\n",
    "                         \n",
    "print(stats.ttest_ind(sample_dat5,sample_dat6))\n",
    "statistics,p_value=stats.ttest_ind(sample_dat5,sample_dat6)\n",
    "print('**Reject:**', p_value <= alpha)\n",
    "                         "
   ]
  },
  {
   "cell_type": "markdown",
   "id": "61bcfee4-4d0e-4dac-bf6a-21c72ca42186",
   "metadata": {},
   "source": [
    "Der Mehrfachvergleich ergibt für `sample_dat4-sample_dat5` keine signifikanten Unterschiede bei $\\alpha = 0,05$"
   ]
  },
  {
   "cell_type": "markdown",
   "id": "d39f4246-1403-4d01-80f7-b1826102471d",
   "metadata": {},
   "source": [
    "**2.**\n",
    "\n",
    "Die Bonferroni Korrektur ergibt sich zu:\n",
    "\n",
    "$$\\alpha = \\frac{\\alpha}{m}\\text{,}$$\n",
    "\n",
    "$$m=\\frac{k(k-1)}{2}\\text{,}$$\n",
    "\n",
    "$$\\alpha = \\frac{0,05}{3}$$"
   ]
  },
  {
   "cell_type": "code",
   "execution_count": 30,
   "id": "fc6fd7f8-7bc2-4c67-911d-8da98721a728",
   "metadata": {},
   "outputs": [
    {
     "name": "stdout",
     "output_type": "stream",
     "text": [
      "Ttest_indResult(statistic=0.788554534390895, pvalue=0.43352954136077515)\n",
      "**Reject:** False\n",
      "Ttest_indResult(statistic=3.8609096740424635, pvalue=0.00029080993613885025)\n",
      "**Reject:** True\n",
      "Ttest_indResult(statistic=2.091914696306178, pvalue=0.041544968988810896)\n",
      "**Reject:** False\n"
     ]
    }
   ],
   "source": [
    "alpha = 0.05/3\n",
    "\n",
    "print(stats.ttest_ind(sample_dat4,sample_dat5))\n",
    "statistics,p_value=stats.ttest_ind(sample_dat4,sample_dat5)\n",
    "print('**Reject:**', p_value <= alpha)\n",
    "                         \n",
    "print(stats.ttest_ind(sample_dat4,sample_dat6))\n",
    "statistics,p_value=stats.ttest_ind(sample_dat4,sample_dat6)\n",
    "print('**Reject:**', p_value <= alpha)\n",
    "                         \n",
    "print(stats.ttest_ind(sample_dat5,sample_dat6))\n",
    "statistics,p_value=stats.ttest_ind(sample_dat5,sample_dat6)\n",
    "print('**Reject:**', p_value <= alpha)\n",
    "                         "
   ]
  },
  {
   "cell_type": "markdown",
   "id": "a1225d5a-abe6-4c00-9b24-78032619da2e",
   "metadata": {},
   "source": [
    "Der Mehrfachvergleich ergibt für `sample_dat4-sample_dat5` und `sample_dat5-sample_dat6` keine signifikanten Unterschiede bei Bonferroni korrigiertem $\\alpha_B = \\frac{0,05}{3}$."
   ]
  },
  {
   "cell_type": "code",
   "execution_count": null,
   "id": "0b6ce142-1742-452c-912d-b8b8c7353f71",
   "metadata": {},
   "outputs": [],
   "source": []
  }
 ],
 "metadata": {
  "kernelspec": {
   "display_name": "Python 3 (ipykernel)",
   "language": "python",
   "name": "python3"
  },
  "language_info": {
   "codemirror_mode": {
    "name": "ipython",
    "version": 3
   },
   "file_extension": ".py",
   "mimetype": "text/x-python",
   "name": "python",
   "nbconvert_exporter": "python",
   "pygments_lexer": "ipython3",
   "version": "3.10.2"
  }
 },
 "nbformat": 4,
 "nbformat_minor": 5
}
