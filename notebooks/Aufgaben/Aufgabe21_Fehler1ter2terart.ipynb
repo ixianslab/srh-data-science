{
 "cells": [
  {
   "cell_type": "markdown",
   "id": "99e6331a-270d-476e-8634-86407926a300",
   "metadata": {
    "tags": []
   },
   "source": [
    "-------------------------------------------------------\n",
    "-------------------------------------------------------\n",
    "### Kapitel 6\n",
    "### Aufgabenstellung 21 : Fehler $1$-ter und $2$-ter Art, Signifikanzniveau\n",
    "\n",
    "-------------------------------------------------------\n",
    "-------------------------------------------------------"
   ]
  },
  {
   "cell_type": "markdown",
   "id": "9b7393b1-5f51-4b19-8b40-021bd5926f8e",
   "metadata": {},
   "source": [
    "1. Erklären Sie was man unter Fehler $1$-ter und $2$-ter Art versteht.\n",
    "2. Warum kann man $\\alpha$ nicht beliebig genau wählen?\n",
    "3. Eine Maschine produziert im Schnitt $2 \\%$ Ausschuss. Unter $100$ Stück finden sich $5$ Defekte. Die Nullhypothese ist das die Maschine $2 \\%$ Ausschuss hat. Berechnen Sie Wahrscheinlichkeit des $\\alpha$-Fehlers (also bei $5$ Stück oder mehr Ausfällen fälschlicherweise die Nullhypothese abzulehnen) unter Annahme von binomialverteilten Abweichungen."
   ]
  },
  {
   "cell_type": "markdown",
   "id": "ed51cf8d-fcfb-487f-bbeb-d3387f78c387",
   "metadata": {},
   "source": [
    "-------------------------------------------------------"
   ]
  },
  {
   "cell_type": "markdown",
   "id": "b6e7c0ec-2770-4a49-996a-0c347604f01d",
   "metadata": {},
   "source": [
    "### Lösung"
   ]
  },
  {
   "cell_type": "markdown",
   "id": "29a59066-a873-4c5b-9609-5edf810fdb51",
   "metadata": {},
   "source": [
    "**1.**\n",
    "\n",
    "Der Fehler $1$-ter Art, der auch $\\alpha$-Fehler oder $\\alpha$ Signifikanzniveau genannt wird, kann als Wahrscheinlichkeit interpretiert werden die Nullhypothese $H_0$ fälschlicherweise abzulehnen. Meist wird bei Hypothesentests ein Signifikanzniveau von $\\alpha = 0,05$ oder $\\alpha = 0,01$ gewählt.\n",
    " \n",
    "Der Fehler $2$-ter Art oder $\\beta$-Fehler wird begangen, wenn die Alternativhypothese $H_0$ fälschlicherweise abgelehnt wird."
   ]
  },
  {
   "cell_type": "markdown",
   "id": "9fb2fba5-117c-46ee-9e7e-7cd4f0359cc0",
   "metadata": {},
   "source": [
    "**2.** \n",
    "\n",
    "Der $\\alpha$-Fehler kann nicht beliebig genau gewählt werden, weil die Wahrscheinlichkeit einen Fehler $2$-ter Art zu begehen damit zunimmt. Für die meisten Experimente ist $\\alpha = 0,05$ ein geeigneter Wert um Fehler der $1$-ten und $2$-ten Art zu minimieren."
   ]
  },
  {
   "cell_type": "markdown",
   "id": "b675b326-71e0-4e37-859f-be70a145cb8d",
   "metadata": {},
   "source": [
    "**3.**\n",
    "\n",
    "Wir können den $\\alpha$-Fehler entweder direkt ($X \\le 95$) berechen:"
   ]
  },
  {
   "cell_type": "code",
   "execution_count": 10,
   "id": "5c158535-9c08-4fcd-b7cd-a85304340e9e",
   "metadata": {},
   "outputs": [
    {
     "name": "stdout",
     "output_type": "stream",
     "text": [
      "Die Wahrscheinlichkeit einen Fehler 1ter Art zu begehen ist 0.05083044536950047\n"
     ]
    }
   ],
   "source": [
    "import math\n",
    "\n",
    "n = 100\n",
    "p = 0.98\n",
    "\n",
    "prob_total =  0\n",
    "for i in range(0,96):\n",
    "    prob = math.comb(n,i)*p**(i)*(1-p)**(n-i)\n",
    "    prob_total += prob\n",
    "    \n",
    "print('Die Wahrscheinlichkeit einen Fehler 1ter Art zu begehen ist',prob_total)"
   ]
  },
  {
   "cell_type": "markdown",
   "id": "548d5b33-4f33-4570-bffd-9bb6d9aa8414",
   "metadata": {},
   "source": [
    "oder über die Gegenwahrscheinlichkeit ($X \\lt 5$)"
   ]
  },
  {
   "cell_type": "code",
   "execution_count": 14,
   "id": "abf62de1-43b0-49f3-9d1c-620dea23c747",
   "metadata": {},
   "outputs": [
    {
     "name": "stdout",
     "output_type": "stream",
     "text": [
      "Die Wahrscheinlichkeit einen Fehler 1ter Art zu begehen ist 0.050830445369501875\n"
     ]
    }
   ],
   "source": [
    "n = 100\n",
    "p = 0.02\n",
    "\n",
    "prob_total =  0\n",
    "for i in range(0,5):\n",
    "    prob = math.comb(n,i)*p**(i)*(1-p)**(n-i)\n",
    "    prob_total += prob\n",
    "    \n",
    "print('Die Wahrscheinlichkeit einen Fehler 1ter Art zu begehen ist',1-prob_total)"
   ]
  },
  {
   "cell_type": "code",
   "execution_count": null,
   "id": "13a2213a-0789-4ec3-ae98-f58a869f81f0",
   "metadata": {},
   "outputs": [],
   "source": []
  }
 ],
 "metadata": {
  "kernelspec": {
   "display_name": "Python 3 (ipykernel)",
   "language": "python",
   "name": "python3"
  },
  "language_info": {
   "codemirror_mode": {
    "name": "ipython",
    "version": 3
   },
   "file_extension": ".py",
   "mimetype": "text/x-python",
   "name": "python",
   "nbconvert_exporter": "python",
   "pygments_lexer": "ipython3",
   "version": "3.10.9"
  }
 },
 "nbformat": 4,
 "nbformat_minor": 5
}
