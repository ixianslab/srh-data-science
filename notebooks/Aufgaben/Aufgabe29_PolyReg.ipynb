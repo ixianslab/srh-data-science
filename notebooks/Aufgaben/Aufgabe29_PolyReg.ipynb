{
 "cells": [
  {
   "cell_type": "markdown",
   "id": "d2ddaca2-4861-4e5c-b5af-34d445af253d",
   "metadata": {},
   "source": [
    "-------------------------------------------------------\n",
    "-------------------------------------------------------\n",
    "### Kapitel 8\n",
    "### Aufgabenstellung 29 : Polynomiale Regression\n",
    "\n",
    "-------------------------------------------------------\n",
    "-------------------------------------------------------"
   ]
  },
  {
   "cell_type": "markdown",
   "id": "b1fe0bbf-5d84-4fcf-bff2-3a2946610b20",
   "metadata": {},
   "source": [
    "Führen Sie eine polynomiale Regression $2$-ten Grades für die folgenden Daten (`dat_x,dat_y`) durch:"
   ]
  },
  {
   "cell_type": "code",
   "execution_count": 41,
   "id": "00560225-94b2-4563-9671-42caad1aef56",
   "metadata": {},
   "outputs": [],
   "source": [
    "dat_x = np.array([0,  1,  2,  3,  4,  5,  6,   7,   8,   9,   10])\n",
    "dat_y = np.array([1,  6,  17, 34, 57, 86, 121, 162, 209, 262, 321])"
   ]
  },
  {
   "cell_type": "markdown",
   "id": "6e621268-67b6-4bc4-8ab8-5831a14ce13c",
   "metadata": {},
   "source": [
    "und stellen Sie die Regressionsgerade und die Daten graphisch dar."
   ]
  },
  {
   "cell_type": "markdown",
   "id": "c5f6a9af-770b-421a-9e84-edecd48d6654",
   "metadata": {},
   "source": [
    "-------------------------------------------------------"
   ]
  },
  {
   "cell_type": "markdown",
   "id": "62a4e596-8397-4a3f-a108-b286453fb3dd",
   "metadata": {},
   "source": [
    "### Lösung"
   ]
  },
  {
   "cell_type": "code",
   "execution_count": 42,
   "id": "8c440577-76f4-4d03-bae8-28d556520cc9",
   "metadata": {},
   "outputs": [],
   "source": [
    "import matplotlib.pyplot as plt\n",
    "import numpy as np\n",
    "from sklearn.linear_model import LinearRegression\n",
    "from sklearn.preprocessing import PolynomialFeatures\n",
    "import statsmodels.api as sm"
   ]
  },
  {
   "cell_type": "code",
   "execution_count": 43,
   "id": "15515091-cc89-442b-92ff-492235a8bf76",
   "metadata": {},
   "outputs": [
    {
     "data": {
      "image/png": "[encoded data removed]",
      "text/plain": [
       "<Figure size 432x288 with 1 Axes>"
      ]
     },
     "metadata": {
      "needs_background": "light"
     },
     "output_type": "display_data"
    }
   ],
   "source": [
    "X = dat_x.reshape(-1,1)\n",
    "y = dat_y.reshape(-1,1)\n",
    "\n",
    "\n",
    "# Polynomial Fit\n",
    "poly = PolynomialFeatures(degree=2)\n",
    "X_2 = poly.fit_transform(X)\n",
    "\n",
    "model = LinearRegression()\n",
    "model.fit(X_2, y)\n",
    "\n",
    "X_predict_reg_line = poly.transform(np.linspace(0,10, 25).reshape(-1,1))\n",
    "y_reg_line = model.predict(X_predict_reg_line)\n",
    "\n",
    "fig, ax = plt.subplots()\n",
    "ax.plot(np.linspace(0,10, 25), y_reg_line, label='Regressionlinie')\n",
    "ax.scatter(x=X, y=y,\n",
    "           alpha=0.5,  color=\"white\", edgecolor = 'k', label='Beobachtungen')\n",
    "\n",
    "ax.legend();"
   ]
  },
  {
   "cell_type": "code",
   "execution_count": null,
   "id": "aa9d387f-58c4-4a9f-9b30-da433ec531aa",
   "metadata": {},
   "outputs": [],
   "source": []
  }
 ],
 "metadata": {
  "kernelspec": {
   "display_name": "Python 3 (ipykernel)",
   "language": "python",
   "name": "python3"
  },
  "language_info": {
   "codemirror_mode": {
    "name": "ipython",
    "version": 3
   },
   "file_extension": ".py",
   "mimetype": "text/x-python",
   "name": "python",
   "nbconvert_exporter": "python",
   "pygments_lexer": "ipython3",
   "version": "3.10.9"
  }
 },
 "nbformat": 4,
 "nbformat_minor": 5
}
