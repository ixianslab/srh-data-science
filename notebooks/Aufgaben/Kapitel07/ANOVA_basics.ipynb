{
 "cells": [
  {
   "cell_type": "markdown",
   "id": "80f925e9-b53b-44f7-ad40-ca805c67619b",
   "metadata": {},
   "source": [
    "# Einfaktorielle ANOVA Grundbegriffe"
   ]
  },
  {
   "cell_type": "markdown",
   "id": "21058bae-c31f-4c38-8f1e-345917c7d5ab",
   "metadata": {},
   "source": [
    "Beschreiben Sie die Grundlagen der einfaktoriellen ANOVA.\n",
    "\n",
    "1. Wonach kann mittels ANOVA getestet werden? Nennen Sie mögliche praktische Anwendungen in der Wissenschaft.\n",
    "2. Welche Bedingungen müssen für das Durchführen einer ANOVA gegeben sein?\n",
    "3. Was sind die Einschränkungungen einer ANOVA?"
   ]
  },
  {
   "cell_type": "markdown",
   "id": "4d8eb2ae-d486-4434-ada5-5a8704086e70",
   "metadata": {},
   "source": [
    "-------------------------------------------------------"
   ]
  },
  {
   "cell_type": "markdown",
   "id": "64772c1c-edfe-4ff1-892a-3229d2bfb5f7",
   "metadata": {},
   "source": [
    "## Lösungen"
   ]
  },
  {
   "cell_type": "markdown",
   "id": "a67cb023-32be-454d-a403-a88f451b3ff6",
   "metadata": {
    "tags": []
   },
   "source": [
    "```{toggle}\n",
    "- Es kann einerseits darauf getestet werden ob drei oder mehr Gruppen sich in einem Grundgesamtheitsparameter unterscheiden. Man misst dieselbe abhängige Variable für unterschiedliche unabhängige Gruppen und überprüft, anhand des mittels $F$-Teststatistik errechneten $p$-Werts, ob sich mindestens eine dieser Gruppen statistisch voneinander unterscheiden.\n",
    "\n",
    "- Mögliche Anwendungen für ANOVA sind Experimente mit Test- und Kontrollgruppen mit der Zielsetzung zu überprüfen ob ein Effekt in der Testgruppe eintritt. Dieses Versuchsdesign findet sich in vielen verschiedenen Bereichen wieder, vor allem aber in der Experimentalpsychologie, Wirtschaftswissenschaften und Medizin.\n",
    "```"
   ]
  },
  {
   "cell_type": "markdown",
   "id": "f77bd120-e431-4e3c-9877-0b2f2af47b46",
   "metadata": {
    "tags": []
   },
   "source": [
    "```{toggle}\n",
    "Folgende Bedingungen müssen für die ANOVA erfüllt sein:\n",
    "\n",
    "1. Die abhängige Variable (Zielgröße) muß metrisch skalieren.\n",
    "2. Die Zielgröße der Grundgesamtheit sollte ungefähr normalverteilt sein.\n",
    "3. Die Aufteilung in Gruppen durch mindestens eine unabhängige Variable (Faktor) muß möglich sein. \n",
    "4. Die Vergleichsgruppen müssen unabhängige Zufallsstichproben sein.\n",
    "5. Die Vergleichsgruppen sollten in etwa gleiche Varianzen haben.\n",
    "\n",
    "({cite:p}`fahrmeirstatistik` s.485)\n",
    "```"
   ]
  },
  {
   "cell_type": "markdown",
   "id": "0e3ee363-cf36-4e67-9848-dcbfa05747e4",
   "metadata": {
    "tags": []
   },
   "source": [
    "```{toggle}\n",
    "Die einfaktorielle ANOVA ist ein Omnibus-Verfahren. Daher kann der errechnete $p$-Wert nur aussagen ob sich eine oder mehrere der Gruppen statistisch signifikant von den anderen unterscheiden, aber nicht welche Gruppen.\n",
    "```"
   ]
  }
 ],
 "metadata": {
  "kernelspec": {
   "display_name": "Python 3 (ipykernel)",
   "language": "python",
   "name": "python3"
  },
  "language_info": {
   "codemirror_mode": {
    "name": "ipython",
    "version": 3
   },
   "file_extension": ".py",
   "mimetype": "text/x-python",
   "name": "python",
   "nbconvert_exporter": "python",
   "pygments_lexer": "ipython3",
   "version": "3.10.9"
  }
 },
 "nbformat": 4,
 "nbformat_minor": 5
}
