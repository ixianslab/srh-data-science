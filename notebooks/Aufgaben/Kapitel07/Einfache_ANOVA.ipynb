{
 "cells": [
  {
   "cell_type": "code",
   "execution_count": 1,
   "id": "f53c2aa8-a31a-4513-a02d-d4f23c190089",
   "metadata": {
    "tags": [
     "remove-cell"
    ]
   },
   "outputs": [
    {
     "name": "stdout",
     "output_type": "stream",
     "text": [
      "\n",
      "---------------------------------\n",
      "Working on the host: imarevic-pc\n",
      "\n",
      "---------------------------------\n",
      "Python version: 3.10.9 | packaged by conda-forge | (main, Feb  2 2023, 20:20:04) [GCC 11.3.0]\n",
      "\n",
      "---------------------------------\n",
      "Python interpreter: /home/imarevic/anaconda3/envs/srh/bin/python3.10\n"
     ]
    }
   ],
   "source": [
    "%matplotlib inline\n",
    "# Load the \"autoreload\" extension\n",
    "%load_ext autoreload\n",
    "# always reload modules\n",
    "%autoreload 2\n",
    "# black formatter for jupyter notebooks\n",
    "# %load_ext nb_black\n",
    "# black formatter for jupyter lab\n",
    "%load_ext lab_black\n",
    "\n",
    "%run ../../../src/notebook_env.py"
   ]
  },
  {
   "cell_type": "markdown",
   "id": "0fbe1133-72cb-49ee-ae48-5ec347a40ae8",
   "metadata": {
    "tags": []
   },
   "source": [
    "# Einfaktorielle ANOVA"
   ]
  },
  {
   "cell_type": "code",
   "execution_count": 2,
   "id": "234f22cd-12f5-4f3e-90e2-226e89a6dd12",
   "metadata": {},
   "outputs": [],
   "source": [
    "import matplotlib.pyplot as plt\n",
    "import numpy as np\n",
    "from numpy.random import seed\n",
    "from numpy.random import normal\n",
    "\n",
    "import pylab\n",
    "from scipy.stats import t\n",
    "\n",
    "from scipy.stats import uniform\n",
    "from scipy import stats\n",
    "from scipy.stats import f_oneway"
   ]
  },
  {
   "cell_type": "markdown",
   "id": "2ed40672-912f-47ea-b9b2-7574ca37a90e",
   "metadata": {},
   "source": [
    "1. Führen Sie jeweils eine schrittweise einfaktorielle Varianzanalyse für die folgenden Daten durch:\n",
    "* `sample_dat1`\n",
    "* `sample_dat2`\n",
    "* `sample_dat3`\n",
    "* `sample_dat4`\n",
    "* `sample_dat5`\n",
    "* `sample_dat6`"
   ]
  },
  {
   "cell_type": "markdown",
   "id": "16ae87da-02db-4f04-bc61-6361473c15f4",
   "metadata": {},
   "source": [
    "\\begin{array}{l}\n",
    "\\hline\n",
    "\\ \\text{Schritt 1}  & \\text{Geben Sie die Nullhypothese } H_0 \\text{ und alternative Hypothese } H_A \\text{ an.}\\\\\n",
    "\\ \\text{Schritt 2}  & \\text{Legen Sie das Signifikanzniveau, } \\alpha\\text{ fest.} \\\\\n",
    "\\ \\text{Schritt 3}  & \\text{Berechnen Sie den Wert der Teststatistik.} \\\\\n",
    "\\ \\text{Schritt 4} &\\text{Bestimmen Sie den p-Wert.} \\\\\n",
    "\\ \\text{Schritt 5} & \\text{Wenn }p\\le \\alpha \\text{, } H_0 \\text{ ablehnen } \\text{; ansonsten } H_0 \\text{ nicht ablehnen} \\text{.} \\\\\n",
    "\\ \\text{Schritt 6} &\\text{Interpretieren Sie das Ergebnis des Hypothesentests.} \\\\\n",
    "\\hline \n",
    "\\end{array}"
   ]
  },
  {
   "cell_type": "markdown",
   "id": "53192951-4c8f-41aa-ab44-cad66d3938c6",
   "metadata": {},
   "source": [
    "\n",
    "\n",
    "- Benutzen Sie für Schritte $3$ und $4$ die Funktion `f_oneway()` die Sie mit `from scipy.stats import f_oneway` importieren können \n",
    "\n",
    "2. Interpretieren Sie das Ergebnis"
   ]
  },
  {
   "cell_type": "code",
   "execution_count": 2,
   "id": "bcd6e018-e591-48bd-82cc-03d445a5cfdf",
   "metadata": {
    "tags": []
   },
   "outputs": [],
   "source": [
    "from scipy.stats import norm, t\n",
    "\n",
    "rs = 1\n",
    "sample_dat1 = norm.rvs(loc=0, scale=1, size=25, random_state=rs)\n",
    "sample_dat2 = norm.rvs(loc=0.01, scale=1.1, size=30, random_state=rs)\n",
    "sample_dat3 = norm.rvs(loc=-0.01, scale=1.1, size=28, random_state=rs)\n",
    "sample_dat4 = t.rvs(df=33, loc=0.8, scale=0.8, size=34, random_state=rs)\n",
    "sample_dat5 = t.rvs(df=26, loc=0.5, scale=1.22, size=27, random_state=rs)\n",
    "sample_dat6 = norm.rvs(loc=0, scale=1, size=25, random_state=rs)"
   ]
  },
  {
   "cell_type": "markdown",
   "id": "889cd3e7-dba7-41f2-830b-d5635937ae81",
   "metadata": {},
   "source": [
    "-------------------------------------------------------"
   ]
  },
  {
   "cell_type": "code",
   "execution_count": 3,
   "id": "2b37766f-dbfb-4879-b146-dcc35ba7f328",
   "metadata": {},
   "outputs": [],
   "source": [
    "# Frage 1 ..."
   ]
  },
  {
   "cell_type": "markdown",
   "id": "13e9861d-f5a0-4fbe-9a42-4ec07fcde9c6",
   "metadata": {},
   "source": [
    "## Lösungen"
   ]
  },
  {
   "cell_type": "code",
   "execution_count": 4,
   "id": "344c4697-5c0d-4a64-8c09-ea7cef5cb5e0",
   "metadata": {
    "tags": [
     "hide-cell"
    ]
   },
   "outputs": [
    {
     "name": "stdout",
     "output_type": "stream",
     "text": [
      "Wert der F-Statistik: 5.127927927390613\n",
      "p-Wert: 0.00021443138104738042\n"
     ]
    },
    {
     "data": {
      "text/plain": [
       "True"
      ]
     },
     "execution_count": 4,
     "metadata": {},
     "output_type": "execute_result"
    }
   ],
   "source": [
    "from scipy.stats import f_oneway\n",
    "\n",
    "alpha = 0.01\n",
    "statistics, pvalue = f_oneway(\n",
    "    sample_dat1, sample_dat2, sample_dat3, sample_dat4, sample_dat5, sample_dat6\n",
    ")\n",
    "\n",
    "print(f\"Wert der F-Statistik: {statistics}\")\n",
    "print(f\"p-Wert: {pvalue}\")\n",
    "\n",
    "pvalue < alpha"
   ]
  },
  {
   "cell_type": "markdown",
   "id": "3eed4309-73f0-47ec-9827-ab654fb23199",
   "metadata": {
    "tags": []
   },
   "source": [
    "```{toggle}\n",
    "Basierend auf den vorliegenden Daten zeigt die ANOVA einen signifikanten Unterschied zwischen den Datensätzen. Wir verwerfen also die Null-Hypothese.\n",
    "```"
   ]
  }
 ],
 "metadata": {
  "kernelspec": {
   "display_name": "Python 3 (ipykernel)",
   "language": "python",
   "name": "python3"
  },
  "language_info": {
   "codemirror_mode": {
    "name": "ipython",
    "version": 3
   },
   "file_extension": ".py",
   "mimetype": "text/x-python",
   "name": "python",
   "nbconvert_exporter": "python",
   "pygments_lexer": "ipython3",
   "version": "3.10.9"
  }
 },
 "nbformat": 4,
 "nbformat_minor": 5
}
