{
 "cells": [
  {
   "cell_type": "code",
   "execution_count": 1,
   "id": "757e0b7b-17cb-4a3a-866a-ad80bf4f140d",
   "metadata": {
    "tags": [
     "remove-cell"
    ]
   },
   "outputs": [
    {
     "name": "stdout",
     "output_type": "stream",
     "text": [
      "\n",
      "---------------------------------\n",
      "Working on the host: imarevic-pc\n",
      "\n",
      "---------------------------------\n",
      "Python version: 3.10.9 | packaged by conda-forge | (main, Feb  2 2023, 20:20:04) [GCC 11.3.0]\n",
      "\n",
      "---------------------------------\n",
      "Python interpreter: /home/imarevic/anaconda3/envs/srh/bin/python3.10\n"
     ]
    }
   ],
   "source": [
    "%matplotlib inline\n",
    "# Load the \"autoreload\" extension\n",
    "%load_ext autoreload\n",
    "# always reload modules\n",
    "%autoreload 2\n",
    "# black formatter for jupyter notebooks\n",
    "# %load_ext nb_black\n",
    "# black formatter for jupyter lab\n",
    "%load_ext lab_black\n",
    "\n",
    "%run ../../../src/notebook_env.py"
   ]
  },
  {
   "cell_type": "markdown",
   "id": "0fbe1133-72cb-49ee-ae48-5ec347a40ae8",
   "metadata": {
    "tags": []
   },
   "source": [
    "# Bonferroni Korrektur"
   ]
  },
  {
   "cell_type": "markdown",
   "id": "abb8c9f1-fe6a-4deb-8896-21bd78287235",
   "metadata": {},
   "source": [
    "1. Führen Sie einen post-hoc Mehrfachhypothesentests mit den Datensätzen `sample_dat1`, `sample_dat2` und `sample_dat3` durch um zu bestimmen welcher Datensatz sich von den anderen unterscheidet. Berechnen Sie hierfür die Bonferroni Korrektur bei einen $\\alpha=0.05$.\n",
    "Die Bonferroni Korrektur ergibt sich zu:\n",
    "\n",
    "$$\\alpha = \\frac{\\alpha}{m}\\text{,}$$\n",
    "\n",
    "$$m=\\frac{k(k-1)}{2}\\text{,}$$\n",
    "\n",
    "$$\\alpha = \\frac{0,05}{3}$$\n",
    "\n",
    "2. Interpretieren Sie das Ergebnos"
   ]
  },
  {
   "cell_type": "code",
   "execution_count": 4,
   "id": "6d9679de-cb82-4120-b629-a513abed9654",
   "metadata": {},
   "outputs": [],
   "source": [
    "from scipy.stats import norm, t\n",
    "\n",
    "rs = 1\n",
    "sample_dat1 = t.rvs(df=33, loc=0.8, scale=0.8, size=34, random_state=rs)\n",
    "sample_dat2 = t.rvs(df=26, loc=0.5, scale=1.22, size=27, random_state=rs)\n",
    "sample_dat3 = norm.rvs(loc=0, scale=1, size=25, random_state=rs)"
   ]
  },
  {
   "cell_type": "markdown",
   "id": "43c0dae2-b0eb-4fbd-9d31-57c9b01c875c",
   "metadata": {},
   "source": [
    "-------------------------------------------------------"
   ]
  },
  {
   "cell_type": "code",
   "execution_count": null,
   "id": "c5184c34-9136-49eb-b739-fb76da2aad82",
   "metadata": {},
   "outputs": [],
   "source": [
    "# Frage 1 ..."
   ]
  },
  {
   "cell_type": "markdown",
   "id": "33b5c6cb-7b4a-47ac-b191-e54527ace8a0",
   "metadata": {},
   "source": [
    "## Lösungen"
   ]
  },
  {
   "cell_type": "code",
   "execution_count": 5,
   "id": "3aa702bd-9ee3-47fe-ada3-89fcdc9ffdf1",
   "metadata": {
    "tags": [
     "hide-cell"
    ]
   },
   "outputs": [
    {
     "name": "stdout",
     "output_type": "stream",
     "text": [
      "Bonferroni Korrektur: 0.016666666666666666\n",
      "Reject H0: False\n",
      "Reject H0: True\n",
      "Reject H0: False\n"
     ]
    }
   ],
   "source": [
    "from scipy.stats import ttest_ind\n",
    "\n",
    "alpha = 0.05\n",
    "k = 3\n",
    "m = k * (k - 1) / 2\n",
    "bonf = alpha / m\n",
    "print(f\"Bonferroni Korrektur: {bonf}\")\n",
    "\n",
    "combinations = [\n",
    "    (sample_dat1, sample_dat2),\n",
    "    (sample_dat1, sample_dat3),\n",
    "    (sample_dat2, sample_dat3),\n",
    "]\n",
    "\n",
    "for combination in combinations:\n",
    "    statistics, p_value = ttest_ind(combination[0], combination[1])\n",
    "    print(f\"Reject H0: {p_value <= bonf}\")"
   ]
  },
  {
   "cell_type": "markdown",
   "id": "f0356713-ef8c-4f32-95b1-b2088f54276d",
   "metadata": {
    "tags": []
   },
   "source": [
    "```{toggle}\n",
    "Der Mehrfachvergleich ergibt für `sample_dat1` und `sample_dat3` einen signifikanten Unterschiede bei Bonferroni korrigiertem $\\alpha_B = \\frac{0,05}{3}$.\n",
    "```"
   ]
  }
 ],
 "metadata": {
  "kernelspec": {
   "display_name": "Python 3 (ipykernel)",
   "language": "python",
   "name": "python3"
  },
  "language_info": {
   "codemirror_mode": {
    "name": "ipython",
    "version": 3
   },
   "file_extension": ".py",
   "mimetype": "text/x-python",
   "name": "python",
   "nbconvert_exporter": "python",
   "pygments_lexer": "ipython3",
   "version": "3.10.9"
  }
 },
 "nbformat": 4,
 "nbformat_minor": 5
}
