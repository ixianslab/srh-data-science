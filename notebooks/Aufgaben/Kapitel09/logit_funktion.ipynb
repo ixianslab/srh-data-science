{
 "cells": [
  {
   "cell_type": "markdown",
   "id": "a08051dd-0350-4554-8893-28e37407028e",
   "metadata": {},
   "source": [
    "# Logistische Funktion"
   ]
  },
  {
   "cell_type": "markdown",
   "id": "68f51b5d-a6e6-4199-8fc2-a69ebc43d037",
   "metadata": {},
   "source": [
    "1. Zeigen Sie dass die logistische Funktion $logit^{-1}(\\eta) = \\frac{e^{\\eta}}{1+e^{\\eta}}$ die inverse Funktion zur $logit$-Funktion $\\eta = logit(\\pi) = log \\left( \\frac{\\pi}{1-\\pi}\\right)$ ist."
   ]
  },
  {
   "cell_type": "markdown",
   "id": "98f0d8e7-ce42-4627-8628-8aaa1f1f906f",
   "metadata": {},
   "source": [
    "-------------------------------------------------------"
   ]
  },
  {
   "cell_type": "markdown",
   "id": "0dc6f455-1af1-454a-b8f3-f8aeefbd1df2",
   "metadata": {
    "tags": []
   },
   "source": [
    "## Lösungen"
   ]
  },
  {
   "cell_type": "markdown",
   "id": "68cd3bbf-f49b-44f5-a6ad-f2cbaacbc715",
   "metadata": {
    "tags": []
   },
   "source": [
    "```{toggle}\n",
    "* logistische Funktion umwandeln\n",
    "\n",
    "$$\\frac{e^{\\eta}}{1+e^{\\eta}} = \\frac{e^{\\eta}}{e^{\\eta}}\\frac{1}{e^{-\\eta}+1} = \\frac{1}{e^{-\\eta}+1}$$\n",
    "\n",
    "* Logit Funktion in logistische Funktion einsetzen\n",
    "\n",
    "$$logit^{-1}(logit(\\pi)) = logit^{-1}(log \\left( \\frac{\\pi}{1-\\pi}\\right))) = $$\n",
    "$$ = \\frac{1}{1+e^{-log \\left( \\frac{\\pi}{1-\\pi}\\right)}} = \\frac{1}{1+\\frac{1}{\\left( \\frac{\\pi}{1-\\pi}\\right)}} =$$\n",
    "$$ = \\frac{1}{1+\\frac{1 - \\pi}{\\pi}} = \\frac{1}{\\frac{\\pi + 1 - \\pi}{\\pi}} = \\pi$$\n",
    "```"
   ]
  }
 ],
 "metadata": {
  "kernelspec": {
   "display_name": "Python 3 (ipykernel)",
   "language": "python",
   "name": "python3"
  },
  "language_info": {
   "codemirror_mode": {
    "name": "ipython",
    "version": 3
   },
   "file_extension": ".py",
   "mimetype": "text/x-python",
   "name": "python",
   "nbconvert_exporter": "python",
   "pygments_lexer": "ipython3",
   "version": "3.10.9"
  }
 },
 "nbformat": 4,
 "nbformat_minor": 5
}
