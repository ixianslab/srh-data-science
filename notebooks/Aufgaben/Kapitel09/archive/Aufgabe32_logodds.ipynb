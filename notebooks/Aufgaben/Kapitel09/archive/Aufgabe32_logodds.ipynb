{
 "cells": [
  {
   "cell_type": "markdown",
   "id": "19a64eac-207f-4951-8252-c1fc02958735",
   "metadata": {},
   "source": [
    "-------------------------------------------------------\n",
    "-------------------------------------------------------\n",
    "### Kapitel 9\n",
    "### Aufgabenstellung 32 : Odds und Log-Odds\n",
    "\n",
    "-------------------------------------------------------\n",
    "-------------------------------------------------------"
   ]
  },
  {
   "cell_type": "markdown",
   "id": "05d0b721-28dd-4d97-b256-326221eafd7c",
   "metadata": {},
   "source": [
    "Zeigen Sie, dass wenn die Odds und das einfache (binomiale) logistische Regressionsmodell ($\\pi$) gegeben sind durch:\n",
    "\n",
    "$$\\text{Odds} = \\frac{\\pi}{1-\\pi}$$ \n",
    " \n",
    "$$\\pi = \\frac{1}{1+e^{-\\eta}} = \\frac{1}{1+e^{-(\\beta_0+ \\beta_1x_1)}}$$\n",
    "\n",
    "die Log-Odds gleich \n",
    "$$\\text{Log-Odds} =\\log \\biggl( \\frac{\\pi}{1-\\pi} \\biggr)= \\beta_0+ \\beta_1x_1$$ sind."
   ]
  },
  {
   "cell_type": "markdown",
   "id": "326f690d-3147-4c46-b0c1-40979f27760b",
   "metadata": {},
   "source": [
    "-------------------------------------------------------"
   ]
  },
  {
   "cell_type": "markdown",
   "id": "3d6aed3a-b0c8-45b8-8e06-fc2e4e4551da",
   "metadata": {},
   "source": [
    "### Lösung"
   ]
  },
  {
   "cell_type": "markdown",
   "id": "b697e6ed-69bf-4c40-a50c-ad142253dcc8",
   "metadata": {},
   "source": [
    "Wir setzen das logische Regressionsmodell in die Odds ein:\n",
    "\n",
    "$$ \\frac{\\pi}{1-\\pi} = \\frac{(1+e^{-(\\beta_0 + \\beta_1 x_1)})^{-1}}{1-(1+e^{-(\\beta_0 + \\beta_1 x_1)})^{-1}} = $$\n",
    "\n",
    "$$= \\frac{1}{1+e^{-(\\beta_0 + \\beta_1 x_1)}-1} = e^{(\\beta_0 + \\beta_1 x_1)}$$\n",
    "\n",
    "$$\\log \\left( \\frac{\\pi}{1-\\pi}\\right) = \\log (e^{(\\beta_0 + \\beta_1 x_1)}) = \\beta_0 + \\beta_1 x_1 $$"
   ]
  },
  {
   "cell_type": "code",
   "execution_count": null,
   "id": "306cca86-cc4a-4a31-a028-946c917d4c33",
   "metadata": {},
   "outputs": [],
   "source": []
  },
  {
   "cell_type": "code",
   "execution_count": null,
   "id": "275b614b-283a-401d-88c8-b8238be1257c",
   "metadata": {},
   "outputs": [],
   "source": []
  }
 ],
 "metadata": {
  "kernelspec": {
   "display_name": "Python 3 (ipykernel)",
   "language": "python",
   "name": "python3"
  },
  "language_info": {
   "codemirror_mode": {
    "name": "ipython",
    "version": 3
   },
   "file_extension": ".py",
   "mimetype": "text/x-python",
   "name": "python",
   "nbconvert_exporter": "python",
   "pygments_lexer": "ipython3",
   "version": "3.10.9"
  }
 },
 "nbformat": 4,
 "nbformat_minor": 5
}
