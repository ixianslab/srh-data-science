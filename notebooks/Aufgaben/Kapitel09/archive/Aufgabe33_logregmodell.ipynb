{
 "cells": [
  {
   "cell_type": "markdown",
   "id": "9d2c5302-7628-4ea7-8859-0cddde4a10ef",
   "metadata": {},
   "source": [
    "-------------------------------------------------------\n",
    "-------------------------------------------------------\n",
    "### Kapitel 9\n",
    "### Aufgabenstellung 33 : Einfaches logistisches Regressionsmodell\n",
    "\n",
    "-------------------------------------------------------\n",
    "-------------------------------------------------------"
   ]
  },
  {
   "cell_type": "markdown",
   "id": "129a738f-810f-4aba-977b-5f5d080151a7",
   "metadata": {},
   "source": [
    "Erstellen Sie ein einfaches logistische Regressionsmodell für die folgenden Daten in Python.\n",
    "\n",
    "`x = [29,15,33,28,39,44,31,19,9,24,32,31,37,35]` und\n",
    "`y = [0,0,1,1,1,1,1,0,1,0,0,0,1,1]`\n",
    "und stellen Sie das logistische Modell graphisch dar."
   ]
  },
  {
   "cell_type": "markdown",
   "id": "9a6bfc4c-3b08-49ae-952d-fc92abf8e7d7",
   "metadata": {},
   "source": [
    "-------------------------------------------------------"
   ]
  },
  {
   "cell_type": "markdown",
   "id": "f866b83b-fea8-4fda-89af-edacb69f42b7",
   "metadata": {},
   "source": [
    "### Lösung"
   ]
  },
  {
   "cell_type": "code",
   "execution_count": 28,
   "id": "f102ac43-3636-4a88-be10-818edacd2f22",
   "metadata": {},
   "outputs": [],
   "source": [
    "import math\n",
    "import matplotlib.pyplot as plt\n",
    "import numpy as np\n",
    "import pandas as pd\n",
    "import statsmodels.api as sm\n",
    "import statsmodels.formula.api as smf\n",
    "from statsmodels.formula.api import glm"
   ]
  },
  {
   "cell_type": "code",
   "execution_count": 44,
   "id": "1877d6ac-6008-4fef-84c8-727cab9bc9c5",
   "metadata": {},
   "outputs": [],
   "source": [
    "x = [29,15,33,28,39,44,31,19,9,24,32,31,37,35,8,4,11,12,33,45,20,25,27,26,29]\n",
    "y = [0,0,1,1,1,1,1,0,1,0,0,0,1,1,0,0,0,0,1,1,0,1,1,1,1]"
   ]
  },
  {
   "cell_type": "code",
   "execution_count": 45,
   "id": "0c0173f6-8bfd-4ac4-8dc6-1915fd6f15b8",
   "metadata": {},
   "outputs": [
    {
     "data": {
      "image/png": "[encoded data removed]",
      "text/plain": [
       "<Figure size 432x288 with 1 Axes>"
      ]
     },
     "metadata": {
      "needs_background": "light"
     },
     "output_type": "display_data"
    }
   ],
   "source": [
    "# Erstelle x-Achse für Vorhersagen\n",
    "x_axis = np.linspace(min(x),max(x), num = 100)\n",
    "\n",
    "x2 = sm.add_constant(x)\n",
    "x_grid = x_axis\n",
    "x_axis = sm.add_constant(x_axis)\n",
    "\n",
    "log_model = sm.GLM(y, x2, family=sm.families.Binomial())\n",
    "log_results = log_model.fit()\n",
    "# Berechne Vorhersagen für x_axis\n",
    "predictions = log_results.get_prediction(exog = x_axis).summary_frame()\n",
    "\n",
    "# Formatiere Plots\n",
    "fig, ax = plt.subplots()\n",
    "ax.scatter(x,y)\n",
    "ax.plot(x_grid,predictions['mean'])\n",
    "\n",
    "#plt.grid()\n",
    "plt.xlabel(\"x\")\n",
    "plt.ylabel(\"Wahrscheinlichkeit\")\n",
    "plt.show()"
   ]
  },
  {
   "cell_type": "code",
   "execution_count": null,
   "id": "6494756b-9e68-48d8-a441-92a489b185ce",
   "metadata": {},
   "outputs": [],
   "source": []
  }
 ],
 "metadata": {
  "kernelspec": {
   "display_name": "Python 3 (ipykernel)",
   "language": "python",
   "name": "python3"
  },
  "language_info": {
   "codemirror_mode": {
    "name": "ipython",
    "version": 3
   },
   "file_extension": ".py",
   "mimetype": "text/x-python",
   "name": "python",
   "nbconvert_exporter": "python",
   "pygments_lexer": "ipython3",
   "version": "3.10.9"
  }
 },
 "nbformat": 4,
 "nbformat_minor": 5
}
