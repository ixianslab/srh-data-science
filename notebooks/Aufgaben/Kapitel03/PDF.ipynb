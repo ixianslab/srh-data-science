{
 "cells": [
  {
   "cell_type": "markdown",
   "id": "b1c138bf-63a4-4647-87d4-f07cf4f22bf9",
   "metadata": {},
   "source": [
    "# Wahrscheinlichkeitsdichtefunktion"
   ]
  },
  {
   "cell_type": "markdown",
   "id": "3447eba6-c1d2-4167-bcf9-7237cd5999ed",
   "metadata": {},
   "source": [
    "1. Nennen Sie die $3$ Haupteigenschaften von Wahrscheinlichkeitsdichtfunktionen (PDF).\n",
    "2. Wie kann das Flächenintegral über eine Wahrscheinlichkeitsdichtfunktion interpretiert werden?\n",
    "3. Mit welcher Python Funktion kann die Warscheinlichkeitsdichtefunkten der Normaverteilung bestimmt werden?"
   ]
  },
  {
   "cell_type": "markdown",
   "id": "8fed57fb-de0d-4332-8895-bc14db9a8b1a",
   "metadata": {},
   "source": [
    "-------------------------------------------------------"
   ]
  },
  {
   "cell_type": "markdown",
   "id": "db3f5874-1621-469d-bb7f-d7a04ed9c185",
   "metadata": {},
   "source": [
    "## Lösungen"
   ]
  },
  {
   "cell_type": "markdown",
   "id": "82dcb900-8fa4-4cff-a521-187b6000fe32",
   "metadata": {},
   "source": [
    "```{toggle}\n",
    "* Eine PDF wird immer auf oder über der horizontalen Achse gezeichnet\n",
    "* Die Gesamtfläche zwischen einer PDF und der horizontalen Achse ist gleich $1$ und somit liegt jeder Wert in jedem Teilintervall der PDF im Bereich von $0$ bis $1$\n",
    "* Alle möglichen Beobachtungen der Variablen, die innerhalb eines bestimmten Bereichs liegen, entsprechen der entsprechenden Fläche unter der Dichtefunktion und können als prozentueller Anteil ausgedrückt werden. \n",
    "\n",
    "({cite:p}`Papula2011` s.327)\n",
    "```"
   ]
  },
  {
   "cell_type": "markdown",
   "id": "da52d9e4-0b44-4624-a617-3482a6647416",
   "metadata": {},
   "source": [
    "```{toggle}\n",
    "Das Integral über einer Wahrscheinlichkeitsdichte entspricht der Wahrscheinlichkeit das die entsprechende Zufallsvariable in diesem Bereich liegt. \n",
    "```"
   ]
  },
  {
   "cell_type": "markdown",
   "id": "b9f29bab-9fe0-49d9-aa80-dc3df476b694",
   "metadata": {},
   "source": [
    "```{toggle}\n",
    "Das Paket Scipy liefert die für alle geläufigen Wahrscheinlichkeitsdichtefunktionen, so auch für die Normalverteilung die Funktion `pdf` (z.B. `scipy.stats.norm.pdf()`, siehe auch https://docs.scipy.org/doc/scipy/reference/generated/scipy.stats.norm.html)\n",
    "```"
   ]
  }
 ],
 "metadata": {
  "kernelspec": {
   "display_name": "Python 3 (ipykernel)",
   "language": "python",
   "name": "python3"
  },
  "language_info": {
   "codemirror_mode": {
    "name": "ipython",
    "version": 3
   },
   "file_extension": ".py",
   "mimetype": "text/x-python",
   "name": "python",
   "nbconvert_exporter": "python",
   "pygments_lexer": "ipython3",
   "version": "3.10.9"
  }
 },
 "nbformat": 4,
 "nbformat_minor": 5
}
