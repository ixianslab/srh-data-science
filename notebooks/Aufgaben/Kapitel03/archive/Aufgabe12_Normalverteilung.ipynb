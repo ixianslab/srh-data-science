{
 "cells": [
  {
   "cell_type": "markdown",
   "id": "947ee4be-d97c-4bee-b72c-9d1640fa95bf",
   "metadata": {},
   "source": [
    "-------------------------------------------------------\n",
    "-------------------------------------------------------\n",
    "### Kapitel 3\n",
    "### Aufgabenstellung 11 : Normalverteilung\n",
    "\n",
    "-------------------------------------------------------\n",
    "-------------------------------------------------------"
   ]
  },
  {
   "cell_type": "markdown",
   "id": "58c10ab8-e508-4773-b5c2-fbdae346c186",
   "metadata": {},
   "source": [
    "1. Welche Kenngrößen charakterisieren die Normalverteilung\n",
    "2. Was ist die Standardnormalverteilung und in welchem Bezug steht sie zur Normalverteilung?\n",
    "3. Generieren Sie $10.000$ Zufallswerte für die Normalverteilung mit Mittelwert $\\mu = 1$ und Standardabweichung $\\sigma = 3$, unter Verwendung der Funktion `np.random.normal(loc, scale, size)`, und stellen Sie das Ergebnis als Histogramm dar.\n",
    "4. Führen Sie eine $z$-Transformation für diese Werte durch und plotten Sie das Ergebnis."
   ]
  },
  {
   "cell_type": "markdown",
   "id": "b3db9901-926d-4457-871d-2252a94dee87",
   "metadata": {},
   "source": [
    "-------------------------------------------------------"
   ]
  },
  {
   "cell_type": "markdown",
   "id": "1f245308-2ab4-4c8b-a399-4808dcbc96f5",
   "metadata": {},
   "source": [
    "### Lösung"
   ]
  },
  {
   "cell_type": "markdown",
   "id": "3a672eb7-3f23-4fbe-bf7b-03987bc88c98",
   "metadata": {},
   "source": [
    "**1.**\n",
    "\n",
    "Die Normalverteilung wird durch ihren Mittelwert $\\mu$ und ihre Standardabweichung $\\sigma$ beschrieben. $X \\sim N( \\mu, \\sigma)$"
   ]
  },
  {
   "cell_type": "markdown",
   "id": "a304c3c2-5fdf-4549-a9f9-775d73075e0e",
   "metadata": {},
   "source": [
    "**2.** \n",
    "\n",
    "Die Standardnormalverteilung ist die Normalverteilung mit Mittelwert $\\mu=0$ und Standardabweichung $\\sigma=1$. Sie entspricht also der Normalverteilung mit $X \\sim N( 0, 1)$. Durch die Anwendung der $z$-Transformation $z = \\frac{x-\\mu}{\\sigma}$ können beliebige Normalverteilungen auf die Standardnormalverteilung abgebildet werden."
   ]
  },
  {
   "cell_type": "markdown",
   "id": "31d68ed3-20ff-4a1e-a80c-2ff6fa93fc8f",
   "metadata": {},
   "source": [
    "**3.**"
   ]
  },
  {
   "cell_type": "code",
   "execution_count": 18,
   "id": "790d69ba-2a64-4028-853a-865270bed4aa",
   "metadata": {},
   "outputs": [
    {
     "name": "stdout",
     "output_type": "stream",
     "text": [
      "Mittelwert 2.016856195807669\n",
      "Standardabweichung 1.9977847701597464\n"
     ]
    },
    {
     "data": {
      "image/png": "[encoded data removed]",
      "text/plain": [
       "<Figure size 432x288 with 1 Axes>"
      ]
     },
     "metadata": {
      "needs_background": "light"
     },
     "output_type": "display_data"
    }
   ],
   "source": [
    "import numpy as np\n",
    "import matplotlib.pyplot as plt\n",
    "\n",
    "data = np.random.normal(loc=2, scale=2, size=10000)\n",
    "x = np.linspace(-10,10,10000)\n",
    "mean_normal = np.mean(data)\n",
    "print('Mittelwert',mean_normal)\n",
    "\n",
    "std_normal = np.std(data, ddof=1)\n",
    "# Standardabweichung der Probe finden\n",
    "print('Standardabweichung',std_normal)\n",
    "plt.hist(data, 100);"
   ]
  },
  {
   "cell_type": "markdown",
   "id": "310a49f0-6673-44fd-b82e-132c8f7ca8aa",
   "metadata": {},
   "source": [
    "**4.**"
   ]
  },
  {
   "cell_type": "code",
   "execution_count": 17,
   "id": "c169809e-5f95-4493-8000-b812af80c19d",
   "metadata": {},
   "outputs": [
    {
     "data": {
      "image/png": "[encoded data removed]",
      "text/plain": [
       "<Figure size 432x288 with 1 Axes>"
      ]
     },
     "metadata": {
      "needs_background": "light"
     },
     "output_type": "display_data"
    }
   ],
   "source": [
    "z = (data - mean_normal)/std_normal\n",
    "plt.hist(z, 100);"
   ]
  },
  {
   "cell_type": "code",
   "execution_count": null,
   "id": "c784b4fb-d452-4dbb-b764-329076a1a293",
   "metadata": {},
   "outputs": [],
   "source": []
  }
 ],
 "metadata": {
  "kernelspec": {
   "display_name": "Python 3 (ipykernel)",
   "language": "python",
   "name": "python3"
  },
  "language_info": {
   "codemirror_mode": {
    "name": "ipython",
    "version": 3
   },
   "file_extension": ".py",
   "mimetype": "text/x-python",
   "name": "python",
   "nbconvert_exporter": "python",
   "pygments_lexer": "ipython3",
   "version": "3.10.9"
  }
 },
 "nbformat": 4,
 "nbformat_minor": 5
}
