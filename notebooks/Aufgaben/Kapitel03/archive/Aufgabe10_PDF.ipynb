{
 "cells": [
  {
   "cell_type": "markdown",
   "id": "b1c138bf-63a4-4647-87d4-f07cf4f22bf9",
   "metadata": {},
   "source": [
    "-------------------------------------------------------\n",
    "-------------------------------------------------------\n",
    "### Kapitel 3\n",
    "### Aufgabenstellung 9 : Wahrscheinlichkeitsdichtefunktion\n",
    "\n",
    "-------------------------------------------------------\n",
    "-------------------------------------------------------"
   ]
  },
  {
   "cell_type": "markdown",
   "id": "3447eba6-c1d2-4167-bcf9-7237cd5999ed",
   "metadata": {},
   "source": [
    "1. Nennen Sie die $3$ Haupteigenschaften von Wahrscheinlichkeitsdichtfunktionen.\n",
    "2. Wie kann das Flächenintegral über eine Wahrscheinlichkeitsdichtfunktion interpretiert werden?"
   ]
  },
  {
   "cell_type": "markdown",
   "id": "8fed57fb-de0d-4332-8895-bc14db9a8b1a",
   "metadata": {},
   "source": [
    "-------------------------------------------------------"
   ]
  },
  {
   "cell_type": "markdown",
   "id": "db3f5874-1621-469d-bb7f-d7a04ed9c185",
   "metadata": {},
   "source": [
    "### Lösung"
   ]
  },
  {
   "cell_type": "markdown",
   "id": "82dcb900-8fa4-4cff-a521-187b6000fe32",
   "metadata": {},
   "source": [
    "**1.** \n",
    "\n",
    "Eine PDF wird immer auf oder über der horizontalen Achse gezeichnet\n",
    "\n",
    "Die Gesamtfläche zwischen einer PDF und der horizontalen Achse ist gleich $1$\n",
    "und somit liegt jeder Wert in jedem Teilintervall der PDF im Bereich von $0$ bis $1$\n",
    "\n",
    "Alle möglichen Beobachtungen der Variablen, die innerhalb eines bestimmten Bereichs liegen, entsprechen der entsprechenden Fläche unter der Dichtefunktion und können als prozentueller Anteil ausgedrückt werden. \n",
    "\n",
    "({cite:p}`Papula2011` s.327)"
   ]
  },
  {
   "cell_type": "markdown",
   "id": "da52d9e4-0b44-4624-a617-3482a6647416",
   "metadata": {},
   "source": [
    "**2.** \n",
    "\n",
    "Das Integral über eine Wahrscheinlichkeitsdichte entspricht der Wahrscheinlichkeit das die entsprechende Zufallsvariable in diesem Bereich liegt. "
   ]
  },
  {
   "cell_type": "code",
   "execution_count": null,
   "id": "9284f7d0-694f-4ec0-b190-b318e34c2159",
   "metadata": {},
   "outputs": [],
   "source": []
  }
 ],
 "metadata": {
  "kernelspec": {
   "display_name": "Python 3 (ipykernel)",
   "language": "python",
   "name": "python3"
  },
  "language_info": {
   "codemirror_mode": {
    "name": "ipython",
    "version": 3
   },
   "file_extension": ".py",
   "mimetype": "text/x-python",
   "name": "python",
   "nbconvert_exporter": "python",
   "pygments_lexer": "ipython3",
   "version": "3.10.9"
  }
 },
 "nbformat": 4,
 "nbformat_minor": 5
}
