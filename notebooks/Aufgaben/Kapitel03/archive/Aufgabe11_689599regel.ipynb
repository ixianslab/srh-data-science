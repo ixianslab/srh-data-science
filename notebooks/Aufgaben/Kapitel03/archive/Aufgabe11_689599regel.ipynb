{
 "cells": [
  {
   "cell_type": "markdown",
   "id": "40ffc671-421c-4bea-88e5-4f3a70752fec",
   "metadata": {},
   "source": [
    "-------------------------------------------------------\n",
    "-------------------------------------------------------\n",
    "### Kapitel 3\n",
    "### Aufgabenstellung 10 : $68-95-99,7$-Regel \n",
    "\n",
    "-------------------------------------------------------\n",
    "-------------------------------------------------------"
   ]
  },
  {
   "cell_type": "markdown",
   "id": "ee1e0094-61d1-4374-bcdc-2dd70a65a6a7",
   "metadata": {},
   "source": [
    "1. Was sind die Hauptaussagen der $68-95-99,7$-Regel?\n",
    "2. Berechnen Sie die entsprechenden Integrale nach der $68-95-99,7$-Regel für die Normalverteilung $X \\sim N( -2, 2)$"
   ]
  },
  {
   "cell_type": "markdown",
   "id": "08b3bd17-e929-42b3-a922-9ee56f31b4f3",
   "metadata": {},
   "source": [
    "-------------------------------------------------------"
   ]
  },
  {
   "cell_type": "markdown",
   "id": "171a3248-2680-4a9a-9733-4eb381543784",
   "metadata": {},
   "source": [
    "### Lösung"
   ]
  },
  {
   "cell_type": "markdown",
   "id": "6cf83e40-44d0-4a4b-9ced-781a8bbf6215",
   "metadata": {},
   "source": [
    "**1.**"
   ]
  },
  {
   "cell_type": "markdown",
   "id": "c77354fc-91b8-4cab-bf71-76cb75c1069d",
   "metadata": {},
   "source": [
    "Die Kernaussagen der $68-95-99,7$-Regel lauten:\n",
    " 1)  $68 \\%$ der Beobachtungen liegen innerhalb einer Standardabweichung des Mittelwerts,\n",
    " 2)  $95 \\%$ der Beobachtungen liegen innerhalb von zwei Standardabweichungen des Mittelwerts, und\n",
    " 3)  $99,7 \\%$ der Beobachtungen liegen innerhalb von drei Standardabweichungen des Mittelwerts.\n",
    " \n",
    " ({cite:p}`fahrmeirstatistik` s.86)"
   ]
  },
  {
   "cell_type": "markdown",
   "id": "4d4df539-8547-4bb9-9489-8cb5b1411a9b",
   "metadata": {},
   "source": [
    "**2.**"
   ]
  },
  {
   "cell_type": "code",
   "execution_count": 2,
   "id": "8764eeb7-825f-493a-85e4-0ff7805fce0f",
   "metadata": {},
   "outputs": [
    {
     "name": "stdout",
     "output_type": "stream",
     "text": [
      "1te Standardabweichung 0.6826894921370859\n",
      "2te Standardabweichung 0.9544997361036416\n",
      "3te Standardabweichung 0.9973002039367398\n"
     ]
    }
   ],
   "source": [
    "from scipy.stats import norm\n",
    "\n",
    "print('1te Standardabweichung',norm.cdf(0, loc=-2, scale=2)-norm.cdf(-4, loc=-2, scale=2))\n",
    "print('2te Standardabweichung',norm.cdf(2, loc=-2, scale=2)-norm.cdf(-6, loc=-2, scale=2))\n",
    "print('3te Standardabweichung',norm.cdf(4, loc=-2, scale=2)-norm.cdf(-8, loc=-2, scale=2))"
   ]
  },
  {
   "cell_type": "code",
   "execution_count": null,
   "id": "0dae07e7-2d6c-4306-af27-8e0fdfc80eb7",
   "metadata": {},
   "outputs": [],
   "source": []
  }
 ],
 "metadata": {
  "kernelspec": {
   "display_name": "Python 3 (ipykernel)",
   "language": "python",
   "name": "python3"
  },
  "language_info": {
   "codemirror_mode": {
    "name": "ipython",
    "version": 3
   },
   "file_extension": ".py",
   "mimetype": "text/x-python",
   "name": "python",
   "nbconvert_exporter": "python",
   "pygments_lexer": "ipython3",
   "version": "3.10.9"
  }
 },
 "nbformat": 4,
 "nbformat_minor": 5
}
