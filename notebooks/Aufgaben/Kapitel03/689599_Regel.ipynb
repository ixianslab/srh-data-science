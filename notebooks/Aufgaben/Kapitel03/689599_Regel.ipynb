{
 "cells": [
  {
   "cell_type": "code",
   "execution_count": 1,
   "id": "faf91ff2-9fdd-4eeb-958a-4fa5b5f4339f",
   "metadata": {
    "tags": [
     "remove-cell"
    ]
   },
   "outputs": [
    {
     "name": "stdout",
     "output_type": "stream",
     "text": [
      "\n",
      "---------------------------------\n",
      "Working on the host: imarevic-pc\n",
      "\n",
      "---------------------------------\n",
      "Python version: 3.10.9 | packaged by conda-forge | (main, Feb  2 2023, 20:20:04) [GCC 11.3.0]\n",
      "\n",
      "---------------------------------\n",
      "Python interpreter: /home/imarevic/anaconda3/envs/srh/bin/python3.10\n"
     ]
    }
   ],
   "source": [
    "%matplotlib inline\n",
    "# Load the \"autoreload\" extension\n",
    "%load_ext autoreload\n",
    "# always reload modules\n",
    "%autoreload 2\n",
    "# black formatter for jupyter notebooks\n",
    "# %load_ext nb_black\n",
    "# black formatter for jupyter lab\n",
    "%load_ext lab_black\n",
    "\n",
    "%run ../../../src/notebook_env.py"
   ]
  },
  {
   "cell_type": "markdown",
   "id": "40ffc671-421c-4bea-88e5-4f3a70752fec",
   "metadata": {},
   "source": [
    "# Die 68-95-99,7-Regel "
   ]
  },
  {
   "cell_type": "markdown",
   "id": "ee1e0094-61d1-4374-bcdc-2dd70a65a6a7",
   "metadata": {},
   "source": [
    "1. Was sind die Hauptaussagen der $68-95-99,7$-Regel?\n",
    "2. Berechnen Sie die entsprechenden Integrale nach der $68-95-99,7$-Regel für die Normalverteilung $X \\sim N( -2, 2)$"
   ]
  },
  {
   "cell_type": "markdown",
   "id": "08b3bd17-e929-42b3-a922-9ee56f31b4f3",
   "metadata": {},
   "source": [
    "-------------------------------------------------------"
   ]
  },
  {
   "cell_type": "code",
   "execution_count": 2,
   "id": "0828f25d-0a65-4023-a017-2d303e118ca8",
   "metadata": {},
   "outputs": [],
   "source": [
    "# Frage 2 ..."
   ]
  },
  {
   "cell_type": "markdown",
   "id": "171a3248-2680-4a9a-9733-4eb381543784",
   "metadata": {},
   "source": [
    "## Lösungen"
   ]
  },
  {
   "cell_type": "markdown",
   "id": "c77354fc-91b8-4cab-bf71-76cb75c1069d",
   "metadata": {},
   "source": [
    "**Frage 1**\n",
    "\n",
    "```{toggle}\n",
    "Die Kernaussagen der $68-95-99,7$-Regel lauten:\n",
    "1. $68 \\%$ der Beobachtungen liegen innerhalb __einer__ Standardabweichung des Mittelwerts,\n",
    "2. $95 \\%$ der Beobachtungen liegen innerhalb von __zwei__ Standardabweichungen des Mittelwerts, und\n",
    "3. $99,7 \\%$ der Beobachtungen liegen innerhalb von __drei__ Standardabweichungen des Mittelwerts.\n",
    " \n",
    " ({cite:p}`fahrmeirstatistik` s.86)\n",
    " ```"
   ]
  },
  {
   "cell_type": "markdown",
   "id": "1f383522-b82a-41f7-a26e-9c326ee7d3b8",
   "metadata": {},
   "source": [
    "**Frage 2**"
   ]
  },
  {
   "cell_type": "code",
   "execution_count": 2,
   "id": "7c138e50-c40e-4b73-9d12-185e335e50fd",
   "metadata": {
    "tags": [
     "hide-cell"
    ]
   },
   "outputs": [
    {
     "name": "stdout",
     "output_type": "stream",
     "text": [
      "1 Standardabweichung(en): 0.6826894921370859\n",
      "2 Standardabweichung(en): 0.9544997361036416\n",
      "3 Standardabweichung(en): 0.9973002039367398\n"
     ]
    }
   ],
   "source": [
    "from scipy.stats import norm\n",
    "\n",
    "loc = -2\n",
    "scale = 2\n",
    "for sd in [1, 2, 3]:\n",
    "    print(\n",
    "        f\"{sd} Standardabweichung(en):\",\n",
    "        norm.cdf(loc + sd * scale, loc=loc, scale=scale)\n",
    "        - norm.cdf(loc - sd * scale, loc=loc, scale=scale),\n",
    "    )"
   ]
  }
 ],
 "metadata": {
  "kernelspec": {
   "display_name": "Python 3 (ipykernel)",
   "language": "python",
   "name": "python3"
  },
  "language_info": {
   "codemirror_mode": {
    "name": "ipython",
    "version": 3
   },
   "file_extension": ".py",
   "mimetype": "text/x-python",
   "name": "python",
   "nbconvert_exporter": "python",
   "pygments_lexer": "ipython3",
   "version": "3.10.9"
  }
 },
 "nbformat": 4,
 "nbformat_minor": 5
}
