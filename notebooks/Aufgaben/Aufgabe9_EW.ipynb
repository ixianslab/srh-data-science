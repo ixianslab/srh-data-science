{
 "cells": [
  {
   "cell_type": "markdown",
   "id": "d27e93b3-9699-4baa-b7d2-7f891f85237f",
   "metadata": {
    "tags": []
   },
   "source": [
    "-------------------------------------------------------\n",
    "-------------------------------------------------------\n",
    "### Kapitel 2\n",
    "### Aufgabenstellung 9 : Erwartungswert\n",
    "\n",
    "-------------------------------------------------------\n",
    "-------------------------------------------------------"
   ]
  },
  {
   "cell_type": "markdown",
   "id": "a2199ff1-8ff8-469f-9ec7-ba54930896fc",
   "metadata": {},
   "source": [
    "1. Erklären Sie den Unterschied zwischen relativen und absoluten Häufigkeiten. \n",
    "2. Berechnen Sie den Erwartungswert für die Würfelsumme bei $2$ Würfen. \n",
    "3. Berechnen Sie in Python für $n=10,100,10000$ simulierte Würfe das arithmetische Mittel. Gegen welchen Wert konvergiert das arithmetische Mittel?"
   ]
  },
  {
   "cell_type": "markdown",
   "id": "53b3e22e-4614-4341-b13f-3ccdcde7c2a1",
   "metadata": {},
   "source": [
    "-------------------------------------------------------"
   ]
  },
  {
   "cell_type": "markdown",
   "id": "7ac15971-cc62-4632-89e3-41a008cbb5e1",
   "metadata": {},
   "source": [
    "### Lösung"
   ]
  },
  {
   "cell_type": "markdown",
   "id": "62ef8bef-6163-445e-b8f9-254f372f84dd",
   "metadata": {},
   "source": [
    "**1.**"
   ]
  },
  {
   "cell_type": "markdown",
   "id": "9b214ba5-be14-467e-a82b-6e28ffc8f58d",
   "metadata": {},
   "source": [
    "**Absolute Häufigkeiten** $h(a_j)=h_j$ entsprechen der Anzahl der Ereignisse/Elemente/Messergebnisse $x_i$ für die gilt $x_i = a_j$ \n",
    "**Relative Häufigkeiten**  entsprechen den **absoluten Häufigkeiten** geteilt durch die Gesamtanzahl $n$ betrachteten Ereignisse/Elemente/Messergebnisse $f(a_j)=f_j=\\frac{h_j}{n}$\n",
    "({cite:p}`fahrmeirstatistik` s.30)"
   ]
  },
  {
   "cell_type": "markdown",
   "id": "862b3b75-085a-42d1-aef6-ed37ada1c7bf",
   "metadata": {},
   "source": [
    "**2.**\n",
    "\n",
    "Der Erwartungswert ist gegeben durch:\n",
    "\n",
    "$$E(X) = \\sum_i P(X_i)X_i$$"
   ]
  },
  {
   "cell_type": "code",
   "execution_count": 1,
   "id": "37c13222-7445-47b5-a623-99b39f7e5f07",
   "metadata": {},
   "outputs": [
    {
     "data": {
      "text/plain": [
       "7.0"
      ]
     },
     "execution_count": 1,
     "metadata": {},
     "output_type": "execute_result"
    }
   ],
   "source": [
    "1/36*(2+3*2+4*3+5*4+6*5+7*6+8*5+9*4+10*3+11*2+12)"
   ]
  },
  {
   "cell_type": "code",
   "execution_count": 2,
   "id": "7157f79d-d502-4d86-8fef-8f121a388dac",
   "metadata": {},
   "outputs": [
    {
     "name": "stdout",
     "output_type": "stream",
     "text": [
      "7.670800462070341 : Erwartungswert bei 10 Würfen\n",
      "6.9399894234537784 : Erwartungswert bei 100 Würfen\n",
      "7.0018973603141434 : Erwartungswert bei 10000 Würfen\n"
     ]
    }
   ],
   "source": [
    "dices = [11,101,10001]\n",
    "import random\n",
    "n=12\n",
    "\n",
    "for dice in dices:\n",
    "    e_x = 0\n",
    "    for i in range(dice):\n",
    "        e_x += random.uniform(1,6) + random.uniform(1,6)\n",
    "    print(e_x/dice,': Erwartungswert bei',i,'Würfen')"
   ]
  },
  {
   "cell_type": "code",
   "execution_count": null,
   "id": "c8cb8165-0b92-4fbe-9308-21b15d3910e9",
   "metadata": {},
   "outputs": [],
   "source": []
  }
 ],
 "metadata": {
  "kernelspec": {
   "display_name": "Python 3 (ipykernel)",
   "language": "python",
   "name": "python3"
  },
  "language_info": {
   "codemirror_mode": {
    "name": "ipython",
    "version": 3
   },
   "file_extension": ".py",
   "mimetype": "text/x-python",
   "name": "python",
   "nbconvert_exporter": "python",
   "pygments_lexer": "ipython3",
   "version": "3.10.9"
  }
 },
 "nbformat": 4,
 "nbformat_minor": 5
}
