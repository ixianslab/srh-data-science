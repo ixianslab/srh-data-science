{
 "cells": [
  {
   "cell_type": "markdown",
   "id": "68e6baae-01a7-475d-92a6-516756d3d6cf",
   "metadata": {},
   "source": [
    "# Lineare Regression - Grundbegriffe"
   ]
  },
  {
   "cell_type": "markdown",
   "id": "3bc1a94e-172b-4995-82b3-c820326f0e6f",
   "metadata": {},
   "source": [
    "1. Was versteht man unter Residuen?\n",
    "2. Was versteht man unter Homoskedastizität?\n",
    "3. Was sind Hebelpunkte?"
   ]
  },
  {
   "cell_type": "markdown",
   "id": "02831a5b-0c37-4838-b7ec-a7fbe6a5280b",
   "metadata": {},
   "source": [
    "-------------------------------------------------------"
   ]
  },
  {
   "cell_type": "markdown",
   "id": "ee572fd8-9f0c-490f-8785-5c554b4737b2",
   "metadata": {},
   "source": [
    "## Lösungen"
   ]
  },
  {
   "cell_type": "markdown",
   "id": "3945686a-93eb-4b43-90e8-2a365f9c158a",
   "metadata": {
    "tags": []
   },
   "source": [
    "```{toggle}\n",
    "Residuen sind die Abweichungen der beobachteten $y$-Werten zu den durch die berechnete Regressionsgerade vorhergesagten $y$-Werten und sind gegeben durch:\n",
    "\n",
    "$$\\hat \\epsilon_i = y_i - \\hat y_i \\ , \\ i = 1, \\cdots, n$$\n",
    "\n",
    "Sie ermöglichen es ein Maß für die Güte eines Regressionsmodells zu definieren.\n",
    "\n",
    "({cite:p}`fahrmeirstatistik` s.149)\n",
    "```"
   ]
  },
  {
   "cell_type": "markdown",
   "id": "76d3c965-c943-4840-9aa0-2d979d8ce58a",
   "metadata": {
    "tags": []
   },
   "source": [
    "```{toggle}\n",
    "Homoskedastizität ist dann gegeben, wenn die Varianz der Residuen ungefähr konstant ist. Alle Datenpunkte liegen in etwa in gleichem Abstand zur Regressionsgeraden.\n",
    "```"
   ]
  },
  {
   "cell_type": "markdown",
   "id": "f0a94951-a2be-4626-972e-2f13e20f8202",
   "metadata": {
    "tags": []
   },
   "source": [
    "```{toggle}\n",
    "Hebelpunkte sind einzelne Datenpunkt, die weit außerhalb der Datenmenge liegen. Durch ihr hohes Residuum, dass quadratische in die Methode der kleinsten Quadrate eingeht, haben sie einen überproportionale Effekt auf die resultierende Regressionskurve. \n",
    "```"
   ]
  }
 ],
 "metadata": {
  "kernelspec": {
   "display_name": "Python 3 (ipykernel)",
   "language": "python",
   "name": "python3"
  },
  "language_info": {
   "codemirror_mode": {
    "name": "ipython",
    "version": 3
   },
   "file_extension": ".py",
   "mimetype": "text/x-python",
   "name": "python",
   "nbconvert_exporter": "python",
   "pygments_lexer": "ipython3",
   "version": "3.10.9"
  }
 },
 "nbformat": 4,
 "nbformat_minor": 5
}
