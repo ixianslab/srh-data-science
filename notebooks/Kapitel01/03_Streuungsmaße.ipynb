{
 "cells": [
  {
   "cell_type": "code",
   "execution_count": 1,
   "id": "f8f12250",
   "metadata": {
    "tags": [
     "remove-cell"
    ]
   },
   "outputs": [
    {
     "name": "stdout",
     "output_type": "stream",
     "text": [
      "\n",
      "---------------------------------\n",
      "Working on the host: imarevic-pc\n",
      "\n",
      "---------------------------------\n",
      "Python version: 3.10.9 | packaged by conda-forge | (main, Feb  2 2023, 20:20:04) [GCC 11.3.0]\n",
      "\n",
      "---------------------------------\n",
      "Python interpreter: /home/imarevic/anaconda3/envs/srh/bin/python3.10\n"
     ]
    }
   ],
   "source": [
    "%matplotlib inline\n",
    "# Load the \"autoreload\" extension\n",
    "%load_ext autoreload\n",
    "# always reload modules\n",
    "%autoreload 2\n",
    "# black formatter for jupyter notebooks\n",
    "# %load_ext nb_black\n",
    "# black formatter for jupyter lab\n",
    "%load_ext lab_black\n",
    "\n",
    "%run ../../src/notebook_env.py"
   ]
  },
  {
   "cell_type": "markdown",
   "id": "68f732f8-3e48-48bd-ba95-a853f66d6db8",
   "metadata": {},
   "source": [
    "# Streuungsmaße"
   ]
  },
  {
   "cell_type": "code",
   "execution_count": 3,
   "id": "9c742b43",
   "metadata": {},
   "outputs": [],
   "source": [
    "import random\n",
    "\n",
    "import matplotlib.pyplot as plt\n",
    "import numpy as np\n",
    "import pandas as pd\n",
    "from scipy.stats import norm, gaussian_kde"
   ]
  },
  {
   "cell_type": "markdown",
   "id": "62b0d2d6-1dde-4e6c-998f-f21dab5bbca3",
   "metadata": {
    "tags": []
   },
   "source": [
    "Die Maße der zentralen Tendenz, wie Mittelwert, Median und Modus, geben nicht das ganze Bild der Verteilung eines Datensatzes wieder. Zwei Datensätze mit identischem Mittelwert können völlig unterschiedliche Streuungen aufweisen. Die Streuung der Beobachtungswerte des einen Datensatzes kann viel größer oder kleiner sein als die des anderen Datensatzes. Daher ist der Mittelwert, Median oder Modus allein in der Regel kein ausreichendes Maß, um die Form der Verteilung eines Datensatzes aufzuzeigen. Wir benötigen auch ein Maß, das Informationen über die Variation zwischen den Datenwerten liefert. Diese Maße werden als **Streuungsmaße** bezeichnet. Die Maße der zentralen Tendenz und der Streuung ergeben zusammengenommen ein besseres Bild eines Datensatzes als die Maße der zentralen Tendenz allein ({cite:p}`fahrmeirstatistik` s.65)."
   ]
  },
  {
   "cell_type": "markdown",
   "id": "a8f87905-2c47-4862-9db7-3769afd4f1d1",
   "metadata": {
    "tags": []
   },
   "source": [
    "## Varianz und Standardabweichung"
   ]
  },
  {
   "cell_type": "markdown",
   "id": "655228bc-bf5f-4a61-ae31-3933be467e7c",
   "metadata": {
    "tags": []
   },
   "source": [
    "Die **Varianz** ist die Summe der quadrierten Abweichungen vom Mittelwert. Die Varianz für Populationsdaten wird mit $\\sigma^2$ bezeichnet (gelesen als Sigma-Quadrat), und die für Stichprobendaten berechnete Varianz wird mit $s^2$ bezeichnet. \n",
    "\n",
    "$$ \\sigma^2 = \\frac{\\sum_{i=1}^n (x_i - \\mu)^2}{N} $$\n",
    "\n",
    "und\n",
    "$$ s^2 = \\frac{\\sum_{i=1}^n (x_i - \\bar{x})^2}{n-1} $$\n",
    "\n",
    "wobei $\\sigma^2$ die Varianz der Grundgesamtheit und $s^2$ die Stichprobenvarianz ist. Die Größe $x_i-\\mu$ oder $x_i-\\bar{x}$ in den obigen Formeln wird als die Abweichung des $x_i$-Wertes $(x_1,x_2, \\dots ,x_n)$ vom Mittelwert bezeichnet ({cite:p}`fahrmeirstatistik` s.64). \n",
    "\n",
    "Die <a href=\"https://de.wikipedia.org/wiki/Varianz_(Stochastik)\">Standardabweichung</a> ist das gebräuchlichste Maß für die Streuung. Der Wert der Standardabweichung gibt an, wie eng die Werte eines Datensatzes um den Mittelwert herum gestreut sind. Im Allgemeinen zeigt ein niedriger Wert der Standardabweichung für einen Datensatz an, dass die Werte dieses Datensatzes über einen relativ kleineren Bereich um den Mittelwert herum verteilt sind. Im Gegensatz dazu zeigt ein größerer Wert der Standardabweichung für einen Datensatz an, dass die Werte dieses Datensatzes über einen relativ größeren Bereich um den Mittelwert herum gestreut sind ({cite:p}`fahrmeirstatistik` s.65).\n"
   ]
  },
  {
   "cell_type": "code",
   "execution_count": 4,
   "id": "7be5ffaf",
   "metadata": {
    "tags": [
     "hide-input"
    ]
   },
   "outputs": [
    {
     "data": {
      "image/png": "[encoded data removed]",
      "text/plain": [
       "<Figure size 1152x432 with 2 Axes>"
      ]
     },
     "metadata": {},
     "output_type": "display_data"
    }
   ],
   "source": [
    "import matplotlib.pyplot as plt\n",
    "\n",
    "TITLESIZE = 17\n",
    "SEED = np.random.seed(42)\n",
    "SIZE = 100\n",
    "x = np.linspace(0, 1, SIZE)\n",
    "\n",
    "fig, ax = plt.subplots(ncols=2, figsize=(16, 6))\n",
    "\n",
    "y = np.random.normal(loc=0.5, scale=1.0, size=SIZE)\n",
    "ax[0].plot(x, y, \"o\")\n",
    "ax[0].set_title(\"Geringe Abweichungen um den Mittelwert\", size=TITLESIZE)\n",
    "\n",
    "y = np.random.normal(loc=0.5, scale=3.0, size=SIZE)\n",
    "ax[1].plot(x, y, \"o\")\n",
    "ax[1].set_title(\"Grosse Abweichungen um den Mittelwert\", size=TITLESIZE)\n",
    "\n",
    "for _ax in ax:\n",
    "    _ax.set_xticks([])\n",
    "    _ax.set_yticks([])\n",
    "    _ax.axhline(0.5, color=\"k\")\n",
    "    _ax.set_ylim(-6, 6)\n",
    "    _ax.legend([\"Daten\", \"Mittelwert\"])"
   ]
  },
  {
   "cell_type": "markdown",
   "id": "c2d5168f-537e-4cf4-abd7-6057ce3a58c3",
   "metadata": {},
   "source": [
    "Die Standardabweichung erhält man durch Ziehen der Quadratwurzel aus der **Varianz**. Folglich wird die für Grundgesamtheitsdaten berechnete Standardabweichung mit $\\sigma$ und die für Stichprobendaten berechnete Standardabweichung mit $s$ bezeichnet. \n",
    "\n",
    "$$ \\sigma = \\sqrt{\\frac{\\sum_{i=1}^n (x_i - \\mu)^2}{N}} $$\n",
    "\n",
    "und \n",
    "\n",
    "$$ s = \\sqrt{\\frac{\\sum_{i=1}^n (x_i - \\bar{x})^2}{n-1}} $$ \n",
    "\n",
    "wobei $\\sigma$ die Standardabweichung der Grundgesamtheit und $s$ die Standardabweichung der Stichprobe ist.\n",
    "\n",
    "Als Übung berechnen wir für einige numerische Variablen, die im `students` Datensatz von Interesse sind, den Mittelwert, den Median, die Varianz und die Standardabweichung und stellen sie in einem Dataframe dar."
   ]
  },
  {
   "cell_type": "code",
   "execution_count": 5,
   "id": "1905437b",
   "metadata": {},
   "outputs": [
    {
     "data": {
      "text/html": [
       "<div>\n",
       "<style scoped>\n",
       "    .dataframe tbody tr th:only-of-type {\n",
       "        vertical-align: middle;\n",
       "    }\n",
       "\n",
       "    .dataframe tbody tr th {\n",
       "        vertical-align: top;\n",
       "    }\n",
       "\n",
       "    .dataframe thead th {\n",
       "        text-align: right;\n",
       "    }\n",
       "</style>\n",
       "<table border=\"1\" class=\"dataframe\">\n",
       "  <thead>\n",
       "    <tr style=\"text-align: right;\">\n",
       "      <th></th>\n",
       "      <th>height</th>\n",
       "      <th>weight</th>\n",
       "      <th>nc_score</th>\n",
       "    </tr>\n",
       "    <tr>\n",
       "      <th>age</th>\n",
       "      <th></th>\n",
       "      <th></th>\n",
       "      <th></th>\n",
       "    </tr>\n",
       "  </thead>\n",
       "  <tbody>\n",
       "    <tr>\n",
       "      <th>19</th>\n",
       "      <td>160</td>\n",
       "      <td>64.8</td>\n",
       "      <td>1.91</td>\n",
       "    </tr>\n",
       "    <tr>\n",
       "      <th>19</th>\n",
       "      <td>172</td>\n",
       "      <td>73.0</td>\n",
       "      <td>1.56</td>\n",
       "    </tr>\n",
       "    <tr>\n",
       "      <th>22</th>\n",
       "      <td>168</td>\n",
       "      <td>70.6</td>\n",
       "      <td>1.24</td>\n",
       "    </tr>\n",
       "    <tr>\n",
       "      <th>19</th>\n",
       "      <td>183</td>\n",
       "      <td>79.7</td>\n",
       "      <td>1.37</td>\n",
       "    </tr>\n",
       "    <tr>\n",
       "      <th>21</th>\n",
       "      <td>175</td>\n",
       "      <td>71.4</td>\n",
       "      <td>1.46</td>\n",
       "    </tr>\n",
       "    <tr>\n",
       "      <th>19</th>\n",
       "      <td>189</td>\n",
       "      <td>85.8</td>\n",
       "      <td>1.34</td>\n",
       "    </tr>\n",
       "    <tr>\n",
       "      <th>21</th>\n",
       "      <td>156</td>\n",
       "      <td>65.9</td>\n",
       "      <td>1.11</td>\n",
       "    </tr>\n",
       "    <tr>\n",
       "      <th>21</th>\n",
       "      <td>167</td>\n",
       "      <td>65.7</td>\n",
       "      <td>2.03</td>\n",
       "    </tr>\n",
       "    <tr>\n",
       "      <th>18</th>\n",
       "      <td>195</td>\n",
       "      <td>94.4</td>\n",
       "      <td>1.29</td>\n",
       "    </tr>\n",
       "    <tr>\n",
       "      <th>18</th>\n",
       "      <td>165</td>\n",
       "      <td>66.0</td>\n",
       "      <td>1.19</td>\n",
       "    </tr>\n",
       "  </tbody>\n",
       "</table>\n",
       "</div>"
      ],
      "text/plain": [
       "     height  weight  nc_score\n",
       "age                          \n",
       "19      160    64.8      1.91\n",
       "19      172    73.0      1.56\n",
       "22      168    70.6      1.24\n",
       "19      183    79.7      1.37\n",
       "21      175    71.4      1.46\n",
       "19      189    85.8      1.34\n",
       "21      156    65.9      1.11\n",
       "21      167    65.7      2.03\n",
       "18      195    94.4      1.29\n",
       "18      165    66.0      1.19"
      ]
     },
     "execution_count": 5,
     "metadata": {},
     "output_type": "execute_result"
    }
   ],
   "source": [
    "# Lesen der Datei students.csv als Dataframe; nur die Spalten \"age\", \"weight\", \"height\" und \"nc_score\" Spalten werden eingelesen\n",
    "students = pd.read_csv(\n",
    "    \"../../data/students.csv\",\n",
    "    index_col=0,\n",
    "    usecols=[\"age\", \"height\", \"weight\", \"nc_score\"],\n",
    ")\n",
    "# Zeige die ersten 10 Werte\n",
    "students.head(10)"
   ]
  },
  {
   "cell_type": "markdown",
   "id": "d11a1b68-2a9d-493e-aa55-f236234922b0",
   "metadata": {},
   "source": [
    "Pandas verfügt über die Methode `agg`. Diese lässt uns sehr einfach verschiedene deskritptive Statisitken berechnen."
   ]
  },
  {
   "cell_type": "code",
   "execution_count": 6,
   "id": "7558705f",
   "metadata": {},
   "outputs": [
    {
     "data": {
      "text/html": [
       "<div>\n",
       "<style scoped>\n",
       "    .dataframe tbody tr th:only-of-type {\n",
       "        vertical-align: middle;\n",
       "    }\n",
       "\n",
       "    .dataframe tbody tr th {\n",
       "        vertical-align: top;\n",
       "    }\n",
       "\n",
       "    .dataframe thead th {\n",
       "        text-align: right;\n",
       "    }\n",
       "</style>\n",
       "<table border=\"1\" class=\"dataframe\">\n",
       "  <thead>\n",
       "    <tr style=\"text-align: right;\">\n",
       "      <th></th>\n",
       "      <th>height</th>\n",
       "      <th>weight</th>\n",
       "      <th>nc_score</th>\n",
       "    </tr>\n",
       "  </thead>\n",
       "  <tbody>\n",
       "    <tr>\n",
       "      <th>mean</th>\n",
       "      <td>171.380750</td>\n",
       "      <td>72.998131</td>\n",
       "      <td>2.166481</td>\n",
       "    </tr>\n",
       "    <tr>\n",
       "      <th>median</th>\n",
       "      <td>171.000000</td>\n",
       "      <td>71.800000</td>\n",
       "      <td>2.040000</td>\n",
       "    </tr>\n",
       "    <tr>\n",
       "      <th>var</th>\n",
       "      <td>122.711652</td>\n",
       "      <td>74.566017</td>\n",
       "      <td>0.658610</td>\n",
       "    </tr>\n",
       "    <tr>\n",
       "      <th>std</th>\n",
       "      <td>11.077529</td>\n",
       "      <td>8.635162</td>\n",
       "      <td>0.811548</td>\n",
       "    </tr>\n",
       "  </tbody>\n",
       "</table>\n",
       "</div>"
      ],
      "text/plain": [
       "            height     weight  nc_score\n",
       "mean    171.380750  72.998131  2.166481\n",
       "median  171.000000  71.800000  2.040000\n",
       "var     122.711652  74.566017  0.658610\n",
       "std      11.077529   8.635162  0.811548"
      ]
     },
     "execution_count": 6,
     "metadata": {},
     "output_type": "execute_result"
    }
   ],
   "source": [
    "students.agg([\"mean\", \"median\", \"var\", \"std\"])"
   ]
  },
  {
   "cell_type": "markdown",
   "id": "2af403d5-11cc-44d8-81b6-9e40bf0c3534",
   "metadata": {},
   "source": [
    "### Verwendung der Standardabweichung\n",
    "Mit Hilfe des **Mittelwerts** und der **Standardabweichung** lässt sich der Anteil oder Prozentsatz der Gesamtbeobachtungen ermitteln, die in ein bestimmtes Intervall um den Mittelwert fallen."
   ]
  },
  {
   "cell_type": "markdown",
   "id": "0bea95c6-1b5d-4aa0-bcce-43fed2fff83a",
   "metadata": {},
   "source": [
    "#### Tschebyscheff-Theorem\n",
    "Die <a href=\"https://de.wikipedia.org/wiki/Tschebyscheffsche_Ungleichung\">Tschebyscheff Ungleichung</a> gibt eine untere Schranke für die Fläche unter einer Kurve zwischen zwei Punkten, die auf gegenüberliegenden Seiten des Mittelwerts und im gleichen Abstand vom Mittelwert liegen."
   ]
  },
  {
   "cell_type": "markdown",
   "id": "87f7bca3-66f3-4263-93ae-c62d01931e62",
   "metadata": {},
   "source": [
    "> **Für jede Zahl $k$, die größer als $1$ ist, liegen mindestens $1-\\frac{1}{k^2}$ der Datenwerte innerhalb von $k$ Standardabweichungen vom Mittelwert.**"
   ]
  },
  {
   "cell_type": "markdown",
   "id": "6a9cbb89-17c5-48b5-aa21-61a9a9929ae1",
   "metadata": {},
   "source": [
    "Lassen Sie uns Python verwenden, um ein Gefühl für den Tschebyscheff-Theorem zu bekommen."
   ]
  },
  {
   "cell_type": "code",
   "execution_count": 7,
   "id": "80447faf",
   "metadata": {},
   "outputs": [
    {
     "data": {
      "text/html": [
       "<div>\n",
       "<style scoped>\n",
       "    .dataframe tbody tr th:only-of-type {\n",
       "        vertical-align: middle;\n",
       "    }\n",
       "\n",
       "    .dataframe tbody tr th {\n",
       "        vertical-align: top;\n",
       "    }\n",
       "\n",
       "    .dataframe thead th {\n",
       "        text-align: right;\n",
       "    }\n",
       "</style>\n",
       "<table border=\"1\" class=\"dataframe\">\n",
       "  <thead>\n",
       "    <tr style=\"text-align: right;\">\n",
       "      <th></th>\n",
       "      <th>k</th>\n",
       "      <th>Prozent</th>\n",
       "    </tr>\n",
       "  </thead>\n",
       "  <tbody>\n",
       "    <tr>\n",
       "      <th>0</th>\n",
       "      <td>1.0</td>\n",
       "      <td>0.0</td>\n",
       "    </tr>\n",
       "    <tr>\n",
       "      <th>1</th>\n",
       "      <td>1.1</td>\n",
       "      <td>17.0</td>\n",
       "    </tr>\n",
       "    <tr>\n",
       "      <th>2</th>\n",
       "      <td>1.2</td>\n",
       "      <td>31.0</td>\n",
       "    </tr>\n",
       "    <tr>\n",
       "      <th>3</th>\n",
       "      <td>1.3</td>\n",
       "      <td>41.0</td>\n",
       "    </tr>\n",
       "    <tr>\n",
       "      <th>4</th>\n",
       "      <td>1.4</td>\n",
       "      <td>49.0</td>\n",
       "    </tr>\n",
       "    <tr>\n",
       "      <th>5</th>\n",
       "      <td>1.5</td>\n",
       "      <td>56.0</td>\n",
       "    </tr>\n",
       "    <tr>\n",
       "      <th>6</th>\n",
       "      <td>1.6</td>\n",
       "      <td>61.0</td>\n",
       "    </tr>\n",
       "    <tr>\n",
       "      <th>7</th>\n",
       "      <td>1.7</td>\n",
       "      <td>65.0</td>\n",
       "    </tr>\n",
       "    <tr>\n",
       "      <th>8</th>\n",
       "      <td>1.8</td>\n",
       "      <td>69.0</td>\n",
       "    </tr>\n",
       "    <tr>\n",
       "      <th>9</th>\n",
       "      <td>1.9</td>\n",
       "      <td>72.0</td>\n",
       "    </tr>\n",
       "    <tr>\n",
       "      <th>10</th>\n",
       "      <td>2.0</td>\n",
       "      <td>75.0</td>\n",
       "    </tr>\n",
       "    <tr>\n",
       "      <th>11</th>\n",
       "      <td>2.1</td>\n",
       "      <td>77.0</td>\n",
       "    </tr>\n",
       "    <tr>\n",
       "      <th>12</th>\n",
       "      <td>2.2</td>\n",
       "      <td>79.0</td>\n",
       "    </tr>\n",
       "    <tr>\n",
       "      <th>13</th>\n",
       "      <td>2.3</td>\n",
       "      <td>81.0</td>\n",
       "    </tr>\n",
       "    <tr>\n",
       "      <th>14</th>\n",
       "      <td>2.4</td>\n",
       "      <td>83.0</td>\n",
       "    </tr>\n",
       "    <tr>\n",
       "      <th>15</th>\n",
       "      <td>2.5</td>\n",
       "      <td>84.0</td>\n",
       "    </tr>\n",
       "    <tr>\n",
       "      <th>16</th>\n",
       "      <td>2.6</td>\n",
       "      <td>85.0</td>\n",
       "    </tr>\n",
       "    <tr>\n",
       "      <th>17</th>\n",
       "      <td>2.7</td>\n",
       "      <td>86.0</td>\n",
       "    </tr>\n",
       "    <tr>\n",
       "      <th>18</th>\n",
       "      <td>2.8</td>\n",
       "      <td>87.0</td>\n",
       "    </tr>\n",
       "    <tr>\n",
       "      <th>19</th>\n",
       "      <td>2.9</td>\n",
       "      <td>88.0</td>\n",
       "    </tr>\n",
       "    <tr>\n",
       "      <th>20</th>\n",
       "      <td>3.0</td>\n",
       "      <td>89.0</td>\n",
       "    </tr>\n",
       "    <tr>\n",
       "      <th>21</th>\n",
       "      <td>3.1</td>\n",
       "      <td>90.0</td>\n",
       "    </tr>\n",
       "    <tr>\n",
       "      <th>22</th>\n",
       "      <td>3.2</td>\n",
       "      <td>90.0</td>\n",
       "    </tr>\n",
       "    <tr>\n",
       "      <th>23</th>\n",
       "      <td>3.3</td>\n",
       "      <td>91.0</td>\n",
       "    </tr>\n",
       "    <tr>\n",
       "      <th>24</th>\n",
       "      <td>3.4</td>\n",
       "      <td>91.0</td>\n",
       "    </tr>\n",
       "    <tr>\n",
       "      <th>25</th>\n",
       "      <td>3.5</td>\n",
       "      <td>92.0</td>\n",
       "    </tr>\n",
       "    <tr>\n",
       "      <th>26</th>\n",
       "      <td>3.6</td>\n",
       "      <td>92.0</td>\n",
       "    </tr>\n",
       "    <tr>\n",
       "      <th>27</th>\n",
       "      <td>3.7</td>\n",
       "      <td>93.0</td>\n",
       "    </tr>\n",
       "    <tr>\n",
       "      <th>28</th>\n",
       "      <td>3.8</td>\n",
       "      <td>93.0</td>\n",
       "    </tr>\n",
       "    <tr>\n",
       "      <th>29</th>\n",
       "      <td>3.9</td>\n",
       "      <td>93.0</td>\n",
       "    </tr>\n",
       "    <tr>\n",
       "      <th>30</th>\n",
       "      <td>4.0</td>\n",
       "      <td>94.0</td>\n",
       "    </tr>\n",
       "  </tbody>\n",
       "</table>\n",
       "</div>"
      ],
      "text/plain": [
       "      k  Prozent\n",
       "0   1.0      0.0\n",
       "1   1.1     17.0\n",
       "2   1.2     31.0\n",
       "3   1.3     41.0\n",
       "4   1.4     49.0\n",
       "5   1.5     56.0\n",
       "6   1.6     61.0\n",
       "7   1.7     65.0\n",
       "8   1.8     69.0\n",
       "9   1.9     72.0\n",
       "10  2.0     75.0\n",
       "11  2.1     77.0\n",
       "12  2.2     79.0\n",
       "13  2.3     81.0\n",
       "14  2.4     83.0\n",
       "15  2.5     84.0\n",
       "16  2.6     85.0\n",
       "17  2.7     86.0\n",
       "18  2.8     87.0\n",
       "19  2.9     88.0\n",
       "20  3.0     89.0\n",
       "21  3.1     90.0\n",
       "22  3.2     90.0\n",
       "23  3.3     91.0\n",
       "24  3.4     91.0\n",
       "25  3.5     92.0\n",
       "26  3.6     92.0\n",
       "27  3.7     93.0\n",
       "28  3.8     93.0\n",
       "29  3.9     93.0\n",
       "30  4.0     94.0"
      ]
     },
     "execution_count": 7,
     "metadata": {},
     "output_type": "execute_result"
    }
   ],
   "source": [
    "k = np.arange(1, 4.1, 0.1)\n",
    "value = np.round((1 - (1 / k**2)) * 100)\n",
    "chebyshev = pd.DataFrame({\"k\": k, \"Prozent\": value})\n",
    "chebyshev"
   ]
  },
  {
   "cell_type": "markdown",
   "id": "fe4a9575-4dbc-450a-8daf-c3e02e52950c",
   "metadata": {},
   "source": [
    "Um es in Worte zu fassen: Für $k=2$ bedeutet das, dass mindestens **$75 \\% $** der Datenwerte innerhalb von **2 Standardabweichungen** vom Mittelwert liegen.\n",
    "\n",
    "Stellen wir das Tschebyscheff-Theorem mit Python dar: "
   ]
  },
  {
   "cell_type": "code",
   "execution_count": 8,
   "id": "75c58dd3",
   "metadata": {},
   "outputs": [
    {
     "name": "stderr",
     "output_type": "stream",
     "text": [
      "/home/imarevic/.local/lib/python3.10/site-packages/pandas/plotting/_matplotlib/core.py:1114: UserWarning: No data for colormapping provided via 'c'. Parameters 'cmap' will be ignored\n",
      "  scatter = ax.scatter(\n"
     ]
    },
    {
     "data": {
      "image/png": "[encoded data removed]",
      "text/plain": [
       "<Figure size 864x432 with 1 Axes>"
      ]
     },
     "metadata": {
      "needs_background": "light"
     },
     "output_type": "display_data"
    }
   ],
   "source": [
    "fig, ax = plt.subplots()\n",
    "chebyshev.plot.scatter(x=\"k\", y=\"Prozent\", ax=ax)\n",
    "ax.set_title(\"Tschebyscheff-Theorem\")\n",
    "ax.grid()"
   ]
  },
  {
   "cell_type": "markdown",
   "id": "06a93b1e-58c5-4da9-b062-bc4231271f14",
   "metadata": {},
   "source": [
    "Das Theorem gilt sowohl für Stichproben- als auch für Grundgesamtheitsdaten. Die Tschebyscheffsche Ungleichung gilt für Verteilungen beliebiger Form. Sie kann jedoch nur für $k > 1$ verwendet werden. Denn wenn $k=1$ ist, ist der Wert von $1-\\frac{1}{k^2}$ Null, und wenn $k < 1$ ist, ist der Wert von $1-\\frac{1}{k^2}$ negativ ({cite:p}`fahrmeirstatistik` s.304). "
   ]
  },
  {
   "cell_type": "markdown",
   "id": "a956ad74-9896-42a4-a214-4a61b5c2aedf",
   "metadata": {},
   "source": [
    "#### Empirische Regel\n",
    "Während die Tschebyscheffsche Ungleichung auf jede Art von Verteilung anwendbar ist, gilt die **empirische Regel** nur für eine bestimmte Art von Verteilung, die so genannte **Gaußverteilung** oder **Normalverteilung**. Es gibt 3 Regeln: <br> <br> Bei einer Normalverteilung sind   \n",
    "\n",
    "1.  $68 \\%$ der Beobachtungen innerhalb einer Standardabweichung des Mittelwerts.\n",
    "2.  $95 \\%$ der Beobachtungen innerhalb von zwei Standardabweichungen des Mittelwerts.\n",
    "3.  $99,7 \\%$ der Beobachtungen innerhalb von drei Standardabweichungen des Mittelwerts.\n",
    "\n"
   ]
  },
  {
   "cell_type": "markdown",
   "id": "ff03f162-a97b-4f78-a060-edff11e00408",
   "metadata": {},
   "source": [
    "Da wir inzwischen über genügend Hacking-Power verfügen, werden wir versuchen zu testen, ob die drei Regeln gültig sind. \n",
    "\n",
    "**(1) Erstens** werden wir die Funktion `random.normal()` in Python erforschen, um normalverteilte Daten zu erzeugen, und \n",
    "\n",
    "**(2) Zweitens** werden wir zu unserem `students` Datensatz zurückkehren um diese Regeln an diesem Datensatz zu validieren. \n",
    "<br> <br> Die Normalverteilung gehört zur Familie der <a href=\"https://de.wikipedia.org/wiki/Wahrscheinlichkeitsma%C3%9F\">stetigen Verteilungen</a>. In Python gibt es eine Vielzahl von Wahrscheinlichkeitsverteilungen <a href=\"https://docs.scipy.org/doc/scipy/reference/stats.html\">(hier)</a>. Um Daten aus einer Normalverteilung zu erzeugen, kann man die Funktion `random.normal()` verwenden, die ein Zufallsvariablengenerator für die Normalverteilung ist.\n",
    "\n",
    "Mit der Funktion `np.random.normal(loc=0.0, scale=1.0)` können wir Zufallsvariablen aus einer Normalverteilung mit einem gegebenen Mittelwert (Standard ist $0$) und einer Standardabweichung (Standard ist $1$) entnehmen. Mit dem Argument `size` können wir die Anzahl der erzeugten Zufallsvariablen bestimmen."
   ]
  },
  {
   "cell_type": "code",
   "execution_count": 9,
   "id": "bcec69c1",
   "metadata": {},
   "outputs": [
    {
     "data": {
      "text/plain": [
       "array([0.35778736])"
      ]
     },
     "execution_count": 9,
     "metadata": {},
     "output_type": "execute_result"
    }
   ],
   "source": [
    "np.random.normal(loc=0.0, scale=1.0, size=1)"
   ]
  },
  {
   "cell_type": "code",
   "execution_count": 13,
   "id": "6ac44682",
   "metadata": {},
   "outputs": [
    {
     "data": {
      "text/plain": [
       "array([-0.93782504])"
      ]
     },
     "execution_count": 13,
     "metadata": {},
     "output_type": "execute_result"
    }
   ],
   "source": [
    "np.random.normal(loc=0.0, scale=1.0, size=1)"
   ]
  },
  {
   "cell_type": "code",
   "execution_count": 11,
   "id": "88aaaf8e",
   "metadata": {},
   "outputs": [
    {
     "data": {
      "text/plain": [
       "array([1.08305124])"
      ]
     },
     "execution_count": 11,
     "metadata": {},
     "output_type": "execute_result"
    }
   ],
   "source": [
    "np.random.normal(loc=0.0, scale=1.0, size=1)"
   ]
  },
  {
   "cell_type": "markdown",
   "id": "5f35ca74-3235-4c10-804b-881637218c4d",
   "metadata": {},
   "source": [
    "Wir können die Funktion ziemlich einfach bitten, hunderte oder tausende oder noch mehr (Pseudo-)Zufallszahlen zu ziehen:"
   ]
  },
  {
   "cell_type": "code",
   "execution_count": 14,
   "id": "9ca81cb7",
   "metadata": {},
   "outputs": [
    {
     "data": {
      "text/plain": [
       "array([ 0.51503527,  0.51378595,  0.51504769,  3.85273149,  0.57089051,\n",
       "        1.13556564,  0.95400176,  0.65139125, -0.31526924,  0.75896922])"
      ]
     },
     "execution_count": 14,
     "metadata": {},
     "output_type": "execute_result"
    }
   ],
   "source": [
    "np.random.normal(loc=0.0, scale=1.0, size=10)"
   ]
  },
  {
   "cell_type": "code",
   "execution_count": 15,
   "id": "a54cae55",
   "metadata": {},
   "outputs": [
    {
     "data": {
      "text/plain": [
       "array([-0.77282521, -0.23681861, -0.48536355,  0.08187414,  2.31465857,\n",
       "       -1.86726519,  0.68626019, -1.61271587, -0.47193187,  1.0889506 ,\n",
       "        0.06428002, -1.07774478, -0.71530371,  0.67959775, -0.73036663,\n",
       "        0.21645859,  0.04557184, -0.65160035,  2.14394409,  0.63391902,\n",
       "       -2.02514259,  0.18645431, -0.66178646,  0.85243333, -0.79252074,\n",
       "       -0.11473644,  0.50498728,  0.86575519, -1.20029641, -0.33450124,\n",
       "       -0.47494531, -0.65332923,  1.76545424,  0.40498171, -1.26088395,\n",
       "        0.91786195,  2.1221562 ,  1.03246526, -1.51936997, -0.48423407,\n",
       "        1.26691115, -0.70766947,  0.44381943,  0.77463405, -0.92693047,\n",
       "       -0.05952536, -3.24126734, -1.02438764, -0.25256815, -1.24778318,\n",
       "        1.6324113 , -1.43014138, -0.44004449,  0.13074058,  1.44127329,\n",
       "       -1.43586215,  1.16316375,  0.01023306, -0.98150865,  0.46210347,\n",
       "        0.1990597 , -0.60021688,  0.06980208, -0.3853136 ,  0.11351735,\n",
       "        0.66213067,  1.58601682, -1.2378155 ,  2.13303337, -1.9520878 ,\n",
       "       -0.1517851 ,  0.58831721,  0.28099187, -0.62269952, -0.20812225,\n",
       "       -0.49300093, -0.58936476,  0.8496021 ,  0.35701549, -0.6929096 ,\n",
       "        0.89959988,  0.30729952,  0.81286212,  0.62962884, -0.82899501,\n",
       "       -0.56018104,  0.74729361,  0.61037027, -0.02090159,  0.11732738,\n",
       "        1.2776649 , -0.59157139,  0.54709738, -0.20219265, -0.2176812 ,\n",
       "        1.09877685,  0.82541635,  0.81350964,  1.30547881,  0.02100384])"
      ]
     },
     "execution_count": 15,
     "metadata": {},
     "output_type": "execute_result"
    }
   ],
   "source": [
    "np.random.normal(loc=0.0, scale=1.0, size=100)"
   ]
  },
  {
   "cell_type": "markdown",
   "id": "b4ee5e96-f3f3-4729-8bba-92e661fbc062",
   "metadata": {},
   "source": [
    "Wenn wir ein Histogramm dieser Zahlen erstellen, sehen wir die namensgebende glockenförmige Verteilung."
   ]
  },
  {
   "cell_type": "code",
   "execution_count": 16,
   "id": "fe957281",
   "metadata": {},
   "outputs": [
    {
     "data": {
      "image/png": "[encoded data removed]",
      "text/plain": [
       "<Figure size 864x432 with 1 Axes>"
      ]
     },
     "metadata": {
      "needs_background": "light"
     },
     "output_type": "display_data"
    }
   ],
   "source": [
    "y_norm = np.random.normal(loc=0.0, scale=1.0, size=100000)\n",
    "bins = int(len(y_norm) / 1000)  # bestimmt die Anzahl der Bins\n",
    "plt.hist(y_norm, bins=bins)\n",
    "plt.ylabel(\"Absolute Häufigkeit\")\n",
    "plt.show()"
   ]
  },
  {
   "cell_type": "markdown",
   "id": "6a650d2c-d02d-4d9e-b12b-ef5002c7fc71",
   "metadata": {},
   "source": [
    "Wir kennen bereits den Mittelwert und die Standardabweichung der Werte in `y_norm`, da wir die Funktion `np.random.normal()` explizit mit `mean=0` und `sd=1` aufgerufen haben. Wir müssen also nur die Zahlen in `y_norm` zählen, die größer als $-1$ bzw. kleiner als $1$ und $2$ bzw. $-2$ und $3$ bzw. $-3$ sind, und sie zur Länge von `y_norm`, in unserem Fall $100.000$, in Beziehung setzen, um die drei oben genannten Regeln zu bestätigen."
   ]
  },
  {
   "cell_type": "code",
   "execution_count": 17,
   "id": "e2e77065",
   "metadata": {},
   "outputs": [
    {
     "name": "stdout",
     "output_type": "stream",
     "text": [
      "sd1 : 0.68142\n",
      "sd2 : 0.95444\n",
      "sd3 : 0.99737\n"
     ]
    }
   ],
   "source": [
    "# Berechne Anzahl der Werte < 1 - Anzahl der Werte > -1 durch Gesamtanzahl\n",
    "sd1 = sum((y_norm > -1) & (y_norm < 1)) / len(y_norm)\n",
    "\n",
    "# Berechne Anzahl der Werte < 2 - Anzahl der Werte  > -2 durch Gesamtanzahl\n",
    "sd2 = sum((y_norm > -2) & (y_norm < 2)) / len(y_norm)\n",
    "\n",
    "# Berechne Anzahl der Werte < 3 - Anzahl der Werte > -3 durch Gesamtanzahl\n",
    "sd3 = sum((y_norm > -3) & (y_norm < 3)) / len(y_norm)\n",
    "\n",
    "print(\"sd1 :\", sd1)\n",
    "print(\"sd2 :\", sd2)\n",
    "print(\"sd3 :\", sd3)"
   ]
  },
  {
   "cell_type": "markdown",
   "id": "da2d7460-1771-41de-9e9a-5f610dcb70c1",
   "metadata": {},
   "source": [
    "Perfekte Übereinstimmung! Die drei empirischen Regeln sind offensichtlich gültig. Um unsere Ergebnisse zu veranschaulichen, stellen wir das Histogramm erneut dar und fügen einige Anmerkungen hinzu. Bitte beachten Sie, dass wir in der `hist()`-Funktion das Argument `density=True` setzen. Dies hat zur Folge, dass das resultierende Histogramm nicht mehr die Zählungen auf der y-Achse anzeigt, sondern die **Dichtewerte** (normalisierte Zählung geteilt durch Bin-Breite), was bedeutet, dass sich die Balkenbereiche zu $1$ summieren."
   ]
  },
  {
   "cell_type": "code",
   "execution_count": 18,
   "id": "de2f1f5e",
   "metadata": {},
   "outputs": [
    {
     "data": {
      "image/png": "[encoded data removed]",
      "text/plain": [
       "<Figure size 864x432 with 1 Axes>"
      ]
     },
     "metadata": {
      "needs_background": "light"
     },
     "output_type": "display_data"
    }
   ],
   "source": [
    "fig, ax = plt.subplots()\n",
    "ax.hist(y_norm, bins=bins)\n",
    "ax.set_ylabel(\"Absolute Häufigkeit\")\n",
    "for e, std in enumerate([(-1, 1), (-2, 2), (-3, 3)]):\n",
    "    plt.axvline(std[0], color=f\"C{e+1}\")\n",
    "    plt.axvline(std[1], color=f\"C{e+1}\")"
   ]
  },
  {
   "cell_type": "markdown",
   "id": "049ce592-42b5-4b46-b396-15491b14ce9c",
   "metadata": {},
   "source": [
    "Nun, lassen Sie uns an der **zweiten** Aufgabe arbeiten: Überprüfen Sie die drei empirischen Regeln anhand des `students` Datensatzes. Dazu müssen wir überprüfen, ob eine der numerischen Variablen im Studentendatensatz  normalverteilt ist. Wir beginnen mit der Extraktion numerischer Variablen von Interesse aus dem `students` Datensatz. Dann zeichnen wir Histogramme und beurteilen, ob die Variable normalverteilt ist oder nicht. Zunächst überprüfen wir jedoch den Datensatz, indem wir die Funktion `head()` aufrufen."
   ]
  },
  {
   "cell_type": "code",
   "execution_count": 19,
   "id": "eb51e94e",
   "metadata": {},
   "outputs": [
    {
     "data": {
      "text/html": [
       "<div>\n",
       "<style scoped>\n",
       "    .dataframe tbody tr th:only-of-type {\n",
       "        vertical-align: middle;\n",
       "    }\n",
       "\n",
       "    .dataframe tbody tr th {\n",
       "        vertical-align: top;\n",
       "    }\n",
       "\n",
       "    .dataframe thead th {\n",
       "        text-align: right;\n",
       "    }\n",
       "</style>\n",
       "<table border=\"1\" class=\"dataframe\">\n",
       "  <thead>\n",
       "    <tr style=\"text-align: right;\">\n",
       "      <th></th>\n",
       "      <th>age</th>\n",
       "      <th>height</th>\n",
       "      <th>weight</th>\n",
       "      <th>score1</th>\n",
       "      <th>score2</th>\n",
       "      <th>salary</th>\n",
       "    </tr>\n",
       "  </thead>\n",
       "  <tbody>\n",
       "    <tr>\n",
       "      <th>0</th>\n",
       "      <td>19</td>\n",
       "      <td>160</td>\n",
       "      <td>64.8</td>\n",
       "      <td>NaN</td>\n",
       "      <td>NaN</td>\n",
       "      <td>NaN</td>\n",
       "    </tr>\n",
       "    <tr>\n",
       "      <th>1</th>\n",
       "      <td>19</td>\n",
       "      <td>172</td>\n",
       "      <td>73.0</td>\n",
       "      <td>NaN</td>\n",
       "      <td>NaN</td>\n",
       "      <td>NaN</td>\n",
       "    </tr>\n",
       "    <tr>\n",
       "      <th>2</th>\n",
       "      <td>22</td>\n",
       "      <td>168</td>\n",
       "      <td>70.6</td>\n",
       "      <td>45.0</td>\n",
       "      <td>46.0</td>\n",
       "      <td>NaN</td>\n",
       "    </tr>\n",
       "    <tr>\n",
       "      <th>3</th>\n",
       "      <td>19</td>\n",
       "      <td>183</td>\n",
       "      <td>79.7</td>\n",
       "      <td>NaN</td>\n",
       "      <td>NaN</td>\n",
       "      <td>NaN</td>\n",
       "    </tr>\n",
       "    <tr>\n",
       "      <th>4</th>\n",
       "      <td>21</td>\n",
       "      <td>175</td>\n",
       "      <td>71.4</td>\n",
       "      <td>NaN</td>\n",
       "      <td>NaN</td>\n",
       "      <td>NaN</td>\n",
       "    </tr>\n",
       "    <tr>\n",
       "      <th>5</th>\n",
       "      <td>19</td>\n",
       "      <td>189</td>\n",
       "      <td>85.8</td>\n",
       "      <td>NaN</td>\n",
       "      <td>NaN</td>\n",
       "      <td>NaN</td>\n",
       "    </tr>\n",
       "    <tr>\n",
       "      <th>6</th>\n",
       "      <td>21</td>\n",
       "      <td>156</td>\n",
       "      <td>65.9</td>\n",
       "      <td>NaN</td>\n",
       "      <td>NaN</td>\n",
       "      <td>NaN</td>\n",
       "    </tr>\n",
       "    <tr>\n",
       "      <th>7</th>\n",
       "      <td>21</td>\n",
       "      <td>167</td>\n",
       "      <td>65.7</td>\n",
       "      <td>58.0</td>\n",
       "      <td>62.0</td>\n",
       "      <td>NaN</td>\n",
       "    </tr>\n",
       "    <tr>\n",
       "      <th>8</th>\n",
       "      <td>18</td>\n",
       "      <td>195</td>\n",
       "      <td>94.4</td>\n",
       "      <td>57.0</td>\n",
       "      <td>67.0</td>\n",
       "      <td>NaN</td>\n",
       "    </tr>\n",
       "    <tr>\n",
       "      <th>9</th>\n",
       "      <td>18</td>\n",
       "      <td>165</td>\n",
       "      <td>66.0</td>\n",
       "      <td>NaN</td>\n",
       "      <td>NaN</td>\n",
       "      <td>NaN</td>\n",
       "    </tr>\n",
       "  </tbody>\n",
       "</table>\n",
       "</div>"
      ],
      "text/plain": [
       "   age  height  weight  score1  score2  salary\n",
       "0   19     160    64.8     NaN     NaN     NaN\n",
       "1   19     172    73.0     NaN     NaN     NaN\n",
       "2   22     168    70.6    45.0    46.0     NaN\n",
       "3   19     183    79.7     NaN     NaN     NaN\n",
       "4   21     175    71.4     NaN     NaN     NaN\n",
       "5   19     189    85.8     NaN     NaN     NaN\n",
       "6   21     156    65.9     NaN     NaN     NaN\n",
       "7   21     167    65.7    58.0    62.0     NaN\n",
       "8   18     195    94.4    57.0    67.0     NaN\n",
       "9   18     165    66.0     NaN     NaN     NaN"
      ]
     },
     "execution_count": 19,
     "metadata": {},
     "output_type": "execute_result"
    }
   ],
   "source": [
    "# Lesen der Datei students.csv als Dataframe;\n",
    "students = pd.read_csv(\n",
    "    \"../../data/students.csv\",\n",
    "    usecols=[\"age\", \"height\", \"weight\", \"score1\", \"score2\", \"salary\"],\n",
    ")\n",
    "students.head(10)"
   ]
  },
  {
   "cell_type": "markdown",
   "id": "8c769aaf-3a90-4547-9297-e757c941b9a5",
   "metadata": {},
   "source": [
    "Um einen Überblick über die Form der Verteilung der einzelnen Variablen zu erhalten, verwenden wir die Methode `hist()`."
   ]
  },
  {
   "cell_type": "code",
   "execution_count": 20,
   "id": "9b61c3d4",
   "metadata": {},
   "outputs": [
    {
     "data": {
      "image/png": "[encoded data removed]",
      "text/plain": [
       "<Figure size 864x432 with 6 Axes>"
      ]
     },
     "metadata": {
      "needs_background": "light"
     },
     "output_type": "display_data"
    }
   ],
   "source": [
    "cols = students.columns\n",
    "fig, ax = plt.subplots(ncols=int(len(cols) / 2), nrows=2)\n",
    "ax = np.ravel(ax)  # vereinfacht das iterieren durch die axes Objekte\n",
    "titles = {\n",
    "    \"age\": \"Alter\",\n",
    "    \"height\": \"Grösse\",\n",
    "    \"weight\": \"Gewicht\",\n",
    "    \"score1\": \"Punkte1\",\n",
    "    \"score2\": \"Punkte2\",\n",
    "    \"salary\": \"Gehalt\",\n",
    "}\n",
    "\n",
    "for e, col in enumerate(cols):\n",
    "    bins = int(students[col].nunique() / 2)\n",
    "    ax[e].hist(students[col], bins=bins, density=True)\n",
    "    ax[e].set_title(titles[col])\n",
    "fig.tight_layout()"
   ]
  },
  {
   "cell_type": "markdown",
   "id": "7ec26b78-5e38-42f5-a15e-7f99848c2f7b",
   "metadata": {},
   "source": [
    "Wir stellen sofort fest, dass einige Variablen positiv verzerrt sind, also schließen wir sie aus und behalten diejenigen, die normal verteilt zu sein scheinen."
   ]
  },
  {
   "cell_type": "code",
   "execution_count": 21,
   "id": "487c2a2c",
   "metadata": {},
   "outputs": [
    {
     "data": {
      "image/png": "[encoded data removed]",
      "text/plain": [
       "<Figure size 864x432 with 2 Axes>"
      ]
     },
     "metadata": {
      "needs_background": "light"
     },
     "output_type": "display_data"
    }
   ],
   "source": [
    "cols = [\"height\", \"salary\"]\n",
    "fig, ax = plt.subplots(ncols=2)\n",
    "ax = np.ravel(ax)  # vereinfacht das iterieren durch die axes Objekte\n",
    "bins_fact = {\"height\": 2, \"salary\": 40}\n",
    "\n",
    "for e, col in enumerate(cols):\n",
    "    bins = int(students[col].nunique() / bins_fact[col])\n",
    "    ax[e].hist(students[col], bins=bins)\n",
    "    ax[e].set_title(titles[col])\n",
    "fig.tight_layout()"
   ]
  },
  {
   "cell_type": "markdown",
   "id": "a3e9441d-caf1-47b5-a249-486e24a4b5e3",
   "metadata": {},
   "source": [
    "Nun, sowohl die Variable `height` als auch die Variable `salary` scheinen mehr oder weniger normalverteilt zu sein. Es ist also eine Frage des Geschmacks, welche Variable man für die weitere Analyse auswählt. Für den Moment bleiben wir bei der Gehaltsvariable und überprüfen, ob die drei oben genannten empirischen Regeln gültig sind. Wir wechseln zu Python und validieren diese Regeln, indem wir zunächst den Mittelwert und die Standardabweichungen berechnen. Bitte beachten Sie, dass die Gehaltsvariable Fehlwerte enthält, die mit `NA` gekennzeichnet sind. Daher schließen wir zunächst alle `NA`-Werte aus, indem wir die Funktion `dropna()` anwenden."
   ]
  },
  {
   "cell_type": "code",
   "execution_count": 22,
   "id": "32a240f0",
   "metadata": {},
   "outputs": [
    {
     "data": {
      "text/plain": [
       "10      45254.11\n",
       "12      40552.79\n",
       "13      27007.03\n",
       "16      33969.16\n",
       "27      50617.64\n",
       "          ...   \n",
       "8228    33259.70\n",
       "8233    41028.24\n",
       "8234    36750.09\n",
       "8237    40112.04\n",
       "8238    45900.13\n",
       "Name: salary, Length: 1753, dtype: float64"
      ]
     },
     "execution_count": 22,
     "metadata": {},
     "output_type": "execute_result"
    }
   ],
   "source": [
    "salary = students[\"salary\"].dropna()\n",
    "salary"
   ]
  },
  {
   "cell_type": "code",
   "execution_count": 23,
   "id": "51a71567",
   "metadata": {},
   "outputs": [
    {
     "name": "stdout",
     "output_type": "stream",
     "text": [
      "Mittelwert des Gehalts:             42522.112253280095\n",
      "1 Standardabweichung des Gehalts:   10333.139991647347\n",
      "2 Standardabweichungen des Gehalts: 20666.279983294695\n",
      "3 Standardabweichungen des Gehalts: 30999.419974942044\n"
     ]
    }
   ],
   "source": [
    "print(f\"Mittelwert des Gehalts:             {salary.mean()}\")\n",
    "print(f\"1 Standardabweichung des Gehalts:   {salary.std()}\")\n",
    "print(f\"2 Standardabweichungen des Gehalts: {2 * salary.std()}\")\n",
    "print(f\"3 Standardabweichungen des Gehalts: {3 * salary.std()}\")"
   ]
  },
  {
   "cell_type": "markdown",
   "id": "bff9c75e-a17b-4409-81d4-2756d1c8c3d4",
   "metadata": {},
   "source": [
    "Wie in der obigen allgemeinen Beispielform zählen wir die Anzahl der Werte, die größer als $+1$ s.d. bzw. kleiner als $-1$ s.d. und $+2$ s.d. bzw. $-2$ s.d. und $+3$ s.d. bzw. $-3$ s.d. sind, und setzen sie in Beziehung zur Länge des Vektors, in unserem Fall $1753$."
   ]
  },
  {
   "cell_type": "code",
   "execution_count": 24,
   "id": "222b5dbd",
   "metadata": {},
   "outputs": [
    {
     "name": "stdout",
     "output_type": "stream",
     "text": [
      "sd1 : 0.6708499714774672\n",
      "sd2 : 0.9560752994865944\n",
      "sd3 : 0.9977181973759269\n"
     ]
    }
   ],
   "source": [
    "salary_mean = salary.mean()\n",
    "salary_std = salary.std()\n",
    "\n",
    "sd1 = (\n",
    "    sum((salary > (salary_mean - salary_std)) & (salary < (salary_mean + salary_std)))\n",
    "    / salary.shape[0]\n",
    ")\n",
    "\n",
    "sd2 = (\n",
    "    sum(\n",
    "        (salary > (salary_mean - 2 * salary_std))\n",
    "        & (salary < (salary_mean + 2 * salary_std))\n",
    "    )\n",
    "    / salary.shape[0]\n",
    ")\n",
    "\n",
    "\n",
    "sd3 = (\n",
    "    sum(\n",
    "        (salary > (salary_mean - 3 * salary_std))\n",
    "        & (salary < (salary_mean + 3 * salary_std))\n",
    "    )\n",
    "    / salary.shape[0]\n",
    ")\n",
    "\n",
    "\n",
    "print(\"sd1 :\", sd1)\n",
    "print(\"sd2 :\", sd2)\n",
    "print(\"sd3 :\", sd3)"
   ]
  },
  {
   "cell_type": "markdown",
   "id": "2241a7b8-8efa-417c-94fd-55cb7572bd25",
   "metadata": {},
   "source": [
    "Wow, ziemlich nah dran! Offensichtlich zeigt die Gehaltsvariable eine starke Tendenz zur Unterstützung der so genannten empirischen Regel. Wir stellen das Histogramm für die Variable `salary` dar, um unseren Eindruck zu bestätigen. "
   ]
  },
  {
   "cell_type": "code",
   "execution_count": 25,
   "id": "2c5f953a",
   "metadata": {},
   "outputs": [
    {
     "data": {
      "image/png": "[encoded data removed]",
      "text/plain": [
       "<Figure size 864x432 with 1 Axes>"
      ]
     },
     "metadata": {
      "needs_background": "light"
     },
     "output_type": "display_data"
    }
   ],
   "source": [
    "fig, ax = plt.subplots()\n",
    "bins = int(salary.nunique() / 40)\n",
    "ax.hist(salary, bins=bins)\n",
    "ax.set_ylabel(\"Absolute Häufigkeit\")\n",
    "ax.set_xlabel(\"Gehalt\")\n",
    "for e in range(3):\n",
    "    ax.axvline(salary_mean + (e + 1) * salary_std, color=f\"C{e+1}\")\n",
    "    ax.axvline(salary_mean - (e + 1) * salary_std, color=f\"C{e+1}\")"
   ]
  },
  {
   "cell_type": "markdown",
   "id": "ac739f07-87dc-4809-9e98-5912be13ffb3",
   "metadata": {},
   "source": [
    "Wir können nun unseren Visualisierungsansatz erweitern, indem wir die **empirische Dichteschätzung** mit der Funktion `scipy_kernel.evaluate()` grafisch darstellen und ihre Form überprüfen. Wir stellen die empirische Dichteschätzung als gestrichelte Linie dar, indem wir das <a href=\"https://matplotlib.org/stable/gallery/lines_bars_and_markers/linestyles.html\">(Linientyp-Argument)</a> `'-.'` und eine Linienbreite von $3$ (Argument `linewidth=3.0`) setzen."
   ]
  },
  {
   "cell_type": "code",
   "execution_count": 26,
   "id": "b948b12d",
   "metadata": {},
   "outputs": [
    {
     "data": {
      "image/png": "[encoded data removed]",
      "text/plain": [
       "<Figure size 864x432 with 1 Axes>"
      ]
     },
     "metadata": {
      "needs_background": "light"
     },
     "output_type": "display_data"
    }
   ],
   "source": [
    "fig, ax = plt.subplots()\n",
    "bins = int(salary.nunique() / 40)\n",
    "ax.hist(salary, bins=bins, density=True)\n",
    "ax.set_ylabel(\"Dichte\")\n",
    "ax.set_xlabel(\"Gehalt\")\n",
    "\n",
    "# empirische Dichteschätzung\n",
    "x_salary = np.linspace(salary.min(), salary.max(), 100)\n",
    "scipy_kernel = gaussian_kde(salary)\n",
    "dens_emp = scipy_kernel.evaluate(x_salary)\n",
    "ax.plot(x_salary, dens_emp, color=\"k\", linestyle=\"dashed\", linewidth=3.0)\n",
    "\n",
    "# Standardabweichungen\n",
    "for e in range(3):\n",
    "    ax.axvline(salary_mean + (e + 1) * salary_std, color=f\"C{e+1}\")\n",
    "    ax.axvline(salary_mean - (e + 1) * salary_std, color=f\"C{e+1}\")"
   ]
  },
  {
   "cell_type": "markdown",
   "id": "3c8353f1-d2b6-4b04-90c0-16bd5ac82f49",
   "metadata": {},
   "source": [
    "Schließlich vergleichen wir unsere **empirische Dichteschätzung** mit der theoretischen **Wahrscheinlichkeitsdichtefunktion**, die auf dem tatsächlichen Mittelwert und der Standardabweichung der Daten `salary` basiert. Für einen besseren visuellen Vergleich wechseln wir zurück zu einer nicht eingefärbten Histogramm-Darstellung."
   ]
  },
  {
   "cell_type": "code",
   "execution_count": 27,
   "id": "bad8ba8e",
   "metadata": {},
   "outputs": [
    {
     "data": {
      "text/plain": [
       "<matplotlib.legend.Legend at 0x7faffa61ab90>"
      ]
     },
     "execution_count": 27,
     "metadata": {},
     "output_type": "execute_result"
    },
    {
     "data": {
      "image/png": "[encoded data removed]",
      "text/plain": [
       "<Figure size 864x432 with 1 Axes>"
      ]
     },
     "metadata": {
      "needs_background": "light"
     },
     "output_type": "display_data"
    }
   ],
   "source": [
    "fig, ax = plt.subplots()\n",
    "bins = int(salary.nunique() / 40)\n",
    "ax.hist(salary, bins=bins, density=True)\n",
    "ax.set_ylabel(\"Dichte\")\n",
    "ax.set_xlabel(\"Gehalt\")\n",
    "\n",
    "# empirische Dichteschätzung\n",
    "x_salary = np.linspace(salary.min(), salary.max(), 100)\n",
    "scipy_kernel = gaussian_kde(salary)\n",
    "dens_emp = scipy_kernel.evaluate(x_salary)\n",
    "ax.plot(\n",
    "    x_salary,\n",
    "    dens_emp,\n",
    "    color=\"k\",\n",
    "    linestyle=\"dashed\",\n",
    "    linewidth=3.0,\n",
    "    label=\"Empirische Dichteschätzung\",\n",
    ")\n",
    "\n",
    "# Wahrscheinlichkeitsdichtefunktion\n",
    "pdf = norm.pdf(x_salary, loc=salary.mean(), scale=salary.std())\n",
    "ax.plot(\n",
    "    x_salary, pdf, color=\"k\", linewidth=3.0, label=\"Wahrscheinlichkeitsdichtefunktion\"\n",
    ")\n",
    "\n",
    "# Standardabweichungen\n",
    "for e in range(3):\n",
    "    ax.axvline(salary_mean + (e + 1) * salary_std, color=f\"C{e+1}\")\n",
    "    ax.axvline(salary_mean - (e + 1) * salary_std, color=f\"C{e+1}\")\n",
    "ax.legend()"
   ]
  },
  {
   "cell_type": "markdown",
   "id": "e42dfecb-b8a2-456f-a6bd-d8fcea7b0e5d",
   "metadata": {},
   "source": [
    "Wir können daraus schließen, dass `salary` im Datensatz der `students` ungefähr normalverteilt ist. Die Grafik zeigt jedoch, dass die Verteilung der Gehaltsvariablen leicht linksschief ist. Dies ist an der Abweichung zwischen der **empirischen Dichteschätzung** und der **Wahrscheinlichkeitsdichtefunktion** zu erkennen."
   ]
  },
  {
   "cell_type": "markdown",
   "id": "c639393d-dd23-4c01-8ed9-8a990dbe332c",
   "metadata": {},
   "source": [
    "## Die Spannweite"
   ]
  },
  {
   "cell_type": "markdown",
   "id": "c021afb3-9819-4d2b-97c7-43d31b50c2f8",
   "metadata": {
    "jp-MarkdownHeadingCollapsed": true,
    "tags": []
   },
   "source": [
    "Die **Spannweite** als Maß für die Streuung ist einfach zu berechnen. Sie ergibt sich aus der Differenz zwischen dem größten und dem kleinsten Wert in einem Datensatz.\n",
    "\n",
    "$$\\text{Range} = \\text{größter Wert} - \\text{kleinster Wert}$$"
   ]
  },
  {
   "cell_type": "markdown",
   "id": "065a6914-92ae-4c7c-abda-0c5427ba7305",
   "metadata": {},
   "source": [
    "Betrachten wir unseren `students` Datensatz. Wir unterteilen den Datensatz so, dass er nur numerische Daten enthält."
   ]
  },
  {
   "cell_type": "code",
   "execution_count": 28,
   "id": "e6f1b4f8-41ef-48c6-a8fa-9096ab16866e",
   "metadata": {},
   "outputs": [
    {
     "data": {
      "text/html": [
       "<div>\n",
       "<style scoped>\n",
       "    .dataframe tbody tr th:only-of-type {\n",
       "        vertical-align: middle;\n",
       "    }\n",
       "\n",
       "    .dataframe tbody tr th {\n",
       "        vertical-align: top;\n",
       "    }\n",
       "\n",
       "    .dataframe thead th {\n",
       "        text-align: right;\n",
       "    }\n",
       "</style>\n",
       "<table border=\"1\" class=\"dataframe\">\n",
       "  <thead>\n",
       "    <tr style=\"text-align: right;\">\n",
       "      <th></th>\n",
       "      <th>stud_id</th>\n",
       "      <th>name</th>\n",
       "      <th>gender</th>\n",
       "      <th>age</th>\n",
       "      <th>height</th>\n",
       "      <th>weight</th>\n",
       "      <th>religion</th>\n",
       "      <th>nc_score</th>\n",
       "      <th>semester</th>\n",
       "      <th>major</th>\n",
       "      <th>minor</th>\n",
       "      <th>score1</th>\n",
       "      <th>score2</th>\n",
       "      <th>online_tutorial</th>\n",
       "      <th>graduated</th>\n",
       "      <th>salary</th>\n",
       "    </tr>\n",
       "  </thead>\n",
       "  <tbody>\n",
       "    <tr>\n",
       "      <th>1622</th>\n",
       "      <td>861582</td>\n",
       "      <td>Plenty Wolf, Cheyenne</td>\n",
       "      <td>Male</td>\n",
       "      <td>22</td>\n",
       "      <td>176</td>\n",
       "      <td>70.1</td>\n",
       "      <td>Catholic</td>\n",
       "      <td>2.82</td>\n",
       "      <td>&gt;6th</td>\n",
       "      <td>Mathematics and Statistics</td>\n",
       "      <td>Biology</td>\n",
       "      <td>88.0</td>\n",
       "      <td>86.0</td>\n",
       "      <td>0</td>\n",
       "      <td>1</td>\n",
       "      <td>48991.98</td>\n",
       "    </tr>\n",
       "    <tr>\n",
       "      <th>1799</th>\n",
       "      <td>386609</td>\n",
       "      <td>Garcia, Raeven</td>\n",
       "      <td>Female</td>\n",
       "      <td>20</td>\n",
       "      <td>163</td>\n",
       "      <td>66.3</td>\n",
       "      <td>Orthodox</td>\n",
       "      <td>2.79</td>\n",
       "      <td>2nd</td>\n",
       "      <td>Economics and Finance</td>\n",
       "      <td>Social Sciences</td>\n",
       "      <td>NaN</td>\n",
       "      <td>NaN</td>\n",
       "      <td>0</td>\n",
       "      <td>0</td>\n",
       "      <td>NaN</td>\n",
       "    </tr>\n",
       "    <tr>\n",
       "      <th>3648</th>\n",
       "      <td>549765</td>\n",
       "      <td>Olson, Brevin</td>\n",
       "      <td>Male</td>\n",
       "      <td>22</td>\n",
       "      <td>178</td>\n",
       "      <td>73.3</td>\n",
       "      <td>Catholic</td>\n",
       "      <td>1.66</td>\n",
       "      <td>4th</td>\n",
       "      <td>Biology</td>\n",
       "      <td>Environmental Sciences</td>\n",
       "      <td>72.0</td>\n",
       "      <td>84.0</td>\n",
       "      <td>1</td>\n",
       "      <td>0</td>\n",
       "      <td>NaN</td>\n",
       "    </tr>\n",
       "    <tr>\n",
       "      <th>3675</th>\n",
       "      <td>523451</td>\n",
       "      <td>Mayberry, Analisse</td>\n",
       "      <td>Female</td>\n",
       "      <td>23</td>\n",
       "      <td>159</td>\n",
       "      <td>65.4</td>\n",
       "      <td>Other</td>\n",
       "      <td>2.32</td>\n",
       "      <td>1st</td>\n",
       "      <td>Social Sciences</td>\n",
       "      <td>Mathematics and Statistics</td>\n",
       "      <td>NaN</td>\n",
       "      <td>NaN</td>\n",
       "      <td>0</td>\n",
       "      <td>0</td>\n",
       "      <td>NaN</td>\n",
       "    </tr>\n",
       "    <tr>\n",
       "      <th>5981</th>\n",
       "      <td>403595</td>\n",
       "      <td>Lynch, Amanda</td>\n",
       "      <td>Female</td>\n",
       "      <td>21</td>\n",
       "      <td>154</td>\n",
       "      <td>61.3</td>\n",
       "      <td>Catholic</td>\n",
       "      <td>1.00</td>\n",
       "      <td>4th</td>\n",
       "      <td>Economics and Finance</td>\n",
       "      <td>Mathematics and Statistics</td>\n",
       "      <td>69.0</td>\n",
       "      <td>72.0</td>\n",
       "      <td>1</td>\n",
       "      <td>0</td>\n",
       "      <td>NaN</td>\n",
       "    </tr>\n",
       "    <tr>\n",
       "      <th>693</th>\n",
       "      <td>816761</td>\n",
       "      <td>Oh, Enrique</td>\n",
       "      <td>Male</td>\n",
       "      <td>20</td>\n",
       "      <td>175</td>\n",
       "      <td>74.5</td>\n",
       "      <td>Other</td>\n",
       "      <td>3.53</td>\n",
       "      <td>3rd</td>\n",
       "      <td>Political Science</td>\n",
       "      <td>Social Sciences</td>\n",
       "      <td>62.0</td>\n",
       "      <td>60.0</td>\n",
       "      <td>1</td>\n",
       "      <td>0</td>\n",
       "      <td>NaN</td>\n",
       "    </tr>\n",
       "    <tr>\n",
       "      <th>4532</th>\n",
       "      <td>778497</td>\n",
       "      <td>Estrada, Caroline</td>\n",
       "      <td>Female</td>\n",
       "      <td>18</td>\n",
       "      <td>170</td>\n",
       "      <td>67.4</td>\n",
       "      <td>Protestant</td>\n",
       "      <td>3.38</td>\n",
       "      <td>5th</td>\n",
       "      <td>Political Science</td>\n",
       "      <td>Economics and Finance</td>\n",
       "      <td>49.0</td>\n",
       "      <td>51.0</td>\n",
       "      <td>1</td>\n",
       "      <td>1</td>\n",
       "      <td>32038.41</td>\n",
       "    </tr>\n",
       "    <tr>\n",
       "      <th>4705</th>\n",
       "      <td>533082</td>\n",
       "      <td>Almeida, Chasity</td>\n",
       "      <td>Female</td>\n",
       "      <td>22</td>\n",
       "      <td>173</td>\n",
       "      <td>73.0</td>\n",
       "      <td>Other</td>\n",
       "      <td>1.07</td>\n",
       "      <td>3rd</td>\n",
       "      <td>Social Sciences</td>\n",
       "      <td>Economics and Finance</td>\n",
       "      <td>43.0</td>\n",
       "      <td>47.0</td>\n",
       "      <td>1</td>\n",
       "      <td>0</td>\n",
       "      <td>NaN</td>\n",
       "    </tr>\n",
       "    <tr>\n",
       "      <th>4699</th>\n",
       "      <td>165922</td>\n",
       "      <td>Crowe, Tamikah</td>\n",
       "      <td>Female</td>\n",
       "      <td>24</td>\n",
       "      <td>151</td>\n",
       "      <td>62.5</td>\n",
       "      <td>Protestant</td>\n",
       "      <td>2.02</td>\n",
       "      <td>4th</td>\n",
       "      <td>Environmental Sciences</td>\n",
       "      <td>Social Sciences</td>\n",
       "      <td>74.0</td>\n",
       "      <td>78.0</td>\n",
       "      <td>1</td>\n",
       "      <td>0</td>\n",
       "      <td>NaN</td>\n",
       "    </tr>\n",
       "    <tr>\n",
       "      <th>4874</th>\n",
       "      <td>400418</td>\n",
       "      <td>Edwards-Rodriguez, Feza</td>\n",
       "      <td>Female</td>\n",
       "      <td>20</td>\n",
       "      <td>159</td>\n",
       "      <td>65.3</td>\n",
       "      <td>Catholic</td>\n",
       "      <td>1.47</td>\n",
       "      <td>3rd</td>\n",
       "      <td>Environmental Sciences</td>\n",
       "      <td>Mathematics and Statistics</td>\n",
       "      <td>66.0</td>\n",
       "      <td>69.0</td>\n",
       "      <td>1</td>\n",
       "      <td>0</td>\n",
       "      <td>NaN</td>\n",
       "    </tr>\n",
       "  </tbody>\n",
       "</table>\n",
       "</div>"
      ],
      "text/plain": [
       "      stud_id                     name  gender  age  height  weight  \\\n",
       "1622   861582    Plenty Wolf, Cheyenne    Male   22     176    70.1   \n",
       "1799   386609           Garcia, Raeven  Female   20     163    66.3   \n",
       "3648   549765            Olson, Brevin    Male   22     178    73.3   \n",
       "3675   523451       Mayberry, Analisse  Female   23     159    65.4   \n",
       "5981   403595            Lynch, Amanda  Female   21     154    61.3   \n",
       "693    816761              Oh, Enrique    Male   20     175    74.5   \n",
       "4532   778497        Estrada, Caroline  Female   18     170    67.4   \n",
       "4705   533082         Almeida, Chasity  Female   22     173    73.0   \n",
       "4699   165922           Crowe, Tamikah  Female   24     151    62.5   \n",
       "4874   400418  Edwards-Rodriguez, Feza  Female   20     159    65.3   \n",
       "\n",
       "        religion  nc_score semester                       major  \\\n",
       "1622    Catholic      2.82     >6th  Mathematics and Statistics   \n",
       "1799    Orthodox      2.79      2nd       Economics and Finance   \n",
       "3648    Catholic      1.66      4th                     Biology   \n",
       "3675       Other      2.32      1st             Social Sciences   \n",
       "5981    Catholic      1.00      4th       Economics and Finance   \n",
       "693        Other      3.53      3rd           Political Science   \n",
       "4532  Protestant      3.38      5th           Political Science   \n",
       "4705       Other      1.07      3rd             Social Sciences   \n",
       "4699  Protestant      2.02      4th      Environmental Sciences   \n",
       "4874    Catholic      1.47      3rd      Environmental Sciences   \n",
       "\n",
       "                           minor  score1  score2  online_tutorial  graduated  \\\n",
       "1622                     Biology    88.0    86.0                0          1   \n",
       "1799             Social Sciences     NaN     NaN                0          0   \n",
       "3648      Environmental Sciences    72.0    84.0                1          0   \n",
       "3675  Mathematics and Statistics     NaN     NaN                0          0   \n",
       "5981  Mathematics and Statistics    69.0    72.0                1          0   \n",
       "693              Social Sciences    62.0    60.0                1          0   \n",
       "4532       Economics and Finance    49.0    51.0                1          1   \n",
       "4705       Economics and Finance    43.0    47.0                1          0   \n",
       "4699             Social Sciences    74.0    78.0                1          0   \n",
       "4874  Mathematics and Statistics    66.0    69.0                1          0   \n",
       "\n",
       "        salary  \n",
       "1622  48991.98  \n",
       "1799       NaN  \n",
       "3648       NaN  \n",
       "3675       NaN  \n",
       "5981       NaN  \n",
       "693        NaN  \n",
       "4532  32038.41  \n",
       "4705       NaN  \n",
       "4699       NaN  \n",
       "4874       NaN  "
      ]
     },
     "execution_count": 28,
     "metadata": {},
     "output_type": "execute_result"
    }
   ],
   "source": [
    "df = pd.read_csv(\"../../data/students.csv\")\n",
    "df.sample(10)"
   ]
  },
  {
   "cell_type": "markdown",
   "id": "05d42c01-93be-4d4a-8c52-b41581da5567",
   "metadata": {},
   "source": [
    "Wir sind also an den Kategorien `age`, `height`, `weight` und `nc_score` interessiert. Wir verwenden die Methoden `min()` und `max()`, um das Minimum und Maximum der ausgewählten Variablen zu berechnen. Erneut greifen wir auf die `agg`-Methode zurück."
   ]
  },
  {
   "cell_type": "code",
   "execution_count": 29,
   "id": "9d288dea-faf2-452a-92f2-845bc93f31ac",
   "metadata": {},
   "outputs": [
    {
     "data": {
      "text/html": [
       "<div>\n",
       "<style scoped>\n",
       "    .dataframe tbody tr th:only-of-type {\n",
       "        vertical-align: middle;\n",
       "    }\n",
       "\n",
       "    .dataframe tbody tr th {\n",
       "        vertical-align: top;\n",
       "    }\n",
       "\n",
       "    .dataframe thead th {\n",
       "        text-align: right;\n",
       "    }\n",
       "</style>\n",
       "<table border=\"1\" class=\"dataframe\">\n",
       "  <thead>\n",
       "    <tr style=\"text-align: right;\">\n",
       "      <th></th>\n",
       "      <th>age</th>\n",
       "      <th>height</th>\n",
       "      <th>weight</th>\n",
       "      <th>nc_score</th>\n",
       "    </tr>\n",
       "  </thead>\n",
       "  <tbody>\n",
       "    <tr>\n",
       "      <th>min</th>\n",
       "      <td>18</td>\n",
       "      <td>135</td>\n",
       "      <td>51.4</td>\n",
       "      <td>1.0</td>\n",
       "    </tr>\n",
       "    <tr>\n",
       "      <th>max</th>\n",
       "      <td>64</td>\n",
       "      <td>206</td>\n",
       "      <td>116.0</td>\n",
       "      <td>4.0</td>\n",
       "    </tr>\n",
       "  </tbody>\n",
       "</table>\n",
       "</div>"
      ],
      "text/plain": [
       "     age  height  weight  nc_score\n",
       "min   18     135    51.4       1.0\n",
       "max   64     206   116.0       4.0"
      ]
     },
     "execution_count": 29,
     "metadata": {},
     "output_type": "execute_result"
    }
   ],
   "source": [
    "summary = df[[\"age\", \"height\", \"weight\", \"nc_score\"]].agg([\"min\", \"max\"])\n",
    "summary"
   ]
  },
  {
   "cell_type": "markdown",
   "id": "9e07e95e-91bf-4eaa-b04b-1e882f86ac4f",
   "metadata": {},
   "source": [
    "Um nun die Spannweite für jede Variable zu berechnen, müssen wir nur eine Zeile von der anderen abziehen."
   ]
  },
  {
   "cell_type": "code",
   "execution_count": 30,
   "id": "83170f12-caf0-49bf-a84e-b091de5139b1",
   "metadata": {},
   "outputs": [
    {
     "data": {
      "text/html": [
       "<div>\n",
       "<style scoped>\n",
       "    .dataframe tbody tr th:only-of-type {\n",
       "        vertical-align: middle;\n",
       "    }\n",
       "\n",
       "    .dataframe tbody tr th {\n",
       "        vertical-align: top;\n",
       "    }\n",
       "\n",
       "    .dataframe thead th {\n",
       "        text-align: right;\n",
       "    }\n",
       "</style>\n",
       "<table border=\"1\" class=\"dataframe\">\n",
       "  <thead>\n",
       "    <tr style=\"text-align: right;\">\n",
       "      <th></th>\n",
       "      <th>age</th>\n",
       "      <th>height</th>\n",
       "      <th>weight</th>\n",
       "      <th>nc_score</th>\n",
       "    </tr>\n",
       "  </thead>\n",
       "  <tbody>\n",
       "    <tr>\n",
       "      <th>min</th>\n",
       "      <td>18.0</td>\n",
       "      <td>135.0</td>\n",
       "      <td>51.4</td>\n",
       "      <td>1.0</td>\n",
       "    </tr>\n",
       "    <tr>\n",
       "      <th>max</th>\n",
       "      <td>64.0</td>\n",
       "      <td>206.0</td>\n",
       "      <td>116.0</td>\n",
       "      <td>4.0</td>\n",
       "    </tr>\n",
       "    <tr>\n",
       "      <th>Spannweite</th>\n",
       "      <td>46.0</td>\n",
       "      <td>71.0</td>\n",
       "      <td>64.6</td>\n",
       "      <td>3.0</td>\n",
       "    </tr>\n",
       "  </tbody>\n",
       "</table>\n",
       "</div>"
      ],
      "text/plain": [
       "             age  height  weight  nc_score\n",
       "min         18.0   135.0    51.4       1.0\n",
       "max         64.0   206.0   116.0       4.0\n",
       "Spannweite  46.0    71.0    64.6       3.0"
      ]
     },
     "execution_count": 30,
     "metadata": {},
     "output_type": "execute_result"
    }
   ],
   "source": [
    "summary.loc[\"Spannweite\"] = summary.loc[\"max\"] - summary.loc[\"min\"]\n",
    "summary"
   ]
  },
  {
   "cell_type": "markdown",
   "id": "d9633733-a493-488b-aeff-16abd7cf8166",
   "metadata": {},
   "source": [
    "Die Spannweite hat, wie der Mittelwert, den Nachteil, dass sie durch Ausreißer beeinflusst wird. Daher ist die Spannweite kein gutes Streuungsmaß für einen Datensatz, der Ausreißer enthält. Ein weiterer Nachteil der Verwendung der Spannweite als Streuungsmaß ist, dass ihre Berechnung nur auf zwei Werten basiert: Dem größten und dem kleinsten. Alle anderen Werte in einem Datensatz werden bei der Berechnung der Spanne ignoriert. Daher ist die Spannweite oftmals kein sehr zufriedenstellendes Maß für die Streuung ({cite:p}`fahrmeirstatistik` s.62)."
   ]
  }
 ],
 "metadata": {
  "kernelspec": {
   "display_name": "Python 3 (ipykernel)",
   "language": "python",
   "name": "python3"
  },
  "language_info": {
   "codemirror_mode": {
    "name": "ipython",
    "version": 3
   },
   "file_extension": ".py",
   "mimetype": "text/x-python",
   "name": "python",
   "nbconvert_exporter": "python",
   "pygments_lexer": "ipython3",
   "version": "3.10.9"
  },
  "vscode": {
   "interpreter": {
    "hash": "31f2aee4e71d21fbe5cf8b01ff0e069b9275f58929596ceb00d14d90e3e16cd6"
   }
  }
 },
 "nbformat": 4,
 "nbformat_minor": 5
}
