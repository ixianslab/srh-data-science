{
 "cells": [
  {
   "cell_type": "markdown",
   "id": "dbaf8d98-cc4e-4a87-bbdf-78f41a2a8556",
   "metadata": {},
   "source": [
    "## Die Pandas Bibliothek"
   ]
  },
  {
   "cell_type": "markdown",
   "id": "2abd91eb-e4a3-4cbd-a557-81ebf3167035",
   "metadata": {},
   "source": [
    "Die <a href=\"https://pandas.pydata.org//\">pandas-Bibliothek</a> wurde 2010 von <a href=\"https://wesmckinney.com/\">Wes McKinney</a> entwickelt. pandas bietet **Datenstrukturen** und **Funktionen** für die Manipulation, Verarbeitung, Bereinigung und Verwertung von Daten. Im Python-Ökosystem ist pandas das modernste Werkzeug für die Arbeit mit tabellarischen oder tabellenähnlichen Daten, bei denen jede Spalte von einem anderen Typ sein kann (`String`, `numerisch`, `Datum` oder andere). pandas bietet ausgefeilte Indizierungsfunktionen, die das Umformen, Zerlegen, Aggregieren und Auswählen von Teilmengen von Daten erleichtern. pandas stützt sich auf andere Pakete, wie <a href=\"https://numpy.org/\">NumPy</a> und <a href=\"https://scipy.org/\">SciPy</a>. Außerdem integriert pandas <a href=\"https://matplotlib.org/\">matplotlib</a> zum Plotten.\n",
    "\n",
    "Wenn Sie neu im Umgang mit pandas sind, empfehlen wir Ihnen dringend, die sehr gut geschriebenen <a href=\"https://pandas.pydata.org/pandas-docs/stable/getting_started/tutorials.html\">pandas-Tutorials</a> zu besuchen, die alle relevanten Abschnitte für neue Benutzer abdecken, um richtig loszulegen.\n",
    "\n",
    "Nach der Installation (Details finden Sie in der <a href=\"https://pandas.pydata.org/pandas-docs/stable/getting_started/install.html\">Dokumentation</a>) wird pandas mit dem kanonischen Alias `pd` importiert."
   ]
  },
  {
   "cell_type": "code",
   "execution_count": 1,
   "id": "ba0d7735-a041-4763-b12c-67934e6f0341",
   "metadata": {},
   "outputs": [],
   "source": [
    "import pandas as pd"
   ]
  },
  {
   "cell_type": "code",
   "execution_count": 2,
   "id": "1b8af681-ea24-4063-b56f-9ff7d32782a6",
   "metadata": {},
   "outputs": [],
   "source": [
    "import numpy as np"
   ]
  },
  {
   "cell_type": "markdown",
   "id": "c7e36759-f0c0-495e-b7ff-8d156d27cf5f",
   "metadata": {},
   "source": [
    "Die Pandas-Bibliothek verfügt über zwei bewährte Datenstrukturen: **Series** und **DataFrame**.\n",
    "\n",
    "  -  eindimensionales pd.Series-Objekt\n",
    "  -  zweidimensionales pd.DataFrame-Objekt"
   ]
  },
  {
   "cell_type": "markdown",
   "id": "1b24e6d5-1255-48e4-bdec-392e01ecfae7",
   "metadata": {
    "tags": []
   },
   "source": [
    "## Das `pd.Series` Objekt"
   ]
  },
  {
   "cell_type": "markdown",
   "id": "b96fb633-44e9-4a1a-b2b2-c15782dd4dc4",
   "metadata": {},
   "source": [
    "Erzeugung von Daten"
   ]
  },
  {
   "cell_type": "code",
   "execution_count": 3,
   "id": "7836d460-9561-4d94-b4e3-5101613eed28",
   "metadata": {},
   "outputs": [
    {
     "data": {
      "text/plain": [
       "array([  3,  -8,  -8,  -4,   7,   9,   0,  -9, -10,   7,   5,  -1, -10,\n",
       "         4, -10,   5,   9,   4,  -6, -10,   6,  -6,   7,  -7,  -8,  -3])"
      ]
     },
     "execution_count": 3,
     "metadata": {},
     "output_type": "execute_result"
    }
   ],
   "source": [
    "# importiere das random module von numpy\n",
    "from numpy import random \n",
    "# setze seed\n",
    "random.seed(123) \n",
    "# Erzeuge 26 Zufallszahlen zwischen -10 and 10\n",
    "my_data = random.randint(low=-10, high=10, size=26)\n",
    "# Ausgabe\n",
    "my_data\n",
    "\n"
   ]
  },
  {
   "cell_type": "code",
   "execution_count": 4,
   "id": "8a9a012f-62d5-4f4f-9bf6-f73f56558a6e",
   "metadata": {},
   "outputs": [
    {
     "data": {
      "text/plain": [
       "numpy.ndarray"
      ]
     },
     "execution_count": 4,
     "metadata": {},
     "output_type": "execute_result"
    }
   ],
   "source": [
    "type(my_data)"
   ]
  },
  {
   "cell_type": "markdown",
   "id": "fa34c86f-b0f7-4ece-8831-8d311b691142",
   "metadata": {},
   "source": [
    "Eine Series ist ein eindimensionales Array-ähnliches Objekt, das ein Array mit Daten und ein zugehöriges Array mit Datenbeschriftungen, genannt Index, enthält. Wir erstellen ein `pd.Series-Objekt`, indem wir die Funktion `pd.Series()` aufrufen."
   ]
  },
  {
   "cell_type": "code",
   "execution_count": null,
   "id": "4df63558-005e-4042-906c-0ef7f966cade",
   "metadata": {},
   "outputs": [],
   "source": [
    "# Entkommentieren für Dokumentation\n",
    "\n",
    "# docstring\n",
    "#?pd.Series      \n",
    "\n",
    "# source\n",
    "#??pd.Series    \n",
    "\n"
   ]
  },
  {
   "cell_type": "code",
   "execution_count": 5,
   "id": "847c37b9-d52f-43fd-9434-b34a5fd31359",
   "metadata": {},
   "outputs": [
    {
     "data": {
      "text/plain": [
       "pandas.core.series.Series"
      ]
     },
     "execution_count": 5,
     "metadata": {},
     "output_type": "execute_result"
    }
   ],
   "source": [
    "# Erzeuge pd.Series Objekt\n",
    "s = pd.Series(data=my_data)\n",
    "s\n",
    "\n",
    "type(s)"
   ]
  },
  {
   "cell_type": "markdown",
   "id": "adcad019-64b2-4270-87c3-e638f9cea1ff",
   "metadata": {},
   "source": [
    "### `pd.Series`-Attribute"
   ]
  },
  {
   "cell_type": "markdown",
   "id": "e0b6af3d-efc3-492d-aaf1-d4fe1d6e9247",
   "metadata": {},
   "source": [
    "Python-Objekte im Allgemeinen und die `pd.Series` im Besonderen bieten nützliche objektspezifische Attribute.\n",
    "\n",
    "*Attribut* ->`OBJECT.attribute` \n",
    "\n",
    "*Beachten Sie, dass das Attribut ohne Klammern aufgerufen wird*"
   ]
  },
  {
   "cell_type": "code",
   "execution_count": 6,
   "id": "82ff79e7-f027-4aec-a0bd-d8d347768637",
   "metadata": {},
   "outputs": [
    {
     "data": {
      "text/plain": [
       "dtype('int32')"
      ]
     },
     "execution_count": 6,
     "metadata": {},
     "output_type": "execute_result"
    }
   ],
   "source": [
    "s.dtypes"
   ]
  },
  {
   "cell_type": "code",
   "execution_count": 7,
   "id": "a1b44685-7d0d-45e0-8aa8-025cfb7b5fb9",
   "metadata": {},
   "outputs": [
    {
     "data": {
      "text/plain": [
       "RangeIndex(start=0, stop=26, step=1)"
      ]
     },
     "execution_count": 7,
     "metadata": {},
     "output_type": "execute_result"
    }
   ],
   "source": [
    "s.index"
   ]
  },
  {
   "cell_type": "markdown",
   "id": "23272ad3-f009-439b-abc9-45a23bfc7e63",
   "metadata": {},
   "source": [
    "Wir können das Attribut `index` verwenden, um einem `pd.Series-Objekt` einen Index zuzuweisen.\n",
    "\n",
    "Betrachten wir die Buchstaben des Alphabets...."
   ]
  },
  {
   "cell_type": "code",
   "execution_count": 8,
   "id": "dd174785-a581-416f-b934-d0af5a61037b",
   "metadata": {},
   "outputs": [
    {
     "data": {
      "text/plain": [
       "'ABCDEFGHIJKLMNOPQRSTUVWXYZ'"
      ]
     },
     "execution_count": 8,
     "metadata": {},
     "output_type": "execute_result"
    }
   ],
   "source": [
    "import string\n",
    "letters = string.ascii_uppercase\n",
    "letters"
   ]
  },
  {
   "cell_type": "code",
   "execution_count": 9,
   "id": "768a33c4-c1eb-4428-8870-e00e0c48eb7e",
   "metadata": {},
   "outputs": [
    {
     "data": {
      "text/plain": [
       "A     3\n",
       "B    -8\n",
       "C    -8\n",
       "D    -4\n",
       "E     7\n",
       "F     9\n",
       "G     0\n",
       "H    -9\n",
       "I   -10\n",
       "J     7\n",
       "K     5\n",
       "L    -1\n",
       "M   -10\n",
       "N     4\n",
       "O   -10\n",
       "P     5\n",
       "Q     9\n",
       "R     4\n",
       "S    -6\n",
       "T   -10\n",
       "U     6\n",
       "V    -6\n",
       "W     7\n",
       "X    -7\n",
       "Y    -8\n",
       "Z    -3\n",
       "dtype: int32"
      ]
     },
     "execution_count": 9,
     "metadata": {},
     "output_type": "execute_result"
    }
   ],
   "source": [
    "s.index = list(letters)\n",
    "s"
   ]
  },
  {
   "cell_type": "markdown",
   "id": "8c02c73c-c2ee-48a3-99e9-3a51d8a5ecbb",
   "metadata": {},
   "source": [
    "### `pd.Series`-Methoden"
   ]
  },
  {
   "cell_type": "code",
   "execution_count": 10,
   "id": "097c71b4-be9f-414e-9bc5-685f4a4db861",
   "metadata": {},
   "outputs": [
    {
     "data": {
      "text/plain": [
       "-34"
      ]
     },
     "execution_count": 10,
     "metadata": {},
     "output_type": "execute_result"
    }
   ],
   "source": [
    "s.sum()"
   ]
  },
  {
   "cell_type": "code",
   "execution_count": 11,
   "id": "238f6dc6-2a15-4b45-8515-504dd056d176",
   "metadata": {},
   "outputs": [
    {
     "data": {
      "text/plain": [
       "-1.3076923076923077"
      ]
     },
     "execution_count": 11,
     "metadata": {},
     "output_type": "execute_result"
    }
   ],
   "source": [
    "s.mean()"
   ]
  },
  {
   "cell_type": "code",
   "execution_count": 12,
   "id": "e2fc7253-1df5-4eda-9c3c-167d639f0a43",
   "metadata": {},
   "outputs": [
    {
     "data": {
      "text/plain": [
       "9"
      ]
     },
     "execution_count": 12,
     "metadata": {},
     "output_type": "execute_result"
    }
   ],
   "source": [
    "s.max()"
   ]
  },
  {
   "cell_type": "code",
   "execution_count": 13,
   "id": "30a29c16-f4e6-4b85-8dc3-a6c1bf685e0e",
   "metadata": {},
   "outputs": [
    {
     "data": {
      "text/plain": [
       "-10"
      ]
     },
     "execution_count": 13,
     "metadata": {},
     "output_type": "execute_result"
    }
   ],
   "source": [
    "s.min()"
   ]
  },
  {
   "cell_type": "code",
   "execution_count": 14,
   "id": "8d6beb4e-09a9-4a6a-8462-00c12e0412a7",
   "metadata": {},
   "outputs": [
    {
     "data": {
      "text/plain": [
       "-2.0"
      ]
     },
     "execution_count": 14,
     "metadata": {},
     "output_type": "execute_result"
    }
   ],
   "source": [
    "s.median()"
   ]
  },
  {
   "cell_type": "code",
   "execution_count": 15,
   "id": "870d5789-305d-4352-9e1c-73f263b5966d",
   "metadata": {},
   "outputs": [
    {
     "data": {
      "text/plain": [
       "-2.0"
      ]
     },
     "execution_count": 15,
     "metadata": {},
     "output_type": "execute_result"
    }
   ],
   "source": [
    "s.quantile(q=0.5)"
   ]
  },
  {
   "cell_type": "code",
   "execution_count": 16,
   "id": "55367dbc-c4f7-4e38-ab57-2902ddb87a65",
   "metadata": {},
   "outputs": [
    {
     "data": {
      "text/plain": [
       "0.25   -8.0\n",
       "0.50   -2.0\n",
       "0.75    5.0\n",
       "dtype: float64"
      ]
     },
     "execution_count": 16,
     "metadata": {},
     "output_type": "execute_result"
    }
   ],
   "source": [
    "s.quantile(q=[0.25, 0.5, 0.75])"
   ]
  },
  {
   "cell_type": "markdown",
   "id": "66b0d331-b0d5-4eb7-8a11-47bddeb169d6",
   "metadata": {},
   "source": [
    "### Elementweise Arithmetik"
   ]
  },
  {
   "cell_type": "markdown",
   "id": "a93f5c4b-3953-4f83-b7e9-9940b86f0ffd",
   "metadata": {},
   "source": [
    "Eine sehr nützliche Eigenschaft von `pd.Series`-Objekten ist, dass wir arithmetische Operationen *elementweise* anwenden können."
   ]
  },
  {
   "cell_type": "code",
   "execution_count": 17,
   "id": "44062f75-0c2d-47fb-9043-3a97095bb36a",
   "metadata": {},
   "outputs": [
    {
     "data": {
      "text/plain": [
       "A    13\n",
       "B     2\n",
       "C     2\n",
       "D     6\n",
       "E    17\n",
       "F    19\n",
       "G    10\n",
       "H     1\n",
       "I     0\n",
       "J    17\n",
       "K    15\n",
       "L     9\n",
       "M     0\n",
       "N    14\n",
       "O     0\n",
       "P    15\n",
       "Q    19\n",
       "R    14\n",
       "S     4\n",
       "T     0\n",
       "U    16\n",
       "V     4\n",
       "W    17\n",
       "X     3\n",
       "Y     2\n",
       "Z     7\n",
       "dtype: int32"
      ]
     },
     "execution_count": 17,
     "metadata": {},
     "output_type": "execute_result"
    }
   ],
   "source": [
    "s+10\n",
    "#s*0.1\n",
    "#10/s\n",
    "#s**2\n",
    "#(2+s)*1**3\n",
    "#s+s"
   ]
  },
  {
   "cell_type": "markdown",
   "id": "25af5412-e9c7-43a6-8da6-1fe4b7404f3b",
   "metadata": {},
   "source": [
    "### Auswahl und Indizierung"
   ]
  },
  {
   "cell_type": "markdown",
   "id": "c3d52e0a-be9f-4153-aa5b-a75950327495",
   "metadata": {},
   "source": [
    "Eine weitere wichtige Datenoperation ist die Indizierung und Auswahl bestimmter Teilmengen des Datenobjekts. pandas verfügt über einen <a href=\"https://pandas.pydata.org/pandas-docs/stable/user_guide/indexing.html\">sehr umfangreichen Satz</a> von Methoden für diese Art von Aufgaben.\n",
    "\n",
    "In der einfachsten Form indizieren wir eine Reihe numpy-ähnlich, indem wir den `[ ]` Operator verwenden, um einen bestimmten `Index` der Reihe auszuwählen."
   ]
  },
  {
   "cell_type": "code",
   "execution_count": 18,
   "id": "4d88458c-46aa-4a0a-9cc5-0e2d0dc71370",
   "metadata": {},
   "outputs": [
    {
     "data": {
      "text/plain": [
       "A     3\n",
       "B    -8\n",
       "C    -8\n",
       "D    -4\n",
       "E     7\n",
       "F     9\n",
       "G     0\n",
       "H    -9\n",
       "I   -10\n",
       "J     7\n",
       "K     5\n",
       "L    -1\n",
       "M   -10\n",
       "N     4\n",
       "O   -10\n",
       "P     5\n",
       "Q     9\n",
       "R     4\n",
       "S    -6\n",
       "T   -10\n",
       "U     6\n",
       "V    -6\n",
       "W     7\n",
       "X    -7\n",
       "Y    -8\n",
       "Z    -3\n",
       "dtype: int32"
      ]
     },
     "execution_count": 18,
     "metadata": {},
     "output_type": "execute_result"
    }
   ],
   "source": [
    "s"
   ]
  },
  {
   "cell_type": "code",
   "execution_count": 19,
   "id": "8944cb4a-30a9-4256-8089-04ad3e7e2f38",
   "metadata": {},
   "outputs": [
    {
     "data": {
      "text/plain": [
       "-4"
      ]
     },
     "execution_count": 19,
     "metadata": {},
     "output_type": "execute_result"
    }
   ],
   "source": [
    "s[3]"
   ]
  },
  {
   "cell_type": "code",
   "execution_count": 20,
   "id": "ecf6e8bf-9eb0-47c1-83bb-e3038d4bbc0c",
   "metadata": {},
   "outputs": [
    {
     "data": {
      "text/plain": [
       "C   -8\n",
       "D   -4\n",
       "E    7\n",
       "F    9\n",
       "dtype: int32"
      ]
     },
     "execution_count": 20,
     "metadata": {},
     "output_type": "execute_result"
    }
   ],
   "source": [
    "s[2:6]"
   ]
  },
  {
   "cell_type": "code",
   "execution_count": 21,
   "id": "45227ee3-1a5a-4bc3-b017-a2870ea079f4",
   "metadata": {},
   "outputs": [
    {
     "data": {
      "text/plain": [
       "-8"
      ]
     },
     "execution_count": 21,
     "metadata": {},
     "output_type": "execute_result"
    }
   ],
   "source": [
    "s[\"C\"]"
   ]
  },
  {
   "cell_type": "code",
   "execution_count": 22,
   "id": "af6324d8-f899-437e-8b10-f0aee675c926",
   "metadata": {},
   "outputs": [
    {
     "data": {
      "text/plain": [
       "C    -8\n",
       "D    -4\n",
       "E     7\n",
       "F     9\n",
       "G     0\n",
       "H    -9\n",
       "I   -10\n",
       "J     7\n",
       "K     5\n",
       "dtype: int32"
      ]
     },
     "execution_count": 22,
     "metadata": {},
     "output_type": "execute_result"
    }
   ],
   "source": [
    "s[\"C\":\"K\"]"
   ]
  },
  {
   "cell_type": "markdown",
   "id": "7b0cc09e-6b4a-4d60-be1a-dfc5e0252ff9",
   "metadata": {},
   "source": [
    "## Das `pd.DataFrame`-Objekt"
   ]
  },
  {
   "cell_type": "markdown",
   "id": "64183077-8155-4528-b4c8-b24361b66726",
   "metadata": {},
   "source": [
    "Die primäre Datenstruktur von Pandas ist der `DataFrame`. Es handelt sich um eine zweidimensionale, größenveränderliche, potenziell heterogene tabellarische Datenstruktur mit Zeilen- und Spaltenbeschriftungen. Arithmetische Operationen richten sich sowohl auf Zeilen- als auch auf Spaltenbeschriftungen aus. Grundsätzlich kann man sich den `DataFrame` als einen `dictionary`-artigen Container für Seriesobjekte vorstellen.\n",
    "\n",
    "**Erzeugen eines `DataFrame`-Objekts von Grund auf**\n",
    "\n",
    "pandas erleichtert den Import verschiedener Datentypen und -quellen, aber für dieses Tutorial erzeugen wir ein DataFrame-Objekt von Grund auf.\n",
    "\n",
    "Quelle: http://duelingdata.blogspot.de/2016/01/the-beatles.html"
   ]
  },
  {
   "cell_type": "code",
   "execution_count": 23,
   "id": "51fb7a75-893d-4759-8ebc-5702e7815cb3",
   "metadata": {},
   "outputs": [
    {
     "data": {
      "text/html": [
       "<div>\n",
       "<style scoped>\n",
       "    .dataframe tbody tr th:only-of-type {\n",
       "        vertical-align: middle;\n",
       "    }\n",
       "\n",
       "    .dataframe tbody tr th {\n",
       "        vertical-align: top;\n",
       "    }\n",
       "\n",
       "    .dataframe thead th {\n",
       "        text-align: right;\n",
       "    }\n",
       "</style>\n",
       "<table border=\"1\" class=\"dataframe\">\n",
       "  <thead>\n",
       "    <tr style=\"text-align: right;\">\n",
       "      <th></th>\n",
       "      <th>id</th>\n",
       "      <th>Name</th>\n",
       "      <th>Last Name</th>\n",
       "      <th>dead</th>\n",
       "      <th>year_born</th>\n",
       "      <th>no_of_songs</th>\n",
       "    </tr>\n",
       "  </thead>\n",
       "  <tbody>\n",
       "    <tr>\n",
       "      <th>0</th>\n",
       "      <td>1</td>\n",
       "      <td>John</td>\n",
       "      <td>Lennon</td>\n",
       "      <td>True</td>\n",
       "      <td>1940</td>\n",
       "      <td>62</td>\n",
       "    </tr>\n",
       "    <tr>\n",
       "      <th>1</th>\n",
       "      <td>2</td>\n",
       "      <td>Paul</td>\n",
       "      <td>McCartney</td>\n",
       "      <td>False</td>\n",
       "      <td>1942</td>\n",
       "      <td>58</td>\n",
       "    </tr>\n",
       "    <tr>\n",
       "      <th>2</th>\n",
       "      <td>3</td>\n",
       "      <td>George</td>\n",
       "      <td>Harrison</td>\n",
       "      <td>True</td>\n",
       "      <td>1943</td>\n",
       "      <td>24</td>\n",
       "    </tr>\n",
       "    <tr>\n",
       "      <th>3</th>\n",
       "      <td>4</td>\n",
       "      <td>Ringo</td>\n",
       "      <td>Star</td>\n",
       "      <td>False</td>\n",
       "      <td>1940</td>\n",
       "      <td>3</td>\n",
       "    </tr>\n",
       "  </tbody>\n",
       "</table>\n",
       "</div>"
      ],
      "text/plain": [
       "   id    Name  Last Name   dead  year_born  no_of_songs\n",
       "0   1    John     Lennon   True       1940           62\n",
       "1   2    Paul  McCartney  False       1942           58\n",
       "2   3  George   Harrison   True       1943           24\n",
       "3   4   Ringo       Star  False       1940            3"
      ]
     },
     "execution_count": 23,
     "metadata": {},
     "output_type": "execute_result"
    }
   ],
   "source": [
    "df  = pd.DataFrame({\"id\" : range(1,5),\n",
    "                    \"Name\" : [\"John\", \"Paul\", \"George\", \"Ringo\"],\n",
    "                    \"Last Name\" : [\"Lennon\", \"McCartney\", \"Harrison\", \"Star\"],\n",
    "                    \"dead\" : [True, False, True, False],\n",
    "                    \"year_born\" : [1940, 1942, 1943, 1940],\n",
    "                    \"no_of_songs\" : [62, 58, 24, 3]\n",
    "                   })\n",
    "df"
   ]
  },
  {
   "cell_type": "markdown",
   "id": "8cd333f9-1f76-4226-ba57-1cb28fdb5d0b",
   "metadata": {},
   "source": [
    "### `pd.DataFrame`-Attribute"
   ]
  },
  {
   "cell_type": "code",
   "execution_count": 24,
   "id": "1a6ae349-d43d-44ff-bf2e-9b0462008b46",
   "metadata": {},
   "outputs": [
    {
     "data": {
      "text/plain": [
       "id              int64\n",
       "Name           object\n",
       "Last Name      object\n",
       "dead             bool\n",
       "year_born       int64\n",
       "no_of_songs     int64\n",
       "dtype: object"
      ]
     },
     "execution_count": 24,
     "metadata": {},
     "output_type": "execute_result"
    }
   ],
   "source": [
    "df.dtypes"
   ]
  },
  {
   "cell_type": "code",
   "execution_count": 25,
   "id": "85340592-8c86-448f-b125-54d3c9f961a2",
   "metadata": {},
   "outputs": [
    {
     "data": {
      "text/plain": [
       "Index(['id', 'Name', 'Last Name', 'dead', 'year_born', 'no_of_songs'], dtype='object')"
      ]
     },
     "execution_count": 25,
     "metadata": {},
     "output_type": "execute_result"
    }
   ],
   "source": [
    "# Achse 0\n",
    "df.columns"
   ]
  },
  {
   "cell_type": "code",
   "execution_count": 26,
   "id": "6bf53af5-7259-426f-8e64-627a3fda1470",
   "metadata": {},
   "outputs": [
    {
     "data": {
      "text/plain": [
       "RangeIndex(start=0, stop=4, step=1)"
      ]
     },
     "execution_count": 26,
     "metadata": {},
     "output_type": "execute_result"
    }
   ],
   "source": [
    "# Achse 1\n",
    "df.index"
   ]
  },
  {
   "cell_type": "markdown",
   "id": "7f5ba15d-c365-46fd-b883-37302c20f674",
   "metadata": {},
   "source": [
    "**Verschaffen Sie sich einen schnellen Überblick über den Datensatz**"
   ]
  },
  {
   "cell_type": "code",
   "execution_count": 27,
   "id": "1cb35f3d-c6c5-4d37-962d-5e969da8f7aa",
   "metadata": {},
   "outputs": [
    {
     "name": "stdout",
     "output_type": "stream",
     "text": [
      "<class 'pandas.core.frame.DataFrame'>\n",
      "RangeIndex: 4 entries, 0 to 3\n",
      "Data columns (total 6 columns):\n",
      " #   Column       Non-Null Count  Dtype \n",
      "---  ------       --------------  ----- \n",
      " 0   id           4 non-null      int64 \n",
      " 1   Name         4 non-null      object\n",
      " 2   Last Name    4 non-null      object\n",
      " 3   dead         4 non-null      bool  \n",
      " 4   year_born    4 non-null      int64 \n",
      " 5   no_of_songs  4 non-null      int64 \n",
      "dtypes: bool(1), int64(3), object(2)\n",
      "memory usage: 292.0+ bytes\n"
     ]
    }
   ],
   "source": [
    "df.info()"
   ]
  },
  {
   "cell_type": "code",
   "execution_count": 28,
   "id": "eb01c3eb-2826-42cf-8926-e76ba7979737",
   "metadata": {},
   "outputs": [
    {
     "data": {
      "text/html": [
       "<div>\n",
       "<style scoped>\n",
       "    .dataframe tbody tr th:only-of-type {\n",
       "        vertical-align: middle;\n",
       "    }\n",
       "\n",
       "    .dataframe tbody tr th {\n",
       "        vertical-align: top;\n",
       "    }\n",
       "\n",
       "    .dataframe thead th {\n",
       "        text-align: right;\n",
       "    }\n",
       "</style>\n",
       "<table border=\"1\" class=\"dataframe\">\n",
       "  <thead>\n",
       "    <tr style=\"text-align: right;\">\n",
       "      <th></th>\n",
       "      <th>id</th>\n",
       "      <th>year_born</th>\n",
       "      <th>no_of_songs</th>\n",
       "    </tr>\n",
       "  </thead>\n",
       "  <tbody>\n",
       "    <tr>\n",
       "      <th>count</th>\n",
       "      <td>4.000000</td>\n",
       "      <td>4.00</td>\n",
       "      <td>4.000000</td>\n",
       "    </tr>\n",
       "    <tr>\n",
       "      <th>mean</th>\n",
       "      <td>2.500000</td>\n",
       "      <td>1941.25</td>\n",
       "      <td>36.750000</td>\n",
       "    </tr>\n",
       "    <tr>\n",
       "      <th>std</th>\n",
       "      <td>1.290994</td>\n",
       "      <td>1.50</td>\n",
       "      <td>28.229712</td>\n",
       "    </tr>\n",
       "    <tr>\n",
       "      <th>min</th>\n",
       "      <td>1.000000</td>\n",
       "      <td>1940.00</td>\n",
       "      <td>3.000000</td>\n",
       "    </tr>\n",
       "    <tr>\n",
       "      <th>25%</th>\n",
       "      <td>1.750000</td>\n",
       "      <td>1940.00</td>\n",
       "      <td>18.750000</td>\n",
       "    </tr>\n",
       "    <tr>\n",
       "      <th>50%</th>\n",
       "      <td>2.500000</td>\n",
       "      <td>1941.00</td>\n",
       "      <td>41.000000</td>\n",
       "    </tr>\n",
       "    <tr>\n",
       "      <th>75%</th>\n",
       "      <td>3.250000</td>\n",
       "      <td>1942.25</td>\n",
       "      <td>59.000000</td>\n",
       "    </tr>\n",
       "    <tr>\n",
       "      <th>max</th>\n",
       "      <td>4.000000</td>\n",
       "      <td>1943.00</td>\n",
       "      <td>62.000000</td>\n",
       "    </tr>\n",
       "  </tbody>\n",
       "</table>\n",
       "</div>"
      ],
      "text/plain": [
       "             id  year_born  no_of_songs\n",
       "count  4.000000       4.00     4.000000\n",
       "mean   2.500000    1941.25    36.750000\n",
       "std    1.290994       1.50    28.229712\n",
       "min    1.000000    1940.00     3.000000\n",
       "25%    1.750000    1940.00    18.750000\n",
       "50%    2.500000    1941.00    41.000000\n",
       "75%    3.250000    1942.25    59.000000\n",
       "max    4.000000    1943.00    62.000000"
      ]
     },
     "execution_count": 28,
     "metadata": {},
     "output_type": "execute_result"
    }
   ],
   "source": [
    "df.describe()"
   ]
  },
  {
   "cell_type": "code",
   "execution_count": 29,
   "id": "3882d279-9d5a-4bee-bafb-6caa5927dcd0",
   "metadata": {},
   "outputs": [
    {
     "data": {
      "text/html": [
       "<div>\n",
       "<style scoped>\n",
       "    .dataframe tbody tr th:only-of-type {\n",
       "        vertical-align: middle;\n",
       "    }\n",
       "\n",
       "    .dataframe tbody tr th {\n",
       "        vertical-align: top;\n",
       "    }\n",
       "\n",
       "    .dataframe thead th {\n",
       "        text-align: right;\n",
       "    }\n",
       "</style>\n",
       "<table border=\"1\" class=\"dataframe\">\n",
       "  <thead>\n",
       "    <tr style=\"text-align: right;\">\n",
       "      <th></th>\n",
       "      <th>id</th>\n",
       "      <th>Name</th>\n",
       "      <th>Last Name</th>\n",
       "      <th>dead</th>\n",
       "      <th>year_born</th>\n",
       "      <th>no_of_songs</th>\n",
       "    </tr>\n",
       "  </thead>\n",
       "  <tbody>\n",
       "    <tr>\n",
       "      <th>count</th>\n",
       "      <td>4.000000</td>\n",
       "      <td>4</td>\n",
       "      <td>4</td>\n",
       "      <td>4</td>\n",
       "      <td>4.00</td>\n",
       "      <td>4.000000</td>\n",
       "    </tr>\n",
       "    <tr>\n",
       "      <th>unique</th>\n",
       "      <td>NaN</td>\n",
       "      <td>4</td>\n",
       "      <td>4</td>\n",
       "      <td>2</td>\n",
       "      <td>NaN</td>\n",
       "      <td>NaN</td>\n",
       "    </tr>\n",
       "    <tr>\n",
       "      <th>top</th>\n",
       "      <td>NaN</td>\n",
       "      <td>John</td>\n",
       "      <td>Lennon</td>\n",
       "      <td>True</td>\n",
       "      <td>NaN</td>\n",
       "      <td>NaN</td>\n",
       "    </tr>\n",
       "    <tr>\n",
       "      <th>freq</th>\n",
       "      <td>NaN</td>\n",
       "      <td>1</td>\n",
       "      <td>1</td>\n",
       "      <td>2</td>\n",
       "      <td>NaN</td>\n",
       "      <td>NaN</td>\n",
       "    </tr>\n",
       "    <tr>\n",
       "      <th>mean</th>\n",
       "      <td>2.500000</td>\n",
       "      <td>NaN</td>\n",
       "      <td>NaN</td>\n",
       "      <td>NaN</td>\n",
       "      <td>1941.25</td>\n",
       "      <td>36.750000</td>\n",
       "    </tr>\n",
       "    <tr>\n",
       "      <th>std</th>\n",
       "      <td>1.290994</td>\n",
       "      <td>NaN</td>\n",
       "      <td>NaN</td>\n",
       "      <td>NaN</td>\n",
       "      <td>1.50</td>\n",
       "      <td>28.229712</td>\n",
       "    </tr>\n",
       "    <tr>\n",
       "      <th>min</th>\n",
       "      <td>1.000000</td>\n",
       "      <td>NaN</td>\n",
       "      <td>NaN</td>\n",
       "      <td>NaN</td>\n",
       "      <td>1940.00</td>\n",
       "      <td>3.000000</td>\n",
       "    </tr>\n",
       "    <tr>\n",
       "      <th>25%</th>\n",
       "      <td>1.750000</td>\n",
       "      <td>NaN</td>\n",
       "      <td>NaN</td>\n",
       "      <td>NaN</td>\n",
       "      <td>1940.00</td>\n",
       "      <td>18.750000</td>\n",
       "    </tr>\n",
       "    <tr>\n",
       "      <th>50%</th>\n",
       "      <td>2.500000</td>\n",
       "      <td>NaN</td>\n",
       "      <td>NaN</td>\n",
       "      <td>NaN</td>\n",
       "      <td>1941.00</td>\n",
       "      <td>41.000000</td>\n",
       "    </tr>\n",
       "    <tr>\n",
       "      <th>75%</th>\n",
       "      <td>3.250000</td>\n",
       "      <td>NaN</td>\n",
       "      <td>NaN</td>\n",
       "      <td>NaN</td>\n",
       "      <td>1942.25</td>\n",
       "      <td>59.000000</td>\n",
       "    </tr>\n",
       "    <tr>\n",
       "      <th>max</th>\n",
       "      <td>4.000000</td>\n",
       "      <td>NaN</td>\n",
       "      <td>NaN</td>\n",
       "      <td>NaN</td>\n",
       "      <td>1943.00</td>\n",
       "      <td>62.000000</td>\n",
       "    </tr>\n",
       "  </tbody>\n",
       "</table>\n",
       "</div>"
      ],
      "text/plain": [
       "              id  Name Last Name  dead  year_born  no_of_songs\n",
       "count   4.000000     4         4     4       4.00     4.000000\n",
       "unique       NaN     4         4     2        NaN          NaN\n",
       "top          NaN  John    Lennon  True        NaN          NaN\n",
       "freq         NaN     1         1     2        NaN          NaN\n",
       "mean    2.500000   NaN       NaN   NaN    1941.25    36.750000\n",
       "std     1.290994   NaN       NaN   NaN       1.50    28.229712\n",
       "min     1.000000   NaN       NaN   NaN    1940.00     3.000000\n",
       "25%     1.750000   NaN       NaN   NaN    1940.00    18.750000\n",
       "50%     2.500000   NaN       NaN   NaN    1941.00    41.000000\n",
       "75%     3.250000   NaN       NaN   NaN    1942.25    59.000000\n",
       "max     4.000000   NaN       NaN   NaN    1943.00    62.000000"
      ]
     },
     "execution_count": 29,
     "metadata": {},
     "output_type": "execute_result"
    }
   ],
   "source": [
    "df.describe(include=\"all\")"
   ]
  },
  {
   "cell_type": "markdown",
   "id": "e3fc9e0f-7c50-43dd-8c56-3ecc6547b909",
   "metadata": {},
   "source": [
    "**Index in die Variable `id` ändern**"
   ]
  },
  {
   "cell_type": "code",
   "execution_count": 32,
   "id": "d895c130-93c0-4faf-955a-2e502554f3f2",
   "metadata": {},
   "outputs": [
    {
     "data": {
      "text/html": [
       "<div>\n",
       "<style scoped>\n",
       "    .dataframe tbody tr th:only-of-type {\n",
       "        vertical-align: middle;\n",
       "    }\n",
       "\n",
       "    .dataframe tbody tr th {\n",
       "        vertical-align: top;\n",
       "    }\n",
       "\n",
       "    .dataframe thead th {\n",
       "        text-align: right;\n",
       "    }\n",
       "</style>\n",
       "<table border=\"1\" class=\"dataframe\">\n",
       "  <thead>\n",
       "    <tr style=\"text-align: right;\">\n",
       "      <th></th>\n",
       "      <th>id</th>\n",
       "      <th>Name</th>\n",
       "      <th>Last Name</th>\n",
       "      <th>dead</th>\n",
       "      <th>year_born</th>\n",
       "      <th>no_of_songs</th>\n",
       "    </tr>\n",
       "  </thead>\n",
       "  <tbody>\n",
       "    <tr>\n",
       "      <th>0</th>\n",
       "      <td>1</td>\n",
       "      <td>John</td>\n",
       "      <td>Lennon</td>\n",
       "      <td>True</td>\n",
       "      <td>1940</td>\n",
       "      <td>62</td>\n",
       "    </tr>\n",
       "    <tr>\n",
       "      <th>1</th>\n",
       "      <td>2</td>\n",
       "      <td>Paul</td>\n",
       "      <td>McCartney</td>\n",
       "      <td>False</td>\n",
       "      <td>1942</td>\n",
       "      <td>58</td>\n",
       "    </tr>\n",
       "    <tr>\n",
       "      <th>2</th>\n",
       "      <td>3</td>\n",
       "      <td>George</td>\n",
       "      <td>Harrison</td>\n",
       "      <td>True</td>\n",
       "      <td>1943</td>\n",
       "      <td>24</td>\n",
       "    </tr>\n",
       "    <tr>\n",
       "      <th>3</th>\n",
       "      <td>4</td>\n",
       "      <td>Ringo</td>\n",
       "      <td>Star</td>\n",
       "      <td>False</td>\n",
       "      <td>1940</td>\n",
       "      <td>3</td>\n",
       "    </tr>\n",
       "  </tbody>\n",
       "</table>\n",
       "</div>"
      ],
      "text/plain": [
       "   id    Name  Last Name   dead  year_born  no_of_songs\n",
       "0   1    John     Lennon   True       1940           62\n",
       "1   2    Paul  McCartney  False       1942           58\n",
       "2   3  George   Harrison   True       1943           24\n",
       "3   4   Ringo       Star  False       1940            3"
      ]
     },
     "execution_count": 32,
     "metadata": {},
     "output_type": "execute_result"
    }
   ],
   "source": [
    "df"
   ]
  },
  {
   "cell_type": "code",
   "execution_count": 33,
   "id": "7eaf95c9-7e03-4a33-9986-b17b312fc11b",
   "metadata": {},
   "outputs": [
    {
     "data": {
      "text/html": [
       "<div>\n",
       "<style scoped>\n",
       "    .dataframe tbody tr th:only-of-type {\n",
       "        vertical-align: middle;\n",
       "    }\n",
       "\n",
       "    .dataframe tbody tr th {\n",
       "        vertical-align: top;\n",
       "    }\n",
       "\n",
       "    .dataframe thead th {\n",
       "        text-align: right;\n",
       "    }\n",
       "</style>\n",
       "<table border=\"1\" class=\"dataframe\">\n",
       "  <thead>\n",
       "    <tr style=\"text-align: right;\">\n",
       "      <th></th>\n",
       "      <th>Name</th>\n",
       "      <th>Last Name</th>\n",
       "      <th>dead</th>\n",
       "      <th>year_born</th>\n",
       "      <th>no_of_songs</th>\n",
       "    </tr>\n",
       "    <tr>\n",
       "      <th>id</th>\n",
       "      <th></th>\n",
       "      <th></th>\n",
       "      <th></th>\n",
       "      <th></th>\n",
       "      <th></th>\n",
       "    </tr>\n",
       "  </thead>\n",
       "  <tbody>\n",
       "    <tr>\n",
       "      <th>1</th>\n",
       "      <td>John</td>\n",
       "      <td>Lennon</td>\n",
       "      <td>True</td>\n",
       "      <td>1940</td>\n",
       "      <td>62</td>\n",
       "    </tr>\n",
       "    <tr>\n",
       "      <th>2</th>\n",
       "      <td>Paul</td>\n",
       "      <td>McCartney</td>\n",
       "      <td>False</td>\n",
       "      <td>1942</td>\n",
       "      <td>58</td>\n",
       "    </tr>\n",
       "    <tr>\n",
       "      <th>3</th>\n",
       "      <td>George</td>\n",
       "      <td>Harrison</td>\n",
       "      <td>True</td>\n",
       "      <td>1943</td>\n",
       "      <td>24</td>\n",
       "    </tr>\n",
       "    <tr>\n",
       "      <th>4</th>\n",
       "      <td>Ringo</td>\n",
       "      <td>Star</td>\n",
       "      <td>False</td>\n",
       "      <td>1940</td>\n",
       "      <td>3</td>\n",
       "    </tr>\n",
       "  </tbody>\n",
       "</table>\n",
       "</div>"
      ],
      "text/plain": [
       "      Name  Last Name   dead  year_born  no_of_songs\n",
       "id                                                  \n",
       "1     John     Lennon   True       1940           62\n",
       "2     Paul  McCartney  False       1942           58\n",
       "3   George   Harrison   True       1943           24\n",
       "4    Ringo       Star  False       1940            3"
      ]
     },
     "execution_count": 33,
     "metadata": {},
     "output_type": "execute_result"
    }
   ],
   "source": [
    "df.set_index(\"id\")"
   ]
  },
  {
   "cell_type": "code",
   "execution_count": 34,
   "id": "cb0dc184-ecb3-46df-abd9-f6485ba2a86f",
   "metadata": {},
   "outputs": [
    {
     "data": {
      "text/html": [
       "<div>\n",
       "<style scoped>\n",
       "    .dataframe tbody tr th:only-of-type {\n",
       "        vertical-align: middle;\n",
       "    }\n",
       "\n",
       "    .dataframe tbody tr th {\n",
       "        vertical-align: top;\n",
       "    }\n",
       "\n",
       "    .dataframe thead th {\n",
       "        text-align: right;\n",
       "    }\n",
       "</style>\n",
       "<table border=\"1\" class=\"dataframe\">\n",
       "  <thead>\n",
       "    <tr style=\"text-align: right;\">\n",
       "      <th></th>\n",
       "      <th>id</th>\n",
       "      <th>Name</th>\n",
       "      <th>Last Name</th>\n",
       "      <th>dead</th>\n",
       "      <th>year_born</th>\n",
       "      <th>no_of_songs</th>\n",
       "    </tr>\n",
       "  </thead>\n",
       "  <tbody>\n",
       "    <tr>\n",
       "      <th>0</th>\n",
       "      <td>1</td>\n",
       "      <td>John</td>\n",
       "      <td>Lennon</td>\n",
       "      <td>True</td>\n",
       "      <td>1940</td>\n",
       "      <td>62</td>\n",
       "    </tr>\n",
       "    <tr>\n",
       "      <th>1</th>\n",
       "      <td>2</td>\n",
       "      <td>Paul</td>\n",
       "      <td>McCartney</td>\n",
       "      <td>False</td>\n",
       "      <td>1942</td>\n",
       "      <td>58</td>\n",
       "    </tr>\n",
       "    <tr>\n",
       "      <th>2</th>\n",
       "      <td>3</td>\n",
       "      <td>George</td>\n",
       "      <td>Harrison</td>\n",
       "      <td>True</td>\n",
       "      <td>1943</td>\n",
       "      <td>24</td>\n",
       "    </tr>\n",
       "    <tr>\n",
       "      <th>3</th>\n",
       "      <td>4</td>\n",
       "      <td>Ringo</td>\n",
       "      <td>Star</td>\n",
       "      <td>False</td>\n",
       "      <td>1940</td>\n",
       "      <td>3</td>\n",
       "    </tr>\n",
       "  </tbody>\n",
       "</table>\n",
       "</div>"
      ],
      "text/plain": [
       "   id    Name  Last Name   dead  year_born  no_of_songs\n",
       "0   1    John     Lennon   True       1940           62\n",
       "1   2    Paul  McCartney  False       1942           58\n",
       "2   3  George   Harrison   True       1943           24\n",
       "3   4   Ringo       Star  False       1940            3"
      ]
     },
     "execution_count": 34,
     "metadata": {},
     "output_type": "execute_result"
    }
   ],
   "source": [
    "df"
   ]
  },
  {
   "cell_type": "markdown",
   "id": "cd392ee2-98ba-4ac9-add4-c41e248ac728",
   "metadata": {},
   "source": [
    "Beachten Sie, dass sich nichts geändert hat!!\n",
    "\n",
    "Aus Gründen der Speicher- und Berechnungseffizienz gibt `Pandas` eine Ansicht des Objekts zurück, keine Kopie. Wenn wir also eine dauerhafte Änderung vornehmen wollen, müssen wir das Objekt einer Variablen zuweisen/neu zuordnen:\n",
    "\n",
    "`df = df.set_index(\"id\") `\n",
    "\n",
    "oder einige Methoden haben das Argument `inplace=True`:\n",
    "\n",
    "`df.set_index(\"id\", inplace=True)`   "
   ]
  },
  {
   "cell_type": "code",
   "execution_count": 35,
   "id": "3cb07063-60e4-4cd6-9022-cd1d0c8056bc",
   "metadata": {},
   "outputs": [],
   "source": [
    "df = df.set_index(\"id\")"
   ]
  },
  {
   "cell_type": "code",
   "execution_count": 36,
   "id": "5a62f520-2f27-4ca6-a719-a65c4b700b95",
   "metadata": {},
   "outputs": [
    {
     "data": {
      "text/html": [
       "<div>\n",
       "<style scoped>\n",
       "    .dataframe tbody tr th:only-of-type {\n",
       "        vertical-align: middle;\n",
       "    }\n",
       "\n",
       "    .dataframe tbody tr th {\n",
       "        vertical-align: top;\n",
       "    }\n",
       "\n",
       "    .dataframe thead th {\n",
       "        text-align: right;\n",
       "    }\n",
       "</style>\n",
       "<table border=\"1\" class=\"dataframe\">\n",
       "  <thead>\n",
       "    <tr style=\"text-align: right;\">\n",
       "      <th></th>\n",
       "      <th>Name</th>\n",
       "      <th>Last Name</th>\n",
       "      <th>dead</th>\n",
       "      <th>year_born</th>\n",
       "      <th>no_of_songs</th>\n",
       "    </tr>\n",
       "    <tr>\n",
       "      <th>id</th>\n",
       "      <th></th>\n",
       "      <th></th>\n",
       "      <th></th>\n",
       "      <th></th>\n",
       "      <th></th>\n",
       "    </tr>\n",
       "  </thead>\n",
       "  <tbody>\n",
       "    <tr>\n",
       "      <th>1</th>\n",
       "      <td>John</td>\n",
       "      <td>Lennon</td>\n",
       "      <td>True</td>\n",
       "      <td>1940</td>\n",
       "      <td>62</td>\n",
       "    </tr>\n",
       "    <tr>\n",
       "      <th>2</th>\n",
       "      <td>Paul</td>\n",
       "      <td>McCartney</td>\n",
       "      <td>False</td>\n",
       "      <td>1942</td>\n",
       "      <td>58</td>\n",
       "    </tr>\n",
       "    <tr>\n",
       "      <th>3</th>\n",
       "      <td>George</td>\n",
       "      <td>Harrison</td>\n",
       "      <td>True</td>\n",
       "      <td>1943</td>\n",
       "      <td>24</td>\n",
       "    </tr>\n",
       "    <tr>\n",
       "      <th>4</th>\n",
       "      <td>Ringo</td>\n",
       "      <td>Star</td>\n",
       "      <td>False</td>\n",
       "      <td>1940</td>\n",
       "      <td>3</td>\n",
       "    </tr>\n",
       "  </tbody>\n",
       "</table>\n",
       "</div>"
      ],
      "text/plain": [
       "      Name  Last Name   dead  year_born  no_of_songs\n",
       "id                                                  \n",
       "1     John     Lennon   True       1940           62\n",
       "2     Paul  McCartney  False       1942           58\n",
       "3   George   Harrison   True       1943           24\n",
       "4    Ringo       Star  False       1940            3"
      ]
     },
     "execution_count": 36,
     "metadata": {},
     "output_type": "execute_result"
    }
   ],
   "source": [
    "df"
   ]
  },
  {
   "cell_type": "markdown",
   "id": "72bee6b1-99da-46ba-9100-a4e00ea490cd",
   "metadata": {},
   "source": [
    "**Arithmetische Methoden**"
   ]
  },
  {
   "cell_type": "code",
   "execution_count": 37,
   "id": "55454ac6-7b5c-460e-a760-d58bfd37ebf9",
   "metadata": {},
   "outputs": [
    {
     "data": {
      "text/html": [
       "<div>\n",
       "<style scoped>\n",
       "    .dataframe tbody tr th:only-of-type {\n",
       "        vertical-align: middle;\n",
       "    }\n",
       "\n",
       "    .dataframe tbody tr th {\n",
       "        vertical-align: top;\n",
       "    }\n",
       "\n",
       "    .dataframe thead th {\n",
       "        text-align: right;\n",
       "    }\n",
       "</style>\n",
       "<table border=\"1\" class=\"dataframe\">\n",
       "  <thead>\n",
       "    <tr style=\"text-align: right;\">\n",
       "      <th></th>\n",
       "      <th>Name</th>\n",
       "      <th>Last Name</th>\n",
       "      <th>dead</th>\n",
       "      <th>year_born</th>\n",
       "      <th>no_of_songs</th>\n",
       "    </tr>\n",
       "    <tr>\n",
       "      <th>id</th>\n",
       "      <th></th>\n",
       "      <th></th>\n",
       "      <th></th>\n",
       "      <th></th>\n",
       "      <th></th>\n",
       "    </tr>\n",
       "  </thead>\n",
       "  <tbody>\n",
       "    <tr>\n",
       "      <th>1</th>\n",
       "      <td>John</td>\n",
       "      <td>Lennon</td>\n",
       "      <td>True</td>\n",
       "      <td>1940</td>\n",
       "      <td>62</td>\n",
       "    </tr>\n",
       "    <tr>\n",
       "      <th>2</th>\n",
       "      <td>Paul</td>\n",
       "      <td>McCartney</td>\n",
       "      <td>False</td>\n",
       "      <td>1942</td>\n",
       "      <td>58</td>\n",
       "    </tr>\n",
       "    <tr>\n",
       "      <th>3</th>\n",
       "      <td>George</td>\n",
       "      <td>Harrison</td>\n",
       "      <td>True</td>\n",
       "      <td>1943</td>\n",
       "      <td>24</td>\n",
       "    </tr>\n",
       "    <tr>\n",
       "      <th>4</th>\n",
       "      <td>Ringo</td>\n",
       "      <td>Star</td>\n",
       "      <td>False</td>\n",
       "      <td>1940</td>\n",
       "      <td>3</td>\n",
       "    </tr>\n",
       "  </tbody>\n",
       "</table>\n",
       "</div>"
      ],
      "text/plain": [
       "      Name  Last Name   dead  year_born  no_of_songs\n",
       "id                                                  \n",
       "1     John     Lennon   True       1940           62\n",
       "2     Paul  McCartney  False       1942           58\n",
       "3   George   Harrison   True       1943           24\n",
       "4    Ringo       Star  False       1940            3"
      ]
     },
     "execution_count": 37,
     "metadata": {},
     "output_type": "execute_result"
    }
   ],
   "source": [
    "df"
   ]
  },
  {
   "cell_type": "code",
   "execution_count": 38,
   "id": "9be595a5-37ba-4784-80f1-776f287f466f",
   "metadata": {},
   "outputs": [
    {
     "data": {
      "text/plain": [
       "Name                   JohnPaulGeorgeRingo\n",
       "Last Name      LennonMcCartneyHarrisonStar\n",
       "dead                                     2\n",
       "year_born                             7765\n",
       "no_of_songs                            147\n",
       "dtype: object"
      ]
     },
     "execution_count": 38,
     "metadata": {},
     "output_type": "execute_result"
    }
   ],
   "source": [
    "df.sum(axis=0)"
   ]
  },
  {
   "cell_type": "code",
   "execution_count": 39,
   "id": "2d269f9c-9100-482a-9ae0-d8323cdea594",
   "metadata": {},
   "outputs": [
    {
     "name": "stderr",
     "output_type": "stream",
     "text": [
      "C:\\Users\\zak\\AppData\\Local\\Temp\\ipykernel_28228\\1459321664.py:1: FutureWarning: Dropping of nuisance columns in DataFrame reductions (with 'numeric_only=None') is deprecated; in a future version this will raise TypeError.  Select only valid columns before calling the reduction.\n",
      "  df.sum(axis=1)\n"
     ]
    },
    {
     "data": {
      "text/plain": [
       "id\n",
       "1    2003.0\n",
       "2    2000.0\n",
       "3    1968.0\n",
       "4    1943.0\n",
       "dtype: float64"
      ]
     },
     "execution_count": 39,
     "metadata": {},
     "output_type": "execute_result"
    }
   ],
   "source": [
    "df.sum(axis=1)"
   ]
  },
  {
   "cell_type": "markdown",
   "id": "8351ea53-f329-42b5-bd6a-2f7e85211458",
   "metadata": {},
   "source": [
    "### `Groupby`-Methode"
   ]
  },
  {
   "cell_type": "markdown",
   "id": "a03a942d-5e70-4d5a-86e6-74940b56804b",
   "metadata": {},
   "source": [
    "<a href=\"https://www.jstatsoft.org/article/view/v040i01\">Hadley Wickham 2011: The Split-Apply-Combine Strategy for Data Analysis, Journal of Statistical Software, 40(1)</a>"
   ]
  },
  {
   "cell_type": "markdown",
   "id": "a08ce865-0e7d-4aa6-a41b-98f29ba27ef1",
   "metadata": {},
   "source": [
    "![Alt-Text](split-apply-combine.png)"
   ]
  },
  {
   "cell_type": "code",
   "execution_count": 40,
   "id": "ea805e8a-6e5e-4dba-b585-8bbd49905906",
   "metadata": {},
   "outputs": [
    {
     "data": {
      "text/html": [
       "<div>\n",
       "<style scoped>\n",
       "    .dataframe tbody tr th:only-of-type {\n",
       "        vertical-align: middle;\n",
       "    }\n",
       "\n",
       "    .dataframe tbody tr th {\n",
       "        vertical-align: top;\n",
       "    }\n",
       "\n",
       "    .dataframe thead th {\n",
       "        text-align: right;\n",
       "    }\n",
       "</style>\n",
       "<table border=\"1\" class=\"dataframe\">\n",
       "  <thead>\n",
       "    <tr style=\"text-align: right;\">\n",
       "      <th></th>\n",
       "      <th>Name</th>\n",
       "      <th>Last Name</th>\n",
       "      <th>dead</th>\n",
       "      <th>year_born</th>\n",
       "      <th>no_of_songs</th>\n",
       "    </tr>\n",
       "    <tr>\n",
       "      <th>id</th>\n",
       "      <th></th>\n",
       "      <th></th>\n",
       "      <th></th>\n",
       "      <th></th>\n",
       "      <th></th>\n",
       "    </tr>\n",
       "  </thead>\n",
       "  <tbody>\n",
       "    <tr>\n",
       "      <th>1</th>\n",
       "      <td>John</td>\n",
       "      <td>Lennon</td>\n",
       "      <td>True</td>\n",
       "      <td>1940</td>\n",
       "      <td>62</td>\n",
       "    </tr>\n",
       "    <tr>\n",
       "      <th>2</th>\n",
       "      <td>Paul</td>\n",
       "      <td>McCartney</td>\n",
       "      <td>False</td>\n",
       "      <td>1942</td>\n",
       "      <td>58</td>\n",
       "    </tr>\n",
       "    <tr>\n",
       "      <th>3</th>\n",
       "      <td>George</td>\n",
       "      <td>Harrison</td>\n",
       "      <td>True</td>\n",
       "      <td>1943</td>\n",
       "      <td>24</td>\n",
       "    </tr>\n",
       "    <tr>\n",
       "      <th>4</th>\n",
       "      <td>Ringo</td>\n",
       "      <td>Star</td>\n",
       "      <td>False</td>\n",
       "      <td>1940</td>\n",
       "      <td>3</td>\n",
       "    </tr>\n",
       "  </tbody>\n",
       "</table>\n",
       "</div>"
      ],
      "text/plain": [
       "      Name  Last Name   dead  year_born  no_of_songs\n",
       "id                                                  \n",
       "1     John     Lennon   True       1940           62\n",
       "2     Paul  McCartney  False       1942           58\n",
       "3   George   Harrison   True       1943           24\n",
       "4    Ringo       Star  False       1940            3"
      ]
     },
     "execution_count": 40,
     "metadata": {},
     "output_type": "execute_result"
    }
   ],
   "source": [
    "df"
   ]
  },
  {
   "cell_type": "code",
   "execution_count": 41,
   "id": "4c6fb570-6362-4dfe-a545-017b50eb14f4",
   "metadata": {},
   "outputs": [
    {
     "data": {
      "text/plain": [
       "<pandas.core.groupby.generic.DataFrameGroupBy object at 0x000002578F74F490>"
      ]
     },
     "execution_count": 41,
     "metadata": {},
     "output_type": "execute_result"
    }
   ],
   "source": [
    "df.groupby(\"dead\")"
   ]
  },
  {
   "cell_type": "code",
   "execution_count": 42,
   "id": "b6e5ed58-1845-4008-af2e-34862aed860d",
   "metadata": {},
   "outputs": [
    {
     "data": {
      "text/html": [
       "<div>\n",
       "<style scoped>\n",
       "    .dataframe tbody tr th:only-of-type {\n",
       "        vertical-align: middle;\n",
       "    }\n",
       "\n",
       "    .dataframe tbody tr th {\n",
       "        vertical-align: top;\n",
       "    }\n",
       "\n",
       "    .dataframe thead th {\n",
       "        text-align: right;\n",
       "    }\n",
       "</style>\n",
       "<table border=\"1\" class=\"dataframe\">\n",
       "  <thead>\n",
       "    <tr style=\"text-align: right;\">\n",
       "      <th></th>\n",
       "      <th>year_born</th>\n",
       "      <th>no_of_songs</th>\n",
       "    </tr>\n",
       "    <tr>\n",
       "      <th>dead</th>\n",
       "      <th></th>\n",
       "      <th></th>\n",
       "    </tr>\n",
       "  </thead>\n",
       "  <tbody>\n",
       "    <tr>\n",
       "      <th>False</th>\n",
       "      <td>3882</td>\n",
       "      <td>61</td>\n",
       "    </tr>\n",
       "    <tr>\n",
       "      <th>True</th>\n",
       "      <td>3883</td>\n",
       "      <td>86</td>\n",
       "    </tr>\n",
       "  </tbody>\n",
       "</table>\n",
       "</div>"
      ],
      "text/plain": [
       "       year_born  no_of_songs\n",
       "dead                         \n",
       "False       3882           61\n",
       "True        3883           86"
      ]
     },
     "execution_count": 42,
     "metadata": {},
     "output_type": "execute_result"
    }
   ],
   "source": [
    "df.groupby(\"dead\").sum()"
   ]
  },
  {
   "cell_type": "code",
   "execution_count": 43,
   "id": "e57cd5f5-57f3-4768-8bc8-143798e8028b",
   "metadata": {},
   "outputs": [
    {
     "data": {
      "text/plain": [
       "dead\n",
       "False    61\n",
       "True     86\n",
       "Name: no_of_songs, dtype: int64"
      ]
     },
     "execution_count": 43,
     "metadata": {},
     "output_type": "execute_result"
    }
   ],
   "source": [
    "df.groupby(\"dead\")[\"no_of_songs\"].sum()"
   ]
  },
  {
   "cell_type": "code",
   "execution_count": 44,
   "id": "b36dbc33-dc88-4f56-99ba-4f224d7ee5c0",
   "metadata": {},
   "outputs": [
    {
     "data": {
      "text/plain": [
       "dead\n",
       "False    30.5\n",
       "True     43.0\n",
       "Name: no_of_songs, dtype: float64"
      ]
     },
     "execution_count": 44,
     "metadata": {},
     "output_type": "execute_result"
    }
   ],
   "source": [
    "df.groupby(\"dead\")[\"no_of_songs\"].mean()"
   ]
  },
  {
   "cell_type": "code",
   "execution_count": 45,
   "id": "6b705200-7177-4f2e-beae-21c546981058",
   "metadata": {},
   "outputs": [
    {
     "data": {
      "text/html": [
       "<div>\n",
       "<style scoped>\n",
       "    .dataframe tbody tr th:only-of-type {\n",
       "        vertical-align: middle;\n",
       "    }\n",
       "\n",
       "    .dataframe tbody tr th {\n",
       "        vertical-align: top;\n",
       "    }\n",
       "\n",
       "    .dataframe thead th {\n",
       "        text-align: right;\n",
       "    }\n",
       "</style>\n",
       "<table border=\"1\" class=\"dataframe\">\n",
       "  <thead>\n",
       "    <tr style=\"text-align: right;\">\n",
       "      <th></th>\n",
       "      <th>mean</th>\n",
       "      <th>max</th>\n",
       "      <th>min</th>\n",
       "      <th>sum</th>\n",
       "    </tr>\n",
       "    <tr>\n",
       "      <th>dead</th>\n",
       "      <th></th>\n",
       "      <th></th>\n",
       "      <th></th>\n",
       "      <th></th>\n",
       "    </tr>\n",
       "  </thead>\n",
       "  <tbody>\n",
       "    <tr>\n",
       "      <th>False</th>\n",
       "      <td>30.5</td>\n",
       "      <td>58</td>\n",
       "      <td>3</td>\n",
       "      <td>61</td>\n",
       "    </tr>\n",
       "    <tr>\n",
       "      <th>True</th>\n",
       "      <td>43.0</td>\n",
       "      <td>62</td>\n",
       "      <td>24</td>\n",
       "      <td>86</td>\n",
       "    </tr>\n",
       "  </tbody>\n",
       "</table>\n",
       "</div>"
      ],
      "text/plain": [
       "       mean  max  min  sum\n",
       "dead                      \n",
       "False  30.5   58    3   61\n",
       "True   43.0   62   24   86"
      ]
     },
     "execution_count": 45,
     "metadata": {},
     "output_type": "execute_result"
    }
   ],
   "source": [
    "df.groupby(\"dead\")[\"no_of_songs\"].agg([\"mean\", \"max\", \"min\", \"sum\"])"
   ]
  },
  {
   "cell_type": "markdown",
   "id": "f73a89e9-055c-40a0-8b34-50c918fa8710",
   "metadata": {},
   "source": [
    "### Familie von `apply/map`-Methoden"
   ]
  },
  {
   "cell_type": "markdown",
   "id": "e637804c-fc63-4694-a6ad-e26d84f96630",
   "metadata": {},
   "source": [
    "- `apply` arbeitet zeilenweise (`axis=0`, Standard) / spaltenweise (`axis=1`) auf einem `DataFrame`\n",
    "- `applymap` arbeitet elementweise auf einem `DataFrame`\n",
    "- `map` arbeitet elementweise mit einer `Series`."
   ]
  },
  {
   "cell_type": "code",
   "execution_count": 46,
   "id": "badad631-5af7-4fd9-bb34-4736f9b32536",
   "metadata": {},
   "outputs": [
    {
     "data": {
      "text/html": [
       "<div>\n",
       "<style scoped>\n",
       "    .dataframe tbody tr th:only-of-type {\n",
       "        vertical-align: middle;\n",
       "    }\n",
       "\n",
       "    .dataframe tbody tr th {\n",
       "        vertical-align: top;\n",
       "    }\n",
       "\n",
       "    .dataframe thead th {\n",
       "        text-align: right;\n",
       "    }\n",
       "</style>\n",
       "<table border=\"1\" class=\"dataframe\">\n",
       "  <thead>\n",
       "    <tr style=\"text-align: right;\">\n",
       "      <th></th>\n",
       "      <th>Name</th>\n",
       "      <th>Last Name</th>\n",
       "      <th>dead</th>\n",
       "      <th>year_born</th>\n",
       "      <th>no_of_songs</th>\n",
       "    </tr>\n",
       "    <tr>\n",
       "      <th>id</th>\n",
       "      <th></th>\n",
       "      <th></th>\n",
       "      <th></th>\n",
       "      <th></th>\n",
       "      <th></th>\n",
       "    </tr>\n",
       "  </thead>\n",
       "  <tbody>\n",
       "    <tr>\n",
       "      <th>1</th>\n",
       "      <td>John</td>\n",
       "      <td>Lennon</td>\n",
       "      <td>True</td>\n",
       "      <td>1940</td>\n",
       "      <td>62</td>\n",
       "    </tr>\n",
       "    <tr>\n",
       "      <th>2</th>\n",
       "      <td>Paul</td>\n",
       "      <td>McCartney</td>\n",
       "      <td>False</td>\n",
       "      <td>1942</td>\n",
       "      <td>58</td>\n",
       "    </tr>\n",
       "    <tr>\n",
       "      <th>3</th>\n",
       "      <td>George</td>\n",
       "      <td>Harrison</td>\n",
       "      <td>True</td>\n",
       "      <td>1943</td>\n",
       "      <td>24</td>\n",
       "    </tr>\n",
       "    <tr>\n",
       "      <th>4</th>\n",
       "      <td>Ringo</td>\n",
       "      <td>Star</td>\n",
       "      <td>False</td>\n",
       "      <td>1940</td>\n",
       "      <td>3</td>\n",
       "    </tr>\n",
       "  </tbody>\n",
       "</table>\n",
       "</div>"
      ],
      "text/plain": [
       "      Name  Last Name   dead  year_born  no_of_songs\n",
       "id                                                  \n",
       "1     John     Lennon   True       1940           62\n",
       "2     Paul  McCartney  False       1942           58\n",
       "3   George   Harrison   True       1943           24\n",
       "4    Ringo       Star  False       1940            3"
      ]
     },
     "execution_count": 46,
     "metadata": {},
     "output_type": "execute_result"
    }
   ],
   "source": [
    "df"
   ]
  },
  {
   "cell_type": "code",
   "execution_count": 47,
   "id": "73816330-65c9-4f56-af36-d43d4a7c77bf",
   "metadata": {},
   "outputs": [
    {
     "data": {
      "text/plain": [
       "Name                 JohnPaulGeorgeRingo\n",
       "Last Name    LennonMcCartneyHarrisonStar\n",
       "dtype: object"
      ]
     },
     "execution_count": 47,
     "metadata": {},
     "output_type": "execute_result"
    }
   ],
   "source": [
    "# (axis=0, default)\n",
    "df[[\"Name\", \"Last Name\"]].apply(lambda x: x.sum())"
   ]
  },
  {
   "cell_type": "code",
   "execution_count": 48,
   "id": "d2ae8d95-c193-4ad7-9993-de70518a3489",
   "metadata": {},
   "outputs": [
    {
     "data": {
      "text/plain": [
       "id\n",
       "1        JohnLennon\n",
       "2     PaulMcCartney\n",
       "3    GeorgeHarrison\n",
       "4         RingoStar\n",
       "dtype: object"
      ]
     },
     "execution_count": 48,
     "metadata": {},
     "output_type": "execute_result"
    }
   ],
   "source": [
    "# (axis=1)\n",
    "df[[\"Name\", \"Last Name\"]].apply(lambda x: x.sum(), axis=1)"
   ]
  },
  {
   "cell_type": "markdown",
   "id": "5439ba74-cf3b-4304-a497-cba7e3c7427c",
   "metadata": {},
   "source": [
    "*... vielleicht ein nützlicherer Fall ...*"
   ]
  },
  {
   "cell_type": "code",
   "execution_count": 49,
   "id": "3d6fbb93-f5c2-4fa8-b358-220cc1a7f2b5",
   "metadata": {},
   "outputs": [
    {
     "data": {
      "text/plain": [
       "id\n",
       "1        John Lennon\n",
       "2     Paul McCartney\n",
       "3    George Harrison\n",
       "4         Ringo Star\n",
       "dtype: object"
      ]
     },
     "execution_count": 49,
     "metadata": {},
     "output_type": "execute_result"
    }
   ],
   "source": [
    "df.apply(lambda x: \" \".join(x[[\"Name\", \"Last Name\"]]), axis=1)"
   ]
  },
  {
   "cell_type": "markdown",
   "id": "bba7d7ba-4546-47e1-81af-2df44f35d97a",
   "metadata": {},
   "source": [
    "### Auswahl und Indizierung\n",
    "\n",
    "**Spaltenindex**"
   ]
  },
  {
   "cell_type": "code",
   "execution_count": 50,
   "id": "1b367e2e-493e-45f5-b00b-61f4742d8b75",
   "metadata": {},
   "outputs": [
    {
     "data": {
      "text/plain": [
       "id\n",
       "1      John\n",
       "2      Paul\n",
       "3    George\n",
       "4     Ringo\n",
       "Name: Name, dtype: object"
      ]
     },
     "execution_count": 50,
     "metadata": {},
     "output_type": "execute_result"
    }
   ],
   "source": [
    "df[\"Name\"]"
   ]
  },
  {
   "cell_type": "code",
   "execution_count": 51,
   "id": "aea26347-8654-4630-ac39-656fa9e1f2a6",
   "metadata": {},
   "outputs": [
    {
     "data": {
      "text/html": [
       "<div>\n",
       "<style scoped>\n",
       "    .dataframe tbody tr th:only-of-type {\n",
       "        vertical-align: middle;\n",
       "    }\n",
       "\n",
       "    .dataframe tbody tr th {\n",
       "        vertical-align: top;\n",
       "    }\n",
       "\n",
       "    .dataframe thead th {\n",
       "        text-align: right;\n",
       "    }\n",
       "</style>\n",
       "<table border=\"1\" class=\"dataframe\">\n",
       "  <thead>\n",
       "    <tr style=\"text-align: right;\">\n",
       "      <th></th>\n",
       "      <th>Name</th>\n",
       "      <th>Last Name</th>\n",
       "    </tr>\n",
       "    <tr>\n",
       "      <th>id</th>\n",
       "      <th></th>\n",
       "      <th></th>\n",
       "    </tr>\n",
       "  </thead>\n",
       "  <tbody>\n",
       "    <tr>\n",
       "      <th>1</th>\n",
       "      <td>John</td>\n",
       "      <td>Lennon</td>\n",
       "    </tr>\n",
       "    <tr>\n",
       "      <th>2</th>\n",
       "      <td>Paul</td>\n",
       "      <td>McCartney</td>\n",
       "    </tr>\n",
       "    <tr>\n",
       "      <th>3</th>\n",
       "      <td>George</td>\n",
       "      <td>Harrison</td>\n",
       "    </tr>\n",
       "    <tr>\n",
       "      <th>4</th>\n",
       "      <td>Ringo</td>\n",
       "      <td>Star</td>\n",
       "    </tr>\n",
       "  </tbody>\n",
       "</table>\n",
       "</div>"
      ],
      "text/plain": [
       "      Name  Last Name\n",
       "id                   \n",
       "1     John     Lennon\n",
       "2     Paul  McCartney\n",
       "3   George   Harrison\n",
       "4    Ringo       Star"
      ]
     },
     "execution_count": 51,
     "metadata": {},
     "output_type": "execute_result"
    }
   ],
   "source": [
    "df[[\"Name\", \"Last Name\"]]"
   ]
  },
  {
   "cell_type": "code",
   "execution_count": 52,
   "id": "dfe567b7-6d99-4d5e-bc21-2fd4c8087e09",
   "metadata": {},
   "outputs": [
    {
     "data": {
      "text/plain": [
       "id\n",
       "1     True\n",
       "2    False\n",
       "3     True\n",
       "4    False\n",
       "Name: dead, dtype: bool"
      ]
     },
     "execution_count": 52,
     "metadata": {},
     "output_type": "execute_result"
    }
   ],
   "source": [
    "df.dead"
   ]
  },
  {
   "cell_type": "markdown",
   "id": "05d47c1a-39e1-468f-a89f-34139e75a09b",
   "metadata": {},
   "source": [
    "**Zeilenindex**\n",
    "\n",
    "Neben dem `[ ]`-Operator verfügt Pandas über weitere Indizierungsoperatoren wie `.loc[]` und `.iloc[]`, um nur einige zu nennen.\n",
    "\n",
    "  -  `.loc[]` basiert hauptsächlich auf **Bezeichnungen**, kann aber auch mit einem booleschen Array verwendet werden.\n",
    " -   `.iloc[]` basiert in erster Linie auf **Ganzzahlpositionen** (von $0$ bis Länge $-1$ der Achse), kann aber auch mit einem booleschen Array verwendet werden."
   ]
  },
  {
   "cell_type": "code",
   "execution_count": 55,
   "id": "da98ccba-b31e-412a-90a3-cb8983e1db19",
   "metadata": {},
   "outputs": [
    {
     "data": {
      "text/html": [
       "<div>\n",
       "<style scoped>\n",
       "    .dataframe tbody tr th:only-of-type {\n",
       "        vertical-align: middle;\n",
       "    }\n",
       "\n",
       "    .dataframe tbody tr th {\n",
       "        vertical-align: top;\n",
       "    }\n",
       "\n",
       "    .dataframe thead th {\n",
       "        text-align: right;\n",
       "    }\n",
       "</style>\n",
       "<table border=\"1\" class=\"dataframe\">\n",
       "  <thead>\n",
       "    <tr style=\"text-align: right;\">\n",
       "      <th></th>\n",
       "      <th>Name</th>\n",
       "      <th>Last Name</th>\n",
       "      <th>dead</th>\n",
       "      <th>year_born</th>\n",
       "      <th>no_of_songs</th>\n",
       "    </tr>\n",
       "    <tr>\n",
       "      <th>id</th>\n",
       "      <th></th>\n",
       "      <th></th>\n",
       "      <th></th>\n",
       "      <th></th>\n",
       "      <th></th>\n",
       "    </tr>\n",
       "  </thead>\n",
       "  <tbody>\n",
       "    <tr>\n",
       "      <th>1</th>\n",
       "      <td>John</td>\n",
       "      <td>Lennon</td>\n",
       "      <td>True</td>\n",
       "      <td>1940</td>\n",
       "      <td>62</td>\n",
       "    </tr>\n",
       "    <tr>\n",
       "      <th>2</th>\n",
       "      <td>Paul</td>\n",
       "      <td>McCartney</td>\n",
       "      <td>False</td>\n",
       "      <td>1942</td>\n",
       "      <td>58</td>\n",
       "    </tr>\n",
       "  </tbody>\n",
       "</table>\n",
       "</div>"
      ],
      "text/plain": [
       "    Name  Last Name   dead  year_born  no_of_songs\n",
       "id                                                \n",
       "1   John     Lennon   True       1940           62\n",
       "2   Paul  McCartney  False       1942           58"
      ]
     },
     "execution_count": 55,
     "metadata": {},
     "output_type": "execute_result"
    }
   ],
   "source": [
    "df.head(2)"
   ]
  },
  {
   "cell_type": "code",
   "execution_count": 56,
   "id": "5c3f27f1-b6bd-4700-84e2-8d6ae417385f",
   "metadata": {},
   "outputs": [
    {
     "data": {
      "text/plain": [
       "Name             John\n",
       "Last Name      Lennon\n",
       "dead             True\n",
       "year_born        1940\n",
       "no_of_songs        62\n",
       "Name: 1, dtype: object"
      ]
     },
     "execution_count": 56,
     "metadata": {},
     "output_type": "execute_result"
    }
   ],
   "source": [
    "df.loc[1]"
   ]
  },
  {
   "cell_type": "code",
   "execution_count": 57,
   "id": "d7ff33c0-377c-4f69-a7b2-5e18d88857da",
   "metadata": {},
   "outputs": [
    {
     "data": {
      "text/plain": [
       "Name                Paul\n",
       "Last Name      McCartney\n",
       "dead               False\n",
       "year_born           1942\n",
       "no_of_songs           58\n",
       "Name: 2, dtype: object"
      ]
     },
     "execution_count": 57,
     "metadata": {},
     "output_type": "execute_result"
    }
   ],
   "source": [
    "df.iloc[1]"
   ]
  },
  {
   "cell_type": "markdown",
   "id": "20f425cf-bcc0-45ad-b060-a8535d2de8ce",
   "metadata": {},
   "source": [
    "**Zeilen- und Spaltenindizes**\n",
    "\n",
    "`df.loc[row, col]`"
   ]
  },
  {
   "cell_type": "code",
   "execution_count": 58,
   "id": "19aabf0f-93ee-4da7-beda-3756ef175536",
   "metadata": {},
   "outputs": [
    {
     "data": {
      "text/plain": [
       "'Lennon'"
      ]
     },
     "execution_count": 58,
     "metadata": {},
     "output_type": "execute_result"
    }
   ],
   "source": [
    "df.loc[1, \"Last Name\"]"
   ]
  },
  {
   "cell_type": "code",
   "execution_count": 59,
   "id": "c191954f-8cd2-42a1-9db4-895bf9b59483",
   "metadata": {},
   "outputs": [
    {
     "data": {
      "text/html": [
       "<div>\n",
       "<style scoped>\n",
       "    .dataframe tbody tr th:only-of-type {\n",
       "        vertical-align: middle;\n",
       "    }\n",
       "\n",
       "    .dataframe tbody tr th {\n",
       "        vertical-align: top;\n",
       "    }\n",
       "\n",
       "    .dataframe thead th {\n",
       "        text-align: right;\n",
       "    }\n",
       "</style>\n",
       "<table border=\"1\" class=\"dataframe\">\n",
       "  <thead>\n",
       "    <tr style=\"text-align: right;\">\n",
       "      <th></th>\n",
       "      <th>Name</th>\n",
       "      <th>dead</th>\n",
       "    </tr>\n",
       "    <tr>\n",
       "      <th>id</th>\n",
       "      <th></th>\n",
       "      <th></th>\n",
       "    </tr>\n",
       "  </thead>\n",
       "  <tbody>\n",
       "    <tr>\n",
       "      <th>2</th>\n",
       "      <td>Paul</td>\n",
       "      <td>False</td>\n",
       "    </tr>\n",
       "    <tr>\n",
       "      <th>3</th>\n",
       "      <td>George</td>\n",
       "      <td>True</td>\n",
       "    </tr>\n",
       "    <tr>\n",
       "      <th>4</th>\n",
       "      <td>Ringo</td>\n",
       "      <td>False</td>\n",
       "    </tr>\n",
       "  </tbody>\n",
       "</table>\n",
       "</div>"
      ],
      "text/plain": [
       "      Name   dead\n",
       "id               \n",
       "2     Paul  False\n",
       "3   George   True\n",
       "4    Ringo  False"
      ]
     },
     "execution_count": 59,
     "metadata": {},
     "output_type": "execute_result"
    }
   ],
   "source": [
    "df.loc[2:4, [\"Name\", \"dead\"]]"
   ]
  },
  {
   "cell_type": "markdown",
   "id": "f9e5e850-d69e-437d-b672-8578f7c10ee9",
   "metadata": {},
   "source": [
    "**logisches Indizieren**"
   ]
  },
  {
   "cell_type": "code",
   "execution_count": 60,
   "id": "949834d2-0bfe-45c6-b50c-4e27341242f5",
   "metadata": {},
   "outputs": [
    {
     "data": {
      "text/html": [
       "<div>\n",
       "<style scoped>\n",
       "    .dataframe tbody tr th:only-of-type {\n",
       "        vertical-align: middle;\n",
       "    }\n",
       "\n",
       "    .dataframe tbody tr th {\n",
       "        vertical-align: top;\n",
       "    }\n",
       "\n",
       "    .dataframe thead th {\n",
       "        text-align: right;\n",
       "    }\n",
       "</style>\n",
       "<table border=\"1\" class=\"dataframe\">\n",
       "  <thead>\n",
       "    <tr style=\"text-align: right;\">\n",
       "      <th></th>\n",
       "      <th>Name</th>\n",
       "      <th>Last Name</th>\n",
       "      <th>dead</th>\n",
       "      <th>year_born</th>\n",
       "      <th>no_of_songs</th>\n",
       "    </tr>\n",
       "    <tr>\n",
       "      <th>id</th>\n",
       "      <th></th>\n",
       "      <th></th>\n",
       "      <th></th>\n",
       "      <th></th>\n",
       "      <th></th>\n",
       "    </tr>\n",
       "  </thead>\n",
       "  <tbody>\n",
       "    <tr>\n",
       "      <th>1</th>\n",
       "      <td>John</td>\n",
       "      <td>Lennon</td>\n",
       "      <td>True</td>\n",
       "      <td>1940</td>\n",
       "      <td>62</td>\n",
       "    </tr>\n",
       "    <tr>\n",
       "      <th>2</th>\n",
       "      <td>Paul</td>\n",
       "      <td>McCartney</td>\n",
       "      <td>False</td>\n",
       "      <td>1942</td>\n",
       "      <td>58</td>\n",
       "    </tr>\n",
       "    <tr>\n",
       "      <th>3</th>\n",
       "      <td>George</td>\n",
       "      <td>Harrison</td>\n",
       "      <td>True</td>\n",
       "      <td>1943</td>\n",
       "      <td>24</td>\n",
       "    </tr>\n",
       "    <tr>\n",
       "      <th>4</th>\n",
       "      <td>Ringo</td>\n",
       "      <td>Star</td>\n",
       "      <td>False</td>\n",
       "      <td>1940</td>\n",
       "      <td>3</td>\n",
       "    </tr>\n",
       "  </tbody>\n",
       "</table>\n",
       "</div>"
      ],
      "text/plain": [
       "      Name  Last Name   dead  year_born  no_of_songs\n",
       "id                                                  \n",
       "1     John     Lennon   True       1940           62\n",
       "2     Paul  McCartney  False       1942           58\n",
       "3   George   Harrison   True       1943           24\n",
       "4    Ringo       Star  False       1940            3"
      ]
     },
     "execution_count": 60,
     "metadata": {},
     "output_type": "execute_result"
    }
   ],
   "source": [
    "df"
   ]
  },
  {
   "cell_type": "code",
   "execution_count": 62,
   "id": "6263a98a-8835-42dc-83a9-81d41e0dd37b",
   "metadata": {},
   "outputs": [
    {
     "data": {
      "text/plain": [
       "id\n",
       "1     True\n",
       "2     True\n",
       "3    False\n",
       "4    False\n",
       "Name: no_of_songs, dtype: bool"
      ]
     },
     "execution_count": 62,
     "metadata": {},
     "output_type": "execute_result"
    }
   ],
   "source": [
    "df[\"no_of_songs\"] > 50"
   ]
  },
  {
   "cell_type": "code",
   "execution_count": 63,
   "id": "a7bafae2-1b5c-45ea-9312-d3b826249a34",
   "metadata": {},
   "outputs": [
    {
     "data": {
      "text/html": [
       "<div>\n",
       "<style scoped>\n",
       "    .dataframe tbody tr th:only-of-type {\n",
       "        vertical-align: middle;\n",
       "    }\n",
       "\n",
       "    .dataframe tbody tr th {\n",
       "        vertical-align: top;\n",
       "    }\n",
       "\n",
       "    .dataframe thead th {\n",
       "        text-align: right;\n",
       "    }\n",
       "</style>\n",
       "<table border=\"1\" class=\"dataframe\">\n",
       "  <thead>\n",
       "    <tr style=\"text-align: right;\">\n",
       "      <th></th>\n",
       "      <th>Name</th>\n",
       "      <th>Last Name</th>\n",
       "      <th>dead</th>\n",
       "      <th>year_born</th>\n",
       "      <th>no_of_songs</th>\n",
       "    </tr>\n",
       "    <tr>\n",
       "      <th>id</th>\n",
       "      <th></th>\n",
       "      <th></th>\n",
       "      <th></th>\n",
       "      <th></th>\n",
       "      <th></th>\n",
       "    </tr>\n",
       "  </thead>\n",
       "  <tbody>\n",
       "    <tr>\n",
       "      <th>1</th>\n",
       "      <td>John</td>\n",
       "      <td>Lennon</td>\n",
       "      <td>True</td>\n",
       "      <td>1940</td>\n",
       "      <td>62</td>\n",
       "    </tr>\n",
       "    <tr>\n",
       "      <th>2</th>\n",
       "      <td>Paul</td>\n",
       "      <td>McCartney</td>\n",
       "      <td>False</td>\n",
       "      <td>1942</td>\n",
       "      <td>58</td>\n",
       "    </tr>\n",
       "  </tbody>\n",
       "</table>\n",
       "</div>"
      ],
      "text/plain": [
       "    Name  Last Name   dead  year_born  no_of_songs\n",
       "id                                                \n",
       "1   John     Lennon   True       1940           62\n",
       "2   Paul  McCartney  False       1942           58"
      ]
     },
     "execution_count": 63,
     "metadata": {},
     "output_type": "execute_result"
    }
   ],
   "source": [
    "df.loc[df[\"no_of_songs\"] > 50]"
   ]
  },
  {
   "cell_type": "code",
   "execution_count": 64,
   "id": "01eb5d16-423b-4772-941a-ccdf612cdbcc",
   "metadata": {},
   "outputs": [
    {
     "data": {
      "text/html": [
       "<div>\n",
       "<style scoped>\n",
       "    .dataframe tbody tr th:only-of-type {\n",
       "        vertical-align: middle;\n",
       "    }\n",
       "\n",
       "    .dataframe tbody tr th {\n",
       "        vertical-align: top;\n",
       "    }\n",
       "\n",
       "    .dataframe thead th {\n",
       "        text-align: right;\n",
       "    }\n",
       "</style>\n",
       "<table border=\"1\" class=\"dataframe\">\n",
       "  <thead>\n",
       "    <tr style=\"text-align: right;\">\n",
       "      <th></th>\n",
       "      <th>Name</th>\n",
       "      <th>Last Name</th>\n",
       "      <th>dead</th>\n",
       "      <th>year_born</th>\n",
       "      <th>no_of_songs</th>\n",
       "    </tr>\n",
       "    <tr>\n",
       "      <th>id</th>\n",
       "      <th></th>\n",
       "      <th></th>\n",
       "      <th></th>\n",
       "      <th></th>\n",
       "      <th></th>\n",
       "    </tr>\n",
       "  </thead>\n",
       "  <tbody>\n",
       "    <tr>\n",
       "      <th>2</th>\n",
       "      <td>Paul</td>\n",
       "      <td>McCartney</td>\n",
       "      <td>False</td>\n",
       "      <td>1942</td>\n",
       "      <td>58</td>\n",
       "    </tr>\n",
       "  </tbody>\n",
       "</table>\n",
       "</div>"
      ],
      "text/plain": [
       "    Name  Last Name   dead  year_born  no_of_songs\n",
       "id                                                \n",
       "2   Paul  McCartney  False       1942           58"
      ]
     },
     "execution_count": 64,
     "metadata": {},
     "output_type": "execute_result"
    }
   ],
   "source": [
    "df.loc[(df[\"no_of_songs\"] > 50) & (df[\"year_born\"] >= 1942)]"
   ]
  },
  {
   "cell_type": "code",
   "execution_count": 65,
   "id": "267200de-277c-4e37-9f4f-7f4b5aaac69d",
   "metadata": {},
   "outputs": [
    {
     "data": {
      "text/html": [
       "<div>\n",
       "<style scoped>\n",
       "    .dataframe tbody tr th:only-of-type {\n",
       "        vertical-align: middle;\n",
       "    }\n",
       "\n",
       "    .dataframe tbody tr th {\n",
       "        vertical-align: top;\n",
       "    }\n",
       "\n",
       "    .dataframe thead th {\n",
       "        text-align: right;\n",
       "    }\n",
       "</style>\n",
       "<table border=\"1\" class=\"dataframe\">\n",
       "  <thead>\n",
       "    <tr style=\"text-align: right;\">\n",
       "      <th></th>\n",
       "      <th>Last Name</th>\n",
       "      <th>Name</th>\n",
       "    </tr>\n",
       "    <tr>\n",
       "      <th>id</th>\n",
       "      <th></th>\n",
       "      <th></th>\n",
       "    </tr>\n",
       "  </thead>\n",
       "  <tbody>\n",
       "    <tr>\n",
       "      <th>2</th>\n",
       "      <td>McCartney</td>\n",
       "      <td>Paul</td>\n",
       "    </tr>\n",
       "  </tbody>\n",
       "</table>\n",
       "</div>"
      ],
      "text/plain": [
       "    Last Name  Name\n",
       "id                 \n",
       "2   McCartney  Paul"
      ]
     },
     "execution_count": 65,
     "metadata": {},
     "output_type": "execute_result"
    }
   ],
   "source": [
    "df.loc[(df[\"no_of_songs\"] > 50) & (df[\"year_born\"] >= 1942), [\"Last Name\", \"Name\"]]"
   ]
  },
  {
   "cell_type": "markdown",
   "id": "8f65bee6-0f8b-45de-aa07-90f7fb398bf8",
   "metadata": {},
   "source": [
    "### Manipulation von Spalten, Zeilen und bestimmten Einträgen"
   ]
  },
  {
   "cell_type": "markdown",
   "id": "5e8d5a72-c87e-4ff8-bd97-b241ee084123",
   "metadata": {},
   "source": [
    "**Hinzufügen einer Zeile zum Datensatz**"
   ]
  },
  {
   "cell_type": "code",
   "execution_count": 67,
   "id": "79bb7a6d-372c-4e24-8e10-7179544a6724",
   "metadata": {},
   "outputs": [
    {
     "data": {
      "text/html": [
       "<div>\n",
       "<style scoped>\n",
       "    .dataframe tbody tr th:only-of-type {\n",
       "        vertical-align: middle;\n",
       "    }\n",
       "\n",
       "    .dataframe tbody tr th {\n",
       "        vertical-align: top;\n",
       "    }\n",
       "\n",
       "    .dataframe thead th {\n",
       "        text-align: right;\n",
       "    }\n",
       "</style>\n",
       "<table border=\"1\" class=\"dataframe\">\n",
       "  <thead>\n",
       "    <tr style=\"text-align: right;\">\n",
       "      <th></th>\n",
       "      <th>Name</th>\n",
       "      <th>Last Name</th>\n",
       "      <th>dead</th>\n",
       "      <th>year_born</th>\n",
       "      <th>no_of_songs</th>\n",
       "    </tr>\n",
       "    <tr>\n",
       "      <th>id</th>\n",
       "      <th></th>\n",
       "      <th></th>\n",
       "      <th></th>\n",
       "      <th></th>\n",
       "      <th></th>\n",
       "    </tr>\n",
       "  </thead>\n",
       "  <tbody>\n",
       "    <tr>\n",
       "      <th>1</th>\n",
       "      <td>John</td>\n",
       "      <td>Lennon</td>\n",
       "      <td>1.0</td>\n",
       "      <td>1940</td>\n",
       "      <td>62.0</td>\n",
       "    </tr>\n",
       "    <tr>\n",
       "      <th>2</th>\n",
       "      <td>Paul</td>\n",
       "      <td>McCartney</td>\n",
       "      <td>0.0</td>\n",
       "      <td>1942</td>\n",
       "      <td>58.0</td>\n",
       "    </tr>\n",
       "    <tr>\n",
       "      <th>3</th>\n",
       "      <td>George</td>\n",
       "      <td>Harrison</td>\n",
       "      <td>1.0</td>\n",
       "      <td>1943</td>\n",
       "      <td>24.0</td>\n",
       "    </tr>\n",
       "    <tr>\n",
       "      <th>4</th>\n",
       "      <td>Ringo</td>\n",
       "      <td>Star</td>\n",
       "      <td>0.0</td>\n",
       "      <td>1940</td>\n",
       "      <td>3.0</td>\n",
       "    </tr>\n",
       "    <tr>\n",
       "      <th>5</th>\n",
       "      <td>Mickey</td>\n",
       "      <td>Mouse</td>\n",
       "      <td>NaN</td>\n",
       "      <td>1928</td>\n",
       "      <td>NaN</td>\n",
       "    </tr>\n",
       "  </tbody>\n",
       "</table>\n",
       "</div>"
      ],
      "text/plain": [
       "      Name  Last Name  dead  year_born  no_of_songs\n",
       "id                                                 \n",
       "1     John     Lennon   1.0       1940         62.0\n",
       "2     Paul  McCartney   0.0       1942         58.0\n",
       "3   George   Harrison   1.0       1943         24.0\n",
       "4    Ringo       Star   0.0       1940          3.0\n",
       "5   Mickey      Mouse   NaN       1928          NaN"
      ]
     },
     "execution_count": 67,
     "metadata": {},
     "output_type": "execute_result"
    }
   ],
   "source": [
    "from numpy import nan\n",
    "df.loc[5] = [\"Mickey\", \"Mouse\", nan, 1928, nan]\n",
    "df"
   ]
  },
  {
   "cell_type": "code",
   "execution_count": 68,
   "id": "bec59a2b-dc03-4eea-b0b3-41a890af8c92",
   "metadata": {},
   "outputs": [
    {
     "data": {
      "text/plain": [
       "Name            object\n",
       "Last Name       object\n",
       "dead           float64\n",
       "year_born        int64\n",
       "no_of_songs    float64\n",
       "dtype: object"
      ]
     },
     "execution_count": 68,
     "metadata": {},
     "output_type": "execute_result"
    }
   ],
   "source": [
    "df.dtypes"
   ]
  },
  {
   "cell_type": "markdown",
   "id": "80e663a3-8d38-4766-88d9-d1174f7cb666",
   "metadata": {},
   "source": [
    "Beachten Sie, dass sich die Variable `dead` geändert hat. Ihre Werte änderten sich von `True`/`False` zu `1.0`/`0.0`. Folglich änderte sich ihr `dtype` von `bool` zu `float64`."
   ]
  },
  {
   "cell_type": "markdown",
   "id": "6c5d3f3b-0fc1-4274-a212-630ee4dd03b8",
   "metadata": {},
   "source": [
    "**Hinzufügen einer Spalte zum Datensatz**"
   ]
  },
  {
   "cell_type": "code",
   "execution_count": 69,
   "id": "469ca23e-687e-4098-993d-1c242e7a09bb",
   "metadata": {},
   "outputs": [
    {
     "name": "stderr",
     "output_type": "stream",
     "text": [
      "C:\\Users\\zak\\AppData\\Local\\Temp\\ipykernel_28228\\1406442954.py:1: FutureWarning: The pandas.datetime class is deprecated and will be removed from pandas in a future version. Import from datetime module instead.\n",
      "  pd.datetime.today()\n"
     ]
    },
    {
     "data": {
      "text/plain": [
       "datetime.datetime(2022, 7, 3, 20, 5, 17, 730088)"
      ]
     },
     "execution_count": 69,
     "metadata": {},
     "output_type": "execute_result"
    }
   ],
   "source": [
    "pd.datetime.today()"
   ]
  },
  {
   "cell_type": "code",
   "execution_count": 70,
   "id": "fdf0999a-8bf0-4934-bf64-601f3d81013b",
   "metadata": {},
   "outputs": [
    {
     "name": "stderr",
     "output_type": "stream",
     "text": [
      "C:\\Users\\zak\\AppData\\Local\\Temp\\ipykernel_28228\\4117363781.py:1: FutureWarning: The pandas.datetime class is deprecated and will be removed from pandas in a future version. Import from datetime module instead.\n",
      "  now = pd.datetime.today().year\n"
     ]
    },
    {
     "data": {
      "text/plain": [
       "2022"
      ]
     },
     "execution_count": 70,
     "metadata": {},
     "output_type": "execute_result"
    }
   ],
   "source": [
    "now = pd.datetime.today().year\n",
    "now"
   ]
  },
  {
   "cell_type": "code",
   "execution_count": 71,
   "id": "6462a53e-cb01-48c7-a326-9572f82f1bde",
   "metadata": {},
   "outputs": [
    {
     "data": {
      "text/html": [
       "<div>\n",
       "<style scoped>\n",
       "    .dataframe tbody tr th:only-of-type {\n",
       "        vertical-align: middle;\n",
       "    }\n",
       "\n",
       "    .dataframe tbody tr th {\n",
       "        vertical-align: top;\n",
       "    }\n",
       "\n",
       "    .dataframe thead th {\n",
       "        text-align: right;\n",
       "    }\n",
       "</style>\n",
       "<table border=\"1\" class=\"dataframe\">\n",
       "  <thead>\n",
       "    <tr style=\"text-align: right;\">\n",
       "      <th></th>\n",
       "      <th>Name</th>\n",
       "      <th>Last Name</th>\n",
       "      <th>dead</th>\n",
       "      <th>year_born</th>\n",
       "      <th>no_of_songs</th>\n",
       "      <th>age</th>\n",
       "    </tr>\n",
       "    <tr>\n",
       "      <th>id</th>\n",
       "      <th></th>\n",
       "      <th></th>\n",
       "      <th></th>\n",
       "      <th></th>\n",
       "      <th></th>\n",
       "      <th></th>\n",
       "    </tr>\n",
       "  </thead>\n",
       "  <tbody>\n",
       "    <tr>\n",
       "      <th>1</th>\n",
       "      <td>John</td>\n",
       "      <td>Lennon</td>\n",
       "      <td>1.0</td>\n",
       "      <td>1940</td>\n",
       "      <td>62.0</td>\n",
       "      <td>82</td>\n",
       "    </tr>\n",
       "    <tr>\n",
       "      <th>2</th>\n",
       "      <td>Paul</td>\n",
       "      <td>McCartney</td>\n",
       "      <td>0.0</td>\n",
       "      <td>1942</td>\n",
       "      <td>58.0</td>\n",
       "      <td>80</td>\n",
       "    </tr>\n",
       "    <tr>\n",
       "      <th>3</th>\n",
       "      <td>George</td>\n",
       "      <td>Harrison</td>\n",
       "      <td>1.0</td>\n",
       "      <td>1943</td>\n",
       "      <td>24.0</td>\n",
       "      <td>79</td>\n",
       "    </tr>\n",
       "    <tr>\n",
       "      <th>4</th>\n",
       "      <td>Ringo</td>\n",
       "      <td>Star</td>\n",
       "      <td>0.0</td>\n",
       "      <td>1940</td>\n",
       "      <td>3.0</td>\n",
       "      <td>82</td>\n",
       "    </tr>\n",
       "    <tr>\n",
       "      <th>5</th>\n",
       "      <td>Mickey</td>\n",
       "      <td>Mouse</td>\n",
       "      <td>NaN</td>\n",
       "      <td>1928</td>\n",
       "      <td>NaN</td>\n",
       "      <td>94</td>\n",
       "    </tr>\n",
       "  </tbody>\n",
       "</table>\n",
       "</div>"
      ],
      "text/plain": [
       "      Name  Last Name  dead  year_born  no_of_songs  age\n",
       "id                                                      \n",
       "1     John     Lennon   1.0       1940         62.0   82\n",
       "2     Paul  McCartney   0.0       1942         58.0   80\n",
       "3   George   Harrison   1.0       1943         24.0   79\n",
       "4    Ringo       Star   0.0       1940          3.0   82\n",
       "5   Mickey      Mouse   NaN       1928          NaN   94"
      ]
     },
     "execution_count": 71,
     "metadata": {},
     "output_type": "execute_result"
    }
   ],
   "source": [
    "df[\"age\"] = now - df.year_born\n",
    "df"
   ]
  },
  {
   "cell_type": "markdown",
   "id": "ce63d74b-77f0-43e4-9317-dca691809d3f",
   "metadata": {},
   "source": [
    "**Einen bestimmten Eintrag ändern**"
   ]
  },
  {
   "cell_type": "code",
   "execution_count": 72,
   "id": "b2a82510-0514-414d-90d3-2f6572dd3845",
   "metadata": {},
   "outputs": [],
   "source": [
    "df.loc[5, \"Name\"] = \"Minnie\""
   ]
  },
  {
   "cell_type": "code",
   "execution_count": 73,
   "id": "98029ca6-e64b-472a-87af-3181a63399f9",
   "metadata": {},
   "outputs": [
    {
     "data": {
      "text/html": [
       "<div>\n",
       "<style scoped>\n",
       "    .dataframe tbody tr th:only-of-type {\n",
       "        vertical-align: middle;\n",
       "    }\n",
       "\n",
       "    .dataframe tbody tr th {\n",
       "        vertical-align: top;\n",
       "    }\n",
       "\n",
       "    .dataframe thead th {\n",
       "        text-align: right;\n",
       "    }\n",
       "</style>\n",
       "<table border=\"1\" class=\"dataframe\">\n",
       "  <thead>\n",
       "    <tr style=\"text-align: right;\">\n",
       "      <th></th>\n",
       "      <th>Name</th>\n",
       "      <th>Last Name</th>\n",
       "      <th>dead</th>\n",
       "      <th>year_born</th>\n",
       "      <th>no_of_songs</th>\n",
       "      <th>age</th>\n",
       "    </tr>\n",
       "    <tr>\n",
       "      <th>id</th>\n",
       "      <th></th>\n",
       "      <th></th>\n",
       "      <th></th>\n",
       "      <th></th>\n",
       "      <th></th>\n",
       "      <th></th>\n",
       "    </tr>\n",
       "  </thead>\n",
       "  <tbody>\n",
       "    <tr>\n",
       "      <th>1</th>\n",
       "      <td>John</td>\n",
       "      <td>Lennon</td>\n",
       "      <td>1.0</td>\n",
       "      <td>1940</td>\n",
       "      <td>62.0</td>\n",
       "      <td>82</td>\n",
       "    </tr>\n",
       "    <tr>\n",
       "      <th>2</th>\n",
       "      <td>Paul</td>\n",
       "      <td>McCartney</td>\n",
       "      <td>0.0</td>\n",
       "      <td>1942</td>\n",
       "      <td>58.0</td>\n",
       "      <td>80</td>\n",
       "    </tr>\n",
       "    <tr>\n",
       "      <th>3</th>\n",
       "      <td>George</td>\n",
       "      <td>Harrison</td>\n",
       "      <td>1.0</td>\n",
       "      <td>1943</td>\n",
       "      <td>24.0</td>\n",
       "      <td>79</td>\n",
       "    </tr>\n",
       "    <tr>\n",
       "      <th>4</th>\n",
       "      <td>Ringo</td>\n",
       "      <td>Star</td>\n",
       "      <td>0.0</td>\n",
       "      <td>1940</td>\n",
       "      <td>3.0</td>\n",
       "      <td>82</td>\n",
       "    </tr>\n",
       "    <tr>\n",
       "      <th>5</th>\n",
       "      <td>Minnie</td>\n",
       "      <td>Mouse</td>\n",
       "      <td>NaN</td>\n",
       "      <td>1928</td>\n",
       "      <td>NaN</td>\n",
       "      <td>94</td>\n",
       "    </tr>\n",
       "  </tbody>\n",
       "</table>\n",
       "</div>"
      ],
      "text/plain": [
       "      Name  Last Name  dead  year_born  no_of_songs  age\n",
       "id                                                      \n",
       "1     John     Lennon   1.0       1940         62.0   82\n",
       "2     Paul  McCartney   0.0       1942         58.0   80\n",
       "3   George   Harrison   1.0       1943         24.0   79\n",
       "4    Ringo       Star   0.0       1940          3.0   82\n",
       "5   Minnie      Mouse   NaN       1928          NaN   94"
      ]
     },
     "execution_count": 73,
     "metadata": {},
     "output_type": "execute_result"
    }
   ],
   "source": [
    "df"
   ]
  },
  {
   "cell_type": "markdown",
   "id": "194f146c-6dba-476e-ba73-ea57a92fe576",
   "metadata": {},
   "source": [
    "## Plotten"
   ]
  },
  {
   "cell_type": "markdown",
   "id": "910d2b24-54e3-4af3-b8d7-d7330d82592a",
   "metadata": {},
   "source": [
    "Die Plotting-Funktionalität in Pandas basiert auf Matplotlib. Es ist recht praktisch, den Visualisierungsprozess mit der grundlegenden Pandas-Darstellung zu beginnen und zu matplotlib zu wechseln, um die Pandas-Visualisierung anzupassen."
   ]
  },
  {
   "cell_type": "markdown",
   "id": "667b3a73-fd98-4671-b701-acbfafdf5eb1",
   "metadata": {},
   "source": [
    "### `plot`-Methoden"
   ]
  },
  {
   "cell_type": "code",
   "execution_count": 74,
   "id": "0ab00d67-ac63-4c95-a4b3-3d209232f3be",
   "metadata": {},
   "outputs": [],
   "source": [
    "# dieser Aufruf bewirkt, dass die Zahlen unter den Codezellen eingezeichnet werden\n",
    "%matplotlib inline"
   ]
  },
  {
   "cell_type": "code",
   "execution_count": 75,
   "id": "11c74355-e63d-429f-81da-cb2aaf25973c",
   "metadata": {},
   "outputs": [
    {
     "data": {
      "text/html": [
       "<div>\n",
       "<style scoped>\n",
       "    .dataframe tbody tr th:only-of-type {\n",
       "        vertical-align: middle;\n",
       "    }\n",
       "\n",
       "    .dataframe tbody tr th {\n",
       "        vertical-align: top;\n",
       "    }\n",
       "\n",
       "    .dataframe thead th {\n",
       "        text-align: right;\n",
       "    }\n",
       "</style>\n",
       "<table border=\"1\" class=\"dataframe\">\n",
       "  <thead>\n",
       "    <tr style=\"text-align: right;\">\n",
       "      <th></th>\n",
       "      <th>Name</th>\n",
       "      <th>Last Name</th>\n",
       "      <th>dead</th>\n",
       "      <th>year_born</th>\n",
       "      <th>no_of_songs</th>\n",
       "      <th>age</th>\n",
       "    </tr>\n",
       "    <tr>\n",
       "      <th>id</th>\n",
       "      <th></th>\n",
       "      <th></th>\n",
       "      <th></th>\n",
       "      <th></th>\n",
       "      <th></th>\n",
       "      <th></th>\n",
       "    </tr>\n",
       "  </thead>\n",
       "  <tbody>\n",
       "    <tr>\n",
       "      <th>1</th>\n",
       "      <td>John</td>\n",
       "      <td>Lennon</td>\n",
       "      <td>1.0</td>\n",
       "      <td>1940</td>\n",
       "      <td>62.0</td>\n",
       "      <td>82</td>\n",
       "    </tr>\n",
       "    <tr>\n",
       "      <th>2</th>\n",
       "      <td>Paul</td>\n",
       "      <td>McCartney</td>\n",
       "      <td>0.0</td>\n",
       "      <td>1942</td>\n",
       "      <td>58.0</td>\n",
       "      <td>80</td>\n",
       "    </tr>\n",
       "    <tr>\n",
       "      <th>3</th>\n",
       "      <td>George</td>\n",
       "      <td>Harrison</td>\n",
       "      <td>1.0</td>\n",
       "      <td>1943</td>\n",
       "      <td>24.0</td>\n",
       "      <td>79</td>\n",
       "    </tr>\n",
       "    <tr>\n",
       "      <th>4</th>\n",
       "      <td>Ringo</td>\n",
       "      <td>Star</td>\n",
       "      <td>0.0</td>\n",
       "      <td>1940</td>\n",
       "      <td>3.0</td>\n",
       "      <td>82</td>\n",
       "    </tr>\n",
       "    <tr>\n",
       "      <th>5</th>\n",
       "      <td>Minnie</td>\n",
       "      <td>Mouse</td>\n",
       "      <td>NaN</td>\n",
       "      <td>1928</td>\n",
       "      <td>NaN</td>\n",
       "      <td>94</td>\n",
       "    </tr>\n",
       "  </tbody>\n",
       "</table>\n",
       "</div>"
      ],
      "text/plain": [
       "      Name  Last Name  dead  year_born  no_of_songs  age\n",
       "id                                                      \n",
       "1     John     Lennon   1.0       1940         62.0   82\n",
       "2     Paul  McCartney   0.0       1942         58.0   80\n",
       "3   George   Harrison   1.0       1943         24.0   79\n",
       "4    Ringo       Star   0.0       1940          3.0   82\n",
       "5   Minnie      Mouse   NaN       1928          NaN   94"
      ]
     },
     "execution_count": 75,
     "metadata": {},
     "output_type": "execute_result"
    }
   ],
   "source": [
    "df"
   ]
  },
  {
   "cell_type": "code",
   "execution_count": 76,
   "id": "51567157-c3ff-4d08-a928-eb1e77ee0c56",
   "metadata": {},
   "outputs": [
    {
     "data": {
      "text/plain": [
       "<AxesSubplot:xlabel='id'>"
      ]
     },
     "execution_count": 76,
     "metadata": {},
     "output_type": "execute_result"
    },
    {
     "data": {
      "image/png": "[encoded data removed]",
      "text/plain": [
       "<Figure size 432x288 with 1 Axes>"
      ]
     },
     "metadata": {
      "needs_background": "light"
     },
     "output_type": "display_data"
    }
   ],
   "source": [
    "df[[\"no_of_songs\", \"age\"]].plot()"
   ]
  },
  {
   "cell_type": "code",
   "execution_count": 77,
   "id": "4903e9c0-5193-460c-8cf0-ae8730db45c3",
   "metadata": {},
   "outputs": [
    {
     "data": {
      "text/plain": [
       "<AxesSubplot:ylabel='Frequency'>"
      ]
     },
     "execution_count": 77,
     "metadata": {},
     "output_type": "execute_result"
    },
    {
     "data": {
      "image/png": "[encoded data removed]",
      "text/plain": [
       "<Figure size 432x288 with 1 Axes>"
      ]
     },
     "metadata": {
      "needs_background": "light"
     },
     "output_type": "display_data"
    }
   ],
   "source": [
    "df[\"dead\"].plot.hist()"
   ]
  },
  {
   "cell_type": "code",
   "execution_count": 78,
   "id": "88bb0204-bfc6-472c-a1cd-bd72728bd05a",
   "metadata": {},
   "outputs": [
    {
     "data": {
      "text/plain": [
       "<AxesSubplot:xlabel='id'>"
      ]
     },
     "execution_count": 78,
     "metadata": {},
     "output_type": "execute_result"
    },
    {
     "data": {
      "image/png": "[encoded data removed]",
      "text/plain": [
       "<Figure size 432x288 with 1 Axes>"
      ]
     },
     "metadata": {
      "needs_background": "light"
     },
     "output_type": "display_data"
    }
   ],
   "source": [
    "df[\"age\"].plot.bar()"
   ]
  },
  {
   "cell_type": "markdown",
   "id": "aa15d8e0-464e-4d2f-b1b2-a3214ac3cbef",
   "metadata": {
    "tags": []
   },
   "source": [
    "## ...einige Anmerkungen zum Plotten mit Python"
   ]
  },
  {
   "cell_type": "markdown",
   "id": "2ece07df-292c-4614-b170-da13ca473120",
   "metadata": {},
   "source": [
    "Das Plotten ist ein wesentlicher Bestandteil der Datenanalyse. Die Welt der Python-Visualisierung kann jedoch ein frustrierender Ort sein. Es gibt viele verschiedene Optionen, und die Auswahl der richtigen ist eine Herausforderung. (Wenn Sie sich trauen, werfen Sie einen Blick auf die <a href=\"https://github.com/rougier/python-visualization-landscape\">Python-Visualisierungslandschaft</a>).\n",
    "\n",
    "<a href=\"https://matplotlib.org/\">matplotlib</a> ist wahrscheinlich die bekannteste Python-Bibliothek für 2D-Diagramme. Mit ihr lassen sich plattformübergreifend Zahlen in Publikationsqualität in einer Vielzahl von Formaten und interaktiven Umgebungen erstellen. Allerdings ist matplotlib aufgrund der komplexen Syntax und der Existenz zweier Schnittstellen, einer **MATLAB-ähnlichen zustandsbasierten Schnittstelle** und einer **objektorientierten Schnittstelle**, schwer zugänglich. Daher gibt **es immer mehr als eine Möglichkeit, eine Visualisierung zu erstellen**. Eine weitere Quelle der Verwirrung ist die Tatsache, dass matplotlib gut in andere Python-Bibliotheken integriert ist, wie z. B. <a href=\"https://pandas.pydata.org/index.html\">pandas</a>, <a href=\"http://seaborn.pydata.org/index.html\">seaborn</a>, <a href=\"https://xarray.pydata.org/en/stable/\">xarray</a> und andere. Daher gibt es Verwirrung darüber, wann man die reine matplotlib oder ein Tool, das auf matplotlib aufbaut, verwenden sollte.\n",
    "\n",
    "Wir importieren die `matplotlib`-Bibliothek und das `pyplot`-Modul von matplotlib mit den folgenden kanonischen Befehlen\n",
    "\n",
    "`import matplotlib as mpl`\n",
    "`import matplotlib.pyplot as plt`\n",
    "\n",
    "In Bezug auf die Terminologie von matplotlib ist es wichtig zu verstehen, dass die `Figure` das endgültige Bild ist, das eine oder mehrere `Axes` enthalten kann, und dass die  `Axes` eine individuelle Darstellung repräsentieren.\n",
    "\n",
    "Um ein `Figure`-Objekt zu erstellen, rufen wir\n",
    "\n",
    "`fig = plt.figure()` auf.\n",
    "\n",
    "Ein bequemerer Weg, ein `Figure`-Objekt und ein `Axes`-Objekt auf einmal zu erstellen, ist jedoch der Aufruf\n",
    "\n",
    "`fig, ax = plt.subplots()` \n",
    "\n",
    "Dann können wir das `Axes`-Objekt verwenden, um Daten für die Darstellung hinzuzufügen."
   ]
  },
  {
   "cell_type": "code",
   "execution_count": 79,
   "id": "88e5d523-8a7d-4424-ad8c-ad4f0bb044a1",
   "metadata": {},
   "outputs": [
    {
     "data": {
      "image/png": "[encoded data removed]",
      "text/plain": [
       "<Figure size 720x360 with 1 Axes>"
      ]
     },
     "metadata": {
      "needs_background": "light"
     },
     "output_type": "display_data"
    }
   ],
   "source": [
    "import matplotlib.pyplot as plt\n",
    "\n",
    "# Erzeuge Figure und Axes Objekt\n",
    "fig, ax = plt.subplots(figsize=(10,5)) \n",
    "\n",
    "# plot die Daten und referenzier das Axes Objekt\n",
    "df[\"age\"].plot.bar(ax=ax)\n",
    "\n",
    "# Passe das Axes Objekt an\n",
    "ax.set_xticklabels(df[\"Name\"], rotation=0)\n",
    "ax.set_xlabel(\"\")\n",
    "ax.set_ylabel(\"Age\", size=14)\n",
    "ax.set_title(\"The Beatles and ... something else\", size=18);"
   ]
  },
  {
   "cell_type": "markdown",
   "id": "60949b63-0419-405b-8c47-2fb26746ef19",
   "metadata": {},
   "source": [
    "Beachten Sie, dass wir nur an der Oberfläche der Plot-Möglichkeiten mit Pandas kratzen. In der Online-Dokumentation von Pandas (<a href=\"https://pandas.pydata.org/pandas-docs/stable/user_guide/visualization.html\">hier</a>) finden Sie einen umfassenden Überblick."
   ]
  }
 ],
 "metadata": {
  "kernelspec": {
   "display_name": "Python 3 (ipykernel)",
   "language": "python",
   "name": "python3"
  },
  "language_info": {
   "codemirror_mode": {
    "name": "ipython",
    "version": 3
   },
   "file_extension": ".py",
   "mimetype": "text/x-python",
   "name": "python",
   "nbconvert_exporter": "python",
   "pygments_lexer": "ipython3",
   "version": "3.10.9"
  }
 },
 "nbformat": 4,
 "nbformat_minor": 5
}
