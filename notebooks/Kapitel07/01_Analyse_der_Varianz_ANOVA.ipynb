{
 "cells": [
  {
   "cell_type": "code",
   "execution_count": 1,
   "id": "9bad8ced-d99e-4417-bb97-386bf8f09435",
   "metadata": {
    "tags": [
     "remove-cell"
    ]
   },
   "outputs": [
    {
     "name": "stdout",
     "output_type": "stream",
     "text": [
      "\n",
      "---------------------------------\n",
      "Working on the host: imarevic-pc\n",
      "\n",
      "---------------------------------\n",
      "Python version: 3.10.9 | packaged by conda-forge | (main, Feb  2 2023, 20:20:04) [GCC 11.3.0]\n",
      "\n",
      "---------------------------------\n",
      "Python interpreter: /home/imarevic/anaconda3/envs/srh/bin/python3.10\n"
     ]
    }
   ],
   "source": [
    "%matplotlib inline\n",
    "# Load the \"autoreload\" extension\n",
    "%load_ext autoreload\n",
    "# always reload modules\n",
    "%autoreload 2\n",
    "# black formatter for jupyter notebooks\n",
    "# %load_ext nb_black\n",
    "# black formatter for jupyter lab\n",
    "%load_ext lab_black\n",
    "\n",
    "%run ../../src/notebook_env.py"
   ]
  },
  {
   "attachments": {},
   "cell_type": "markdown",
   "id": "82bad07a-11ad-441f-99fa-377005e6a312",
   "metadata": {},
   "source": [
    "# Varianzanalyse - ANOVA"
   ]
  },
  {
   "cell_type": "code",
   "execution_count": 2,
   "id": "64930077-9a2b-49e4-bfbf-8357338fb3b9",
   "metadata": {},
   "outputs": [],
   "source": [
    "import matplotlib.pyplot as plt\n",
    "import numpy as np\n",
    "import pandas as pd\n",
    "from scipy.stats import f, f_oneway, ttest_ind\n",
    "import statsmodels.api as smi\n",
    "from statsmodels.stats.multicomp import pairwise_tukeyhsd"
   ]
  },
  {
   "attachments": {},
   "cell_type": "markdown",
   "id": "cfd2f4eb-de37-4173-9bbf-0785916d352f",
   "metadata": {},
   "source": [
    "In diesem Abschnitt wird eine Methode namens <a href=\"https://de.wikipedia.org/wiki/Varianzanalyse\">Varianzanalyse</a> (englisch analysis of variance, kurz ANOVA) erörtert, mit der mehrere Mittelwerte einer Grundgesamtheit verglichen werden können.\n",
    "\n",
    "Genauer gesagt geht es um die sogenannte einfaktorielle Varianzanalyse ({cite:t}`fahrmeirstatistik` s.478). Bei dieser Art der ANOVA werden die Mittelwerte einer Variablen verglichen, die sich aus der Klassifizierung durch *eine* andere Variable, dem sogenannten **Faktor**, ergeben. Um das Konzept zu veranschaulichen, wollen wir ein einfaches Beispiel entwerfen. Angenommen, wir vergleichen die mittleren Jahresgehälter der in Deutschland lebenden Personen, gruppiert nach Bundesländern, dann erhalten wir $16$ Mittelwerte der Jahresgehälter, einen für jedes Bundesland. In diesem Beispiel ist die Bundeslandvariable also eine Klassifikationsvariable, der so genannte Faktor.\n",
    "\n",
    "Bitte beachten Sie, dass die einfaktorielle Varianzanalyse die Verallgemeinerung des $2$-Stichproben $t$-Tests auf mehr als zwei Grundgesamtheiten ist."
   ]
  },
  {
   "attachments": {},
   "cell_type": "markdown",
   "id": "167f023d-d0dc-4117-9abc-f443c289782b",
   "metadata": {},
   "source": [
    "## Einfaktorielle ANOVA"
   ]
  },
  {
   "attachments": {},
   "cell_type": "markdown",
   "id": "4e637344-eb20-4d44-a920-ad47aade6f8c",
   "metadata": {},
   "source": [
    "Die grundlegende Logik einer einfaktoriellen ANOVA besteht darin, aus jeder Gruppe unabhängige Zufallsstichproben zu ziehen, dann die Stichprobenmittelwerte für jede Gruppe zu berechnen und anschließend die Variation der Stichprobenmittelwerte zwischen den Gruppen mit der Variation innerhalb der Gruppen zu vergleichen. Schließlich wird auf der Grundlage einer Teststatistik entschieden, ob die Mittelwerte der Gruppen gleich sind oder nicht.\n",
    "\n",
    "Auf der Grundlage dieser Logik benötigen wir quantitative **Maße für die Variabilität**. Daher teilen wir die Gesamtvariabilität in zwei Segmente auf: Eines, das die **Variabilität zwischen den Gruppen** berücksichtigt, und das andere, das die **Variabilität innerhalb der Gruppen** berücksichtigt."
   ]
  },
  {
   "attachments": {},
   "cell_type": "markdown",
   "id": "02f9a1a6-7976-4465-a2a4-838a6849ce31",
   "metadata": {},
   "source": [
    "### Maße der Variabilität"
   ]
  },
  {
   "attachments": {},
   "cell_type": "markdown",
   "id": "b5224692-d5c7-448e-830a-7016842582df",
   "metadata": {},
   "source": [
    "Wir führen drei quantitative Maße für die Variation ein:\n",
    "\n",
    "- Summe der Gesamtquadrate (SST)\n",
    "- Summe der Gruppenquadrate (SSG)\n",
    "- Summe der Fehlerquadrate (SSE)"
   ]
  },
  {
   "attachments": {},
   "cell_type": "markdown",
   "id": "bf44d7a8-e02d-441e-82da-ab24a278f4a7",
   "metadata": {},
   "source": [
    "Die **Summe der Gesamtquadrate (SST)** ist ein Maß für die Gesamtvariabilität der Variablen. Sie ist gegeben durch"
   ]
  },
  {
   "attachments": {},
   "cell_type": "markdown",
   "id": "a2fbff1f-d7c7-4633-a9a1-98ca9e17a48c",
   "metadata": {},
   "source": [
    "$$SST = \\sum_{i=1}^n(x_i-\\bar x)^2\\text{,}$$"
   ]
  },
  {
   "attachments": {},
   "cell_type": "markdown",
   "id": "d9bcd349-e944-444b-ac4c-8cc2c574ec94",
   "metadata": {},
   "source": [
    "wobei $x_i$ den Beobachtungen in den Stichproben entspricht und $\\bar x$ für den Gesamtmittelwert aller Stichproben steht.\n",
    "\n",
    "Die **Summe der Gruppenquadrate (SSG)** ist ein Maß für die Variabilität zwischen Gruppen und entspricht der quadrierten Abweichung der Gruppenmittelwerte vom Gesamtmittelwert, gewichtet mit dem Stichprobenumfang."
   ]
  },
  {
   "attachments": {},
   "cell_type": "markdown",
   "id": "8a312c0a-7610-4370-9699-49f4c9a55389",
   "metadata": {},
   "source": [
    "$$SSG = \\sum_{i=1}^n n_j(\\bar x_i-\\bar x)^2$$"
   ]
  },
  {
   "attachments": {},
   "cell_type": "markdown",
   "id": "c9c18f0a-4643-4c8a-a293-823823965ff7",
   "metadata": {},
   "source": [
    "Dabei steht $n_j$ für den Stichprobenumfang der Gruppe $j$, $\\bar{x}_i$ für den Mittelwert der Gruppe $j$ und $\\bar{x}$ für den Gesamtmittelwert der Stichprobe."
   ]
  },
  {
   "attachments": {},
   "cell_type": "markdown",
   "id": "b7bd2ec7-d13c-4722-8f70-b7e495e50ada",
   "metadata": {},
   "source": [
    "Die **Summe der Fehlerquadrate ($SSE$)** schließlich ist ein Maß für die Variabilität innerhalb der Gruppen. Sie steht im Zusammenhang mit der unerklärten Variabilität, d. h. der Variabilität, die nicht durch die Gruppenvariable erklärt werden kann. Die Summe der Fehlerquadrate ist gegeben durch"
   ]
  },
  {
   "attachments": {},
   "cell_type": "markdown",
   "id": "0241ab4d-60a6-4e11-9830-697cb81c5163",
   "metadata": {},
   "source": [
    "$$SSE = \\sum_{i=1}^n (n_j-1)s_j^2\\text{,}$$"
   ]
  },
  {
   "attachments": {},
   "cell_type": "markdown",
   "id": "388112ed-56ba-404b-9dd9-8c75f8498df5",
   "metadata": {},
   "source": [
    "wobei $n_j$ den Stichprobenumfang für Gruppe $j$ und $s^2_{j}$ die Varianz von Gruppe $j$ bezeichnet. Alternativ kann man $SSE$ sowie die Differenz von $SST$ und $SSG$ berechnen"
   ]
  },
  {
   "attachments": {},
   "cell_type": "markdown",
   "id": "58e6ef07-931b-48c0-a386-73f384308cd1",
   "metadata": {},
   "source": [
    "$$SSE = SST-SSG\\text{.}$$"
   ]
  },
  {
   "attachments": {},
   "cell_type": "markdown",
   "id": "34b9adeb-78a6-4166-ad29-56a24f26e22f",
   "metadata": {},
   "source": [
    "### Maße der mittleren Variabilität"
   ]
  },
  {
   "attachments": {},
   "cell_type": "markdown",
   "id": "8db5b37b-33a4-4bac-b2e4-eb6c9fffea8e",
   "metadata": {},
   "source": [
    "Bisher haben wir Maße für die Gesamtvariabilität ($SST$), die Variabilität zwischen Gruppen ($SSG$) und die Variabilität innerhalb von Gruppen ($SSE$) berechnet. Um eine durchschnittliche Variabilität zu erhalten, skalieren wir im nächsten Schritt diese Variabilitätsmaße mit dem Stichprobenumfang (genauer gesagt mit den Freiheitsgraden, $df$).\n",
    "\n",
    "Die **Freiheitsgrade** werden für jede Unterteilung der Variabilität (Gesamtvariabilität, Variabilität zwischen Gruppen und Variabilität innerhalb von Gruppen) definiert.\n",
    "\n",
    "-    Gesamtvariabilität"
   ]
  },
  {
   "attachments": {},
   "cell_type": "markdown",
   "id": "15ff3495-8e46-4c2a-9a2a-942aef17d97a",
   "metadata": {},
   "source": [
    "$$df_T = n-1\\text{,}$$"
   ]
  },
  {
   "attachments": {},
   "cell_type": "markdown",
   "id": "d4d7a2e9-5348-45c3-9e26-0e67e7d4d89a",
   "metadata": {},
   "source": [
    "wobei $n$ den Gesamtumfang der Stichprobe bezeichnet. den Gesamtumfang der Stichprobe bezeichnet.\n",
    "\n",
    "- Variabilität zwischen den Gruppen"
   ]
  },
  {
   "attachments": {},
   "cell_type": "markdown",
   "id": "d0b18266-f8d9-4527-8a03-0d9fc7c2bc85",
   "metadata": {},
   "source": [
    "$$df_G=k-1\\text{,}$$"
   ]
  },
  {
   "attachments": {},
   "cell_type": "markdown",
   "id": "c9af7014-448e-4ff7-b4b8-83e5b8aaaff0",
   "metadata": {},
   "source": [
    "wobei $k$ die Anzahl der Gruppen bezeichnet.\n",
    "den Gesamtumfang der Stichprobe bezeichnet.\n",
    "\n",
    "- Variabilität innerhalb der Gruppe"
   ]
  },
  {
   "attachments": {},
   "cell_type": "markdown",
   "id": "44351466-1ecb-4a6b-bf50-7f7adc17543e",
   "metadata": {},
   "source": [
    "$$df_E = n-k\\text{.}$$"
   ]
  },
  {
   "attachments": {},
   "cell_type": "markdown",
   "id": "712accff-a333-48e6-94e4-79747626a1d9",
   "metadata": {},
   "source": [
    "Nun können wir die **mittleren Quadrate** für die Variabilität zwischen den Gruppen und die Variabilität innerhalb der Gruppen berechnen. Die durchschnittliche Variabilität zwischen und innerhalb der Gruppen wird als die Gesamtvariabilität, skaliert mit den zugehörigen Freiheitsgraden, berechnet.\n",
    "\n",
    "- Mittlere Variabilität zwischen den Gruppen"
   ]
  },
  {
   "attachments": {},
   "cell_type": "markdown",
   "id": "d0cddd16-9323-49a0-aa5a-cd114c46bda7",
   "metadata": {},
   "source": [
    "$$MSG = \\frac{SSG}{df_G}$$"
   ]
  },
  {
   "attachments": {},
   "cell_type": "markdown",
   "id": "e7dee819-f45f-4024-b084-5c1aaae7aadb",
   "metadata": {},
   "source": [
    "- Mittlere Variabilität innerhalb der Gruppe"
   ]
  },
  {
   "attachments": {},
   "cell_type": "markdown",
   "id": "071aa68d-ed8d-4975-8681-e0c7ad75d711",
   "metadata": {},
   "source": [
    "$$MSE = \\frac{SSE}{df_E}$$"
   ]
  },
  {
   "attachments": {},
   "cell_type": "markdown",
   "id": "7e9d69cc-e48c-456a-9a71-f5dfb22872a5",
   "metadata": {},
   "source": [
    "### Teststatistik und $p$-Wert"
   ]
  },
  {
   "attachments": {},
   "cell_type": "markdown",
   "id": "c21dbcf8-1ac0-4031-bdd4-3c6961080097",
   "metadata": {},
   "source": [
    "Schließlich vergleichen wir die mittlere Variation zwischen den Gruppen, $MSG$, mit der Variation innerhalb der Gruppe, $MSE$. Daher berechnen wir das Verhältnis zwischen der durchschnittlichen Variation zwischen den Gruppen ($MSG$) und der Variation innerhalb der Gruppen ($MSE$), das mit $F$ bezeichnet wird."
   ]
  },
  {
   "attachments": {},
   "cell_type": "markdown",
   "id": "d632d30a-b0c0-4761-9a82-5aed6075143b",
   "metadata": {},
   "source": [
    "$$F= \\frac{MSG}{MSE}$$"
   ]
  },
  {
   "attachments": {},
   "cell_type": "markdown",
   "id": "3721fa25-b2e1-46d2-a7f8-962130960a41",
   "metadata": {},
   "source": [
    "Die $F$-Statistik hat die $F$-Verteilung (benannt nach <a href=\"https://de.wikipedia.org/wiki/Ronald_Aylmer_Fisher\">Sir Ronald A. Fisher</a>) mit"
   ]
  },
  {
   "attachments": {},
   "cell_type": "markdown",
   "id": "39867d8d-a2ae-4c39-a758-ff4d619f47d8",
   "metadata": {},
   "source": [
    "$$df = (k-1, n-k)\\text{,}$$"
   ]
  },
  {
   "attachments": {},
   "cell_type": "markdown",
   "id": "19472d0c-108e-41fb-9d21-4f057ebb1e3a",
   "metadata": {},
   "source": [
    "wobei $k$ für die Anzahl der Gruppen und $n$ für den Stichprobenumfang steht. Große Werte der $F$-Werte zeigen an, dass die Variation zwischen den Stichprobenmittelwerten der Gruppen im Verhältnis zur Variation innerhalb der Gruppe groß ist. Darüber hinaus können wir den $p$-Wert für jeden gegebenen $F$-Wert berechnen. Wenn der $p$-Wert klein ist, liefern die Daten überzeugende Beweise dafür, dass sich mindestens ein Paar von Gruppenmittelwerten voneinander unterscheidet. Ist der $p$-Wert groß, liefern die Daten keinen überzeugenden Beweis dafür, dass sich zumindest ein Paar von Gruppenmittelwerten voneinander unterscheidet, und die beobachteten Unterschiede in den Stichprobenmittelwerten sind somit auf Stichprobenvariabilität (oder Zufall) zurückzuführen."
   ]
  },
  {
   "attachments": {},
   "cell_type": "markdown",
   "id": "ac22694d-4a7d-42b9-8a07-03033625cf97",
   "metadata": {},
   "source": [
    "### Einfaktorielle ANOVA-Tabellen"
   ]
  },
  {
   "attachments": {},
   "cell_type": "markdown",
   "id": "de80e04e-2745-4812-8051-5e4a1d9ea279",
   "metadata": {},
   "source": [
    "Wie oben dargestellt, umfasst die einfache Varianzanalyse mehrere Analyseschritte. Dabei ist eine gängige Methode zur Darstellung einer einfachen ANOVA die so genannte **einfaktorielle ANOVA-Tabelle**. Der allgemeine Aufbau einer solchen Tabelle ist unten dargestellt."
   ]
  },
  {
   "attachments": {},
   "cell_type": "markdown",
   "id": "d8eac7f2-1658-416a-84cc-f07732c6dc7e",
   "metadata": {},
   "source": [
    "|Quelle|$df$|Summe der Quadrate (SS)| Mittlere Quadrate (MS)|$F$-Statistik|$p$-Wert|\n",
    "|---|---|---|---|---|---|\n",
    "|Gruppe/Klasse|$k-1$|$SSG$|$MSG = \\frac{SSG}{k-1}$ | $F=\\frac{MSG}{MSE}$ | $p$|\n",
    "|Fehler/Residuen|$n-k$|$SSE$|$MSE=\\frac{SSE}{n-k}$||\n",
    "|Insgesamt|$n-1$|$SST$|||"
   ]
  },
  {
   "attachments": {},
   "cell_type": "markdown",
   "id": "c35667d6-dfc8-4a31-a1b6-faa5c8d0304d",
   "metadata": {},
   "source": [
    "## Einfaktorieller ANOVA-Hypothesentest"
   ]
  },
  {
   "attachments": {},
   "cell_type": "markdown",
   "id": "eb58a399-fefb-406a-b52e-0b37c508fb02",
   "metadata": {},
   "source": [
    "Der Zweck eines **einfaktoriellen ANOVA-Hypothesentests** ist der Vergleich von $k$ Grundgesamtheits-/Gruppenmittelwerten, $\\mu_1, \\mu_2,...,\\mu_k$. \n",
    "Die folgenden Annahmen müssen erfüllt sein, damit eine einseitige ANOVA angewendet werden kann ({cite:t}`fahrmeirstatistik` s.485):\n",
    "\n",
    "- Zufällige Stichproben\n",
    "- Unabhängige Stichproben\n",
    "- Für jede Grundgesamtheit ist die betrachtete Variable normalverteilt.\n",
    "- Die Standardabweichungen der betrachteten Variable sind für alle Grundgesamtheiten gleich.\n",
    "\n",
    "Ein einfaktorieller ANOVA-Hypothesentest folgt demselben schrittweisen Verfahren wie andere Hypothesentests. "
   ]
  },
  {
   "attachments": {},
   "cell_type": "markdown",
   "id": "18dac56a",
   "metadata": {},
   "source": [
    "|||\n",
    "|---|---|\n",
    "|Schritt 1| Geben Sie die Nullhypothese $H_0$ und alternative Hypothese $H_A$ an|\n",
    "|Schritt 2|Legen Sie das Signifikanzniveau,$\\alpha$ fest|\n",
    "|Schritt 3|Berechnen Sie den Wert der Teststatistik|\n",
    "|Schritt 4|Bestimmen Sie den p-Wert|\n",
    "|Schritt 5| Wenn $p \\le \\alpha$, $H_0$ ablehnen; ansonsten $H_0$ nicht ablehnen|\n",
    "|Schritt 6|Interpretieren Sie das Ergebnis des Hypothesentests|"
   ]
  },
  {
   "attachments": {},
   "cell_type": "markdown",
   "id": "1e1aa8da-2ea6-420e-82ac-f5a1e0e53e18",
   "metadata": {},
   "source": [
    "### Einfaktorieller ANOVA-Hypothesentest: Ein Beispiel"
   ]
  },
  {
   "attachments": {},
   "cell_type": "markdown",
   "id": "70c5e165-6dd8-4b92-bdc2-b10c520be7cb",
   "metadata": {},
   "source": [
    "Um praktische Erfahrungen zu sammeln, wenden wir den **einfaktoriellen ANOVA-Hypothesentest** in einer Übung an. Dazu laden wir den `students` Datensatz. Sie können die Datei `students.csv` <a href=\"https://userpage.fu-berlin.de/soga/200/2010_data_sets/students.csv\">hier</a> herunterladen. Importieren Sie den Datensatz und geben Sie ihm einen passenden Namen."
   ]
  },
  {
   "cell_type": "code",
   "execution_count": 3,
   "id": "17627746-49ca-4557-a442-ac3d22c7d773",
   "metadata": {},
   "outputs": [],
   "source": [
    "# Lese Datei students.csv als Dataframe ein\n",
    "students = pd.read_csv(\"../../data/students.csv\")"
   ]
  },
  {
   "attachments": {},
   "cell_type": "markdown",
   "id": "cd20ceaf-4ceb-43fa-bbfc-f4d88d03146a",
   "metadata": {},
   "source": [
    "Der `students` Datensatz besteht aus $8239$ Zeilen, von denen jede einen bestimmten Studenten repräsentiert, und $16$ Spalten, von denen jede einer Variable/einem Merkmal entspricht, das sich auf diesen bestimmten Studenten bezieht. Diese selbsterklärenden Variablen sind: *stud_id, name, gender, age, height, weight, religion, nc_score, semester, major, minor, score1, score2, online_tutorial, graduated, salary.*"
   ]
  },
  {
   "attachments": {},
   "cell_type": "markdown",
   "id": "d31cc806-0629-4eef-9206-e333323c2f3e",
   "metadata": {},
   "source": [
    "Um den **einfaktoriellen ANOVA-Hypothesentest** zu veranschaulichen, untersuchen wir das mittlere Jahresgehalt der Absolventen, gruppiert nach ihrem Hauptstudienfach. Zur Verdeutlichung: In diesem Beispiel erfolgt die Klassifizierung/Gruppierung durch eine Variable, die Hauptvariable, den so genannten Faktor, wir führen also eine einfaktorielle ANOVA durch. In dieser Übung **wollen wir testen, ob sich das mittlere Jahresgehalt der Absolventen zwischen den Absolventen verschiedener Studienfächer unterscheidet.**"
   ]
  },
  {
   "attachments": {},
   "cell_type": "markdown",
   "id": "900352a2-936e-49f5-8f88-b8f6c6a06e3e",
   "metadata": {},
   "source": [
    "### Datenexploration und Aufbereitung"
   ]
  },
  {
   "attachments": {},
   "cell_type": "markdown",
   "id": "aa1ed41b-60f0-48fd-b552-78c9f871d3b4",
   "metadata": {},
   "source": [
    "Wir beginnen unsere Datenanalyse mit dem Zufallsstichprobenverfahren. Wir ziehen eine Zufallsstichprobe von $275$ Studenten aus dem Datensatz mit Hilfe der `sample()` Methode in Python. Wir wollen sicherstellen, dass wir nur Studenten mit abgeschlossenem Studium in die Stichprobe aufnehmen, deshalb unterteilen wir die Daten des Dataframes zuvor in Python. Des Weiteren reduzieren wir unseren Datensatz auf die zwei Variablen von Interesse, die kategoriale Variable `major` und die numerische Variable `salary`. Dann zeigen wir die ersten $10$ Zeilen des Datensatzes an."
   ]
  },
  {
   "cell_type": "code",
   "execution_count": 4,
   "id": "41c9f204-fcaa-418d-b68e-8bba9301748d",
   "metadata": {},
   "outputs": [
    {
     "data": {
      "text/html": [
       "<div>\n",
       "<style scoped>\n",
       "    .dataframe tbody tr th:only-of-type {\n",
       "        vertical-align: middle;\n",
       "    }\n",
       "\n",
       "    .dataframe tbody tr th {\n",
       "        vertical-align: top;\n",
       "    }\n",
       "\n",
       "    .dataframe thead th {\n",
       "        text-align: right;\n",
       "    }\n",
       "</style>\n",
       "<table border=\"1\" class=\"dataframe\">\n",
       "  <thead>\n",
       "    <tr style=\"text-align: right;\">\n",
       "      <th></th>\n",
       "      <th>major</th>\n",
       "      <th>salary</th>\n",
       "    </tr>\n",
       "  </thead>\n",
       "  <tbody>\n",
       "    <tr>\n",
       "      <th>5018</th>\n",
       "      <td>Biology</td>\n",
       "      <td>49976.94</td>\n",
       "    </tr>\n",
       "    <tr>\n",
       "      <th>4476</th>\n",
       "      <td>Political Science</td>\n",
       "      <td>27821.99</td>\n",
       "    </tr>\n",
       "    <tr>\n",
       "      <th>240</th>\n",
       "      <td>Environmental Sciences</td>\n",
       "      <td>37668.89</td>\n",
       "    </tr>\n",
       "    <tr>\n",
       "      <th>7165</th>\n",
       "      <td>Biology</td>\n",
       "      <td>60958.21</td>\n",
       "    </tr>\n",
       "    <tr>\n",
       "      <th>2488</th>\n",
       "      <td>Economics and Finance</td>\n",
       "      <td>59920.48</td>\n",
       "    </tr>\n",
       "    <tr>\n",
       "      <th>1193</th>\n",
       "      <td>Mathematics and Statistics</td>\n",
       "      <td>46116.22</td>\n",
       "    </tr>\n",
       "    <tr>\n",
       "      <th>241</th>\n",
       "      <td>Social Sciences</td>\n",
       "      <td>35881.74</td>\n",
       "    </tr>\n",
       "    <tr>\n",
       "      <th>2968</th>\n",
       "      <td>Economics and Finance</td>\n",
       "      <td>48456.79</td>\n",
       "    </tr>\n",
       "    <tr>\n",
       "      <th>1475</th>\n",
       "      <td>Mathematics and Statistics</td>\n",
       "      <td>61384.55</td>\n",
       "    </tr>\n",
       "    <tr>\n",
       "      <th>6764</th>\n",
       "      <td>Biology</td>\n",
       "      <td>61819.85</td>\n",
       "    </tr>\n",
       "  </tbody>\n",
       "</table>\n",
       "</div>"
      ],
      "text/plain": [
       "                           major    salary\n",
       "5018                     Biology  49976.94\n",
       "4476           Political Science  27821.99\n",
       "240       Environmental Sciences  37668.89\n",
       "7165                     Biology  60958.21\n",
       "2488       Economics and Finance  59920.48\n",
       "1193  Mathematics and Statistics  46116.22\n",
       "241              Social Sciences  35881.74\n",
       "2968       Economics and Finance  48456.79\n",
       "1475  Mathematics and Statistics  61384.55\n",
       "6764                     Biology  61819.85"
      ]
     },
     "execution_count": 4,
     "metadata": {},
     "output_type": "execute_result"
    }
   ],
   "source": [
    "n = 275\n",
    "data = students.loc[students[\"graduated\"] == 1, [\"major\", \"salary\"]].sample(\n",
    "    n, random_state=1\n",
    ")\n",
    "data.head(10)"
   ]
  },
  {
   "attachments": {},
   "cell_type": "markdown",
   "id": "94c1748f-e157-4ef2-aebe-5282facfeef8",
   "metadata": {},
   "source": [
    "Aus reinem Interesse visualisieren wir die Zählungen für jede der $6$ verschiedenen Studienteilnehmer in unserer Stichprobe, indem wir ein Balkendiagramm erstellen. Wir verwenden die `barh()` Funktion aus der `mathplotlib` Bibliothek für die Darstellung."
   ]
  },
  {
   "cell_type": "code",
   "execution_count": 5,
   "id": "dfc21929-ffd0-4673-9599-6f3d25f22743",
   "metadata": {},
   "outputs": [
    {
     "data": {
      "text/plain": [
       "Text(0.5, 0, 'Anzahl')"
      ]
     },
     "execution_count": 5,
     "metadata": {},
     "output_type": "execute_result"
    },
    {
     "data": {
      "image/png": "[encoded data removed]",
      "text/plain": [
       "<Figure size 864x432 with 1 Axes>"
      ]
     },
     "metadata": {
      "needs_background": "light"
     },
     "output_type": "display_data"
    }
   ],
   "source": [
    "fig, ax = plt.subplots()\n",
    "data.groupby(\"major\")[\"salary\"].count().plot.barh(ax=ax)\n",
    "ax.set_ylabel(\"\")\n",
    "ax.set_xlabel(\"Anzahl\")"
   ]
  },
  {
   "attachments": {},
   "cell_type": "markdown",
   "id": "e270927b-3ea8-48d9-a79f-9fd682544bcc",
   "metadata": {},
   "source": [
    "Wir sehen, dass die verschiedenen Studienteilnehmer in unserer Stichprobe nicht gleich verteilt sind, aber das ist in Ordnung.\n",
    "\n",
    "Bevor wir mit dem Hypothesentest beginnen, überprüfen wir, ob die Annahmen für den einfaktoriellen ANOVA-Hypothesentest erfüllt sind. Die Stichproben sind Zufallsstichproben und unabhängig. Das ist in Ordnung. Wir überprüfen die Normalitätsannahme, indem wir für jede gruppierte Variable ein Normalwahrscheinlichkeitsdiagramm (<a href=\"https://de.wikipedia.org/wiki/Quantil-Quantil-Diagramm\">Q-Q-Diagramm</a>) erstellen."
   ]
  },
  {
   "cell_type": "code",
   "execution_count": 6,
   "id": "8b783c69-7abc-4916-9107-4b14e76dd4f1",
   "metadata": {},
   "outputs": [
    {
     "data": {
      "image/png": "[encoded data removed]",
      "text/plain": [
       "<Figure size 864x432 with 1 Axes>"
      ]
     },
     "metadata": {
      "needs_background": "light"
     },
     "output_type": "display_data"
    },
    {
     "data": {
      "image/png": "[encoded data removed]",
      "text/plain": [
       "<Figure size 864x432 with 1 Axes>"
      ]
     },
     "metadata": {
      "needs_background": "light"
     },
     "output_type": "display_data"
    },
    {
     "data": {
      "image/png": "[encoded data removed]",
      "text/plain": [
       "<Figure size 864x432 with 1 Axes>"
      ]
     },
     "metadata": {
      "needs_background": "light"
     },
     "output_type": "display_data"
    },
    {
     "data": {
      "image/png": "[encoded data removed]",
      "text/plain": [
       "<Figure size 864x432 with 1 Axes>"
      ]
     },
     "metadata": {
      "needs_background": "light"
     },
     "output_type": "display_data"
    },
    {
     "data": {
      "image/png": "[encoded data removed]",
      "text/plain": [
       "<Figure size 864x432 with 1 Axes>"
      ]
     },
     "metadata": {
      "needs_background": "light"
     },
     "output_type": "display_data"
    },
    {
     "data": {
      "image/png": "[encoded data removed]",
      "text/plain": [
       "<Figure size 864x432 with 1 Axes>"
      ]
     },
     "metadata": {
      "needs_background": "light"
     },
     "output_type": "display_data"
    }
   ],
   "source": [
    "# Erzeuge Q-Q Plot\n",
    "for _major in data.major.unique():\n",
    "    _ = smi.qqplot(data.loc[data[\"major\"] == _major, \"salary\"], line=\"r\")\n",
    "    ax = plt.gca()\n",
    "    ax.set_title(_major)\n",
    "    ax.set_xlabel(\"Theoretische Quantile\")\n",
    "    ax.set_ylabel(\"Stichproben Quantile\")"
   ]
  },
  {
   "attachments": {},
   "cell_type": "markdown",
   "id": "d28fc8ff-1d22-4ad4-bf1b-75ab0fdf2a93",
   "metadata": {},
   "source": [
    "Als nächstes testen wir die Annahme gleicher Standardabweichungen. Dazu berechnen wir die Standardabweichung für jede Gruppe. Die Programmiersprache Python bietet einige ausgezeichnete Funktionen zur Berechnung statistischer Parameter für verschiedene Gruppierungen eines Datensatzes. Für unser Beispiel verwenden wir die Funktion `pivot_table()`, um die Standardabweichungen für jede Gruppe zu berechnen."
   ]
  },
  {
   "cell_type": "code",
   "execution_count": 7,
   "id": "f1830e68-e1ed-4c12-a6d2-7248b31363fb",
   "metadata": {},
   "outputs": [
    {
     "data": {
      "text/html": [
       "<div>\n",
       "<style scoped>\n",
       "    .dataframe tbody tr th:only-of-type {\n",
       "        vertical-align: middle;\n",
       "    }\n",
       "\n",
       "    .dataframe tbody tr th {\n",
       "        vertical-align: top;\n",
       "    }\n",
       "\n",
       "    .dataframe thead th {\n",
       "        text-align: right;\n",
       "    }\n",
       "</style>\n",
       "<table border=\"1\" class=\"dataframe\">\n",
       "  <thead>\n",
       "    <tr style=\"text-align: right;\">\n",
       "      <th></th>\n",
       "      <th>major</th>\n",
       "      <th>salary</th>\n",
       "    </tr>\n",
       "  </thead>\n",
       "  <tbody>\n",
       "    <tr>\n",
       "      <th>5018</th>\n",
       "      <td>Biology</td>\n",
       "      <td>49976.94</td>\n",
       "    </tr>\n",
       "    <tr>\n",
       "      <th>4476</th>\n",
       "      <td>Political Science</td>\n",
       "      <td>27821.99</td>\n",
       "    </tr>\n",
       "    <tr>\n",
       "      <th>240</th>\n",
       "      <td>Environmental Sciences</td>\n",
       "      <td>37668.89</td>\n",
       "    </tr>\n",
       "    <tr>\n",
       "      <th>7165</th>\n",
       "      <td>Biology</td>\n",
       "      <td>60958.21</td>\n",
       "    </tr>\n",
       "    <tr>\n",
       "      <th>2488</th>\n",
       "      <td>Economics and Finance</td>\n",
       "      <td>59920.48</td>\n",
       "    </tr>\n",
       "  </tbody>\n",
       "</table>\n",
       "</div>"
      ],
      "text/plain": [
       "                       major    salary\n",
       "5018                 Biology  49976.94\n",
       "4476       Political Science  27821.99\n",
       "240   Environmental Sciences  37668.89\n",
       "7165                 Biology  60958.21\n",
       "2488   Economics and Finance  59920.48"
      ]
     },
     "execution_count": 7,
     "metadata": {},
     "output_type": "execute_result"
    }
   ],
   "source": [
    "data.head()"
   ]
  },
  {
   "cell_type": "code",
   "execution_count": 8,
   "id": "768c52a2-4ce0-4c2a-931a-27f129cb7d32",
   "metadata": {},
   "outputs": [
    {
     "data": {
      "text/plain": [
       "major\n",
       "Biology                        8470.015961\n",
       "Economics and Finance          7175.592211\n",
       "Environmental Sciences         6460.464104\n",
       "Mathematics and Statistics     8384.558228\n",
       "Political Science             10273.903364\n",
       "Social Sciences                7227.381320\n",
       "Name: salary, dtype: float64"
      ]
     },
     "execution_count": 8,
     "metadata": {},
     "output_type": "execute_result"
    }
   ],
   "source": [
    "table = data.groupby(\"major\")[\"salary\"].std()\n",
    "table"
   ]
  },
  {
   "attachments": {},
   "cell_type": "markdown",
   "id": "7db4e5be-c2d5-41ed-a4cb-3b5b970bf0c6",
   "metadata": {},
   "source": [
    "Als Faustregel gilt die Annahme gleicher Standardabweichungen als erfüllt, wenn das Verhältnis der größten zur kleinsten Standardabweichung der Stichprobe kleiner als $2$ ist."
   ]
  },
  {
   "cell_type": "code",
   "execution_count": 9,
   "id": "e033c0c3-3891-478b-bb6a-fc85a10700fa",
   "metadata": {},
   "outputs": [
    {
     "data": {
      "text/plain": [
       "1.590273268094179"
      ]
     },
     "execution_count": 9,
     "metadata": {},
     "output_type": "execute_result"
    }
   ],
   "source": [
    "ratio = table.max() / table.min()\n",
    "ratio"
   ]
  },
  {
   "attachments": {},
   "cell_type": "markdown",
   "id": "c9318331-86d4-42c2-8964-897e42701fcb",
   "metadata": {},
   "source": [
    "Das Verhältnis zwischen der größten und der kleinsten Standardabweichung der Stichprobe beträgt $1,59$. Das liegt nahe am Schwellenwert von $2$, ist aber für unser Musterbeispiel noch akzeptabel. Daraus können wir schließen, dass die Annahmen erfüllt sind.\n",
    "\n",
    "Beachten Sie, dass die einseitige ANOVA robust gegenüber moderaten Verstößen gegen die Normalitätsannahme und die Annahme gleicher Standardabweichungen ist ({cite:t}`fahrmeirstatistik` s.486)."
   ]
  },
  {
   "attachments": {},
   "cell_type": "markdown",
   "id": "beff4e78-3e59-4f27-82fa-b2331ec2eb6b",
   "metadata": {
    "tags": []
   },
   "source": [
    "### Überprüfung der Hypothesen"
   ]
  },
  {
   "attachments": {},
   "cell_type": "markdown",
   "id": "f3f1d15c-2408-4847-8a86-1021b4eca0ad",
   "metadata": {},
   "source": [
    "Um den **einfaktoriellen ANOVA-Hypothesentest** durchzuführen, folgen wir dem schrittweisen Durchführungsverfahren für Hypothesentests."
   ]
  },
  {
   "attachments": {},
   "cell_type": "markdown",
   "id": "ee32c7b9-1e03-4e57-8fcc-c5df0fb21d3c",
   "metadata": {},
   "source": [
    "**Schritt 1 : Geben Sie die Nullhypothese $H_0$ und alternative Hypothese $H_A$ an**"
   ]
  },
  {
   "attachments": {},
   "cell_type": "markdown",
   "id": "ed155539-6de7-4003-94df-4f295bdca8d8",
   "metadata": {},
   "source": [
    "Die Nullhypothese besagt, dass das mittlere Jahresgehalt bei allen Gruppen von Absolventen gleich ist."
   ]
  },
  {
   "attachments": {},
   "cell_type": "markdown",
   "id": "1bed1841-c421-40a8-a792-7e8f58213293",
   "metadata": {},
   "source": [
    "$$H_0: \\quad \\mu_1=\\mu_2=\\mu_3=\\mu_4=\\mu_5=\\mu_6$$"
   ]
  },
  {
   "attachments": {},
   "cell_type": "markdown",
   "id": "16c3c394-458d-400f-ae9d-47c472f266b0",
   "metadata": {},
   "source": [
    "**Alternative Hypothese**"
   ]
  },
  {
   "attachments": {},
   "cell_type": "markdown",
   "id": "6f2eab79-9dc9-4b56-b0e1-93efc214f7d3",
   "metadata": {},
   "source": [
    "$$H_A: \\quad \\text{Nicht alle Mittelwerte sind gleich}$$"
   ]
  },
  {
   "attachments": {},
   "cell_type": "markdown",
   "id": "e753611d-9467-489a-b5ed-aeb33909745c",
   "metadata": {},
   "source": [
    "**Schritt 2: Legen Sie das Signifikanzniveau,$\\alpha$ fest**"
   ]
  },
  {
   "attachments": {},
   "cell_type": "markdown",
   "id": "0788b846-5b36-4a9b-8834-17939a7c6645",
   "metadata": {},
   "source": [
    "$$\\alpha = 0,01$$"
   ]
  },
  {
   "cell_type": "code",
   "execution_count": 10,
   "id": "d9b6b426-3361-4592-963f-664a6a819fe1",
   "metadata": {},
   "outputs": [],
   "source": [
    "alpha = 0.01"
   ]
  },
  {
   "attachments": {},
   "cell_type": "markdown",
   "id": "3cfdcb51-daa5-4f30-9839-760250182748",
   "metadata": {},
   "source": [
    "**Schritt 3 und 4: Berechnen Sie den Wert der Teststatistik und den $p$-Wert**"
   ]
  },
  {
   "attachments": {},
   "cell_type": "markdown",
   "id": "25d990c7-c7a2-4ce4-a3b6-c04ed6024e24",
   "metadata": {
    "tags": []
   },
   "source": [
    "Um die $F$-Test-Statistik zu berechnen, müssen wir zuvor mehrere Größen bestimmen. Zur Veranschaulichung berechnen wir die $F$-Teststatistik manuell in Python. Schritt für Schritt füllen wir die ANOVA-Tabelle aus, bis wir schließlich die $F$-Teststatistik und folglich den $p$-Wert erhalten."
   ]
  },
  {
   "attachments": {},
   "cell_type": "markdown",
   "id": "756f7ab4",
   "metadata": {},
   "source": [
    "|Quelle|$df$|Summe der Quadrate (SS)| Mittlere Quadrate (MS)|$F$-Statistik|$p$-Wert|\n",
    "|---|---|---|---|---|---|\n",
    "|Gruppe/Klasse|$k-1$|$SSG$|$MSG = \\frac{SSG}{k-1}$|$F=\\frac{MSG}{MSE}$| $p$|\n",
    "|Fehler/Residuen|$n-k$|$SSE$|$MSE=\\frac{SSE}{n-k}$||\n",
    "|Insgesamt|$n-1$|$SST$|||"
   ]
  },
  {
   "attachments": {},
   "cell_type": "markdown",
   "id": "70a20bef-9d59-4523-a35c-a597bb6e4031",
   "metadata": {},
   "source": [
    "Wir beginnen mit der ersten Spalte und berechnen die Freiheitsgrade."
   ]
  },
  {
   "cell_type": "code",
   "execution_count": 11,
   "id": "6d82de82-ef8f-41c3-8b98-fc2e95048c68",
   "metadata": {},
   "outputs": [
    {
     "data": {
      "text/plain": [
       "5"
      ]
     },
     "execution_count": 11,
     "metadata": {},
     "output_type": "execute_result"
    }
   ],
   "source": [
    "k = data[\"major\"].nunique()\n",
    "n = data.shape[0]\n",
    "\n",
    "df_G = k - 1\n",
    "df_G"
   ]
  },
  {
   "cell_type": "code",
   "execution_count": 12,
   "id": "30362ec4-3b70-4aca-9074-e80257818ede",
   "metadata": {},
   "outputs": [
    {
     "data": {
      "text/plain": [
       "269"
      ]
     },
     "execution_count": 12,
     "metadata": {},
     "output_type": "execute_result"
    }
   ],
   "source": [
    "df_E = n - k\n",
    "df_E"
   ]
  },
  {
   "cell_type": "code",
   "execution_count": 13,
   "id": "2e018888-bbae-4b93-8af4-afcb2ab32d75",
   "metadata": {
    "tags": []
   },
   "outputs": [
    {
     "data": {
      "text/plain": [
       "274"
      ]
     },
     "execution_count": 13,
     "metadata": {},
     "output_type": "execute_result"
    }
   ],
   "source": [
    "df_T = n - 1\n",
    "df_T"
   ]
  },
  {
   "attachments": {},
   "cell_type": "markdown",
   "id": "67ac3872",
   "metadata": {},
   "source": [
    "|Quelle|$df$|Summe der Quadrate (SS)| Mittlere Quadrate (MS)|$F$-Statistik|$p$-Wert|\n",
    "|---|---|---|---|---|---|\n",
    "|Gruppe/Klasse|$5$|$SSG$|$MSG = \\frac{SSG}{k-1}$|$F=\\frac{MSG}{MSE}$| $p$|\n",
    "|Fehler/Residuen|$269$|$SSE$|$MSE=\\frac{SSE}{n-k}$||\n",
    "|Insgesamt|$274$|$SST$|||"
   ]
  },
  {
   "attachments": {},
   "cell_type": "markdown",
   "id": "33e3999f-39f6-4291-b4dd-e859f113c11a",
   "metadata": {},
   "source": [
    "Außerdem berechnen wir die drei Summen der Quadrate, $SST$, $SSG$ und $SSE$. Erinnern Sie sich an die Gleichungen von oben."
   ]
  },
  {
   "attachments": {},
   "cell_type": "markdown",
   "id": "68fbfc3a-1ac4-468a-92a7-b6a61d29f9a4",
   "metadata": {},
   "source": [
    "$$SST = \\sum_{i=1}^n(x_i-\\bar x)^2\\text{,}$$"
   ]
  },
  {
   "attachments": {},
   "cell_type": "markdown",
   "id": "97080283-d55f-4ad0-8640-94535b230ea8",
   "metadata": {},
   "source": [
    "wobei $x_i$den Beobachtungen in den Stichproben und $\\bar x$ dem Gesamtmittelwert aller Stichproben entspricht."
   ]
  },
  {
   "cell_type": "code",
   "execution_count": 14,
   "id": "99d49062-627f-4dcd-89ee-27cc4dbb6dbd",
   "metadata": {},
   "outputs": [
    {
     "data": {
      "text/plain": [
       "33169010775.846596"
      ]
     },
     "execution_count": 14,
     "metadata": {},
     "output_type": "execute_result"
    }
   ],
   "source": [
    "# Berechne Gesamtmittelwert\n",
    "x_bar = data[\"salary\"].mean()\n",
    "\n",
    "# Beobachtungen\n",
    "xi = data[\"salary\"]\n",
    "\n",
    "# Berechne SST\n",
    "SST = np.sum((xi - x_bar) ** 2)\n",
    "SST"
   ]
  },
  {
   "attachments": {},
   "cell_type": "markdown",
   "id": "a4671f95-e95d-43ce-b5ff-fa025b9bfec7",
   "metadata": {},
   "source": [
    "$$SSG = \\sum_{i=1}^n n_j(\\bar x_i-\\bar x)^2$$"
   ]
  },
  {
   "attachments": {},
   "cell_type": "markdown",
   "id": "1dc9432e-2089-4c19-8e2a-049582ffaa3a",
   "metadata": {},
   "source": [
    "Dabei steht $n_j$ für den Stichprobenumfang der Gruppe $j, \\bar{x}_i$ für den Mittelwert der Gruppe $j$ und $\\bar x$ für den Gesamtmittelwert aller Stichproben."
   ]
  },
  {
   "cell_type": "code",
   "execution_count": 15,
   "id": "a00ac31e-7c85-4952-a130-0b0b95610243",
   "metadata": {},
   "outputs": [
    {
     "data": {
      "text/plain": [
       "major\n",
       "Biology                       50\n",
       "Economics and Finance         48\n",
       "Environmental Sciences        53\n",
       "Mathematics and Statistics    40\n",
       "Political Science             50\n",
       "Social Sciences               34\n",
       "Name: salary, dtype: int64"
      ]
     },
     "execution_count": 15,
     "metadata": {},
     "output_type": "execute_result"
    }
   ],
   "source": [
    "n_j = data.groupby(\"major\")[\"salary\"].count()\n",
    "n_j"
   ]
  },
  {
   "cell_type": "code",
   "execution_count": 16,
   "id": "08950881-e69d-4c68-8687-196df3a175a4",
   "metadata": {},
   "outputs": [
    {
     "data": {
      "text/plain": [
       "15425759982.382113"
      ]
     },
     "execution_count": 16,
     "metadata": {},
     "output_type": "execute_result"
    }
   ],
   "source": [
    "# Berechne Stichprobengrösse für alle Gruppen\n",
    "n_j = data.groupby(\"major\")[\"salary\"].count()\n",
    "\n",
    "# Berechne Mittelwert für alle Gruppen\n",
    "xi_bar = data.groupby(\"major\")[\"salary\"].mean()\n",
    "\n",
    "# Berechne SSG\n",
    "SSG = np.sum(n_j * (xi_bar - x_bar) ** 2)\n",
    "SSG"
   ]
  },
  {
   "attachments": {},
   "cell_type": "markdown",
   "id": "1e88b45e-7820-4d6b-90c0-230d1aba934b",
   "metadata": {
    "tags": []
   },
   "source": [
    "$$SSE = \\sum_{i=1}^n (n_j-1)s_j^2\\text{,}$$"
   ]
  },
  {
   "attachments": {},
   "cell_type": "markdown",
   "id": "197a7efe-584d-4ab6-9bc9-6593e64e9e64",
   "metadata": {},
   "source": [
    "wobei $n_j$ den Stichprobenumfang für die Gruppe $j$ und $s^2_j$ die Varianz der Gruppe $j$ bezeichnet."
   ]
  },
  {
   "cell_type": "code",
   "execution_count": 17,
   "id": "279e0943-7927-49c1-9899-59cd1784ddd0",
   "metadata": {},
   "outputs": [
    {
     "data": {
      "text/plain": [
       "17743250793.46448"
      ]
     },
     "execution_count": 17,
     "metadata": {},
     "output_type": "execute_result"
    }
   ],
   "source": [
    "# Berechne Standardabweichung für die einzelnen Gruppen\n",
    "s2_j = data.groupby(\"major\")[\"salary\"].std()\n",
    "\n",
    "# Berechne SSE\n",
    "SSE = np.sum((n_j - 1.0) * s2_j**2.0)\n",
    "SSE"
   ]
  },
  {
   "cell_type": "code",
   "execution_count": 18,
   "id": "211ad60c-ea06-4f56-bb74-a761f006acef",
   "metadata": {},
   "outputs": [
    {
     "data": {
      "text/plain": [
       "17743250793.464485"
      ]
     },
     "execution_count": 18,
     "metadata": {},
     "output_type": "execute_result"
    }
   ],
   "source": [
    "# alternativ kann SSE auch so berechnet werden\n",
    "SSE2 = SST - SSG\n",
    "SSE2"
   ]
  },
  {
   "attachments": {},
   "cell_type": "markdown",
   "id": "92f95249",
   "metadata": {},
   "source": [
    "|Quelle|$df$|Summe der Quadrate (SS)| Mittlere Quadrate (MS)|$F$-Statistik|$p$-Wert|\n",
    "|---|---|---|---|---|---|\n",
    "|Gruppe/Klasse|$5$|$1,542576 \\cdot 10^{10}$|$MSG = \\frac{SSG}{k-1}$|$F=\\frac{MSG}{MSE}$| $p$|\n",
    "|Fehler/Residuen|$269$|$1,774325 \\cdot 10^{10}$|$MSE=\\frac{SSE}{n-k}$||\n",
    "|Insgesamt|$274$|$3,316901 \\cdot 10^{10}$|||"
   ]
  },
  {
   "attachments": {},
   "cell_type": "markdown",
   "id": "26322c99-8443-4bec-8164-6c3b1dbd411d",
   "metadata": {},
   "source": [
    "Nun berechnen wir die beiden Maße für die mittlere Variabilität, $MSG$ und $MSE$."
   ]
  },
  {
   "cell_type": "code",
   "execution_count": 19,
   "id": "05a5e272-c76f-4bab-9b17-e662aa957849",
   "metadata": {},
   "outputs": [
    {
     "data": {
      "text/plain": [
       "3085151996.4764223"
      ]
     },
     "execution_count": 19,
     "metadata": {},
     "output_type": "execute_result"
    }
   ],
   "source": [
    "# Berechne MSG\n",
    "MSG = SSG / (k - 1)\n",
    "MSG"
   ]
  },
  {
   "cell_type": "code",
   "execution_count": 20,
   "id": "c2f4604e-4267-40d1-905c-354ebaf0719a",
   "metadata": {},
   "outputs": [
    {
     "data": {
      "text/plain": [
       "65960040.124403276"
      ]
     },
     "execution_count": 20,
     "metadata": {},
     "output_type": "execute_result"
    }
   ],
   "source": [
    "# Berechne MSE\n",
    "MSE = SSE / (n - k)\n",
    "MSE"
   ]
  },
  {
   "attachments": {},
   "cell_type": "markdown",
   "id": "d1df3fa6",
   "metadata": {},
   "source": [
    "|Quelle|$df$|Summe der Quadrate (SS)| Mittlere Quadrate (MS)|$F$-Statistik|$p$-Wert|\n",
    "|---|---|---|---|---|---|\n",
    "|Gruppe/Klasse|$5$|$1,542576 \\cdot 10^{10}$|$3,085152 \\cdot 10^{9}$|$F=\\frac{MSG}{MSE}$| $p$|\n",
    "|Fehler/Residuen|$269$|$1,774325 \\cdot 10^{10}$|$6,596004 \\cdot 10^{7}$||\n",
    "|Insgesamt|$274$|$3,316901 \\cdot 10^{10}$|||"
   ]
  },
  {
   "attachments": {},
   "cell_type": "markdown",
   "id": "5a6c290d-fd99-418e-a4a4-9ee1d4a4198e",
   "metadata": {},
   "source": [
    "Schließlich erhalten wir die $F$-Statistiken durch das Verhältnis von $MSG$ und $MSE$."
   ]
  },
  {
   "cell_type": "code",
   "execution_count": 21,
   "id": "a09a2c4a-bd55-4606-8c7c-a96f3085afde",
   "metadata": {},
   "outputs": [
    {
     "data": {
      "text/plain": [
       "46.773046084533945"
      ]
     },
     "execution_count": 21,
     "metadata": {},
     "output_type": "execute_result"
    }
   ],
   "source": [
    "# Berechne Teststatistik\n",
    "Fstat = MSG / MSE\n",
    "Fstat"
   ]
  },
  {
   "attachments": {},
   "cell_type": "markdown",
   "id": "3ee294b9",
   "metadata": {},
   "source": [
    "|Quelle|$df$|Summe der Quadrate (SS)| Mittlere Quadrate (MS)|$F$-Statistik|$p$-Wert|\n",
    "|---|---|---|---|---|---|\n",
    "|Gruppe/Klasse|$5$|$1,542576 \\cdot 10^{10}$|$3,085152 \\cdot 10^{9}$|$46,77304$| $p$|\n",
    "|Fehler/Residuen|$269$|$1,774325 \\cdot 10^{10}$|$6,596004 \\cdot 10^{7}$||\n",
    "|Insgesamt|$274$|$3,316901 \\cdot 10^{10}$|||"
   ]
  },
  {
   "attachments": {},
   "cell_type": "markdown",
   "id": "9ded2806-ce16-46d2-a00f-3ecca6534dfd",
   "metadata": {},
   "source": [
    "Im letzten Schritt berechnen wir den $p$-Wert durch Aufruf der Funktion `f.cdf()` in Python. Erinnern Sie sich, wie man die Freiheitsgrade berechnet."
   ]
  },
  {
   "attachments": {},
   "cell_type": "markdown",
   "id": "b0f2a6db-d482-4571-aa4a-f32ae9553b7e",
   "metadata": {},
   "source": [
    "$$df = (k-1, n-k)$$"
   ]
  },
  {
   "attachments": {},
   "cell_type": "markdown",
   "id": "01807a4f-987f-4b5c-aadd-acf132e15d19",
   "metadata": {},
   "source": [
    "Da die Nullhypothese nur dann abgelehnt wird, wenn die Teststatistik $F$ zu groß ist, ist ein einfaktorieller ANOVA-Test immer rechtsschief."
   ]
  },
  {
   "cell_type": "code",
   "execution_count": 22,
   "id": "5a63d46c-a1d3-4953-a91d-3afe24d3a490",
   "metadata": {},
   "outputs": [
    {
     "data": {
      "text/plain": [
       "1.0932037477708007e-34"
      ]
     },
     "execution_count": 22,
     "metadata": {},
     "output_type": "execute_result"
    }
   ],
   "source": [
    "df1 = k - 1\n",
    "df2 = n - k\n",
    "\n",
    "p_value = f.sf(Fstat, dfn=df1, dfd=df2)\n",
    "p_value"
   ]
  },
  {
   "attachments": {},
   "cell_type": "markdown",
   "id": "295d16cc",
   "metadata": {},
   "source": [
    "|Quelle|$df$|Summe der Quadrate (SS)| Mittlere Quadrate (MS)|$F$-Statistik|$p$-Wert|\n",
    "|---|---|---|---|---|---|\n",
    "|Gruppe/Klasse|$5$|$1,542576 \\cdot 10^{10}$|$3,085152 \\cdot 10^{9}$|$46,77304$| $1,093212 \\cdot 10^{-34}$|\n",
    "|Fehler/Residuen|$269$|$1,774325 \\cdot 10^{10}$|$6,596004 \\cdot 10^{7}$||\n",
    "|Insgesamt|$274$|$3,316901 \\cdot 10^{10}$|||"
   ]
  },
  {
   "attachments": {},
   "cell_type": "markdown",
   "id": "6750b98f-0005-488e-b82c-3db98491902f",
   "metadata": {},
   "source": [
    "**Schritt 5: Wenn $p \\le \\alpha , H_0$ ablehnen; ansonsten $H_0$ nicht ablehnen**"
   ]
  },
  {
   "cell_type": "code",
   "execution_count": 23,
   "id": "bbcc6a0e-e9f0-438e-a36e-8b7db2da6dcd",
   "metadata": {},
   "outputs": [
    {
     "data": {
      "text/plain": [
       "True"
      ]
     },
     "execution_count": 23,
     "metadata": {},
     "output_type": "execute_result"
    }
   ],
   "source": [
    "p_value <= alpha"
   ]
  },
  {
   "attachments": {},
   "cell_type": "markdown",
   "id": "b4a7f429-6279-4203-b9e1-b74081059fe5",
   "metadata": {},
   "source": [
    "Der $p$-Wert ist kleiner als das angegebene Signifikanzniveau von $0,01$; wir verwerfen $H_0$. Die Testergebnisse sind statistisch signifikant auf dem $1 \\%$-Niveau und liefern einen sehr starken Beweis gegen die Nullhypothese."
   ]
  },
  {
   "attachments": {},
   "cell_type": "markdown",
   "id": "868f87e1-c750-4238-8ac0-f4bc6549a027",
   "metadata": {},
   "source": [
    "**Schritt 6: Interpretieren Sie das Ergebnis des Hypothesentests**"
   ]
  },
  {
   "attachments": {},
   "cell_type": "markdown",
   "id": "339a5ad5-afb1-4b45-b406-5a3cc4f685dd",
   "metadata": {},
   "source": [
    "$p=1,093212 \\cdot 10^{-34}$. Bei einem Signifikanzniveau von $1 \\%$ liefern die Daten sehr starke Hinweise darauf, dass sich mindestens ein Paar von Gruppenmittelwerten voneinander unterscheidet."
   ]
  },
  {
   "attachments": {},
   "cell_type": "markdown",
   "id": "113352fa-0e0f-470c-92be-4a081b9cffc4",
   "metadata": {},
   "source": [
    "### Hypothesentests in Python"
   ]
  },
  {
   "attachments": {},
   "cell_type": "markdown",
   "id": "90429755-b662-49f5-83d9-bfa6e503886b",
   "metadata": {},
   "source": [
    "Wir haben gerade einen einfaktoriellen ANOVA-Hypothesentest in Python manuell durchgeführt. Toll, aber jetzt wiederholen wir das Beispiel und nutzen die Möglichkeiten von Python, um das gleiche Ergebnis wie oben mit nur wenigen Zeilen Code zu erhalten!\n",
    "\n",
    "Um einen einseitigen ANOVA-Hypothesentest in Python durchzuführen, verwenden wir die Funktion `f_oneway()`. Die `f_oneway()`-Funktion erwartet die Eingabe der zu vergleichenden Untergruppen. Hierfür verwenden wir eine `list-comprehension`. Außerdem lesen wir die $F$-Teststatistik `statistics` und $p$-Wert `p_value` aus."
   ]
  },
  {
   "cell_type": "code",
   "execution_count": 24,
   "id": "670c2d14-9989-43ae-927f-c123c2042404",
   "metadata": {},
   "outputs": [
    {
     "name": "stdout",
     "output_type": "stream",
     "text": [
      "Wert der F-Statistik: 46.77304608453393\n",
      "p-Wert: 1.0932037477708007e-34\n"
     ]
    }
   ],
   "source": [
    "dat = [\n",
    "    data.loc[data[\"major\"] == major, \"salary\"].values\n",
    "    for major in data[\"major\"].unique()\n",
    "]\n",
    "statistics, pvalue = f_oneway(*dat)\n",
    "\n",
    "print(f\"Wert der F-Statistik: {statistics}\")\n",
    "print(f\"p-Wert: {pvalue}\")"
   ]
  },
  {
   "attachments": {},
   "cell_type": "markdown",
   "id": "65987448-de82-4f81-b4ec-9b51e070dd80",
   "metadata": {},
   "source": [
    "Es hat gut funktioniert! Vergleichen Sie die Ausgabe der Funktion `f_oneway()` mit unserem Ergebnis von oben. Auch hier können wir zu dem Schluss kommen, dass die Daten bei einem Signifikanzniveau von $1 \\%$ sehr starke Hinweise darauf liefern, dass sich mindestens ein Paar von Gruppenmitteln voneinander unterscheidet."
   ]
  },
  {
   "attachments": {},
   "cell_type": "markdown",
   "id": "d30d803a-2706-4d8f-b96d-0b545376f733",
   "metadata": {
    "tags": []
   },
   "source": [
    "## Multiples Testproblem"
   ]
  },
  {
   "attachments": {},
   "cell_type": "markdown",
   "id": "05877db9-f9a7-455c-8102-173d8630ee09",
   "metadata": {},
   "source": [
    "Eine Einschränkung der ANOVA besteht darin, dass wir, wenn wir die Nullhypothese ablehnen, feststellen, dass die Mittelwerte der betrachteten Populationen nicht alle gleich sind. Wir können jedoch weder entscheiden, welche Mittelwerte unterschiedlich sind, noch, in welchem Verhältnis die Mittelwerte zueinander stehen.\n",
    "\n",
    "Um diese Frage zu klären, wenden wir Methoden an, die als **multiples Testen** oder **Mehrfachvergleiche** bezeichnet werden. Das Problem bei Mehrfachvergleichen ist, dass je mehr Hypothesen für einen bestimmten Datensatz getestet werden, desto wahrscheinlicher ist es, dass die Nullhypothese fälschlicherweise zurückgewiesen wird. Daher erfordern die Methoden des Mehrfachvergleichs eine höhere Signifikanzschwelle ($\\alpha$) für einzelne Vergleiche, um die Anzahl der gezogenen Schlüsse zu kompensieren."
   ]
  },
  {
   "attachments": {},
   "cell_type": "markdown",
   "id": "acf0bc3c-6d7a-4b02-8906-904fcfeb40ac",
   "metadata": {},
   "source": [
    "### Alphafehler-Kumulierung (engl. Family Wise Error Rate - FWER)"
   ]
  },
  {
   "attachments": {},
   "cell_type": "markdown",
   "id": "6b234a1c-1b59-4244-846b-d5a5e6cdf775",
   "metadata": {},
   "source": [
    "Eine **Testfamilie** ist der Fachbegriff für eine Reihe von Tests, die an einem Datensatz durchgeführt werden. Die <a href=\"https://de.wikipedia.org/wiki/Alphafehler-Kumulierung\">Alphafehler-Kumulierung</a> (engl. Family Wise Error Rate) ist die Wahrscheinlichkeit, dass bei der Durchführung von Mehrfachhypothesentests ein oder mehrere falsche Zurückweisungen der Null-Hypothese oder Fehler vom <a href=\"https://de.wikipedia.org/wiki/Fehler_1._und_2._Art\">Typ I</a> gemacht werden.\n",
    "\n",
    "Es sei daran erinnert, dass bei einem Signifikanzniveau von $\\alpha=0,05$ die Wahrscheinlichkeit, einen Fehler vom Typ I zu machen, $0,05$ oder $5 \\%$ beträgt. Folglich ist die Wahrscheinlichkeit, keinen Fehler vom Typ I zu machen, $1-\\alpha=1-0,05=0,95$. Außerdem ist die Wahrscheinlichkeit, zwei unabhängige Ereignisse zu beobachten, das Produkt ihrer Wahrscheinlichkeiten. Wenn wir also zwei unabhängige Tests durchführen, ist die Wahrscheinlichkeit, beim ersten und beim zweiten Test keinen Fehler vom Typ I zu machen"
   ]
  },
  {
   "attachments": {},
   "cell_type": "markdown",
   "id": "17383fa0-330c-4ca0-a3ec-bfde8f0125b9",
   "metadata": {},
   "source": [
    "$$(1-\\alpha) \\times (1-\\alpha) = (1-\\alpha)^2$$"
   ]
  },
  {
   "attachments": {},
   "cell_type": "markdown",
   "id": "9eee4182-dd78-4a36-b6b7-55e847b38fe3",
   "metadata": {},
   "source": [
    "Wenn $\\alpha=0,05$ ist, ergibt sich eine Wahrscheinlichkeit, dass beim ersten und zweiten Test kein Fehler vom Typ I auftritt, von"
   ]
  },
  {
   "attachments": {},
   "cell_type": "markdown",
   "id": "f364e082-ca01-426b-a892-28c1279e8e7b",
   "metadata": {},
   "source": [
    "$$(1 - \\alpha)^2 = (1-0,05)^2 = 0,95^2 \\approx 0,902$$"
   ]
  },
  {
   "attachments": {},
   "cell_type": "markdown",
   "id": "a5257da5-0f03-44cc-a7be-e7b08f695d31",
   "metadata": {},
   "source": [
    "Für eine Familie von $C$-Tests ist die Wahrscheinlichkeit, dass kein Fehler vom Typ I für die gesamte Familie auftritt, formal ausgedrückt"
   ]
  },
  {
   "attachments": {},
   "cell_type": "markdown",
   "id": "7ff7a527-ba1a-41b8-ae36-2d502975811f",
   "metadata": {},
   "source": [
    "$$(1-\\alpha)^C\\text{.}$$"
   ]
  },
  {
   "attachments": {},
   "cell_type": "markdown",
   "id": "5d44e298-bba0-41c6-9079-24d1f2ca2c1e",
   "metadata": {},
   "source": [
    "Betrachten wir nun $C=10$ und $\\alpha=0,05$. Wir führen also $10$ Mehrfachvergleiche mit einem Datensatz durch. Die Wahrscheinlichkeit, keinen Fehler vom Typ I in der Familie zu machen, ist dann"
   ]
  },
  {
   "attachments": {},
   "cell_type": "markdown",
   "id": "ce65cab2-0e60-48a9-9c66-dc89b36b14d6",
   "metadata": {},
   "source": [
    "$$(1-\\alpha)^C=(1-0,05)^{10} \\approx 0,599$$"
   ]
  },
  {
   "attachments": {},
   "cell_type": "markdown",
   "id": "be1feef6-7343-49e0-ace2-2037a453e9ec",
   "metadata": {},
   "source": [
    "Folglich ist die Wahrscheinlichkeit, dass **ein oder mehrere Fehler vom Typ I** in der Testfamilie auftreten"
   ]
  },
  {
   "attachments": {},
   "cell_type": "markdown",
   "id": "0c978519-109d-44cd-b8b9-0a238fdf1967",
   "metadata": {},
   "source": [
    "$$1 - (1-\\alpha)^C$$"
   ]
  },
  {
   "attachments": {},
   "cell_type": "markdown",
   "id": "000d8e09-b0e4-4d60-b712-51ca3518c7f6",
   "metadata": {},
   "source": [
    "Für unser Beispiel finden wir"
   ]
  },
  {
   "attachments": {},
   "cell_type": "markdown",
   "id": "23428c8a-dad4-4086-ac4f-c342a8da33ee",
   "metadata": {},
   "source": [
    "$$1 - (1-\\alpha)^C = 1 - (1-0,05)^{10} \\approx 0,401$$"
   ]
  },
  {
   "attachments": {},
   "cell_type": "markdown",
   "id": "720e034d-9797-439f-a20f-bfaeeaa29357",
   "metadata": {},
   "source": [
    "Somit ist bei $\\alpha=0,05$ für jeden der $10$ Mehrfachvergleiche die Wahrscheinlichkeit, dass die Nullhypothese falsch zurückgewiesen wird, $0,401$ oder $40,1 \\%$.\n",
    "\n",
    "Um diesem Problem Rechnung zu tragen, gibt es <a href=\"https://de.wikipedia.org/wiki/Alphafehler-Kumulierung#Adjustierung_des_globalen_%CE%B1-Niveaus\">mehrere statistische Methoden</a>. In diesem Abschnitt werden die <a href=\"https://de.wikipedia.org/wiki/Bonferroni-Korrektur\">Bonferroni-Korrektur</a> und die <a href=\"https://de.wikipedia.org/wiki/Post-hoc-Test#Tukey-Test\">Tukey-Test</a>, auch bekannt als **Tukeys HSD-Test (hoenstly significant difference)**, behandelt."
   ]
  },
  {
   "attachments": {},
   "cell_type": "markdown",
   "id": "fbef8cd4-718b-4626-87b4-07786845243f",
   "metadata": {},
   "source": [
    "### Beispiel-Daten"
   ]
  },
  {
   "attachments": {},
   "cell_type": "markdown",
   "id": "4308a978-9fc0-4b7b-bfcd-1a982b462de9",
   "metadata": {},
   "source": [
    "In diesem Abschnitt wiederholen wir das Beispiel aus dem vorherigen Abschnitt. Dort haben wir eine einfaktorielle ANOVA angewandt, um zu **testen, ob sich das mittlere Jahresgehalt der Absolventen zwischen den Absolventen verschiedener Studienfächer unterscheidet**. Dieses Mal werden wir jedoch mehrere Vergleiche durchführen, um die Beziehung zwischen allen Gruppenmittelwerten zu analysieren.\n",
    "\n",
    "Laden Sie den `students` Datensatz erneut (Sie können die Datei `students.csv` <a href=\"https://userpage.fu-berlin.de/soga/200/2010_data_sets/students.csv\">hier</a> herunterladen)."
   ]
  },
  {
   "cell_type": "code",
   "execution_count": 25,
   "id": "874e4d96-3426-4546-9b2a-b06436c7c301",
   "metadata": {},
   "outputs": [],
   "source": [
    "# Lese Datei students.csv als Dataframe ein\n",
    "students = pd.read_csv(\"../../data/students.csv\")"
   ]
  },
  {
   "attachments": {},
   "cell_type": "markdown",
   "id": "33f64541-0024-444b-892c-04bc3e4bef98",
   "metadata": {},
   "source": [
    "Der `students` Datensatz besteht aus $8239$ Zeilen, von denen jede einen bestimmten Studenten repräsentiert, und $16$ Spalten, von denen jede einer Variable/einem Merkmal entspricht, das sich auf diesen bestimmten Studenten bezieht. Diese selbsterklärenden Variablen sind: *stud_id, name, gender, age, height, weight, religion, nc_score, semester, major, minor, score1, score2, online_tutorial, graduated, salary.*"
   ]
  },
  {
   "attachments": {},
   "cell_type": "markdown",
   "id": "fb63fe9a-0f3b-49d9-9a21-225615a8d494",
   "metadata": {},
   "source": [
    "Aus dem Datensatz der Studierenden ziehen wir eine Zufallsstichprobe von $275$ Absolventen und reduzieren den Datensatz auf die beiden interessierenden Variablen, die kategoriale Variable `major` und die numerische Variable `salary`. Für eine bessere Lesbarkeit in der folgenden Analyse ersetzen wir die Namen der Studienfächer durch entsprechende Abkürzungen."
   ]
  },
  {
   "cell_type": "code",
   "execution_count": 26,
   "id": "b24dd642-58b2-4f3a-ad34-8b44260f5dd3",
   "metadata": {},
   "outputs": [
    {
     "data": {
      "text/html": [
       "<div>\n",
       "<style scoped>\n",
       "    .dataframe tbody tr th:only-of-type {\n",
       "        vertical-align: middle;\n",
       "    }\n",
       "\n",
       "    .dataframe tbody tr th {\n",
       "        vertical-align: top;\n",
       "    }\n",
       "\n",
       "    .dataframe thead th {\n",
       "        text-align: right;\n",
       "    }\n",
       "</style>\n",
       "<table border=\"1\" class=\"dataframe\">\n",
       "  <thead>\n",
       "    <tr style=\"text-align: right;\">\n",
       "      <th></th>\n",
       "      <th>major</th>\n",
       "      <th>salary</th>\n",
       "    </tr>\n",
       "  </thead>\n",
       "  <tbody>\n",
       "    <tr>\n",
       "      <th>3825</th>\n",
       "      <td>MaSt</td>\n",
       "      <td>57849.34</td>\n",
       "    </tr>\n",
       "    <tr>\n",
       "      <th>794</th>\n",
       "      <td>MaSt</td>\n",
       "      <td>56558.16</td>\n",
       "    </tr>\n",
       "    <tr>\n",
       "      <th>2126</th>\n",
       "      <td>PoS</td>\n",
       "      <td>46945.17</td>\n",
       "    </tr>\n",
       "    <tr>\n",
       "      <th>1291</th>\n",
       "      <td>Bio</td>\n",
       "      <td>40093.46</td>\n",
       "    </tr>\n",
       "    <tr>\n",
       "      <th>5912</th>\n",
       "      <td>EnS</td>\n",
       "      <td>35106.96</td>\n",
       "    </tr>\n",
       "    <tr>\n",
       "      <th>1870</th>\n",
       "      <td>EnS</td>\n",
       "      <td>33216.12</td>\n",
       "    </tr>\n",
       "    <tr>\n",
       "      <th>1852</th>\n",
       "      <td>EnS</td>\n",
       "      <td>30606.20</td>\n",
       "    </tr>\n",
       "    <tr>\n",
       "      <th>1483</th>\n",
       "      <td>PoS</td>\n",
       "      <td>37240.11</td>\n",
       "    </tr>\n",
       "    <tr>\n",
       "      <th>5618</th>\n",
       "      <td>MaSt</td>\n",
       "      <td>50913.04</td>\n",
       "    </tr>\n",
       "    <tr>\n",
       "      <th>2298</th>\n",
       "      <td>EcFi</td>\n",
       "      <td>50365.10</td>\n",
       "    </tr>\n",
       "  </tbody>\n",
       "</table>\n",
       "</div>"
      ],
      "text/plain": [
       "     major    salary\n",
       "3825  MaSt  57849.34\n",
       "794   MaSt  56558.16\n",
       "2126   PoS  46945.17\n",
       "1291   Bio  40093.46\n",
       "5912   EnS  35106.96\n",
       "1870   EnS  33216.12\n",
       "1852   EnS  30606.20\n",
       "1483   PoS  37240.11\n",
       "5618  MaSt  50913.04\n",
       "2298  EcFi  50365.10"
      ]
     },
     "execution_count": 26,
     "metadata": {},
     "output_type": "execute_result"
    }
   ],
   "source": [
    "n = 275\n",
    "data = students.loc[students[\"graduated\"] == 1, [\"major\", \"salary\"]].sample(\n",
    "    n, random_state=300\n",
    ")\n",
    "\n",
    "lookup = {\n",
    "    \"Biology\": \"Bio\",\n",
    "    \"Political Science\": \"PoS\",\n",
    "    \"Economics and Finance\": \"EcFi\",\n",
    "    \"Environmental Sciences\": \"EnS\",\n",
    "    \"Mathematics and Statistics\": \"MaSt\",\n",
    "    \"Social Sciences\": \"SoS\",\n",
    "}\n",
    "data[\"major\"] = data[\"major\"].apply(lambda x: lookup[x])\n",
    "\n",
    "data.head(10)"
   ]
  },
  {
   "attachments": {},
   "cell_type": "markdown",
   "id": "fad39d75-4b71-4c02-aaaf-4c3f13602b4a",
   "metadata": {},
   "source": [
    "Des Weiteren führen wir einen einfaktoriellen ANOVA-Hypothesentest in Python durch, indem wir die Funktion `f_oneway()` anwenden."
   ]
  },
  {
   "cell_type": "code",
   "execution_count": 27,
   "id": "763bdf06-78e8-4b98-ba8b-8f808ba197e3",
   "metadata": {},
   "outputs": [
    {
     "name": "stdout",
     "output_type": "stream",
     "text": [
      "Wert der F-Statistik: 41.14261117043315\n",
      "p-Wert: 2.2839018706608163e-31\n"
     ]
    }
   ],
   "source": [
    "dat = [\n",
    "    data.loc[data[\"major\"] == major, \"salary\"].values\n",
    "    for major in data[\"major\"].unique()\n",
    "]\n",
    "statistics, pvalue = f_oneway(*dat)\n",
    "\n",
    "print(f\"Wert der F-Statistik: {statistics}\")\n",
    "print(f\"p-Wert: {pvalue}\")"
   ]
  },
  {
   "attachments": {},
   "cell_type": "markdown",
   "id": "f8375608-c4c0-4ef5-b505-cbc3cd2e3331",
   "metadata": {},
   "source": [
    "### Bonferroni-Korrektur"
   ]
  },
  {
   "attachments": {},
   "cell_type": "markdown",
   "id": "1777a6b2-c34f-4331-b04d-66bd994ebd3a",
   "metadata": {},
   "source": [
    "Die Bonferroni-Korrektur kompensiert die erhöhte Wahrscheinlichkeit, dass eine Nullhypothese aufgrund von Mehrfachvergleichen fälschlicherweise abgelehnt wird (Fehler vom Typ I), indem das Signifikanzniveau $\\alpha$ in folgender Form angepasst wird"
   ]
  },
  {
   "attachments": {},
   "cell_type": "markdown",
   "id": "632f9f96-1ff8-4ded-9e49-7727c1b66c41",
   "metadata": {},
   "source": [
    "$$\\alpha = \\frac{\\alpha}{m}\\text{,}$$"
   ]
  },
  {
   "attachments": {},
   "cell_type": "markdown",
   "id": "6a698c86-8b72-4454-9f6e-f868ac7636f0",
   "metadata": {},
   "source": [
    "wobei $m$ der Anzahl der Vergleiche entspricht, die gegeben ist durch"
   ]
  },
  {
   "attachments": {},
   "cell_type": "markdown",
   "id": "6169c6fd-1493-4521-97e8-6de1ae96b753",
   "metadata": {},
   "source": [
    "$$m=\\frac{k(k-1)}{2}\\text{,}$$"
   ]
  },
  {
   "attachments": {},
   "cell_type": "markdown",
   "id": "d57c69a5-f6ce-45a7-bb64-59ac565829ad",
   "metadata": {},
   "source": [
    "wobei $k$ den Ebenen des Faktors entspricht, der die kategoriale Klassifikationsvariable ist."
   ]
  },
  {
   "cell_type": "code",
   "execution_count": 28,
   "id": "e9466fd6-f534-487a-a10c-b07c92f516dc",
   "metadata": {},
   "outputs": [],
   "source": [
    "def bonferroni(alpha, k):\n",
    "    \"\"\"Computes the boferroni correction\"\"\"\n",
    "    m = k * (k - 1) / 2\n",
    "    bonf = alpha / m\n",
    "    return bonf"
   ]
  },
  {
   "attachments": {},
   "cell_type": "markdown",
   "id": "cd7e6795-11fb-4515-bbeb-7265cd2c92fe",
   "metadata": {},
   "source": [
    "### Der paarweiser $t$-Test in Python: Bonferroni-Korrektur"
   ]
  },
  {
   "attachments": {},
   "cell_type": "markdown",
   "id": "010701b8-cbe8-49af-bb5d-ccf0ada19162",
   "metadata": {},
   "source": [
    "Wie im vorigen Abschnitt erwähnt, ist eine einfaktorielle Varianzanalyse die Verallgemeinerung des $2$-Stichproben $t$-Tests auf mehr als zwei Grundgesamtheiten. Die Python-Funktion zur Durchführung von Mehrfachvergleichen ist `ttest_ind()`. Die Funktion `ttest_ind()` vergleicht die jeweiligen Gehaltsverteilungen (`salary`) nach Studienfächer gruppiert (`major`) miteinander."
   ]
  },
  {
   "attachments": {},
   "cell_type": "markdown",
   "id": "1af46981-44ba-40cd-a91a-3442d58ec13b",
   "metadata": {},
   "source": [
    "Zunächst führen wir einen paarweisen $t$-Test ohne Anpassung durch, wodurch sich die Wahrscheinlichkeit erhöht, dass die Nullhypothese falsch zurückgewiesen wird."
   ]
  },
  {
   "cell_type": "code",
   "execution_count": 29,
   "id": "b70dc8ed-be28-4128-ba6c-fec41db50f2a",
   "metadata": {},
   "outputs": [
    {
     "data": {
      "text/plain": [
       "[('MaSt', 'PoS'),\n",
       " ('MaSt', 'Bio'),\n",
       " ('MaSt', 'EnS'),\n",
       " ('MaSt', 'EcFi'),\n",
       " ('MaSt', 'SoS'),\n",
       " ('PoS', 'Bio'),\n",
       " ('PoS', 'EnS'),\n",
       " ('PoS', 'EcFi'),\n",
       " ('PoS', 'SoS'),\n",
       " ('Bio', 'EnS'),\n",
       " ('Bio', 'EcFi'),\n",
       " ('Bio', 'SoS'),\n",
       " ('EnS', 'EcFi'),\n",
       " ('EnS', 'SoS'),\n",
       " ('EcFi', 'SoS')]"
      ]
     },
     "execution_count": 29,
     "metadata": {},
     "output_type": "execute_result"
    }
   ],
   "source": [
    "from itertools import combinations\n",
    "\n",
    "major = list(combinations(data.major.unique(), 2))\n",
    "major"
   ]
  },
  {
   "cell_type": "code",
   "execution_count": 30,
   "id": "532c5b58-8b87-4b29-bf81-6e74938a8219",
   "metadata": {},
   "outputs": [
    {
     "name": "stdout",
     "output_type": "stream",
     "text": [
      "MaSt vs. PoS\n",
      "p-value:   5.285766661005193e-11\n",
      "Reject H0 (p-value <= 0.05): True\n",
      "\n",
      "MaSt vs. Bio\n",
      "p-value:   0.23955822802713908\n",
      "Reject H0 (p-value <= 0.05): False\n",
      "\n",
      "MaSt vs. EnS\n",
      "p-value:   2.873918020813552e-10\n",
      "Reject H0 (p-value <= 0.05): True\n",
      "\n",
      "MaSt vs. EcFi\n",
      "p-value:   0.6139625494797094\n",
      "Reject H0 (p-value <= 0.05): False\n",
      "\n",
      "MaSt vs. SoS\n",
      "p-value:   1.0518797210598569e-10\n",
      "Reject H0 (p-value <= 0.05): True\n",
      "\n",
      "PoS vs. Bio\n",
      "p-value:   4.8406921036979525e-15\n",
      "Reject H0 (p-value <= 0.05): True\n",
      "\n",
      "PoS vs. EnS\n",
      "p-value:   0.12016488500152636\n",
      "Reject H0 (p-value <= 0.05): False\n",
      "\n",
      "PoS vs. EcFi\n",
      "p-value:   2.6490333956019106e-12\n",
      "Reject H0 (p-value <= 0.05): True\n",
      "\n",
      "PoS vs. SoS\n",
      "p-value:   0.230977569202981\n",
      "Reject H0 (p-value <= 0.05): False\n",
      "\n",
      "Bio vs. EnS\n",
      "p-value:   1.7902286073326123e-14\n",
      "Reject H0 (p-value <= 0.05): True\n",
      "\n",
      "Bio vs. EcFi\n",
      "p-value:   0.5127687451099829\n",
      "Reject H0 (p-value <= 0.05): False\n",
      "\n",
      "Bio vs. SoS\n",
      "p-value:   6.474696427603517e-14\n",
      "Reject H0 (p-value <= 0.05): True\n",
      "\n",
      "EnS vs. EcFi\n",
      "p-value:   8.151863146368181e-12\n",
      "Reject H0 (p-value <= 0.05): True\n",
      "\n",
      "EnS vs. SoS\n",
      "p-value:   0.0055758247214054745\n",
      "Reject H0 (p-value <= 0.05): True\n",
      "\n",
      "EcFi vs. SoS\n",
      "p-value:   7.145673135006304e-12\n",
      "Reject H0 (p-value <= 0.05): True\n",
      "\n"
     ]
    }
   ],
   "source": [
    "alpha = 0.05\n",
    "\n",
    "for major1, major2 in major:\n",
    "    _, p_value = ttest_ind(\n",
    "        data.loc[data[\"major\"] == major1, \"salary\"],\n",
    "        data.loc[data[\"major\"] == major2, \"salary\"],\n",
    "    )\n",
    "    print(f\"{major1} vs. {major2}\")\n",
    "    print(f\"p-value:   {p_value}\")\n",
    "    print(f\"Reject H0 (p-value <= {alpha}): {p_value <= alpha}\\n\")"
   ]
  },
  {
   "attachments": {},
   "cell_type": "markdown",
   "id": "4f5431ad-2f8d-41bb-95cc-fe349d07cc7d",
   "metadata": {},
   "source": [
    "Der paarweise $t$-Test zeigt, dass bei einem Signifikanzniveau von $5 \\%$ die Mittelwerte für $5$ Kombinationen **nicht** statistisch signifikant unterschiedlich sind. Diese Kombinationen sind Bio-EcFi, Bio-MaSt, EcFi-MaSt, EnS-PoS, PoS-SoS mit $p$-Werten von $0,5128$, $0,2396$, $0,61396$ , $0,1202$ , $0,635057$ bzw. $0,230977$. Für die restlichen $10$ Kombinationen verwerfen wir $H_0$; d. h. für $10$ Kombinationen sind die Mittelwerte bei einem Signifikanzniveau von $5 \\%$ unterschiedlich!\n",
    "\n",
    "Zweitens führen wir einen **paarweisen $t$-Test mit der Bonferroni-Anpassung** durch."
   ]
  },
  {
   "cell_type": "code",
   "execution_count": 31,
   "id": "abd4801e-5f4c-45d8-96e8-96b2dd89d8e9",
   "metadata": {},
   "outputs": [
    {
     "data": {
      "text/plain": [
       "0.0033333333333333335"
      ]
     },
     "execution_count": 31,
     "metadata": {},
     "output_type": "execute_result"
    }
   ],
   "source": [
    "bonf = bonferroni(alpha=0.05, k=data.major.nunique())\n",
    "bonf"
   ]
  },
  {
   "cell_type": "code",
   "execution_count": 32,
   "id": "f98bbd3c-4d43-4c00-8920-3e066de8533d",
   "metadata": {},
   "outputs": [
    {
     "name": "stdout",
     "output_type": "stream",
     "text": [
      "MaSt vs. PoS\n",
      "p-value:   5.285766661005193e-11\n",
      "Reject H0 (p-value <= 0.00333): True\n",
      "\n",
      "MaSt vs. Bio\n",
      "p-value:   0.23955822802713908\n",
      "Reject H0 (p-value <= 0.00333): False\n",
      "\n",
      "MaSt vs. EnS\n",
      "p-value:   2.873918020813552e-10\n",
      "Reject H0 (p-value <= 0.00333): True\n",
      "\n",
      "MaSt vs. EcFi\n",
      "p-value:   0.6139625494797094\n",
      "Reject H0 (p-value <= 0.00333): False\n",
      "\n",
      "MaSt vs. SoS\n",
      "p-value:   1.0518797210598569e-10\n",
      "Reject H0 (p-value <= 0.00333): True\n",
      "\n",
      "PoS vs. Bio\n",
      "p-value:   4.8406921036979525e-15\n",
      "Reject H0 (p-value <= 0.00333): True\n",
      "\n",
      "PoS vs. EnS\n",
      "p-value:   0.12016488500152636\n",
      "Reject H0 (p-value <= 0.00333): False\n",
      "\n",
      "PoS vs. EcFi\n",
      "p-value:   2.6490333956019106e-12\n",
      "Reject H0 (p-value <= 0.00333): True\n",
      "\n",
      "PoS vs. SoS\n",
      "p-value:   0.230977569202981\n",
      "Reject H0 (p-value <= 0.00333): False\n",
      "\n",
      "Bio vs. EnS\n",
      "p-value:   1.7902286073326123e-14\n",
      "Reject H0 (p-value <= 0.00333): True\n",
      "\n",
      "Bio vs. EcFi\n",
      "p-value:   0.5127687451099829\n",
      "Reject H0 (p-value <= 0.00333): False\n",
      "\n",
      "Bio vs. SoS\n",
      "p-value:   6.474696427603517e-14\n",
      "Reject H0 (p-value <= 0.00333): True\n",
      "\n",
      "EnS vs. EcFi\n",
      "p-value:   8.151863146368181e-12\n",
      "Reject H0 (p-value <= 0.00333): True\n",
      "\n",
      "EnS vs. SoS\n",
      "p-value:   0.0055758247214054745\n",
      "Reject H0 (p-value <= 0.00333): False\n",
      "\n",
      "EcFi vs. SoS\n",
      "p-value:   7.145673135006304e-12\n",
      "Reject H0 (p-value <= 0.00333): True\n",
      "\n"
     ]
    }
   ],
   "source": [
    "for major1, major2 in major:\n",
    "    _, p_value = ttest_ind(\n",
    "        data.loc[data[\"major\"] == major1, \"salary\"],\n",
    "        data.loc[data[\"major\"] == major2, \"salary\"],\n",
    "    )\n",
    "    print(f\"{major1} vs. {major2}\")\n",
    "    print(f\"p-value:   {p_value}\")\n",
    "    print(f\"Reject H0 (p-value <= {np.round(bonf,5)}): {p_value <= bonf}\\n\")"
   ]
  },
  {
   "attachments": {},
   "cell_type": "markdown",
   "id": "3ea2a00d-fc0e-45c9-bc68-e966f8a73924",
   "metadata": {},
   "source": [
    "Der paarweise $t$-Test mit der Bonferroni-Anpassung zeigt, dass bei einem Signifikanzniveau von $5 \\%$ die Mittelwerte für $6$ Kombinationen nicht statistisch signifikant unterschiedlich sind. Bei diesen Kombinationen handelt es sich um Bio-EcFi, Bio-MaSt, EcFi-MaSt, EnS-PoS, PoS-SoS, EnS-SoS mit $p$-Werten von $0,5128$, $0,2396$, $0,61397$, $0,1202$, $0,230978$ bzw. $0,00558$. (beim Bonferroni-Verfahren wird $\\alpha$ durch die Anzahl der Tests geteilt bzw. der $p$-Wert mit dieser Anzahl multipliziert und auf $1$ gekürzt, wenn das Ergebnis über $1$ liegt und somit keine Wahrscheinlichkeit darstellt). Für die verbleibenden $9$ Kombinationen haben wir $H_0$ abgelehnt, d. h. für $9$ Kombinationen sind die Mittelwerte bei einem Signifikanzniveau von $\\approx 0,0067 \\%$ unterschiedlich!"
   ]
  },
  {
   "attachments": {},
   "cell_type": "markdown",
   "id": "411b92a8-cfd6-45f1-8cb0-dd287c839019",
   "metadata": {},
   "source": [
    "### Tukey-Mehrfach-Vergleichsmethode"
   ]
  },
  {
   "attachments": {},
   "cell_type": "markdown",
   "id": "23559814-3cd2-488c-a812-cdf574da18ec",
   "metadata": {},
   "source": [
    "Der <a href=\"https://de.wikipedia.org/wiki/Post-hoc-Test#Tukey-Test\">Tukey-Test</a>, auch bekannt als **Tukey's HSD-Test (honest significant difference)**, basiert auf der <a href=\"https://de.wikipedia.org/wiki/Studentisierung\">studentized range-Verteilung</a>, die manchmal auch als $q$-Verteilung bezeichnet wird. Die **$q$-Verteilung** ist eine rechtsschiefe Wahrscheinlichkeitsdichtekurve mit zwei Parametern, $\\kappa$ und $\\nu$, die ihre Form beschreiben. Diese Parameter sind gegeben durch"
   ]
  },
  {
   "attachments": {},
   "cell_type": "markdown",
   "id": "e792fed9-141f-47b3-a7d5-f986a2afde63",
   "metadata": {},
   "source": [
    "$$\\kappa = k$$"
   ]
  },
  {
   "attachments": {},
   "cell_type": "markdown",
   "id": "28d642fc-a5da-4e6f-b9d2-ac8fd002e6b9",
   "metadata": {},
   "source": [
    "und"
   ]
  },
  {
   "attachments": {},
   "cell_type": "markdown",
   "id": "8446e77b-1070-4b2e-8455-14715b06379d",
   "metadata": {},
   "source": [
    "$$\\nu = n-k\\text{,}$$"
   ]
  },
  {
   "attachments": {},
   "cell_type": "markdown",
   "id": "cc039e9f-cbed-41c5-b162-9e8a3722bd8f",
   "metadata": {},
   "source": [
    "wobei $n$ die Gesamtzahl der Beobachtungen ist und $k$ die Anzahl der Gruppen/Klassen.\n",
    "\n",
    "Der Tukey-Test vergleicht die Mittelwerte jeder Gruppe mit den Mittelwerten jeder anderen Gruppe. Er liefert das Konfidenzintervall für jedes"
   ]
  },
  {
   "attachments": {},
   "cell_type": "markdown",
   "id": "570b5c27-1f44-49dd-930d-12f405cf2c45",
   "metadata": {},
   "source": [
    "$$\\mu_i-\\mu_j\\text{.}$$"
   ]
  },
  {
   "attachments": {},
   "cell_type": "markdown",
   "id": "a48d3b79-73c5-4089-826f-de5a2a2e77ab",
   "metadata": {},
   "source": [
    "Wenn das Konfidenzintervall für einen paarweisen Vergleich $0$ einschließt, wird $H_0$ nicht verworfen, es wird nicht angenommen, dass sie signifikant unterschiedlich sind. Alle anderen Paare, für die das Konfidenzintervall nicht $0$ einschließt, sind signifikant unterschiedlich, $H_0$ wird also verworfen."
   ]
  },
  {
   "attachments": {},
   "cell_type": "markdown",
   "id": "c1e611f6-7493-4396-9233-e1c0343c673f",
   "metadata": {},
   "source": [
    "### Tukey's Test in Python"
   ]
  },
  {
   "attachments": {},
   "cell_type": "markdown",
   "id": "b2f8b5db-de1c-4ad0-8135-6c5150333066",
   "metadata": {},
   "source": [
    "In Python werden Tukey's HSD Tests durch die `pairwise_tukeyhsd()` Funktion berechnet. Die `pairwise_tukeyhsd()`-Funktion erwartet als Eingabe `endog`, die zu vergleichende Größe und `groups` die Aufteilung der Gruppen. Um die Breite der Konfidenzintervalle festzulegen, geben wir der Funktion das Konfidenzniveau mit dem Argument `alpha` an."
   ]
  },
  {
   "cell_type": "code",
   "execution_count": 33,
   "id": "50a8c5c2-9357-4a97-86d5-f51ba60c74b1",
   "metadata": {},
   "outputs": [
    {
     "data": {
      "text/html": [
       "<table class=\"simpletable\">\n",
       "<caption>Multiple Comparison of Means - Tukey HSD, FWER=0.05</caption>\n",
       "<tr>\n",
       "  <th>group1</th> <th>group2</th>  <th>meandiff</th>    <th>p-adj</th>    <th>lower</th>       <th>upper</th>    <th>reject</th>\n",
       "</tr>\n",
       "<tr>\n",
       "    <td>Bio</td>   <td>EcFi</td>  <td>-1012.3074</td>   <td>0.983</td> <td>-5228.5838</td>   <td>3203.969</td>    <td>False</td>\n",
       "</tr>\n",
       "<tr>\n",
       "    <td>Bio</td>    <td>EnS</td>  <td>-11777.6591</td>   <td>0.0</td>  <td>-15810.771</td>  <td>-7744.5472</td>   <td>True</td> \n",
       "</tr>\n",
       "<tr>\n",
       "    <td>Bio</td>   <td>MaSt</td>  <td>-1846.3676</td>  <td>0.8039</td> <td>-6036.7579</td>   <td>2344.0227</td>   <td>False</td>\n",
       "</tr>\n",
       "<tr>\n",
       "    <td>Bio</td>    <td>PoS</td>  <td>-13913.1332</td>   <td>0.0</td>  <td>-18078.5881</td> <td>-9747.6782</td>   <td>True</td> \n",
       "</tr>\n",
       "<tr>\n",
       "    <td>Bio</td>    <td>SoS</td>  <td>-16091.4847</td>   <td>0.0</td>  <td>-21100.6999</td> <td>-11082.2695</td>  <td>True</td> \n",
       "</tr>\n",
       "<tr>\n",
       "   <td>EcFi</td>    <td>EnS</td>  <td>-10765.3517</td>   <td>0.0</td>  <td>-15067.6405</td> <td>-6463.0629</td>   <td>True</td> \n",
       "</tr>\n",
       "<tr>\n",
       "   <td>EcFi</td>   <td>MaSt</td>   <td>-834.0602</td>  <td>0.9946</td> <td>-5284.1241</td>   <td>3616.0036</td>   <td>False</td>\n",
       "</tr>\n",
       "<tr>\n",
       "   <td>EcFi</td>    <td>PoS</td>  <td>-12900.8257</td>   <td>0.0</td>  <td>-17327.4172</td> <td>-8474.2343</td>   <td>True</td> \n",
       "</tr>\n",
       "<tr>\n",
       "   <td>EcFi</td>    <td>SoS</td>  <td>-15079.1773</td>   <td>0.0</td>  <td>-20307.5551</td> <td>-9850.7995</td>   <td>True</td> \n",
       "</tr>\n",
       "<tr>\n",
       "    <td>EnS</td>   <td>MaSt</td>   <td>9931.2915</td>    <td>0.0</td>   <td>5654.3682</td>  <td>14208.2148</td>   <td>True</td> \n",
       "</tr>\n",
       "<tr>\n",
       "    <td>EnS</td>    <td>PoS</td>   <td>-2135.474</td>  <td>0.7016</td> <td>-6387.9695</td>   <td>2117.0214</td>   <td>False</td>\n",
       "</tr>\n",
       "<tr>\n",
       "    <td>EnS</td>    <td>SoS</td>  <td>-4313.8256</td>  <td>0.1475</td>  <td>-9395.65</td>    <td>767.9988</td>    <td>False</td>\n",
       "</tr>\n",
       "<tr>\n",
       "   <td>MaSt</td>    <td>PoS</td>  <td>-12066.7655</td>   <td>0.0</td>  <td>-16468.7078</td> <td>-7664.8232</td>   <td>True</td> \n",
       "</tr>\n",
       "<tr>\n",
       "   <td>MaSt</td>    <td>SoS</td>  <td>-14245.1171</td>   <td>0.0</td>  <td>-19452.6422</td> <td>-9037.5919</td>   <td>True</td> \n",
       "</tr>\n",
       "<tr>\n",
       "    <td>PoS</td>    <td>SoS</td>  <td>-2178.3516</td>   <td>0.834</td> <td>-7365.8329</td>   <td>3009.1297</td>   <td>False</td>\n",
       "</tr>\n",
       "</table>"
      ],
      "text/plain": [
       "<class 'statsmodels.iolib.table.SimpleTable'>"
      ]
     },
     "execution_count": 33,
     "metadata": {},
     "output_type": "execute_result"
    }
   ],
   "source": [
    "# Tukey's test ausführen\n",
    "tukey = pairwise_tukeyhsd(endog=data[\"salary\"], groups=data[\"major\"], alpha=0.05)\n",
    "tukey.summary()"
   ]
  },
  {
   "attachments": {},
   "cell_type": "markdown",
   "id": "bbf0cd38-481e-443b-bbb9-cb34cf5beedb",
   "metadata": {},
   "source": [
    "Bitte beachten Sie, dass wir im Fall ohne $p$-Wert-Anpassung die Nullhypothese für $10$ Kombinationen abgelehnt haben. Beim paarweisen $t$-Test mit der Tukey-Anpassung wurde die Nullhypothese für $9$ Kombinationen verworfen."
   ]
  },
  {
   "attachments": {},
   "cell_type": "markdown",
   "id": "008436ff-eaff-4955-8006-d960ec8efb65",
   "metadata": {},
   "source": [
    "Die Tabelle zeigt die Differenz zwischen den einzelnen Paaren, die $95 \\%$-Konfidenzintervalle und den $p$-Wert der paarweisen Vergleiche. Schauen Sie sich die Tabelle genau an, und Sie werden sehen, dass für alle $6$ Vergleiche, bei denen das Konfidenzintervall $0$ einschließt, der $p$-Wert höher ist als das Signifikanzniveau $\\alpha$. Wenn $p \\gt \\alpha$ ist, verwerfen wir $H_0$ nicht, d. h. es gibt keinen statistisch signifikanten Unterschied zwischen den Mittelwerten dieser beiden Gruppen. Für alle Paare, bei denen $p \\le \\alpha$ ist, verwerfen wir dagegen $H_0$ und stellen fest, dass ein statistisch signifikanter Unterschied zwischen den Mittelwerten dieser Paare besteht. Die `tukey.plot_simultaneous()`-Funktion bietet eine nette Plot-Funktion, die die Konfidenzintervalle für jedes Paar visualisiert."
   ]
  },
  {
   "cell_type": "code",
   "execution_count": 34,
   "id": "531880e9-25b2-42a5-9d11-949ccdd06b1e",
   "metadata": {},
   "outputs": [
    {
     "data": {
      "image/png": "[encoded data removed]",
      "text/plain": [
       "<Figure size 720x432 with 1 Axes>"
      ]
     },
     "metadata": {
      "needs_background": "light"
     },
     "output_type": "display_data"
    }
   ],
   "source": [
    "_ = tukey.plot_simultaneous()"
   ]
  }
 ],
 "metadata": {
  "kernelspec": {
   "display_name": "Python 3 (ipykernel)",
   "language": "python",
   "name": "python3"
  },
  "language_info": {
   "codemirror_mode": {
    "name": "ipython",
    "version": 3
   },
   "file_extension": ".py",
   "mimetype": "text/x-python",
   "name": "python",
   "nbconvert_exporter": "python",
   "pygments_lexer": "ipython3",
   "version": "3.10.9"
  },
  "vscode": {
   "interpreter": {
    "hash": "31f2aee4e71d21fbe5cf8b01ff0e069b9275f58929596ceb00d14d90e3e16cd6"
   }
  }
 },
 "nbformat": 4,
 "nbformat_minor": 5
}
