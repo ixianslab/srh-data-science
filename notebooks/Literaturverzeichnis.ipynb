{
 "cells": [
  {
   "cell_type": "markdown",
   "id": "207a279b-3f7c-4d32-847e-e3cf5023000d",
   "metadata": {},
   "source": [
    "# Literaturverzeichnis\n",
    "\n",
    "```{bibliography} Literaturverzeichnis.bib\n",
    ":style: plain\n",
    "```"
   ]
  },
  {
   "cell_type": "code",
   "execution_count": null,
   "id": "99440935-6ee0-40d4-b378-8d334d3fd4da",
   "metadata": {},
   "outputs": [],
   "source": []
  }
 ],
 "metadata": {
  "kernelspec": {
   "display_name": "Python 3 (ipykernel)",
   "language": "python",
   "name": "python3"
  },
  "language_info": {
   "codemirror_mode": {
    "name": "ipython",
    "version": 3
   },
   "file_extension": ".py",
   "mimetype": "text/x-python",
   "name": "python",
   "nbconvert_exporter": "python",
   "pygments_lexer": "ipython3",
   "version": "3.10.9"
  }
 },
 "nbformat": 4,
 "nbformat_minor": 5
}
