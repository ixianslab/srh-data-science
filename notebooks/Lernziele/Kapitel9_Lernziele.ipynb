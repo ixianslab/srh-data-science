{
 "cells": [
  {
   "cell_type": "markdown",
   "id": "57353b05-2125-4232-a0e2-7c272c01857a",
   "metadata": {},
   "source": [
    "# Lernziele"
   ]
  },
  {
   "cell_type": "markdown",
   "id": "a37cbd8c-14e0-4891-a4de-23c0674210f6",
   "metadata": {},
   "source": [
    "## Logistische Regression"
   ]
  },
  {
   "cell_type": "markdown",
   "id": "a540a6f5-8b95-436b-9e42-6422094ae8dd",
   "metadata": {},
   "source": [
    "- Den Studierenden wird das Modell der logistischen Regression vorgestellt\n",
    "- Die Logit Funktion und ihr Zusammenhang mit Odds und der Sigmoidfunktion wird besprochen\n",
    "- Die Studierenden lernen anhand eines Beispiels die praktische Anwendung des logistischen Regressionsmodells\n",
    "- Zusammengefasst werden folgende Begriffe und Methoden besprochen : Logistische Regression , Logit-Funktion , Odds - Log Odds , Sigmoidfunktion"
   ]
  },
  {
   "cell_type": "code",
   "execution_count": null,
   "id": "67a19cc0-28b2-4635-9b89-ad7322e041cc",
   "metadata": {},
   "outputs": [],
   "source": []
  }
 ],
 "metadata": {
  "kernelspec": {
   "display_name": "Python 3 (ipykernel)",
   "language": "python",
   "name": "python3"
  },
  "language_info": {
   "codemirror_mode": {
    "name": "ipython",
    "version": 3
   },
   "file_extension": ".py",
   "mimetype": "text/x-python",
   "name": "python",
   "nbconvert_exporter": "python",
   "pygments_lexer": "ipython3",
   "version": "3.10.9"
  },
  "vscode": {
   "interpreter": {
    "hash": "31f2aee4e71d21fbe5cf8b01ff0e069b9275f58929596ceb00d14d90e3e16cd6"
   }
  }
 },
 "nbformat": 4,
 "nbformat_minor": 5
}
