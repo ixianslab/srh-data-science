{
 "cells": [
  {
   "cell_type": "code",
   "execution_count": 3,
   "id": "a5fcd76f-ff0f-4bf9-87f7-79465d536afb",
   "metadata": {
    "tags": [
     "remove-cell"
    ]
   },
   "outputs": [
    {
     "name": "stdout",
     "output_type": "stream",
     "text": [
      "The autoreload extension is already loaded. To reload it, use:\n",
      "  %reload_ext autoreload\n",
      "The lab_black extension is already loaded. To reload it, use:\n",
      "  %reload_ext lab_black\n",
      "\n",
      "---------------------------------\n",
      "Working on the host: imarevic-pc\n",
      "\n",
      "---------------------------------\n",
      "Python version: 3.10.9 | packaged by conda-forge | (main, Feb  2 2023, 20:20:04) [GCC 11.3.0]\n",
      "\n",
      "---------------------------------\n",
      "Python interpreter: /home/imarevic/anaconda3/envs/srh/bin/python3.10\n"
     ]
    }
   ],
   "source": [
    "%matplotlib inline\n",
    "# Load the \"autoreload\" extension\n",
    "%load_ext autoreload\n",
    "# always reload modules\n",
    "%autoreload 2\n",
    "# black formatter for jupyter notebooks\n",
    "# %load_ext nb_black\n",
    "# black formatter for jupyter lab\n",
    "%load_ext lab_black\n",
    "\n",
    "%run ../../src/notebook_env.py"
   ]
  },
  {
   "cell_type": "markdown",
   "id": "1d114905-6937-4108-9151-e078cee3c93b",
   "metadata": {},
   "source": [
    "# Die Binomialverteilung"
   ]
  },
  {
   "cell_type": "code",
   "execution_count": 4,
   "id": "b04ebe25-d382-46d9-9157-00033056fc01",
   "metadata": {},
   "outputs": [],
   "source": [
    "import math\n",
    "import random\n",
    "import matplotlib.pyplot as plt\n",
    "import numpy as np\n",
    "from scipy.stats import binom"
   ]
  },
  {
   "cell_type": "markdown",
   "id": "d5626426-7eae-4d7a-bdd3-538306db2ca1",
   "metadata": {},
   "source": [
    "Viele Anwendungen der Wahrscheinlichkeitsrechnung und Statistik betreffen die Wiederholung eines Experiments. Wir nennen jede Wiederholung einen **Versuch**, und wir sind besonders an Fällen interessiert, in denen das Experiment (jeder Versuch) **nur zwei mögliche Ergebnisse** hat: Erfolg oder Misserfolg, wahr oder falsch, $0$ oder $1$."
   ]
  },
  {
   "cell_type": "markdown",
   "id": "0af1d625-fabe-4c4c-b261-4616c869735a",
   "metadata": {},
   "source": [
    "Um wiederholte Versuche eines Experiments mit zwei möglichen Ergebnissen zu analysieren, benötigen wir Kenntnisse über **Fakultäten**, **Binomialkoeffizienten** und **Bernoulli-Versuche**."
   ]
  },
  {
   "cell_type": "markdown",
   "id": "0cfe9824-a265-459f-b89b-7717223bf8d5",
   "metadata": {},
   "source": [
    "Auf der Grundlage dieser Voraussetzungen lernen wir die **Binomialverteilung** kennen, die eine **Wahrscheinlichkeitsverteilung** für die Anzahl der Erfolge in einer Folge von **Bernoulli-Versuchen** ist ({cite:p}`fahrmeirstatistik` s.213,s.289)."
   ]
  },
  {
   "cell_type": "markdown",
   "id": "bc08e7fe-09e6-4f8b-92d6-6058acaab579",
   "metadata": {
    "tags": []
   },
   "source": [
    "## Voraussetzungen"
   ]
  },
  {
   "cell_type": "markdown",
   "id": "40a476d0-8ac8-446b-a6f6-8ccbb8dc1ccc",
   "metadata": {},
   "source": [
    "### Fakultät"
   ]
  },
  {
   "cell_type": "markdown",
   "id": "e2f5f17d-df12-4947-9d22-6cefe96f6045",
   "metadata": {},
   "source": [
    "Das Produkt der ersten $k$ positiven ganzen Zahlen wird als $k$-Faktultät bezeichnet und mit $k!$ abgekürzt ({cite:p}`fahrmeirstatistik` s.186)."
   ]
  },
  {
   "cell_type": "markdown",
   "id": "b78dd99d-86fb-42a9-9a4c-2bb574bbc58b",
   "metadata": {},
   "source": [
    "$$k! = k \\times (k - 1) \\times ...\\times 2 \\times  1$$"
   ]
  },
  {
   "cell_type": "markdown",
   "id": "9700c4fe-791a-43e0-a38e-71f98ed6b832",
   "metadata": {},
   "source": [
    "Wir definieren auch $0!=1$."
   ]
  },
  {
   "cell_type": "markdown",
   "id": "9117b706-b350-439c-b319-da23d34ce6a3",
   "metadata": {},
   "source": [
    "Betrachten wir ein einfaches Beispiel und berechnen die Fakultät von $6$. Wenn wir die obige Gleichung einsetzen, erhalten wir folgendes Ergebnis"
   ]
  },
  {
   "cell_type": "markdown",
   "id": "ac790ae0-ef15-4ef7-9254-e41ea3a88395",
   "metadata": {},
   "source": [
    "$$6! = 6 \\times  5 \\times  4 \\times  3 \\times  2 \\times 1$$"
   ]
  },
  {
   "cell_type": "markdown",
   "id": "1919b31e-2aa2-4eef-a89c-f44b95712565",
   "metadata": {},
   "source": [
    "In Python können wir das entweder direkt berechnen..."
   ]
  },
  {
   "cell_type": "code",
   "execution_count": 5,
   "id": "e347d1fc-fa81-48ff-b399-aadd6d707f11",
   "metadata": {},
   "outputs": [
    {
     "data": {
      "text/plain": [
       "720"
      ]
     },
     "execution_count": 5,
     "metadata": {},
     "output_type": "execute_result"
    }
   ],
   "source": [
    "6 * 5 * 4 * 3 * 2 * 1"
   ]
  },
  {
   "cell_type": "markdown",
   "id": "041f31ae-715c-4c6f-b1be-a61caa52e607",
   "metadata": {},
   "source": [
    "...oder wir verwenden die eingebaute Funktion `factorial()`"
   ]
  },
  {
   "cell_type": "code",
   "execution_count": 6,
   "id": "a9edee82-e21e-498f-a862-418d577a24f5",
   "metadata": {},
   "outputs": [
    {
     "data": {
      "text/plain": [
       "720"
      ]
     },
     "execution_count": 6,
     "metadata": {},
     "output_type": "execute_result"
    }
   ],
   "source": [
    "math.factorial(6)"
   ]
  },
  {
   "cell_type": "markdown",
   "id": "ce37b4cc-8051-460c-ba0a-0d4fa9790664",
   "metadata": {},
   "source": [
    "### Binomialkoeffizienten"
   ]
  },
  {
   "cell_type": "markdown",
   "id": "c46e4308-38a8-4983-86bd-577313b8b7ee",
   "metadata": {},
   "source": [
    "Wenn $n$ eine positive ganze Zahl und $k$ eine nicht negative ganze Zahl kleiner oder gleich $n$ ist, dann ist der <a href=\"https://de.wikipedia.org/wiki/Binomialkoeffizient\">Binomialkoeffizient</a> ${n \\choose k}$ definiert als:"
   ]
  },
  {
   "cell_type": "markdown",
   "id": "2adae9e7-9f81-43b2-8523-ba6a912506ce",
   "metadata": {},
   "source": [
    "$${n \\choose k}= \\frac{n!}{k!(n - k)!}$$"
   ]
  },
  {
   "cell_type": "markdown",
   "id": "66527966-cbcb-487e-bdef-6afda5f5e245",
   "metadata": {},
   "source": [
    "Die Binomialkoeffizienten ${n \\choose k}$ werden oft als \"$n$ über $k$\" gelesen, weil es ${n \\choose k}$ Möglichkeiten gibt, $k$ Elemente ohne Rücksicht auf ihre Reihenfolge aus einer Menge von $n$ Elementen auszuwählen. Mit anderen Worten: Die Binomialkoeffizienten beziehen sich auf die Anzahl der Kombinationen von $n$ Dingen, die $k$-mal ohne Wiederholung ausgewählt werden. Bitte beachten Sie, dass die Reihenfolge der Auswahl keine Rolle spielt."
   ]
  },
  {
   "cell_type": "markdown",
   "id": "0eda6d79-54d5-4efc-8fea-a6f57f67143e",
   "metadata": {},
   "source": [
    "Versuchen wir es mit einem Beispiel, um ein Gefühl dafür zu bekommen."
   ]
  },
  {
   "cell_type": "markdown",
   "id": "1d718ccd-a7c4-45fb-ad65-72c9abbd5d0a",
   "metadata": {},
   "source": [
    "Nehmen wir ein einfaches Wort wie \"dog\", das drei verschiedene Buchstaben enthält: d, o, g. Wie viele Möglichkeiten gibt es, genau einen Buchstaben aus diesen $3$ Buchstaben zu ziehen? Mit Sicherheit gibt es $3$ Möglichkeiten, genau einen Buchstaben zu zeichnen: \"d\", \"o\", oder \"g\". Wir können also alle Kombinationen als ${3 \\choose 1}$ schreiben. Was ist mit zwei Buchstaben? Wie viele Kombinationen gibt es, um genau zwei Buchstaben aus $3$ Buchstaben zu ziehen? Die Kombinationen sind \"do\", \"dg\" und \"og\" (Bitte beachten Sie, dass z.B. \"og\" und \"go\" nur als eine Kombination gezählt werden, da die Reihenfolge im Moment keine Rolle spielt). Dementsprechend ist die Antwort $3$, die als ${3 \\choose 2}$ geschrieben werden kann. Eine letzte Frage: Wie viele Kombinationen gibt es, um aus $3$ Buchstaben genau drei Buchstaben zu ziehen? Fragen wir Python!"
   ]
  },
  {
   "cell_type": "markdown",
   "id": "15df0ab4-b002-42e2-bcb6-438533c1eec2",
   "metadata": {},
   "source": [
    "Zunächst wenden wir einen naiven Ansatz an, indem wir die obige Formel anwenden."
   ]
  },
  {
   "cell_type": "code",
   "execution_count": 7,
   "id": "3d2572e1-7078-4688-bc13-62f845e533a8",
   "metadata": {},
   "outputs": [
    {
     "data": {
      "text/plain": [
       "1.0"
      ]
     },
     "execution_count": 7,
     "metadata": {},
     "output_type": "execute_result"
    }
   ],
   "source": [
    "# n entspricht 3 Buchstaben von dog\n",
    "n = 3\n",
    "# k entspricht wir ziehen 3 Buchstaben\n",
    "k = 3\n",
    "math.factorial(n) / ((math.factorial(k) * math.factorial(n - k)))"
   ]
  },
  {
   "cell_type": "markdown",
   "id": "d998d613-113d-48be-8ae5-d2328878632a",
   "metadata": {},
   "source": [
    "Wir können aber auch die eingebaute Funktion `math.comb()` verwenden, um die Anzahl der Kombinationen zu berechnen. Wir machen das für $k=1,2,3$."
   ]
  },
  {
   "cell_type": "code",
   "execution_count": 8,
   "id": "b8b5c907-cc55-487a-9d3d-146750b43bc1",
   "metadata": {},
   "outputs": [
    {
     "data": {
      "text/plain": [
       "3"
      ]
     },
     "execution_count": 8,
     "metadata": {},
     "output_type": "execute_result"
    }
   ],
   "source": [
    "# 3 über 1\n",
    "math.comb(3, 1)"
   ]
  },
  {
   "cell_type": "code",
   "execution_count": 9,
   "id": "70678fad-be71-42c3-94f8-958b841f691b",
   "metadata": {},
   "outputs": [
    {
     "data": {
      "text/plain": [
       "3"
      ]
     },
     "execution_count": 9,
     "metadata": {},
     "output_type": "execute_result"
    }
   ],
   "source": [
    "# 3 über 2\n",
    "math.comb(3, 2)"
   ]
  },
  {
   "cell_type": "code",
   "execution_count": 10,
   "id": "23ba2b20-5946-47ea-8ecf-bdfcb3dd7d7c",
   "metadata": {},
   "outputs": [
    {
     "data": {
      "text/plain": [
       "1"
      ]
     },
     "execution_count": 10,
     "metadata": {},
     "output_type": "execute_result"
    }
   ],
   "source": [
    "# 3 über 3\n",
    "math.comb(3, 3)"
   ]
  },
  {
   "cell_type": "markdown",
   "id": "1f02117e-4116-4cf6-a1da-383dabde505c",
   "metadata": {},
   "source": [
    "Nun, da wir mit dem Konzept vertraut sind, wollen wir ein komplexeres Beispiel betrachten: Die SRH Hochschule bittet alle Absolventen, ihre $4$ Lieblingskurse aus dem Studienplan zu wählen. Wie viele verschiedene Antworten könnten die Studierenden geben, wenn der Studienplan $24$ Kurse zur Auswahl anbietet? Irgendwelche Vermutungen? Lassen Sie uns Python fragen!"
   ]
  },
  {
   "cell_type": "code",
   "execution_count": 11,
   "id": "655f69f1-0ee8-4896-804a-b693303b8791",
   "metadata": {},
   "outputs": [
    {
     "data": {
      "text/plain": [
       "10626"
      ]
     },
     "execution_count": 11,
     "metadata": {},
     "output_type": "execute_result"
    }
   ],
   "source": [
    "math.comb(24, 4)"
   ]
  },
  {
   "cell_type": "markdown",
   "id": "fd5b78c8-dc53-4546-b224-8cb6b8c37290",
   "metadata": {},
   "source": [
    "Die Studenten können $10.626$ verschiedene Antworten geben."
   ]
  },
  {
   "cell_type": "markdown",
   "id": "cc1621ad-a0ca-4e2d-989a-f5f9e89d7fc2",
   "metadata": {},
   "source": [
    "### Bernoulli-Versuche"
   ]
  },
  {
   "cell_type": "markdown",
   "id": "49707f18-d335-4cd2-a78a-b9486f1e0160",
   "metadata": {},
   "source": [
    "Wiederholte Versuche eines Experiments werden als **Bernoulli-Versuche** bezeichnet, wenn die folgenden drei Bedingungen erfüllt sind:"
   ]
  },
  {
   "cell_type": "markdown",
   "id": "f8fda22d-aa4f-4606-85c9-132f88438b43",
   "metadata": {
    "tags": []
   },
   "source": [
    "1. Das Experiment (jeder Versuch) hat zwei mögliche Ergebnisse, die mit $s$ für Erfolg und $f$ für Misserfolg bezeichnet werden.\n",
    "2. Die Versuche sind unabhängig voneinander.\n",
    "3. Die Wahrscheinlichkeit für einen Erfolg, die als Erfolgswahrscheinlichkeit bezeichnet wird und mit $p$ bezeichnet wird, bleibt von Versuch zu Versuch gleich."
   ]
  },
  {
   "cell_type": "markdown",
   "id": "de7fd764-deb6-434b-a71f-6afaea9d91b4",
   "metadata": {},
   "source": [
    "## Die Binomialverteilung"
   ]
  },
  {
   "cell_type": "markdown",
   "id": "124ffca1-15b5-459d-bb2d-04bbf7d9c691",
   "metadata": {},
   "source": [
    "Die Binomialverteilung ist die **Wahrscheinlichkeitsverteilung** für die Anzahl der Erfolge in einer Folge von **Bernoulli-Versuchen** ({cite:p}`Papula2011` s.350)."
   ]
  },
  {
   "cell_type": "markdown",
   "id": "d30eff3e-3f3e-40d9-ab8a-fe56603c8889",
   "metadata": {},
   "source": [
    "### Die binomische Wahrscheinlichkeitsformel"
   ]
  },
  {
   "cell_type": "markdown",
   "id": "c1e79e3b-4a33-45ab-acd1-5ea1f86b6d2c",
   "metadata": {},
   "source": [
    "Bei $n$ Bernoulli-Versuchen ist die Anzahl der Ergebnisse, die genau $x$ Erfolge enthalten, gleich dem Binomialkoeffizienten ${n \\choose x}$ ({cite:p}`fahrmeirstatistik` s.188)."
   ]
  },
  {
   "cell_type": "markdown",
   "id": "9a2bb1a9-9157-4fa9-a7b4-656bc52be7e2",
   "metadata": {},
   "source": [
    "$X$ sei die Gesamtzahl der Erfolge in $n$ Bernoulli-Versuchen mit der Erfolgswahrscheinlichkeit $p$. Dann ist die Wahrscheinlichkeitsverteilung der Zufallsvariablen $X$ gegeben durch:"
   ]
  },
  {
   "cell_type": "markdown",
   "id": "d78958f5-2032-41f4-87dd-ba6744d056fc",
   "metadata": {},
   "source": [
    "$$P(X = x) = {n \\choose x}p^x(1 - p)^{n-x}, \\qquad x = 0, 1, 2, \\dots , n$$"
   ]
  },
  {
   "cell_type": "markdown",
   "id": "1cd9e2bf-5b0a-4cb4-8858-7b7664c1dd11",
   "metadata": {},
   "source": [
    "Die Zufallsvariable $X$ wird als **Binomialzufallsvariable** bezeichnet und folgt der Binomialverteilung mit den Parametern $n$ und $p$ ({cite:p}`Papula2011` s.356)."
   ]
  },
  {
   "cell_type": "markdown",
   "id": "e73ad9ab-60e1-4c42-9616-67564f5635da",
   "metadata": {},
   "source": [
    "Betrachten wir ein Beispiel aus der realen Welt."
   ]
  },
  {
   "cell_type": "markdown",
   "id": "efeb2161-cea2-46d8-8e19-ad1d6435b587",
   "metadata": {},
   "source": [
    "Langzeitstatistiken besagen, dass die Chance, die Abschlussprüfung in Statistik zu bestehen, bei $0,3$ liegt. Ja, etwa $70 \\%$ der Studenten fallen in der Statistikprüfung durch! Übrigens, wenn Sie dieses E-Learning-Modul absolvieren, werden Ihre Chancen, die Abschlussprüfung zu bestehen, definitiv steigen :-)"
   ]
  },
  {
   "cell_type": "markdown",
   "id": "fb79bdf8-3eb4-49f4-85df-4066db2c6b01",
   "metadata": {},
   "source": [
    "Betrachten wir eine Klasse mit $25$ Studenten. Wie hoch ist die Wahrscheinlichkeit, dass genau $3$ der Studenten dieser Klasse die Abschlussprüfung in Statistik bestehen werden? Oder anders ausgedrückt: $P(X=3)$. Auch hier beginnen wir mit der Implementierung eines naiven Ansatzes in Python."
   ]
  },
  {
   "cell_type": "code",
   "execution_count": 12,
   "id": "4717f49a-c5d7-4ef9-8c4b-9c6c1f23e215",
   "metadata": {},
   "outputs": [
    {
     "data": {
      "text/plain": [
       "0.02427998871170032"
      ]
     },
     "execution_count": 12,
     "metadata": {},
     "output_type": "execute_result"
    }
   ],
   "source": [
    "# Anzahl der Studenten\n",
    "n = 25\n",
    "# Erfolgswahrscheinlichkeit\n",
    "p = 0.3\n",
    "# Anzahl der Studenten die die Prüfung bestehen\n",
    "k = 3\n",
    "\n",
    "math.comb(n, k) * p ** (k) * (1 - p) ** (n - k)"
   ]
  },
  {
   "cell_type": "markdown",
   "id": "a3cb503f-6d8e-4a0a-97e4-fc309dc7c3c4",
   "metadata": {},
   "source": [
    "Wow, die Wahrscheinlichkeit, dass genau $3$ von $25$ Studierenden $(P(X=3))$ die Abschlussprüfung in Statistik bestehen, ist ziemlich gering. Wie sieht es mit der Wahrscheinlichkeit aus, dass genau $15$ von $25$ Studierenden $(P(X=15))$ die Abschlussprüfung in Statistik bestehen werden? Wir wenden uns an Python."
   ]
  },
  {
   "cell_type": "code",
   "execution_count": 13,
   "id": "1a1225d8-fadb-41be-9189-6401ba0db579",
   "metadata": {},
   "outputs": [
    {
     "data": {
      "text/plain": [
       "0.001324897424235193"
      ]
     },
     "execution_count": 13,
     "metadata": {},
     "output_type": "execute_result"
    }
   ],
   "source": [
    "# Anzahl der Studenten\n",
    "n = 25\n",
    "# Erfolgswahrscheinlichkeit\n",
    "p = 0.3\n",
    "# Anzahl der Studenten die die Prüfung bestehen\n",
    "k = 15\n",
    "\n",
    "math.comb(n, k) * p ** (k) * (1 - p) ** (n - k)"
   ]
  },
  {
   "cell_type": "markdown",
   "id": "d5b31671-76b5-4681-a9de-b1047e7a061b",
   "metadata": {},
   "source": [
    "Die Wahrscheinlichkeit von $P(X=15)$ beträgt etwa $0,1 \\%$. Wir könnten mit unseren Experimenten fortfahren, um alle Wahrscheinlichkeiten für **genau ein Ergebnis** für $k=0,1,2, \\dots ,n$ herauszufinden. Bitte beachten Sie allerdings, dass es für unser spezielles Beispiel nicht sehr informativ ist, die Wahrscheinlichkeit für das Bestehen der Prüfung für genau eine bestimmte Anzahl $(k)$ von Studenten zu kennen. Für uns ist es von größerem Informationsinteresse, wenn wir die Frage beantworten könnten, wie hoch die Wahrscheinlichkeit ist, dass $k$ oder weniger Studierende $(P(X \\le k))$ die Prüfung bestehen, oder, was ebenso interessant ist, dass $k$ oder mehr Studierende $(P(X \\ge k))$ die Prüfung bestehen."
   ]
  },
  {
   "cell_type": "markdown",
   "id": "c615c5f9-214c-461e-8c58-e3bce5008d1d",
   "metadata": {},
   "source": [
    "Als Übung wenden wir uns an Python und bestimmen die Wahrscheinlichkeit, dass $9$ oder weniger Studierende die Abschlussprüfung in Statistik bestehen $(P(X \\le 9))$. Wir interessieren uns also für die Wahrscheinlichkeit, dass $0$ von $25 \\ $,$ \\ 1$ von $25 \\ $,$ \\ 2$ von $25 \\ $,$ \\ ...$ oder $9$ von $25$ Studierenden die Prüfung bestehen. Um diese Wahrscheinlichkeit zu berechnen, können wir unseren naiven Ansatz erweitern und Folgendes berechnen"
   ]
  },
  {
   "cell_type": "markdown",
   "id": "4664f9cc-fbe9-45e9-a01f-6d5741904bcd",
   "metadata": {},
   "source": [
    "$P(X = 0)+P(X = 1)+P(X = 2)+ \\dots+P(X = 9)$"
   ]
  },
  {
   "cell_type": "code",
   "execution_count": 14,
   "id": "4fd2880b-bdb8-4103-ad9b-8faf75ff53bb",
   "metadata": {},
   "outputs": [
    {
     "data": {
      "text/plain": [
       "0.8105639764950532"
      ]
     },
     "execution_count": 14,
     "metadata": {},
     "output_type": "execute_result"
    }
   ],
   "source": [
    "# Anzahl der Studenten\n",
    "n = 25\n",
    "# Erfolgswahrscheinlichkeit\n",
    "p = 0.3\n",
    "# Anzahl der maximalen Erfolge\n",
    "k = 9\n",
    "\n",
    "prob = 0\n",
    "prob_total = 0\n",
    "\n",
    "# Erzeuge for-loop\n",
    "for i in range(k + 1):\n",
    "    prob = math.comb(n, i) * p ** (i) * (1 - p) ** (n - i)\n",
    "    prob_total += prob\n",
    "prob_total"
   ]
  },
  {
   "cell_type": "markdown",
   "id": "53403a9c-33cd-470c-81d9-e7acea6d8ebb",
   "metadata": {},
   "source": [
    "Die Wahrscheinlichkeit, dass $9$ oder weniger Studierende die Statistikprüfung bestehen $(P(X≤9))$, beträgt $81,1 \\%$. Das wiederum bedeutet, dass die Wahrscheinlichkeit, dass $10$ oder mehr Studierende die Prüfung bestehen, $P(X>9)=1-P(X≤9)$ oder nur $18,9 \\%$ beträgt."
   ]
  },
  {
   "cell_type": "markdown",
   "id": "754f5dd6-34ea-484b-a996-714a066985ba",
   "metadata": {},
   "source": [
    "Neben der ehrlich gesagt recht unangenehmen Einsicht in die Statistik des Bestehens der Abschlussprüfung ist es klar, dass die naive Implementierung von oben ziemlich mühsam ist. Deshalb führen wir die eingebauten Funktionen `binom.pmf()` und `binom.cdf()` ein."
   ]
  },
  {
   "cell_type": "markdown",
   "id": "18000f34-bd50-49c2-9bb5-06b5daabfe4b",
   "metadata": {},
   "source": [
    "Die Verwendung von `binom.pmf()` ist wie folgt: `binom.pmf(k, n, p, loc)`. Wir lassen vorerst das Argument `loc` außer Acht. Somit vereinfacht sich die Funktion `binom.pmf()` zu `binom.pmf(k, n, p)`, wobei $k$ den insgesamten Erfolgen, $n$ der Gesamtanzahl und $p$ der Wahrscheinlichkeit für das Bestehen der Prüfung entspricht. Um zu überprüfen, ob die Funktion `binom.pmf()` wie erwartet funktioniert, erinnern wir uns an unsere Testbeispiele von oben, nämlich $P(X=3)$ und $P(X=15)$."
   ]
  },
  {
   "cell_type": "code",
   "execution_count": 15,
   "id": "7bff5a7f-4b13-4bd6-bf10-7cb92c6fe2f5",
   "metadata": {},
   "outputs": [
    {
     "data": {
      "text/plain": [
       "0.024279988711700378"
      ]
     },
     "execution_count": 15,
     "metadata": {},
     "output_type": "execute_result"
    }
   ],
   "source": [
    "binom.pmf(3, 25, 0.3)"
   ]
  },
  {
   "cell_type": "code",
   "execution_count": 16,
   "id": "460cb502-f75f-4d81-a45c-7da0081f2151",
   "metadata": {},
   "outputs": [
    {
     "data": {
      "text/plain": [
       "0.0013248974242351943"
      ]
     },
     "execution_count": 16,
     "metadata": {},
     "output_type": "execute_result"
    }
   ],
   "source": [
    "binom.pmf(15, 25, 0.3)"
   ]
  },
  {
   "cell_type": "markdown",
   "id": "615fe247-3d3d-4c18-b7ee-a3367b85d701",
   "metadata": {},
   "source": [
    "Vergleichen Sie diese Ergebnisse mit den Ergebnissen unserer naiven Implementierung (scrollen Sie nach oben). Die Zahlen sollten übereinstimmen."
   ]
  },
  {
   "cell_type": "markdown",
   "id": "605a8523-cd37-4542-92a7-e2d8d1de7cc9",
   "metadata": {},
   "source": [
    "Die Funktion `binom.pmf()`  ist sehr praktisch, wenn wir Wahrscheinlichkeiten akkumulieren wollen, wie z. B. $P(X≤x)$ oder $P(X>x)$, denn wir können eine for - Schleife für das Argument $x$ angeben und anschließend summieren. Betrachten wir das Beispiel von oben $(P(X≤9))$."
   ]
  },
  {
   "cell_type": "code",
   "execution_count": 17,
   "id": "89a4c62a-191c-4980-a629-ea5b141cf0cc",
   "metadata": {},
   "outputs": [
    {
     "data": {
      "text/plain": [
       "0.8105639764950541"
      ]
     },
     "execution_count": 17,
     "metadata": {},
     "output_type": "execute_result"
    }
   ],
   "source": [
    "P_le9 = []\n",
    "for i in range(10):\n",
    "    P_le9.append(binom.pmf(i, 25, 0.3))\n",
    "P_le = sum(P_le9)\n",
    "P_le"
   ]
  },
  {
   "cell_type": "markdown",
   "id": "b61e236a-ccf7-4255-91f3-d3d23f5c947f",
   "metadata": {},
   "source": [
    "Eine weitere eingebaute Funktion, die für die Beantwortung von $P(X≤9)$ geeignet ist, ist die Funktion `binom.pdf()`, die die Verteilungsfunktion zurückgibt. Die Funktion `binom.cdf()` berechnet die kumulative Wahrscheinlichkeitsverteilung und ist insofern praktisch, da wir auf den Aufruf der Summenfunktion verzichten können. Die Verwendung von `binom.cdf()` ist wie folgt: "
   ]
  },
  {
   "cell_type": "markdown",
   "id": "6fae88ab-f9fd-4152-ae1a-718dff708873",
   "metadata": {},
   "source": [
    "`binom.cdf(k, n, p, loc)`. Auch hier lassen wir das Argument `loc` außer Acht und belassen es bei `binom.cdf(k, n, p)`. Zusätzlich zu den Argumenten der Funktion `binom.cdf()` gilt zu beachten, dass `binom.cdf()`  die Wahrscheinlichkeiten $P(X≤x)$ wiedergibt und `binom.sf(k, n, p)` $P(X>x)$ die Gegenwahrscheinlichkeit `1-binom.cdf()`."
   ]
  },
  {
   "cell_type": "markdown",
   "id": "3b8d018a-aea9-4439-b67c-298f2ec32666",
   "metadata": {},
   "source": [
    "Um dies zu verdeutlichen, lassen Sie uns $P(X≤9)$ neu berechnen. Das Ergebnis der obigen Berechnung war $0,81056$. Nun wenden wir die Funktion `binom.cdf()` an, um das gleiche Ergebnis zu erhalten."
   ]
  },
  {
   "cell_type": "code",
   "execution_count": 18,
   "id": "7816c9b6-29a1-411b-833d-7b2b728c3b1b",
   "metadata": {},
   "outputs": [
    {
     "data": {
      "text/plain": [
       "0.8105639764950546"
      ]
     },
     "execution_count": 18,
     "metadata": {},
     "output_type": "execute_result"
    }
   ],
   "source": [
    "binom.cdf(9, 25, 0.3)"
   ]
  },
  {
   "cell_type": "markdown",
   "id": "4ced2764-6515-48bf-a4cb-39b3f0e7c893",
   "metadata": {},
   "source": [
    "Um $P(X>9)$ zu erhalten, was dasselbe ist wie $1-P(X≤9)$, setzen wir das Argument"
   ]
  },
  {
   "cell_type": "code",
   "execution_count": 19,
   "id": "fde1576e-2c7b-4ae2-955a-0263afdcd27e",
   "metadata": {},
   "outputs": [
    {
     "data": {
      "text/plain": [
       "0.18943602350494537"
      ]
     },
     "execution_count": 19,
     "metadata": {},
     "output_type": "execute_result"
    }
   ],
   "source": [
    "binom.sf(9, 25, 0.3)"
   ]
  },
  {
   "cell_type": "code",
   "execution_count": 20,
   "id": "807d553d-2bad-4178-a714-85dfd6457b10",
   "metadata": {},
   "outputs": [
    {
     "data": {
      "text/plain": [
       "0.18943602350494537"
      ]
     },
     "execution_count": 20,
     "metadata": {},
     "output_type": "execute_result"
    }
   ],
   "source": [
    "1 - binom.cdf(9, 25, 0.3)"
   ]
  },
  {
   "cell_type": "markdown",
   "id": "c5a68801-201f-45d1-8e6a-e84c1666a4bc",
   "metadata": {},
   "source": [
    "Um die **binomische Wahrscheinlichkeitsverteilung** zu visualisieren, verwenden wir die Funktion `binom.rvs()`, die Zufallsabweichungen für eine Binomialverteilung erzeugt, die durch ihre Größe $n$ und die Erfolgs-/Misserfolgswahrscheinlichkeit $p$ definiert ist."
   ]
  },
  {
   "cell_type": "code",
   "execution_count": 21,
   "id": "9f3ae08e-b872-4307-9b3d-243dae114494",
   "metadata": {},
   "outputs": [
    {
     "data": {
      "image/png": "[encoded data removed]",
      "text/plain": [
       "<Figure size 864x432 with 1 Axes>"
      ]
     },
     "metadata": {
      "needs_background": "light"
     },
     "output_type": "display_data"
    }
   ],
   "source": [
    "# Setze random seed für Reproduzierbarkeit\n",
    "np.random.seed(seed=42)\n",
    "\n",
    "# Erzeuge y-Werte der Binomialverteilung\n",
    "n = 25\n",
    "p = 0.3\n",
    "y = binom.rvs(n, p, size=2000)\n",
    "\n",
    "# Erzeuge Plot\n",
    "fig, ax = plt.subplots()\n",
    "ax.set_xlim(-1, 26)\n",
    "ax.set_title(f\"Binomialverteilung: n={n} , p={p}\")\n",
    "ax.set_xlabel(\"Anzahl der Studenten die Prüfung bestehen\")\n",
    "ax.set_ylabel(\"Wahrscheinlichkeit (P=X)\")\n",
    "bins = max(y) - min(y)\n",
    "_ = ax.hist(y, bins, edgecolor=\"k\")"
   ]
  },
  {
   "cell_type": "markdown",
   "id": "7b425cdc-149b-4cea-ac17-9c9a1e8231ab",
   "metadata": {},
   "source": [
    "Zusätzlich visualisieren wir die oben diskutierten Wahrscheinlichkeiten: $P(X=3), P(X=15), P(X≤9), P(X>9)$ und die entsprechende **kumulative binomiale Wahrscheinlichkeitsverteilungsfunktion**."
   ]
  },
  {
   "cell_type": "code",
   "execution_count": 22,
   "id": "9ff28c95-afce-4297-a419-84def0391b48",
   "metadata": {
    "tags": [
     "hide-input"
    ]
   },
   "outputs": [
    {
     "data": {
      "image/png": "[encoded data removed]",
      "text/plain": [
       "<Figure size 864x432 with 1 Axes>"
      ]
     },
     "metadata": {
      "needs_background": "light"
     },
     "output_type": "display_data"
    }
   ],
   "source": [
    "# Setze random seed für Reproduzierbarkeit\n",
    "np.random.seed(seed=42)\n",
    "\n",
    "# Erzeuge y-Werte der Binomialverteilung\n",
    "n = 25\n",
    "p = 0.3\n",
    "y = binom.rvs(n, p, size=2000)\n",
    "\n",
    "fig, ax = plt.subplots()\n",
    "ax.set_xlim(-1, 26)\n",
    "ax.set_ylim(0, 0.22)\n",
    "ax.set_title(f\"Binomialverteilung: n={n} , p={p}\")\n",
    "ax.set_xlabel(\"Anzahl der Studenten die die Prüfung bestehen\")\n",
    "ax.set_ylabel(\"Wahrscheinlichkeit (P=X)\")\n",
    "bins = max(y) - min(y)\n",
    "ax.hist(y, bins, edgecolor=\"k\", density=True, align=\"left\")\n",
    "ax.axvline(9, color=\"red\", lw=2, linestyle=\"--\", alpha=0.75)\n",
    "ax.set_xticks(range(26))\n",
    "# Annotation\n",
    "ax.annotate(\n",
    "    \"P(X > 9)\",\n",
    "    xy=(25, 0.18),\n",
    "    xycoords=\"data\",\n",
    "    xytext=(9.3, 0.18),\n",
    "    textcoords=\"data\",\n",
    "    arrowprops=dict(facecolor=\"red\", shrink=0.0005),\n",
    "    verticalalignment=\"center\",\n",
    "    size=14,\n",
    ")\n",
    "ax.annotate(\n",
    "    \"P(X <= 9)\",\n",
    "    xy=(0, 0.18),\n",
    "    xycoords=\"data\",\n",
    "    xytext=(6.5, 0.18),\n",
    "    textcoords=\"data\",\n",
    "    arrowprops=dict(facecolor=\"red\", shrink=0.0005),\n",
    "    verticalalignment=\"center\",\n",
    "    size=14,\n",
    ")\n",
    "ax.annotate(\n",
    "    \"P(X = 15)\",\n",
    "    xy=(15, 0.005),\n",
    "    xycoords=\"data\",\n",
    "    xytext=(15, 0.1),\n",
    "    textcoords=\"data\",\n",
    "    arrowprops=dict(facecolor=\"black\", shrink=0.0005),\n",
    "    horizontalalignment=\"center\",\n",
    "    size=14,\n",
    ")\n",
    "ax.annotate(\n",
    "    \"P(X = 3)\",\n",
    "    xy=(3, 0.035),\n",
    "    xycoords=\"data\",\n",
    "    xytext=(3, 0.1),\n",
    "    textcoords=\"data\",\n",
    "    arrowprops=dict(facecolor=\"black\", shrink=0.0005),\n",
    "    horizontalalignment=\"center\",\n",
    "    size=14,\n",
    ")\n",
    "\n",
    "fig.tight_layout()"
   ]
  },
  {
   "cell_type": "code",
   "execution_count": 23,
   "id": "b8996110-144e-48ab-aa30-9e2fc7790f90",
   "metadata": {
    "tags": [
     "hide-input"
    ]
   },
   "outputs": [
    {
     "data": {
      "text/plain": [
       "Text(1.5, 0.85, 'P(X <= 9) = 0.81)')"
      ]
     },
     "execution_count": 23,
     "metadata": {},
     "output_type": "execute_result"
    },
    {
     "data": {
      "image/png": "[encoded data removed]",
      "text/plain": [
       "<Figure size 864x432 with 1 Axes>"
      ]
     },
     "metadata": {
      "needs_background": "light"
     },
     "output_type": "display_data"
    }
   ],
   "source": [
    "# Erzeuge x und y Werte für kumulitative Wahrscheinlichkeit\n",
    "fig, ax = plt.subplots()\n",
    "\n",
    "x = np.linspace(0, 25, num=26)\n",
    "cdf = binom.cdf(x, n, p)\n",
    "ax.plot(x, cdf, color=\"k\", linewidth=3)\n",
    "\n",
    "ax.set_xlim(-1, 26)\n",
    "ax.set_ylim(-0.1, 1.1)\n",
    "ax.set_title(f\"Binomialverteilung: n = {n} , p = {p}\")\n",
    "ax.set_xlabel(\"Anzahl der Studenten die die Prüfung bestehen\")\n",
    "ax.set_ylabel(\"Kumulative Wahrscheinlichkeit\")\n",
    "\n",
    "ax.axvline(x=9, ymin=0, ymax=binom.cdf(9, n, p) * 0.95, color=\"red\", linestyle=\"dashed\")\n",
    "ax.axhline(\n",
    "    y=binom.cdf(9, n, p),\n",
    "    xmin=0,\n",
    "    xmax=9 / 24.5,\n",
    "    color=\"red\",\n",
    "    linestyle=\"dashed\",\n",
    ")\n",
    "\n",
    "# Annotations\n",
    "ax.annotate(\n",
    "    \"P(X <= 9)\",\n",
    "    xy=(9.2, 0.2),\n",
    "    xycoords=\"data\",\n",
    "    xytext=(9.2, 0.2),\n",
    "    textcoords=\"data\",\n",
    "    size=14,\n",
    ")\n",
    "ax.annotate(\n",
    "    \"P(X <= 9) = 0.81)\",\n",
    "    xy=(1.5, 0.85),\n",
    "    xycoords=\"data\",\n",
    "    xytext=(1.5, 0.85),\n",
    "    textcoords=\"data\",\n",
    "    size=14,\n",
    ")"
   ]
  },
  {
   "cell_type": "markdown",
   "id": "03b2ffbc-3db3-4cbc-91f7-9ecf39e7880f",
   "metadata": {},
   "source": [
    "Zum Abschluss dieses Abschnitts und um Ihnen ein Gefühl für die Formen der verschiedenen binomischen Wahrscheinlichkeitsverteilungen zu vermitteln, werden im Folgenden drei verschiedene binomische Wahrscheinlichkeitsverteilungen und die entsprechenden kumulativen binomischen Beweisbarkeitsverteilungen für $p=0,1, p=0,5$ und $p=0,9$ angegeben."
   ]
  },
  {
   "cell_type": "code",
   "execution_count": 24,
   "id": "6b375b1b-8fc3-4622-a84e-6d86d6a35073",
   "metadata": {},
   "outputs": [
    {
     "data": {
      "image/png": "[encoded data removed]",
      "text/plain": [
       "<Figure size 1008x1152 with 6 Axes>"
      ]
     },
     "metadata": {
      "needs_background": "light"
     },
     "output_type": "display_data"
    }
   ],
   "source": [
    "fig, ax = plt.subplots(nrows=3, figsize=(14, 16))\n",
    "x = np.linspace(0, 25, num=26)\n",
    "for e, p in enumerate([0.1, 0.5, 0.9]):\n",
    "    y = binom.rvs(n, p, size=2000)\n",
    "    bins = max(y) - min(y)\n",
    "    ax[e].hist(y, bins, edgecolor=\"k\", density=True, align=\"left\")\n",
    "    ax[e].set_ylabel(\"Wahrscheinlichkeit (P=X)\")\n",
    "    ax[e].set_title(\"Wahrscheinlichkeit (P=X)\")\n",
    "    ax[e].set_xlim(-1, 26)\n",
    "    ax[e].set_ylim(0, 0.30)\n",
    "    # zweite Y-Achse\n",
    "    ax2 = ax[e].twinx()\n",
    "    cdf = binom.cdf(x, n, p)\n",
    "    ax2.plot(x, cdf, color=\"k\", linewidth=3)\n",
    "    ax2.set_ylabel(\"Kumulative Wahrscheinlichkeit\")\n",
    "    ax2.set_ylim(0, 1.05)\n",
    "fig.tight_layout()"
   ]
  },
  {
   "cell_type": "markdown",
   "id": "dfe4fba3-9b1f-4f56-8547-a5dd52f81216",
   "metadata": {
    "tags": []
   },
   "source": [
    "## Mittelwert und Standardabweichung einer binomialen Zufallsvariable\n",
    "----------------------------------------"
   ]
  },
  {
   "cell_type": "markdown",
   "id": "f884e89e-13fe-4a26-b34b-12475a92df83",
   "metadata": {},
   "source": [
    "Der Mittelwert und die Standardabweichung einer binomialen Zufallsvariablen mit den Parametern $n$ und $p$ sind jeweils"
   ]
  },
  {
   "cell_type": "markdown",
   "id": "527698dd-1a49-4f36-bd4a-78cce14f6396",
   "metadata": {},
   "source": [
    "$$\\mu = np$$"
   ]
  },
  {
   "cell_type": "markdown",
   "id": "776f0b07-70e3-4ab0-b64a-12c207a5e983",
   "metadata": {},
   "source": [
    "und"
   ]
  },
  {
   "cell_type": "markdown",
   "id": "9bc83828-3cab-49e2-b8b8-bd8b51acf888",
   "metadata": {},
   "source": [
    "$$\\sigma = np(1 - p)\\text{,}$$"
   ]
  },
  {
   "cell_type": "markdown",
   "id": "1810b9f5-d180-45d0-9f23-233308491531",
   "metadata": {},
   "source": [
    "Erinnern wir uns an das Beispiel aus dem vorherigen Abschnitt. Die Wahrscheinlichkeit, die statistische Abschlussprüfung zu bestehen, beträgt $0,3$. Wir betrachten eine Klasse mit $25$ Studenten. Die Zufallsvariable $X$, die dem Erfolg in der Prüfung entspricht, ist eine binomiale Zufallsvariable und folgt einer Binomialverteilung mit den Parametern $n=25$ und $p=0,3$. Somit können der Mittelwert μ und die Standardabweichung $\\sigma$ wie folgt berechnet werden:"
   ]
  },
  {
   "cell_type": "markdown",
   "id": "3de6be17-30e1-411b-b0fe-a0d73a5ec36a",
   "metadata": {},
   "source": [
    "$$\\mu = np = 25 \\times 0,3 = 7,5$$"
   ]
  },
  {
   "cell_type": "markdown",
   "id": "cb77632e-7bb9-4daa-ac37-eeae9509f286",
   "metadata": {},
   "source": [
    "und"
   ]
  },
  {
   "cell_type": "markdown",
   "id": "af8ee5c3-c115-4b0b-b78d-d68131802bcd",
   "metadata": {},
   "source": [
    "$$\\sigma = np(1 - p) = 25 \\times 0,3 \\times (1-0,3) = 5,25$$"
   ]
  },
  {
   "cell_type": "markdown",
   "id": "6eb159bc-d0f0-4c51-969e-44e23081cf69",
   "metadata": {},
   "source": [
    "Die folgende Grafik zeigt die Binomialverteilung mit den Parametern $n=25$ und $p=0,3$ sowie deren Mittelwert $\\mu$ und Standardabweichung $\\sigma$."
   ]
  },
  {
   "cell_type": "code",
   "execution_count": 25,
   "id": "6827b5ef-39cc-4841-b42e-b3b41682469c",
   "metadata": {
    "tags": [
     "hide-input"
    ]
   },
   "outputs": [
    {
     "data": {
      "text/plain": [
       "Text(13.25, 0.2, '$+\\\\sigma$')"
      ]
     },
     "execution_count": 25,
     "metadata": {},
     "output_type": "execute_result"
    },
    {
     "data": {
      "image/png": "[encoded data removed]",
      "text/plain": [
       "<Figure size 864x432 with 1 Axes>"
      ]
     },
     "metadata": {
      "needs_background": "light"
     },
     "output_type": "display_data"
    }
   ],
   "source": [
    "n = 25\n",
    "p = 0.3\n",
    "y = binom.rvs(n, p, size=2000)\n",
    "mu = n * p\n",
    "sigma = n * p * (1 - p)\n",
    "\n",
    "fig, ax = plt.subplots()\n",
    "bins = max(y) - min(y)\n",
    "ax.hist(y, bins, edgecolor=\"k\", density=True)\n",
    "\n",
    "ax.set_ylim(0, 0.225)\n",
    "ax.set_xlim(-1, 26)\n",
    "ax.set_title(f\"Binomialverteilung: n = {n} , p = {p}\")\n",
    "ax.set_xlabel(\"Anzahl der Studenten die die Prüfung bestehen\")\n",
    "ax.set_ylabel(\"Wahrscheinlichkeit (P=X)\")\n",
    "\n",
    "ax.axvline(mu, color=\"red\", linewidth=3, linestyle=\"dashed\")\n",
    "ax.axvline(mu - sigma, color=\"grey\", linewidth=3, linestyle=\"dashed\")\n",
    "ax.axvline(mu + sigma, color=\"grey\", linewidth=3, linestyle=\"dashed\")\n",
    "# Annotation\n",
    "ax.annotate(\"$\\mu$\", color=\"r\", fontsize=20, xy=(7.5, 0.2), xytext=(8, 0.2))\n",
    "ax.annotate(\"$-\\sigma$\", color=\"grey\", fontsize=20, xy=(2.5, 0.2), xytext=(3, 0.2))\n",
    "ax.annotate(\n",
    "    \"$+\\sigma$\", color=\"grey\", fontsize=20, xy=(12.75, 0.2), xytext=(13.25, 0.2)\n",
    ")"
   ]
  },
  {
   "cell_type": "markdown",
   "id": "a2070d79-801e-44b7-91ce-726619f798f5",
   "metadata": {},
   "source": [
    "## Binomiale Approximation der hypergeometrische Verteilung"
   ]
  },
  {
   "cell_type": "markdown",
   "id": "98d75d2e-df35-4f22-a444-2f72e373419d",
   "metadata": {},
   "source": [
    "Häufig möchte man den Anteil (Prozentsatz) der Mitglieder einer endlichen Grundgesamtheit bestimmen, die ein bestimmtes Attribut aufweisen. Im Allgemeinen ist die betrachtete Grundgesamtheit zu groß, als dass der Grundgesamtheitsanteil durch eine Zählung ermittelt werden könnte. Nehmen wir an, dass eine einfache Zufallsstichprobe des Umfangs $n$ aus einer Grundgesamtheit entnommen wird, in der der Anteil der Mitglieder, die ein bestimmtes Merkmal aufweisen, $p$ ist. Dann ist eine Zufallsvariable von primärer Bedeutung für die Schätzung von $p$ die Anzahl der Mitglieder der Stichprobe, die das bestimmte Merkmal aufweisen, die wir als $X$ bezeichnen.Die genaue Wahrscheinlichkeitsverteilung von $X$ hängt davon ab, ob die Stichprobe **mit** oder **ohne Ersetzung** durchgeführt wird. Wird die Stichprobe mit Ersetzung durchgeführt, handelt es sich um Bernoulli-Versuche: Jede Auswahl eines Mitglieds der Grundgesamtheit entspricht einem Versuch. Ein Versuch ist erfolgreich, wenn das in diesem Versuch ausgewählte Mitglied das angegebene Attribut aufweist; andernfalls ist er nicht erfolgreich. Die Versuche sind **unabhängig**, da die Stichprobe mit Ersetzung durchgeführt wird. Die Erfolgswahrscheinlichkeit bleibt von Versuch zu Versuch gleich, sie ist immer gleich dem Anteil der Grundgesamtheit, der das angegebene Merkmal aufweist. Daher hat die Zufallsvariable $X$ die **Binomialverteilung** mit den Parametern $n$ (der Stichprobenumfang) und $p$ (der Anteil der Grundgesamtheit) ({cite:p}`Papula2011` s.356)."
   ]
  },
  {
   "cell_type": "markdown",
   "id": "6ad03d2a-5166-42b6-8b0a-e3782c988c2d",
   "metadata": {},
   "source": [
    "In der Realität werden die Stichproben jedoch in der Regel **ohne Ersetzung** durchgeführt. Unter diesen Umständen handelt es sich bei dem Stichprobenverfahren nicht um Bernoulli-Versuche, da die Versuche **nicht unabhängig** sind und die Erfolgswahrscheinlichkeit von Versuch zu Versuch variiert. Mit anderen Worten: Die Zufallsvariable $X$ hat keine Binomialverteilung. Ihre Verteilung wird als <a href=\"https://de.wikipedia.org/wiki/Hypergeometrische_Verteilung\">hypergeometrische Verteilung</a> bezeichnet ({cite:p}`Papula2011` s.364)."
   ]
  },
  {
   "cell_type": "markdown",
   "id": "f26d4c04-9899-4f7b-abce-c196e3d896d0",
   "metadata": {},
   "source": [
    "In der Praxis kann eine hypergeometrische Verteilung jedoch in der Regel durch eine Binomialverteilung angenähert werden. Der Grund dafür ist, dass es bei einem **Stichprobenumfang von nicht mehr als 5 % der Grundgesamtheit** kaum einen Unterschied zwischen einer Stichprobe mit und ohne Ersatz gibt ({cite:p}`Papula2011` s.365)."
   ]
  },
  {
   "cell_type": "markdown",
   "id": "7fba49fc-e747-43da-8a11-132d02bf130d",
   "metadata": {
    "tags": []
   },
   "source": [
    "### Stichproben und die Binomialverteilung"
   ]
  },
  {
   "cell_type": "markdown",
   "id": "dee936c5-936f-4cba-a995-e85609bbc32d",
   "metadata": {},
   "source": [
    "Angenommen, eine einfache Zufallsstichprobe des Umfangs $n$ wird aus einer endlichen Grundgesamtheit entnommen, in der der Anteil der Mitglieder, die ein bestimmtes Merkmal aufweisen, $p$ ist. Dann hat die Anzahl der in der Stichprobe enthaltenen Mitglieder, die das bestimmte Merkmal aufweisen"
   ]
  },
  {
   "cell_type": "markdown",
   "id": "db920c15-edb0-440d-b674-b3632b9358f8",
   "metadata": {},
   "source": [
    "- eine exakte Binomialverteilung mit den Parametern $n$ und $p$, wenn die Stichprobe mit Ersatz durchgeführt wird\n",
    "- eine näherungsweise Binomialverteilung mit den Parametern $n$ und $p$ wenn die Stichprobenziehung ohne Ersetzung erfolgt und der Stichprobenumfang nicht mehr als $5 \\%$ des Grundgesamtheitsumfangs beträgt ({cite:p}`Papula2011` s.365).\n",
    "\n"
   ]
  }
 ],
 "metadata": {
  "kernelspec": {
   "display_name": "Python 3 (ipykernel)",
   "language": "python",
   "name": "python3"
  },
  "language_info": {
   "codemirror_mode": {
    "name": "ipython",
    "version": 3
   },
   "file_extension": ".py",
   "mimetype": "text/x-python",
   "name": "python",
   "nbconvert_exporter": "python",
   "pygments_lexer": "ipython3",
   "version": "3.10.9"
  },
  "vscode": {
   "interpreter": {
    "hash": "a36818faf5a63422d892f0834edc6414f1b25ba9b5d6bbe87802a22f3b883f5c"
   }
  }
 },
 "nbformat": 4,
 "nbformat_minor": 5
}
