{
 "cells": [
  {
   "cell_type": "markdown",
   "id": "8437b021-15d3-4831-bb21-8ee1e3e5fd09",
   "metadata": {},
   "source": [
    "## Hypothesentests für den Mittelwert einer Grundgesamtheit\n",
    "----------------------------------------"
   ]
  },
  {
   "cell_type": "markdown",
   "id": "d6fd6087-6e53-4362-822d-c8227d88b5e3",
   "metadata": {},
   "source": [
    "Die einfachste Form eines Hypothesentests ist der **Test auf einen Grundgesamtheitsmittelwert**. Bei diesem Test vergleichen wir den aus der Stichprobe (Beobachtungen) gewonnenen Mittelwert $\\mu$ mit einem angenommenen Grundgesamtheitsmittelwert $\\mu_0$. Die Nullhypothese besagt, dass der Mittelwert und der Mittelwert der Grundgesamtheit gleich sind, und wird daher wie folgt geschrieben"
   ]
  },
  {
   "cell_type": "markdown",
   "id": "5c72393d-3844-4fb3-8fec-85d8ab55bfc9",
   "metadata": {},
   "source": [
    "$$H_0: \\mu = \\mu_0\\text{.}$$"
   ]
  },
  {
   "cell_type": "markdown",
   "id": "e4402294-d6a9-4d26-995d-5b5783e1ddc7",
   "metadata": {},
   "source": [
    "Weichen die beobachteten Daten ($\\mu$) signifikant vom angenommenen Mittelwert der Grundgesamtheit ($\\mu_0$) ab, dann wird die Annahme $H_0$ zugunsten der Alternativhypothese $H_A$ verworfen. Je nach der spezifischen Forschungsfrage wird die Alternativhypothese $H_A$ wie folgt formuliert"
   ]
  },
  {
   "cell_type": "markdown",
   "id": "e000248c-a5b6-42d1-83eb-435bbed243a6",
   "metadata": {},
   "source": [
    "$$H_A: \\mu < \\mu_0 \\quad \\text{oder} \\quad  \\mu > \\mu_0 \\quad \\text{oder} \\quad \\mu \\ne \\mu_0 \\text{.}$$"
   ]
  },
  {
   "cell_type": "markdown",
   "id": "361c616e-0670-43bf-b24e-350da301738c",
   "metadata": {},
   "source": [
    "Wenn die Daten jedoch nicht genügend Beweise liefern, um die angegebene Hypothese ($H_0$) zu verwerfen, verwerfen wir $H_0$ nicht und schließen, dass die Daten nicht genügend Beweise liefern, um anzunehmen, dass sich der beobachtete Mittelwert $\\mu$ vom angenommenen Grundgesamtheitsmittelwert ($\\mu_0$) unterscheidet. Die beobachtete Variabilität in den Daten wird auf die inhärent probabilistische Natur des Datenerzeugungsprozesses zurückgeführt, oder mit anderen Worten, die beobachtete Variabilität in den Daten ist auf den Zufall zurückzuführen.\n",
    "\n",
    "In den nächsten Abschnitten wird gezeigt, dass für die eigentliche Berechnung der statistischen Signifikanz unser Wissen über die Grundgesamtheitsparameter von Bedeutung ist."
   ]
  },
  {
   "cell_type": "code",
   "execution_count": 1,
   "id": "0942ffd9-2a16-458a-947b-b1483c23bda4",
   "metadata": {
    "tags": [
     "remove-cell"
    ]
   },
   "outputs": [
    {
     "name": "stdout",
     "output_type": "stream",
     "text": [
      "\n",
      "---------------------------------\n",
      "Working on the host: imarevic-pc\n",
      "\n",
      "---------------------------------\n",
      "Python version: 3.10.9 | packaged by conda-forge | (main, Feb  2 2023, 20:20:04) [GCC 11.3.0]\n",
      "\n",
      "---------------------------------\n",
      "Python interpreter: /home/imarevic/anaconda3/envs/srh/bin/python3.10\n"
     ]
    }
   ],
   "source": [
    "%matplotlib inline\n",
    "# Load the \"autoreload\" extension\n",
    "%load_ext autoreload\n",
    "# always reload modules\n",
    "%autoreload 2\n",
    "# black formatter for jupyter notebooks\n",
    "# %load_ext nb_black\n",
    "# black formatter for jupyter lab\n",
    "%load_ext lab_black\n",
    "\n",
    "%run ../../src/notebook_env.py"
   ]
  },
  {
   "cell_type": "markdown",
   "id": "70cdeb2b-bdbd-4add-9932-81297c14cce0",
   "metadata": {
    "tags": []
   },
   "source": [
    "## Hypothesentests für einen Grundgesamtheitsmittelwert bei bekannter Standardabweichung\n",
    "----------------------------------------"
   ]
  },
  {
   "cell_type": "code",
   "execution_count": 2,
   "id": "88816fc8-ae35-4b1a-b176-654b91382bec",
   "metadata": {},
   "outputs": [],
   "source": [
    "import matplotlib.pyplot as plt\n",
    "import numpy as np\n",
    "import pandas as pd\n",
    "from scipy.stats import norm"
   ]
  },
  {
   "cell_type": "markdown",
   "id": "c2d29a29-a815-49da-b774-41952c2317a7",
   "metadata": {},
   "source": [
    "Wenn die Standardabweichung ($\\sigma$) der Grundgesamtheit bekannt ist, wird ein Hypothesentest, der für einen Mittelwert der Grundgesamtheit durchgeführt wird, als **$z$-Test für einen Mittelwert** oder einfach als **$z$-Test** bezeichnet.\n",
    "\n",
    "Ein $z$-Test ist ein Hypothesentest zum Testen eines Mittelwerts der Grundgesamtheit, $\\mu$, gegen einen angenommenen Mittelwert der Grundgesamtheit,$\\mu_0$. Der $z$-Test setzt normalverteilte Variablen oder einen großen Stichprobenumfang voraus; dann garantiert der <a href=\"https://de.wikipedia.org/wiki/Zentraler_Grenzwertsatz\">zentrale Grenzwertsatz</a> eine normalverteilte <a href=\"https://de.wikipedia.org/wiki/Sch%C3%A4tzfunktion#Stichprobenverteilung\">Stichprobenverteilung</a>. Darüber hinaus muss $\\sigma$, die Standardabweichung der Grundgesamtheit, bekannt sein. In der Praxis ist diese Annahme fast nie erfüllt, so dass der $z$-Test nur selten angewendet wird. Er ist jedoch der einfachste Hypothesentest und daher ein guter Einstieg in das Thema.\n",
    "\n",
    "Zur Durchführung des $z$-Tests gehen wir schrittweise vor, wie in der folgenden Tabelle dargestellt. Zunächst wird der **Ansatz des kritischen Werts** dargestellt, dann wird in einem zweiten Schritt die Analyse für den **Ansatz des $p$-Werts** wiederholt."
   ]
  },
  {
   "cell_type": "markdown",
   "id": "5483a2eb-56fc-455b-bdc6-18959b50e8ec",
   "metadata": {},
   "source": [
    "$$\n",
    "\\begin{array}{l}\n",
    "\\hline\n",
    "\\ \\text{Schritt 1}  & \\text{Geben Sie die Nullhypothese } H_0 \\text{ und alternative Hypothese } H_A \\text{ an.}\\\\\n",
    "\\ \\text{Schritt 2}  & \\text{Legen Sie das Signifikanzniveau, } \\alpha\\text{ fest.} \\\\\n",
    "\\ \\text{Schritt 3}  & \\text{Berechnen Sie den Wert der Teststatistik.} \\\\\n",
    "\\ \\text{Schritt 4a} & \\text{Ansatz des kritischen Wertes: Bestimmung des kritischen Wertes.}\n",
    "\\\\\n",
    "\\ \\text{Schritt 4b} &\\text{P-Wert-Ansatz: Bestimmen Sie den p-Wert.} \\\\\n",
    "\\ \\text{Schritt 5a} & \\text{Ansatz des kritischen Werts: Wenn der Wert der Teststatistik in den Ablehnungsbereich fällt, ist } H_0 \\text{ abzulehnen}   \\text{; ansonsten } H_0 \\text{ nicht ablehnen}  \\text{.}\n",
    "\\\\\n",
    "\\ \\text{Schritt 5b} & \\text{P-Wert-Ansatz: Wenn }p \\le \\alpha \\text{, } H_0 \\text{ ablehnen } \\text{; ansonsten } H_0 \\text{ nicht ablehnen} \\text{.} \\\\\n",
    "\\ \\text{Schritt 6} &\\text{Interpretieren Sie das Ergebnis des Hypothesentests.} \\\\\n",
    "\\hline \n",
    "\\end{array}\n",
    "$$"
   ]
  },
  {
   "cell_type": "markdown",
   "id": "e51f6e72-2c1d-4681-9e6f-92bbb1822cbc",
   "metadata": {},
   "source": [
    "### $z$-Test mit einem Mittelwert: Ein Beispiel"
   ]
  },
  {
   "cell_type": "markdown",
   "id": "eafc738e-77b7-4594-ac5c-272d0c33a45b",
   "metadata": {},
   "source": [
    "In diesem Abschnitt arbeiten wir mit dem `students` Datensatz. Sie können die Datei `students.csv` <a href=\"https://userpage.fu-berlin.de/soga/200/2010_data_sets/students.csv\">hier</a> herunterladen. Importieren Sie den Datensatz und geben Sie ihm einen geeigneten Namen."
   ]
  },
  {
   "cell_type": "code",
   "execution_count": 3,
   "id": "281b4b34-c899-4ccc-adc6-b77e785b8dd3",
   "metadata": {},
   "outputs": [],
   "source": [
    "# Lese Datei students.csv als Dataframe ein; Indexspalte wird übersprungen\n",
    "students = pd.read_csv(\"../../data/students.csv\", index_col=0)"
   ]
  },
  {
   "cell_type": "markdown",
   "id": "bf7d5cf0-cf67-4a35-907c-5efa5269a68f",
   "metadata": {},
   "source": [
    "Der `students` Datensatz besteht aus $8239$ Zeilen, von denen jede einen bestimmten Studenten repräsentiert, und $16$ Spalten, von denen jede einer Variable/einem Merkmal entspricht, das sich auf diesen bestimmten Studenten bezieht. Diese selbsterklärenden Variablen sind: *stud_id, Name, Geschlecht, Alter, Größe, Gewicht, Religion, nc_score, Semester, Hauptfach, Nebenfach, score1, score2, online_tutorial, graduated, salary*.\n",
    "\n",
    "Zur Veranschaulichung der Hypothesentests untersuchen wir das Durchschnittsgewicht der Studenten und vergleichen es mit dem Durchschnittsgewicht der erwachsenen Europäer. <a href=\"https://bmcpublichealth.biomedcentral.com/articles/10.1186/1471-2458-12-439\">Walpole et al. (2012)</a> veröffentlichten Daten über das durchschnittliche Körpergewicht (kg) pro Region, einschließlich Europa. Sie geben die durchschnittliche Körpermasse für die europäische erwachsene Bevölkerung mit $70,8$ kg an. Wir setzen $\\mu_0$, den Mittelwert der Bevölkerung, entsprechend fest, $\\mu_0=70,8$. Aufgrund des methodischen Ansatzes von {cite:t}`Walpole2012` haben sie leider keine Standardabweichung ($\\sigma$) der Gewichte europäischer Erwachsener angegeben. Zu Demonstrationszwecken gehen wir davon aus, dass die Gewichtsdaten aus dem Studentendatensatz eine gute Näherung für die interessierende Population darstellen. Daher setzen wir $\\sigma$ auf die Standardabweichung der Gewichtsvariablen im `students` Datensatz."
   ]
  },
  {
   "cell_type": "code",
   "execution_count": 4,
   "id": "55cc22e9-bf5d-4539-8c16-353a98f3b1e8",
   "metadata": {},
   "outputs": [
    {
     "data": {
      "text/plain": [
       "8.634637630634796"
      ]
     },
     "execution_count": 4,
     "metadata": {},
     "output_type": "execute_result"
    }
   ],
   "source": [
    "mu0 = 70.8\n",
    "sigma_z = np.std(students.weight)\n",
    "sigma_z"
   ]
  },
  {
   "cell_type": "markdown",
   "id": "242749ca-e6e4-4795-a4b4-8bc513c2527d",
   "metadata": {},
   "source": [
    "Außerdem nehmen wir eine Zufallsstichprobe mit einem Stichprobenumfang von $n=14$. Die Stichprobe besteht aus den Gewichten in kg von $14$ zufällig ausgewählten Studenten aus dem Studentendatensatz. Schließlich berechnen wir den Stichprobenmittelwert ($\\bar{x}$), die Stichprobenstatistik unseres Interesses. Die Stichprobenstatistik wird der Variablen `x_bar` zugewiesen."
   ]
  },
  {
   "cell_type": "code",
   "execution_count": 5,
   "id": "e0e03267-f1a9-4276-9b46-c528b048b86e",
   "metadata": {},
   "outputs": [
    {
     "data": {
      "text/plain": [
       "77.02857142857144"
      ]
     },
     "execution_count": 5,
     "metadata": {},
     "output_type": "execute_result"
    }
   ],
   "source": [
    "n = 14\n",
    "x_weight = students.weight.sample(n, random_state=4)\n",
    "x_bar = np.mean(x_weight)\n",
    "x_bar"
   ]
  },
  {
   "cell_type": "markdown",
   "id": "725f7627-0945-4115-b14a-96cf2f4a0149",
   "metadata": {},
   "source": [
    "### Hypothesentests: Der Ansatz des kritischen Werts"
   ]
  },
  {
   "cell_type": "markdown",
   "id": "bae627d1-cd03-4737-b7b4-f55f175a1465",
   "metadata": {},
   "source": [
    "**Schritt 1: Geben Sie die Nullhypothese ($H_0$) und die Alternativhypothese ($H_A$) an.**\n",
    "\n",
    "Die Nullhypothese besagt, dass das Durchschnittsgewicht der Studenten ($\\mu$) gleich dem Durchschnittsgewicht europäischer Erwachsener von $70,8$ kg ($\\mu_0$) ist, wie von Walpole et al. (2012) berichtet. Mit anderen Worten: Es gibt keinen Unterschied zwischen dem Durchschnittsgewicht der Studenten und dem Durchschnittsgewicht der europäischen Erwachsenen."
   ]
  },
  {
   "cell_type": "markdown",
   "id": "7c29ce6c-674e-4806-a4a6-cfbbb3d8e671",
   "metadata": {},
   "source": [
    "$$H_0: \\quad \\mu = 70,8$$"
   ]
  },
  {
   "cell_type": "markdown",
   "id": "63a2f46c-71ba-4ca1-84fe-2482efae19d3",
   "metadata": {},
   "source": [
    "Zur Veranschaulichung testen wir drei Alternativhypothesen.\n",
    "\n",
    "**Alternativhypothese 1**: Das Durchschnittsgewicht der Studenten entspricht nicht dem Durchschnittsgewicht der europäischen Erwachsenen. Mit anderen Worten: Es gibt einen Unterschied zwischen dem Durchschnittsgewicht der Studenten und dem Durchschnittsgewicht der europäischen Erwachsenen. "
   ]
  },
  {
   "cell_type": "markdown",
   "id": "ec705815-afcd-458f-98c6-52c7c289742e",
   "metadata": {},
   "source": [
    "$$H_{A_1}: \\quad \\mu \\ne 70,8$$"
   ]
  },
  {
   "cell_type": "markdown",
   "id": "c276715c-f734-4cf6-ab5c-c5acad0c1f57",
   "metadata": {},
   "source": [
    "**Alternativhypothese 2**: Das Durchschnittsgewicht der Studenten ist geringer als das Durchschnittsgewicht der europäischen Erwachsenen."
   ]
  },
  {
   "cell_type": "markdown",
   "id": "97d69cb9-c7e7-48a0-8614-b033e23d46b4",
   "metadata": {},
   "source": [
    "$$H_{A_2}: \\quad \\mu  < 70,8$$"
   ]
  },
  {
   "cell_type": "markdown",
   "id": "e978a85b-6d15-4423-803a-3f1f9305e85f",
   "metadata": {},
   "source": [
    "**Alternativhypothese 3**: Das Durchschnittsgewicht der Studenten ist höher als das Durchschnittsgewicht der europäischen Erwachsenen."
   ]
  },
  {
   "cell_type": "markdown",
   "id": "2fd62691-68ff-4e55-b508-54d1814203fe",
   "metadata": {},
   "source": [
    "$$H_{A_3}: \\quad \\mu > 70,8$$"
   ]
  },
  {
   "cell_type": "markdown",
   "id": "3e9b4bb5-9075-4467-bc26-7d48a10db376",
   "metadata": {},
   "source": [
    "**Schritt 2: Legen Sie das Signifikanzniveau $\\alpha$ fest.**"
   ]
  },
  {
   "cell_type": "markdown",
   "id": "c4f06b93-296d-4cb4-8732-6b874076d27e",
   "metadata": {},
   "source": [
    "$$\\alpha = 0,05$$"
   ]
  },
  {
   "cell_type": "code",
   "execution_count": 6,
   "id": "60c211a8-6dfb-47cf-b460-73d60b4a8f69",
   "metadata": {},
   "outputs": [],
   "source": [
    "alpha = 0.05"
   ]
  },
  {
   "cell_type": "markdown",
   "id": "4c67f9ce-6ffa-412a-8256-d61e1f027fb9",
   "metadata": {},
   "source": [
    "**Schritt 3: Berechnen Sie den Wert der Teststatistik.**"
   ]
  },
  {
   "cell_type": "markdown",
   "id": "1a6625d3-058d-40a8-b9e9-c3a9969f4728",
   "metadata": {},
   "source": [
    "Die folgende Gleichung wird zur Berechnung der Teststatistik $z$ verwendet."
   ]
  },
  {
   "cell_type": "markdown",
   "id": "6c23ef15-edb7-4422-b21f-5848fde9b49b",
   "metadata": {},
   "source": [
    "$$z = \\frac{\\bar x-\\mu_0}{\\sigma/\\sqrt{n}}$$"
   ]
  },
  {
   "cell_type": "markdown",
   "id": "7b544a6c-0a8a-477f-9085-c9544b926c34",
   "metadata": {},
   "source": [
    "- Berechnen Sie den Wert der Teststatistik"
   ]
  },
  {
   "cell_type": "markdown",
   "id": "a62381ba-3b7d-4cb3-8ac1-30eb7158a2d4",
   "metadata": {},
   "source": [
    "$$z = \\frac{\\bar x-\\mu_0}{\\sigma/\\sqrt{n}} =  \\frac{77,02-70,8}{8,64/ \\sqrt{14}} \\approx 2,699$$"
   ]
  },
  {
   "cell_type": "code",
   "execution_count": 7,
   "id": "66d77169-461f-4613-b746-c6b49a4dbb72",
   "metadata": {},
   "outputs": [
    {
     "data": {
      "text/plain": [
       "2.699033971278552"
      ]
     },
     "execution_count": 7,
     "metadata": {},
     "output_type": "execute_result"
    }
   ],
   "source": [
    "z = (x_bar - mu0) / sigma_z * np.sqrt(n)\n",
    "z"
   ]
  },
  {
   "cell_type": "markdown",
   "id": "a8a9ada2-03e4-4ad1-bc77-a1d62bc2cb21",
   "metadata": {},
   "source": [
    "**Schritt 4a: Bestimmen Sie den kritischen Wert.**"
   ]
  },
  {
   "cell_type": "markdown",
   "id": "e09bd8e8-2c13-441c-884b-bde5dec37971",
   "metadata": {},
   "source": [
    "Um den kritischen Wert zu berechnen, wenden wir die Funktion `norm.ppf()` in Python an. Es sei daran erinnert, dass wir auf drei Alternativhypothesen ($H_{A_1}, H_ {A_2}$ und $H_{A_3}$) testen und daher auch drei kritische Werte berechnen müssen ($z_{A_1} = \\pm z_{\\alpha/2}, z_{A_2} = -z_\\alpha$ und $z_{A_3} = +z_\\alpha$)."
   ]
  },
  {
   "cell_type": "code",
   "execution_count": 8,
   "id": "0a1a7395-bbdb-434e-8b15-6f52f36afd9d",
   "metadata": {},
   "outputs": [],
   "source": [
    "z_HA_1 = norm.ppf(1 - alpha / 2)\n",
    "z_HA_2 = norm.ppf(1 - (1 - alpha))\n",
    "z_HA_3 = norm.ppf(1 - alpha)"
   ]
  },
  {
   "cell_type": "code",
   "execution_count": 9,
   "id": "0a1dab4f-ffa8-4769-b747-d38afaec28d3",
   "metadata": {},
   "outputs": [
    {
     "name": "stdout",
     "output_type": "stream",
     "text": [
      "z HA 1:  1.959963984540054\n",
      "z HA 2:  -1.6448536269514722\n",
      "z HA 2:  1.6448536269514722\n"
     ]
    }
   ],
   "source": [
    "print(f\"z HA 1:  {z_HA_1}\")\n",
    "print(f\"z HA 2:  {z_HA_2}\")\n",
    "print(f\"z HA 2:  {z_HA_3}\")"
   ]
  },
  {
   "cell_type": "markdown",
   "id": "db480f08-ad1e-4d0b-8b79-68cd70fe97b1",
   "metadata": {},
   "source": [
    "Die kritischen Werte sind $z_{A_1} \\approx \\pm 1,96$, $ z_{A_2} \\approx-1,64$ und  $ z_{A_3} \\approx 1,64$."
   ]
  },
  {
   "cell_type": "markdown",
   "id": "9359443a-0490-4fe2-b9e0-106a2ba7e2f7",
   "metadata": {},
   "source": [
    "**Schritt 5a: Wenn der Wert der Teststatistik in den Verwerfungsbereich fällt, ist $H_0$ zu verwerfen; andernfalls ist $H_0$ nicht zu verwerfen.**"
   ]
  },
  {
   "cell_type": "markdown",
   "id": "9b83232d-5c36-499e-8a08-9c4c585594be",
   "metadata": {},
   "source": [
    "Der Wert der in Schritt $3$ ermittelten Teststatistik ist $z \\approx 2,699$. Es sei daran erinnert, dass wir drei Alternativhypothesen ($H_{A_1}, H_{A_2}$ und $H_{A_3}$) untersuchen. Daher bewerten wir den Ablehnungsbereich für jede einzelne Hypothese."
   ]
  },
  {
   "cell_type": "markdown",
   "id": "772b7756-48b7-457a-af47-701711724683",
   "metadata": {},
   "source": [
    "- **Alternativhypothese** $H_{A_1}:\\quad \\mu \\ne 70,8$"
   ]
  },
  {
   "cell_type": "markdown",
   "id": "0900031a-f380-4eb2-a20e-910f51034aeb",
   "metadata": {},
   "source": [
    "Erinnern Sie sich an die kritischen Werte für $H_{A_1}$. "
   ]
  },
  {
   "cell_type": "markdown",
   "id": "dd7dabad-44d4-4ca3-97a3-307816c527ca",
   "metadata": {},
   "source": [
    "$$z_{A_1} = \\pm z_{\\alpha/2} = \\pm 1,96$$"
   ]
  },
  {
   "cell_type": "markdown",
   "id": "09ca0c06-b7b7-499c-ad02-66ec295ae858",
   "metadata": {},
   "source": [
    "Fällt die Teststatistik ($z \\approx 2,699$) in den Ablehnungsbereich? Beachten Sie, dass es sich um einen zweiseitigen Test handelt, d. h. wir werten die obere und die untere Grenze aus."
   ]
  },
  {
   "cell_type": "markdown",
   "id": "ee67250b-7b68-485c-ad52-9255ec8430f8",
   "metadata": {},
   "source": [
    "- Obere Grenze"
   ]
  },
  {
   "cell_type": "markdown",
   "id": "5168e5c6-c307-454a-86d3-f3e837cb6d01",
   "metadata": {},
   "source": [
    "$$2,699 \\gt 1,96$$"
   ]
  },
  {
   "cell_type": "code",
   "execution_count": 10,
   "id": "9999854c-6111-493c-bbcb-ab4db6bffda2",
   "metadata": {},
   "outputs": [
    {
     "name": "stdout",
     "output_type": "stream",
     "text": [
      "True\n"
     ]
    }
   ],
   "source": [
    "# Obere Grenze\n",
    "# Ablehnen?\n",
    "print(z > abs(z_HA_1))"
   ]
  },
  {
   "cell_type": "markdown",
   "id": "444078b3-9b65-4799-ac92-14b2a277022c",
   "metadata": {},
   "source": [
    "- Untere Grenze"
   ]
  },
  {
   "cell_type": "markdown",
   "id": "898e4530-b04e-4ebb-9059-eedde88fbc82",
   "metadata": {},
   "source": [
    "$$ 2,699 \\lt -1,96$$"
   ]
  },
  {
   "cell_type": "code",
   "execution_count": 11,
   "id": "c6bc7912-4000-4239-b212-c1bbb93d8d53",
   "metadata": {},
   "outputs": [
    {
     "name": "stdout",
     "output_type": "stream",
     "text": [
      "False\n"
     ]
    }
   ],
   "source": [
    "# Untere Grenze\n",
    "# Ablehnen?\n",
    "print(z < -abs(z_HA_1))"
   ]
  },
  {
   "cell_type": "code",
   "execution_count": 12,
   "id": "e9334720-235f-4d8e-a301-25abd8ca82d7",
   "metadata": {
    "tags": [
     "hide-cell"
    ]
   },
   "outputs": [
    {
     "data": {
      "text/plain": [
       "(-0.05, 0.5)"
      ]
     },
     "execution_count": 12,
     "metadata": {},
     "output_type": "execute_result"
    },
    {
     "data": {
      "image/png": "[encoded data removed]",
      "text/plain": [
       "<Figure size 1152x576 with 1 Axes>"
      ]
     },
     "metadata": {
      "needs_background": "light"
     },
     "output_type": "display_data"
    }
   ],
   "source": [
    "import numpy as np\n",
    "from scipy.stats import norm\n",
    "import matplotlib.pyplot as plt\n",
    "\n",
    "fig, ax = plt.subplots(figsize=(16, 8))\n",
    "x_min = -4\n",
    "x_max = 4\n",
    "x = np.linspace(x_min, x_max, 1000)\n",
    "\n",
    "mu = 0\n",
    "sigma = 1\n",
    "ax.plot(x, norm.pdf(x), color=\"C0\", linewidth=2)\n",
    "\n",
    "\n",
    "ticks = [-z_HA_1, z_HA_1]\n",
    "for _x in ticks:\n",
    "    ax.axvline(_x, linestyle=\"dashed\")\n",
    "\n",
    "ax.axhline(0)\n",
    "# ax.axis(\"off\")\n",
    "ax.set_yticks([])\n",
    "\n",
    "ax.fill_between(x, norm.pdf(x), where=x <= ticks[0], color=\"r\", alpha=0.5)\n",
    "ax.fill_between(x, norm.pdf(x), where=x >= ticks[1], color=\"r\", alpha=0.5)\n",
    "\n",
    "\n",
    "ax.text(s=\"Ablehnen der $H_0$\", x=-3.9, y=0.45, size=26)\n",
    "ax.text(s=\"Ablehnen der $H_0$\", x=2, y=0.45, size=26)\n",
    "ax.text(s=\"Nicht ablehnen der $H_0$\", x=-1.2, y=0.45, size=26)\n",
    "\n",
    "ax.text(s=r\"$1-\\alpha$\", x=-0.3, y=0.25, size=22)\n",
    "\n",
    "\n",
    "ax.annotate(\n",
    "    r\"$\\alpha/2$\",\n",
    "    xy=(2.2, 0.02),\n",
    "    xytext=(2.4, 0.1),\n",
    "    # textcoords=\"data\",\n",
    "    arrowprops=dict(headwidth=15, headlength=30, width=4, color=\"k\"),\n",
    "    size=19,\n",
    ")\n",
    "\n",
    "ax.annotate(\n",
    "    r\"$\\alpha/2$\",\n",
    "    xy=(-2.2, 0.02),\n",
    "    xytext=(-2.7, 0.1),\n",
    "    # textcoords=\"data\",\n",
    "    arrowprops=dict(headwidth=15, headlength=30, width=4, color=\"k\"),\n",
    "    size=19,\n",
    ")\n",
    "\n",
    "ax.annotate(\n",
    "    r\"Kritischer Wert\",\n",
    "    xy=(ticks[1], 0.3),\n",
    "    xytext=(2.6, 0.3),\n",
    "    # textcoords=\"data\",\n",
    "    arrowprops=dict(headwidth=15, headlength=30, width=4, color=\"k\"),\n",
    "    size=19,\n",
    "    verticalalignment=\"center\",\n",
    ")\n",
    "\n",
    "ax.annotate(\n",
    "    r\"Kritischer Wert\",\n",
    "    xy=(ticks[0], 0.3),\n",
    "    xytext=(-3.8, 0.3),\n",
    "    # textcoords=\"data\",\n",
    "    arrowprops=dict(headwidth=15, headlength=30, width=4, color=\"k\"),\n",
    "    size=19,\n",
    "    verticalalignment=\"center\",\n",
    ")\n",
    "\n",
    "ax.annotate(\n",
    "    r\"$z$\",\n",
    "    xy=(z, 0.01),\n",
    "    xytext=(z, 0.07),\n",
    "    # textcoords=\"data\",\n",
    "    arrowprops=dict(headwidth=15, headlength=10, width=4, color=\"blue\"),\n",
    "    size=19,\n",
    "    color=\"blue\",\n",
    "    horizontalalignment=\"center\",\n",
    ")\n",
    "\n",
    "\n",
    "ax.set_ylim(-0.05, 0.5)"
   ]
  },
  {
   "cell_type": "markdown",
   "id": "cfd59f4b-1c1c-462b-b5c8-4820bd160dc2",
   "metadata": {},
   "source": [
    "Aufgrund der numerischen und grafischen Auswertung fällt der Wert in den Verwerfungsbereich, so dass wir $H_0$ verwerfen. Die Testergebnisse sind auf dem $5 \\%$-Niveau statistisch signifikant."
   ]
  },
  {
   "cell_type": "markdown",
   "id": "904041ac-8001-4db1-8d38-f0d2a9913b0e",
   "metadata": {},
   "source": [
    "- **Alternativhypothese** $H_{A_2}:\\quad \\mu \\lt 70,8$"
   ]
  },
  {
   "cell_type": "markdown",
   "id": "cb06e15d-b2d5-417a-b508-3d72610019f5",
   "metadata": {},
   "source": [
    "Erinnern Sie sich an den kritischen Wert für $H_{A_2}$. "
   ]
  },
  {
   "cell_type": "markdown",
   "id": "bc5bce35-98ed-478d-9cdd-f2d8bd49e73c",
   "metadata": {},
   "source": [
    "$$z_{A_2} = -z_{\\alpha} = -1,64$$"
   ]
  },
  {
   "cell_type": "markdown",
   "id": "95e6d566-6fce-4f73-b25a-0d8ca4a4546a",
   "metadata": {},
   "source": [
    "Fällt die Teststatistik ($z \\approx 2,699$) in den Ablehnungsbereich?"
   ]
  },
  {
   "cell_type": "markdown",
   "id": "27c694c2-e704-4e16-8ad1-3e1426574a1c",
   "metadata": {},
   "source": [
    "$$2,699 < -1,64$$"
   ]
  },
  {
   "cell_type": "code",
   "execution_count": 13,
   "id": "c32aaaed-8628-4272-95ba-99e6aa740543",
   "metadata": {},
   "outputs": [
    {
     "name": "stdout",
     "output_type": "stream",
     "text": [
      "False\n"
     ]
    }
   ],
   "source": [
    "# Ablehnen?\n",
    "print(z < z_HA_2)"
   ]
  },
  {
   "cell_type": "code",
   "execution_count": 14,
   "id": "c7f6ad43-8130-4594-80ba-9c8da61d0913",
   "metadata": {
    "tags": [
     "hide-cell"
    ]
   },
   "outputs": [
    {
     "data": {
      "text/plain": [
       "(-0.05, 0.5)"
      ]
     },
     "execution_count": 14,
     "metadata": {},
     "output_type": "execute_result"
    },
    {
     "data": {
      "image/png": "[encoded data removed]",
      "text/plain": [
       "<Figure size 1152x576 with 1 Axes>"
      ]
     },
     "metadata": {
      "needs_background": "light"
     },
     "output_type": "display_data"
    }
   ],
   "source": [
    "import numpy as np\n",
    "from scipy.stats import norm\n",
    "import matplotlib.pyplot as plt\n",
    "\n",
    "fig, ax = plt.subplots(figsize=(16, 8))\n",
    "x_min = -4\n",
    "x_max = 4\n",
    "x = np.linspace(x_min, x_max, 1000)\n",
    "\n",
    "mu = 0\n",
    "sigma = 1\n",
    "ax.plot(x, norm.pdf(x), color=\"C0\", linewidth=2)\n",
    "\n",
    "\n",
    "ticks = [z_HA_2]\n",
    "for _x in ticks:\n",
    "    ax.axvline(_x, linestyle=\"dashed\")\n",
    "\n",
    "ax.axhline(0)\n",
    "ax.set_yticks([])\n",
    "\n",
    "ax.fill_between(x, norm.pdf(x), where=x <= ticks[0], color=\"r\", alpha=0.5)\n",
    "\n",
    "ax.text(s=\"Ablehnen der $H_0$\", x=-3.9, y=0.45, size=26)\n",
    "ax.text(s=\"Nicht ablehnen der $H_0$\", x=-1.2, y=0.45, size=26)\n",
    "\n",
    "ax.text(s=r\"$1-\\alpha$\", x=-0.3, y=0.25, size=22)\n",
    "\n",
    "\n",
    "ax.annotate(\n",
    "    r\"$\\alpha$\",\n",
    "    xy=(-2, 0.02),\n",
    "    xytext=(-2.6, 0.1),\n",
    "    # textcoords=\"data\",\n",
    "    arrowprops=dict(headwidth=15, headlength=30, width=4, color=\"k\"),\n",
    "    size=19,\n",
    ")\n",
    "\n",
    "\n",
    "ax.annotate(\n",
    "    r\"Kritischer Wert\",\n",
    "    xy=(ticks[0], 0.3),\n",
    "    xytext=(-3.4, 0.3),\n",
    "    # textcoords=\"data\",\n",
    "    arrowprops=dict(headwidth=15, headlength=30, width=4, color=\"k\"),\n",
    "    size=19,\n",
    "    verticalalignment=\"center\",\n",
    ")\n",
    "\n",
    "ax.annotate(\n",
    "    r\"$z$\",\n",
    "    xy=(z, 0.01),\n",
    "    xytext=(z, 0.07),\n",
    "    # textcoords=\"data\",\n",
    "    arrowprops=dict(headwidth=15, headlength=10, width=4, color=\"blue\"),\n",
    "    size=19,\n",
    "    color=\"blue\",\n",
    "    horizontalalignment=\"center\",\n",
    ")\n",
    "\n",
    "ax.set_ylim(-0.05, 0.5)"
   ]
  },
  {
   "cell_type": "markdown",
   "id": "51371ca1-8cf7-4610-80d7-734477a042b0",
   "metadata": {},
   "source": [
    "Aufgrund der numerischen und grafischen Auswertung fällt der Wert nicht in den Verwerfungsbereich, so dass wir $H_0$ nicht verwerfen. Die Testergebnisse sind auf dem $5 \\%$-Niveau statistisch signifikant."
   ]
  },
  {
   "cell_type": "markdown",
   "id": "b404d79a-e32a-4a72-8a5a-1ac5a1e7e776",
   "metadata": {},
   "source": [
    "- **Alternativhypothese** $H_{A_3}:\\quad \\mu > 70,8$"
   ]
  },
  {
   "cell_type": "markdown",
   "id": "968215d2-a87d-456b-9561-11ab82b85e7a",
   "metadata": {},
   "source": [
    "Erinnern Sie sich an den kritischen Wert für $H_{A_3}$."
   ]
  },
  {
   "cell_type": "markdown",
   "id": "94fb17b3-e463-4b94-92b2-7ce1675d06c8",
   "metadata": {},
   "source": [
    "$$z_{A_3} = +z_{\\alpha} = 1,64$$"
   ]
  },
  {
   "cell_type": "markdown",
   "id": "c66d3a7e-cdc0-4628-b14a-6aa9239fb32a",
   "metadata": {},
   "source": [
    "Fällt die Teststatistik ($z \\approx 2,699$) in den Ablehnungsbereich?"
   ]
  },
  {
   "cell_type": "markdown",
   "id": "21ed1884-449d-42e6-bd1d-2deb789e0648",
   "metadata": {},
   "source": [
    "$$2,699 > 1,64$$"
   ]
  },
  {
   "cell_type": "code",
   "execution_count": 15,
   "id": "6af3ac41-651d-49ed-98fe-b01b18000e1a",
   "metadata": {},
   "outputs": [
    {
     "name": "stdout",
     "output_type": "stream",
     "text": [
      "True\n"
     ]
    }
   ],
   "source": [
    "# Ablehnen?\n",
    "print(z > z_HA_3)"
   ]
  },
  {
   "cell_type": "code",
   "execution_count": 16,
   "id": "1594541a-d2fb-4684-8da5-904ed5511b17",
   "metadata": {
    "tags": [
     "hide-cell"
    ]
   },
   "outputs": [
    {
     "data": {
      "text/plain": [
       "(-0.05, 0.5)"
      ]
     },
     "execution_count": 16,
     "metadata": {},
     "output_type": "execute_result"
    },
    {
     "data": {
      "image/png": "[encoded data removed]",
      "text/plain": [
       "<Figure size 1152x576 with 1 Axes>"
      ]
     },
     "metadata": {
      "needs_background": "light"
     },
     "output_type": "display_data"
    }
   ],
   "source": [
    "import numpy as np\n",
    "from scipy.stats import norm\n",
    "import matplotlib.pyplot as plt\n",
    "\n",
    "fig, ax = plt.subplots(figsize=(16, 8))\n",
    "x_min = -4\n",
    "x_max = 4\n",
    "x = np.linspace(x_min, x_max, 1000)\n",
    "\n",
    "mu = 0\n",
    "sigma = 1\n",
    "ax.plot(x, norm.pdf(x), color=\"C0\", linewidth=2)\n",
    "\n",
    "\n",
    "ticks = [z_HA_3]\n",
    "for _x in ticks:\n",
    "    ax.axvline(_x, linestyle=\"dashed\")\n",
    "\n",
    "ax.axhline(0)\n",
    "ax.set_yticks([])\n",
    "\n",
    "ax.fill_between(x, norm.pdf(x), where=x >= ticks[0], color=\"r\", alpha=0.5)\n",
    "\n",
    "ax.text(s=\"Ablehnen der $H_0$\", x=2, y=0.45, size=26)\n",
    "ax.text(s=\"Nicht ablehnen der $H_0$\", x=-1.2, y=0.45, size=26)\n",
    "\n",
    "ax.text(s=r\"$1-\\alpha$\", x=-0.3, y=0.25, size=22)\n",
    "\n",
    "ax.annotate(\n",
    "    r\"$\\alpha$\",\n",
    "    xy=(2, 0.02),\n",
    "    xytext=(2.4, 0.1),\n",
    "    # textcoords=\"data\",\n",
    "    arrowprops=dict(headwidth=15, headlength=30, width=4, color=\"k\"),\n",
    "    size=19,\n",
    ")\n",
    "\n",
    "ax.annotate(\n",
    "    r\"Kritischer Wert\",\n",
    "    xy=(ticks[0], 0.3),\n",
    "    xytext=(2.2, 0.3),\n",
    "    # textcoords=\"data\",\n",
    "    arrowprops=dict(headwidth=15, headlength=30, width=4, color=\"k\"),\n",
    "    size=19,\n",
    "    verticalalignment=\"center\",\n",
    ")\n",
    "\n",
    "ax.annotate(\n",
    "    r\"$z$\",\n",
    "    xy=(z, 0.01),\n",
    "    xytext=(z, 0.07),\n",
    "    # textcoords=\"data\",\n",
    "    arrowprops=dict(headwidth=15, headlength=10, width=4, color=\"blue\"),\n",
    "    size=19,\n",
    "    color=\"blue\",\n",
    "    horizontalalignment=\"center\",\n",
    ")\n",
    "\n",
    "\n",
    "ax.set_ylim(-0.05, 0.5)"
   ]
  },
  {
   "cell_type": "markdown",
   "id": "c48fbf21-0b7f-422a-89fd-f0b21f50d4c0",
   "metadata": {},
   "source": [
    "Aufgrund der numerischen und grafischen Auswertung fällt der Wert in den Verwerfungsbereich, so dass wir $H_0$ verwerfen. Die Testergebnisse sind auf dem $5 \\%$-Niveau statistisch signifikant."
   ]
  },
  {
   "cell_type": "markdown",
   "id": "06ae3feb-46d1-4c37-aa3c-be4fe9a4645a",
   "metadata": {},
   "source": [
    "**Schritt 6: Interpretieren Sie das Ergebnis des Hypothesentests.**"
   ]
  },
  {
   "cell_type": "markdown",
   "id": "cce9c1df-7613-45dc-a815-655350390f91",
   "metadata": {},
   "source": [
    "- **Alternativhypothese** $H_{A_1}:\\quad \\mu \\ne 70,8$"
   ]
  },
  {
   "cell_type": "markdown",
   "id": "07f7f72c-1842-44b5-b276-a6e50d328898",
   "metadata": {},
   "source": [
    "Bei einem Signifikanzniveau von $5 \\%$ lassen die Daten den Schluss zu, dass sich das Durchschnittsgewicht der Studenten vom Durchschnittsgewicht der europäischen Erwachsenen unterscheidet."
   ]
  },
  {
   "cell_type": "markdown",
   "id": "f15188ad-a88b-4a1a-bd74-ea3183b53ae0",
   "metadata": {},
   "source": [
    "- **Alternativhypothese** $H_{A_2}:\\quad \\mu \\lt 70,8$"
   ]
  },
  {
   "cell_type": "markdown",
   "id": "044fe8c2-0263-4c26-87a2-d345236429dc",
   "metadata": {},
   "source": [
    "Bei einem Signifikanzniveau von $5 \\%$ liefern die Daten keine ausreichenden Beweise für die Schlussfolgerung, dass das Durchschnittsgewicht der Studenten geringer ist als das Durchschnittsgewicht der europäischen Erwachsenen"
   ]
  },
  {
   "cell_type": "markdown",
   "id": "33baaf23-3faa-4ca3-8453-ca6e51fc7a23",
   "metadata": {},
   "source": [
    "- **Alternativhypothese** $H_{A_3}:\\quad \\mu > 70,8$"
   ]
  },
  {
   "cell_type": "markdown",
   "id": "ec5247a6-99cd-4aca-b09a-7e827027fbf9",
   "metadata": {},
   "source": [
    "Bei einem Signifikanzniveau von $5 \\%$ lassen die Daten den Schluss zu, dass sich das Durchschnittsgewicht der Studenten vom Durchschnittsgewicht der europäischen Erwachsenen unterscheidet."
   ]
  },
  {
   "cell_type": "markdown",
   "id": "532465d9-fbd0-4264-ba55-90636db84d70",
   "metadata": {},
   "source": [
    "### Hypothesentests: Der $p$-Wert-Ansatz"
   ]
  },
  {
   "cell_type": "markdown",
   "id": "45e4b69a-2893-41f1-9e1a-4c98ee868819",
   "metadata": {},
   "source": [
    "**Schritt 1: Geben Sie die Nullhypothese ($H_0$) und die Alternativhypothese ($H_A$) an.**"
   ]
  },
  {
   "cell_type": "markdown",
   "id": "6064ff39-4331-4f99-a500-e5dc74665431",
   "metadata": {},
   "source": [
    "Die Nullhypothese besagt, dass das Durchschnittsgewicht der Studenten ($\\mu$\n",
    ") gleich dem Durchschnittsgewicht europäischer Erwachsener von $70,8$ kg ($\\mu_0$) ist, wie von Walpole et al. (2012) berichtet. Mit anderen Worten: Es gibt keinen Unterschied zwischen dem Durchschnittsgewicht der Studenten und dem Durchschnittsgewicht der europäischen Erwachsenen."
   ]
  },
  {
   "cell_type": "markdown",
   "id": "cde178a2-f728-4133-bf69-f96ee7137e7b",
   "metadata": {},
   "source": [
    "$$H_{A_1}: \\quad \\mu \\ne 70,8$$"
   ]
  },
  {
   "cell_type": "markdown",
   "id": "a9673337-340a-4e25-b042-68e50afaffd2",
   "metadata": {},
   "source": [
    "Zur Veranschaulichung testen wir drei Alternativhypothesen.\n",
    "\n",
    "**Alternativhypothese 1**: Das Durchschnittsgewicht der Studenten entspricht nicht dem Durchschnittsgewicht der europäischen Erwachsenen. Mit anderen Worten: Es gibt einen Unterschied zwischen dem Durchschnittsgewicht der Studenten und dem Durchschnittsgewicht der europäischen Erwachsenen. "
   ]
  },
  {
   "cell_type": "markdown",
   "id": "fcb7438d-c2d2-4d0e-8373-398d46062971",
   "metadata": {},
   "source": [
    "$$H_{A_1}: \\quad \\mu \\ne 70,8$$"
   ]
  },
  {
   "cell_type": "markdown",
   "id": "386f618a-a185-4f45-b1c5-48f20643f89e",
   "metadata": {},
   "source": [
    "**Alternativhypothese 2**: Das Durchschnittsgewicht der Studenten ist geringer als das Durchschnittsgewicht der europäischen Erwachsenen."
   ]
  },
  {
   "cell_type": "markdown",
   "id": "5eb21b08-2725-4c68-b966-360b5162427a",
   "metadata": {},
   "source": [
    "$$H_{A_2}: \\quad \\mu  < 70,8$$"
   ]
  },
  {
   "cell_type": "markdown",
   "id": "595026ee-e5d6-4d91-815b-4d31dda31e06",
   "metadata": {},
   "source": [
    "**Alternativhypothese 3**: Das Durchschnittsgewicht der Studenten ist höher als das Durchschnittsgewicht der europäischen Erwachsenen."
   ]
  },
  {
   "cell_type": "markdown",
   "id": "950388a7-edd2-42b6-8b22-2543d4427d73",
   "metadata": {},
   "source": [
    "$$H_{A_3}: \\quad \\mu > 70,8$$"
   ]
  },
  {
   "cell_type": "markdown",
   "id": "35b8d254-1231-4664-b430-406ca4866d3d",
   "metadata": {},
   "source": [
    "**Schritt 2: Legen Sie das Signifikanzniveau $\\alpha$ fest.**"
   ]
  },
  {
   "cell_type": "markdown",
   "id": "33c20ddd-06e8-45af-9350-4e7da41e7184",
   "metadata": {},
   "source": [
    "$$\\alpha = 0,05$$"
   ]
  },
  {
   "cell_type": "code",
   "execution_count": 17,
   "id": "423367d5-bc31-4a46-acf2-7d5992b3d8ee",
   "metadata": {},
   "outputs": [],
   "source": [
    "alpha = 0.05"
   ]
  },
  {
   "cell_type": "markdown",
   "id": "d1994392-b35e-48e4-9bf9-762fa0c0bd75",
   "metadata": {},
   "source": [
    "**Schritt 3: Berechnen Sie den Wert der Teststatistik.**"
   ]
  },
  {
   "cell_type": "markdown",
   "id": "2412e388-801e-46ac-a984-8f6f0fa38bf4",
   "metadata": {},
   "source": [
    "Die folgende Gleichung wird zur Berechnung der Teststatistik $z$ verwendet."
   ]
  },
  {
   "cell_type": "markdown",
   "id": "02a61931-21b3-4fd3-a562-5eea3e41d8bd",
   "metadata": {},
   "source": [
    "$$z = \\frac{\\bar x-\\mu_0}{\\sigma/\\sqrt{n}}$$"
   ]
  },
  {
   "cell_type": "markdown",
   "id": "c5098b3a-d46a-4e7d-94a1-a667b97a2172",
   "metadata": {},
   "source": [
    "- Berechnen Sie den Wert der Teststatistik"
   ]
  },
  {
   "cell_type": "markdown",
   "id": "de620e6f-ed85-47d3-85ab-b6604657d321",
   "metadata": {},
   "source": [
    "$$z = \\frac{\\bar x-\\mu}{\\sigma/\\sqrt{n}} =  \\frac{77,02-70,8}{8,64/ \\sqrt{14}} \\approx 2,699$$"
   ]
  },
  {
   "cell_type": "code",
   "execution_count": 18,
   "id": "28e1af47-29ef-4986-924d-1ba43bffa212",
   "metadata": {},
   "outputs": [
    {
     "data": {
      "text/plain": [
       "2.699033971278552"
      ]
     },
     "execution_count": 18,
     "metadata": {},
     "output_type": "execute_result"
    }
   ],
   "source": [
    "z = (x_bar - mu0) / sigma_z * np.sqrt(n)\n",
    "z"
   ]
  },
  {
   "cell_type": "markdown",
   "id": "9c03887b-e09a-42fd-8afe-ec5595b31d88",
   "metadata": {},
   "source": [
    "**Schritt 4b: Bestimmen Sie den $p$-Wert.**"
   ]
  },
  {
   "cell_type": "markdown",
   "id": "b0fb889b-b96d-4ba9-8a66-fb7d19540ffc",
   "metadata": {},
   "source": [
    "Um den $p$-Wert zu berechnen, verwenden wir die Funktion `norm.cdf()` in Python. Erinnern Sie sich daran, dass wir auf drei Alternativhypothesen testen ($H_{A_1}, H_{A_1}$ und $H_{A_1}$), daher berechnen wir auch drei $p$-Werte ($(P(z_{A_1})$, $(P(z_{A_2})$ und $(P(z_{A_3})$)."
   ]
  },
  {
   "cell_type": "markdown",
   "id": "69e2a125-0ace-4d93-aeee-4865524cfa7c",
   "metadata": {},
   "source": [
    "- **Alternativhypothese** $H_{A_1}:\\quad \\mu \\ne 70,8$"
   ]
  },
  {
   "cell_type": "code",
   "execution_count": 19,
   "id": "266c2c08-8eac-4906-945c-1fd708f21d0a",
   "metadata": {},
   "outputs": [
    {
     "data": {
      "text/plain": [
       "0.0069541077277850295"
      ]
     },
     "execution_count": 19,
     "metadata": {},
     "output_type": "execute_result"
    }
   ],
   "source": [
    "# Die Wahrscheinlichkeit, einen z-Wert zu beobachten, der größer oder kleiner ist, wenn die Nullhypothese wahr ist\n",
    "upper = 1 - norm.cdf(abs(z))\n",
    "lower = norm.cdf(-abs(z))\n",
    "p_z_1 = upper + lower\n",
    "p_z_1"
   ]
  },
  {
   "cell_type": "markdown",
   "id": "7cd47c19-815a-4a5e-b151-2e56c4e7a690",
   "metadata": {},
   "source": [
    "Aus Schritt $3$ ergibt sich der Wert der Teststatistik $z \\approx 2,699$. Der Test ist zweiseitig, d. h. der $p$-Wert ist die Wahrscheinlichkeit, dass ein Wert $z$ in der Größenordnung von $2,699$ oder mehr oder ein Wert $z$ in der Größenordnung von $-2,699$ oder weniger beobachtet wird. Diese Wahrscheinlichkeit beträgt $0,006954$. Also $p \\approx 0,007$."
   ]
  },
  {
   "cell_type": "markdown",
   "id": "c2de71d5-0e18-44d7-8238-2263e817388b",
   "metadata": {},
   "source": [
    "- **Alternativhypothese** $H_{A_2}:\\quad \\mu \\lt 70,8$"
   ]
  },
  {
   "cell_type": "code",
   "execution_count": 20,
   "id": "4977d0a5-36e1-40c7-9a61-94d7288ce606",
   "metadata": {},
   "outputs": [
    {
     "data": {
      "text/plain": [
       "0.9965229461361075"
      ]
     },
     "execution_count": 20,
     "metadata": {},
     "output_type": "execute_result"
    }
   ],
   "source": [
    "# Die Wahrscheinlichkeit, einen z-Wert oder einen kleineren Wert zu beobachten, wenn die Nullhypothese wahr ist\n",
    "p_z_2 = norm.cdf(z)\n",
    "p_z_2"
   ]
  },
  {
   "cell_type": "markdown",
   "id": "a686f2b4-ba59-42e8-8095-0c0245706ea1",
   "metadata": {},
   "source": [
    "Aus Schritt $3$ ergibt sich der Wert der Teststatistik $z \\approx 2,699$. Der Test ist linksschief, d. h. der $p$-Wert ist die Wahrscheinlichkeit, einen Wert $z$ von $2,699$ oder weniger zu beobachten. Diese Wahrscheinlichkeit ist ungefähr $1$. $p \\approx 1$."
   ]
  },
  {
   "cell_type": "markdown",
   "id": "e1ddf013-9132-47ca-b199-abe9c4590b26",
   "metadata": {},
   "source": [
    "- **Alternativhypothese** $H_{A_3}:\\quad \\mu > 70,8$"
   ]
  },
  {
   "cell_type": "code",
   "execution_count": 21,
   "id": "c2ccbdb6-8b27-4018-8861-cd973d4f63fb",
   "metadata": {},
   "outputs": [
    {
     "data": {
      "text/plain": [
       "0.003477053863892521"
      ]
     },
     "execution_count": 21,
     "metadata": {},
     "output_type": "execute_result"
    }
   ],
   "source": [
    "# Die Wahrscheinlichkeit, einen z-Wert oder einen größeren Wert zu beobachten, wenn die Nullhypothese wahr ist\n",
    "p_z_3 = 1 - norm.cdf(z)\n",
    "p_z_3"
   ]
  },
  {
   "cell_type": "markdown",
   "id": "984feeb1-972f-44b8-acbd-4678e9e04b9f",
   "metadata": {},
   "source": [
    "Aus Schritt $3$ ergibt sich der Wert der Teststatistik $z=2,699$. Der Test ist rechtsschief, d. h. der $p$-Wert ist die Wahrscheinlichkeit, einen Wert $z$ von $2,699$ oder mehr zu beobachten. Diese Wahrscheinlichkeit ist ungefähr $0,003477$; d.h. $p \\approx 0,004$."
   ]
  },
  {
   "cell_type": "markdown",
   "id": "1efe3629-5733-4cb8-9bc5-e2c5ea80ba8c",
   "metadata": {},
   "source": [
    "**Schritt 5b: Wenn $p \\le α$, wird $H_0$ verworfen; andernfalls wird $H_0$ nicht verworfen.**"
   ]
  },
  {
   "cell_type": "markdown",
   "id": "543b1e7a-4666-43ad-bdb5-2432f7339638",
   "metadata": {},
   "source": [
    "Der $p$-Wert der in Schritt $4$ ermittelten Teststatistik wird mit dem benutzerdefinierten Signifikanzniveau $\\alpha$ von $5 \\%$ verglichen. Es sei daran erinnert, dass wir drei Alternativhypothesen ($H_{A_1}, H_{A_2}$ und $H_{A_3}$) untersuchen. Wir führen also Vergleiche für jede einzelne Hypothese durch."
   ]
  },
  {
   "cell_type": "markdown",
   "id": "0095b841-cb20-451e-bac5-ecca8a90e4a4",
   "metadata": {},
   "source": [
    "- **Alternativhypothese** $H_{A_1}:\\quad \\mu \\ne 70,8$"
   ]
  },
  {
   "cell_type": "markdown",
   "id": "9de2ca3d-b3d5-435b-b536-de3a02714276",
   "metadata": {},
   "source": [
    "$$0,007 \\le 0,05$$"
   ]
  },
  {
   "cell_type": "code",
   "execution_count": 22,
   "id": "c4a95f71-ba49-496e-a101-55fc0a8be609",
   "metadata": {},
   "outputs": [
    {
     "data": {
      "text/plain": [
       "True"
      ]
     },
     "execution_count": 22,
     "metadata": {},
     "output_type": "execute_result"
    }
   ],
   "source": [
    "# Ablehnen?\n",
    "p_z_1 <= alpha"
   ]
  },
  {
   "cell_type": "markdown",
   "id": "16059488-b54d-44e0-b3c9-414112423746",
   "metadata": {},
   "source": [
    "Der $p$-Wert ist kleiner als das angegebene Signifikanzniveau von $0,05$ und wir verwerfen $H_0$. Die Testergebnisse sind auf dem $5 \\%$-Niveau statistisch signifikant und liefern einen sehr starken Beweis gegen die Nullhypothese."
   ]
  },
  {
   "cell_type": "markdown",
   "id": "dc9b37e8-0a88-477c-9fdf-c710d0337caf",
   "metadata": {},
   "source": [
    "- **Alternativhypothese** $H_{A_2}:\\quad \\mu \\lt 70,8$"
   ]
  },
  {
   "cell_type": "markdown",
   "id": "d2388b8d-11e9-4d4e-ae2a-f1df62f7a92c",
   "metadata": {},
   "source": [
    "$$1 \\le 0,05$$"
   ]
  },
  {
   "cell_type": "code",
   "execution_count": 23,
   "id": "3d692dc6-0c86-4220-b1eb-609238c637aa",
   "metadata": {},
   "outputs": [
    {
     "data": {
      "text/plain": [
       "False"
      ]
     },
     "execution_count": 23,
     "metadata": {},
     "output_type": "execute_result"
    }
   ],
   "source": [
    "# Ablehnen?\n",
    "p_z_2 <= alpha"
   ]
  },
  {
   "cell_type": "markdown",
   "id": "3089e687-5773-4e00-87b1-07524f44ee2e",
   "metadata": {},
   "source": [
    "Der $p$-Wert ist größer als das angegebene Signifikanzniveau von $0,05$ und wir verwerfen $H_0$ nicht. Die Testergebnisse sind auf dem $5 \\%$-Niveau statistisch signifikant und liefern keinen ausreichenden Beweis gegen die Nullhypothese."
   ]
  },
  {
   "cell_type": "markdown",
   "id": "ff2d8273-1d1d-4db4-aa6d-573257b39b7d",
   "metadata": {},
   "source": [
    "- **Alternativhypothese** $H_{A_3}:\\quad \\mu > 70,8$"
   ]
  },
  {
   "cell_type": "markdown",
   "id": "2e612f5e-4d8e-4719-9004-8ef1e80d10d8",
   "metadata": {},
   "source": [
    "$$0,004 \\le 0,05$$"
   ]
  },
  {
   "cell_type": "code",
   "execution_count": 24,
   "id": "e26c4766-38bd-453e-862c-241f11cb57e0",
   "metadata": {},
   "outputs": [
    {
     "data": {
      "text/plain": [
       "True"
      ]
     },
     "execution_count": 24,
     "metadata": {},
     "output_type": "execute_result"
    }
   ],
   "source": [
    "# Ablehnen?\n",
    "p_z_3 <= alpha"
   ]
  },
  {
   "cell_type": "markdown",
   "id": "235dfb9c-857b-4642-85aa-130c0bf1c290",
   "metadata": {},
   "source": [
    "Der $p$-Wert ist kleiner als das angegebene Signifikanzniveau von $0,05$ und wir verwerfen $H_0$. Die Testergebnisse sind auf dem $5 \\%$-Niveau statistisch signifikant und liefern einen sehr starken Beweis gegen die Nullhypothese."
   ]
  },
  {
   "cell_type": "markdown",
   "id": "fadc73b6-a330-4ec1-aed1-aa9de044ce6d",
   "metadata": {},
   "source": [
    "**Schritt 6: Interpretieren Sie das Ergebnis des Hypothesentests.**"
   ]
  },
  {
   "cell_type": "markdown",
   "id": "5c72ce3e-bbb2-46a9-a1e8-4c9f36c8d89e",
   "metadata": {},
   "source": [
    "- **Alternativhypothese** $H_{A_1}:\\quad \\mu \\ne 70,8$"
   ]
  },
  {
   "cell_type": "markdown",
   "id": "d18d60c1-9ef5-4618-9806-9f358a61d4fa",
   "metadata": {},
   "source": [
    "$p \\approx 0,007$. Bei einem Signifikanzniveau von $5 \\%$ lassen die Daten den Schluss zu, dass sich das Durchschnittsgewicht der Studenten vom Durchschnittsgewicht der europäischen Erwachsenen unterscheidet."
   ]
  },
  {
   "cell_type": "markdown",
   "id": "8539a0ee-92e6-4802-b479-6b5d40ef1043",
   "metadata": {},
   "source": [
    "- **Alternativhypothese** $H_{A_2}:\\quad \\mu \\lt 70,8$"
   ]
  },
  {
   "cell_type": "markdown",
   "id": "60f30592-f24f-4808-9d0f-2c12bbab45f8",
   "metadata": {},
   "source": [
    "$p \\approx 1$. Bei einem Signifikanzniveau von $5 \\%$ liefern die Daten keine hinreichenden Anhaltspunkte für die Schlussfolgerung, dass das Durchschnittsgewicht der Studenten geringer ist als das Durchschnittsgewicht der europäischen Erwachsenen."
   ]
  },
  {
   "cell_type": "markdown",
   "id": "4de1c773-eccd-41d1-b357-9cb26a6c831c",
   "metadata": {},
   "source": [
    "- **Alternativhypothese** $H_{A_3}:\\quad \\mu > 70,8$"
   ]
  },
  {
   "cell_type": "markdown",
   "id": "e1a9a228-edb2-4c6c-a518-28321642a47e",
   "metadata": {},
   "source": [
    "$p \\approx 0,004$. Bei einem Signifikanzniveau von $5 \\%$ lassen die Daten den Schluss zu, dass das Durchschnittsgewicht der Studenten höher ist als das Durchschnittsgewicht der europäischen Erwachsenen."
   ]
  },
  {
   "cell_type": "markdown",
   "id": "53d04df7-0ece-452e-87e2-646cb1df1788",
   "metadata": {},
   "source": [
    "## Hypothesentests für den Mittelwert einer Grundgesamtheit, wenn $\\sigma$ unbekannt ist\n",
    "----------------------------------------"
   ]
  },
  {
   "cell_type": "code",
   "execution_count": 25,
   "id": "e2e95c5a-bbbd-420c-bbf2-0da28401c27b",
   "metadata": {},
   "outputs": [],
   "source": [
    "import matplotlib.pyplot as plt\n",
    "import numpy as np\n",
    "import pandas as pd\n",
    "from scipy.stats import t, ttest_1samp"
   ]
  },
  {
   "cell_type": "markdown",
   "id": "1cdab076-ab05-4fbc-9c6e-34dc9be4c3b2",
   "metadata": {},
   "source": [
    "Ein Hypothesentest für einen Grundgesamtheitsmittelwert, bei dem die Standardabweichung $\\sigma$ der Grundgesamtheit nicht bekannt ist, wird auf die gleiche Weise durchgeführt, wie wenn die Standardabweichung der Grundgesamtheit bekannt ist. Der einzige Unterschied besteht darin, dass die <a href=\"https://de.wikipedia.org/wiki/Studentsche_t-Verteilung\">$t$-Verteilung</a> und nicht die Standardnormalverteilung ($z$-Verteilung) verwendet wird.\n",
    "\n",
    "Bei einem Test mit der Nullhypothese $H_0:\\; \\mu = \\mu_0$ wird die Teststatistik, $t$, wie folgt berechnet"
   ]
  },
  {
   "cell_type": "markdown",
   "id": "adc9cad7-9574-426f-b44e-db466e77351e",
   "metadata": {},
   "source": [
    "$$t = \\frac{\\bar x - \\mu_0}{s/\\sqrt{n}}$$"
   ]
  },
  {
   "cell_type": "markdown",
   "id": "f1cdbb7c-a4e9-4dc6-8422-41050e50a546",
   "metadata": {},
   "source": [
    "Dieses Hypothesentestverfahren wird als **Einstichproben $t$-Test für einen Mittelwert** oder einfach als **$t$-Test** bezeichnet. Es sei daran erinnert, dass Hypothesentests einem schrittweisen Verfahren folgen, das wie folgt zusammengefasst wird "
   ]
  },
  {
   "cell_type": "markdown",
   "id": "2858d4ff-c566-4eb2-aeef-5d0a51474793",
   "metadata": {},
   "source": [
    "$$\n",
    "\\begin{array}{l}\n",
    "\\hline\n",
    "\\ \\text{Schritt 1}  & \\text{Geben Sie die Nullhypothese } H_0 \\text{ und alternative Hypothese } H_A \\text{ an.}\\\\\n",
    "\\ \\text{Schritt 2}  & \\text{Legen Sie das Signifikanzniveau, } \\alpha\\text{ fest.} \\\\\n",
    "\\ \\text{Schritt 3}  & \\text{Berechnen Sie den Wert der Teststatistik.} \\\\\n",
    "\\ \\text{Schritt 4a} & \\text{Ansatz des kritischen Wertes: Bestimmung des kritischen Wertes.}\n",
    "\\\\\n",
    "\\ \\text{Schritt 4b} &\\text{P-Wert-Ansatz: Bestimmen Sie den p-Wert.} \\\\\n",
    "\\ \\text{Schritt 5a} & \\text{Ansatz des kritischen Werts: Wenn der Wert der Teststatistik in den Ablehnungsbereich fällt, ist } H_0 \\text{ abzulehnen}   \\text{; ansonsten } H_0 \\text{ nicht ablehnen}  \\text{.}\n",
    "\\\\\n",
    "\\ \\text{Schritt 5b} & \\text{P-Wert-Ansatz: Wenn }p \\le \\alpha \\text{, } H_0 \\text{ ablehnen } \\text{; ansonsten } H_0 \\text{ nicht ablehnen} \\text{.} \\\\\n",
    "\\ \\text{Schritt 6} &\\text{Interpretieren Sie das Ergebnis des Hypothesentests.} \\\\\n",
    "\\hline \n",
    "\\end{array}\n",
    "$$"
   ]
  },
  {
   "cell_type": "markdown",
   "id": "64d5825c-742f-4f06-a43a-06fb0da996fe",
   "metadata": {
    "tags": []
   },
   "source": [
    "Ähnlich wie im vorangegangenen Abschnitt stellen wir zunächst den Ansatz des **kritischen Werts** vor und wiederholen dann in einem zweiten Schritt die Analyse für den **$p$-Wert-Ansatz**. Diesmal verpacken wir jedoch den Ansatz des kritischen Werts in eine selbst erstellte Funktion. Für den $p$-Wert-Ansatz werden wir die leistungsstarke Maschinerie von Python nutzen und die vorhandene Funktion `ttest_1samp()` anwenden."
   ]
  },
  {
   "cell_type": "markdown",
   "id": "b8ac456f-19b2-469b-be39-3c0948d61832",
   "metadata": {},
   "source": [
    "### Hypothesentests: Der Ansatz des kritischen Werts"
   ]
  },
  {
   "cell_type": "markdown",
   "id": "efa7d130-3f31-4051-8ce0-d6c77211f1df",
   "metadata": {},
   "source": [
    "Erstellen wir eine Funktion namens `simple_ttest()`. Die Funktion nimmt als Eingangsargumente einen Vektor `x` (Stichprobendaten), `mu0`, das $\\mu_0$ entspricht, den Grundgesamtheitsdurchschnitt, gegen den getestet werden soll, das angegebene Signifikanzniveau $\\alpha$, bezeichnet als `alpha`, und die Methode des $t$-Tests, `left` oder `right` oder der Standardwert `two-sided`, mit dem Funktionsargument namens `Methode`. Die Ausgabe der Funktion ist ein Boolescher Wert, `TRUE` oder `FALSE`. Wenn `TRUE`, wird $H_0$ abgelehnt, wenn `FALSE`, wird $H_0$ nicht abgelehnt."
   ]
  },
  {
   "cell_type": "code",
   "execution_count": 26,
   "id": "0ea59513-8d9d-4b6d-9128-caf55c3c0c84",
   "metadata": {},
   "outputs": [],
   "source": [
    "def simple_ttest(x, mu0, alpha, method=\"two-sided\"):\n",
    "    n = len(x)\n",
    "    xbar = np.mean(x)\n",
    "    s = np.std(x, ddof=1)\n",
    "    # Berechne Teststatistik\n",
    "    tstat = (xbar - mu0) / (s / np.sqrt(n))\n",
    "\n",
    "    # Berechne kritischer Wert\n",
    "    df = n - 1\n",
    "    # für den linksseitigen Test\n",
    "    if method == \"left\":\n",
    "        crit_val = t.ppf(q=alpha, df=df)\n",
    "        # Werte Ablehnungsbereich aus\n",
    "        if tstat < crit_val:\n",
    "            reject = True\n",
    "        else:\n",
    "            reject = False\n",
    "        # für den rechtsseitigen Test\n",
    "    if method == \"right\":\n",
    "        crit_val = t.ppf(q=1 - alpha, df=df)\n",
    "        # Werte Ablehnungsbereich aus\n",
    "        if tstat > crit_val:\n",
    "            reject = True\n",
    "        else:\n",
    "            reject = False\n",
    "\n",
    "    # für den zweiseitigen Test (default)\n",
    "    if method == \"two-sided\":\n",
    "        crit_val = t.ppf(q=1 - alpha / 2, df=df)\n",
    "        # Werte Ablehnungsbereich aus\n",
    "        if abs(tstat) > abs(crit_val) and -abs(tstat) < -abs(crit_val):\n",
    "            reject = True\n",
    "        else:\n",
    "            reject = False\n",
    "\n",
    "    print(\"Significance level:\", alpha)\n",
    "    print(\"Degrees of freedom:\", df)\n",
    "    print(\"Test statistic:\", round(tstat, 4))\n",
    "    print(\"Critical value:\", round(crit_val, 4))\n",
    "    print(\"Reject H0:\", reject)"
   ]
  },
  {
   "cell_type": "markdown",
   "id": "458c5b60-ecda-4a55-bfd1-b86b0c351882",
   "metadata": {},
   "source": [
    "Ein tolles Stück Code :-)"
   ]
  },
  {
   "cell_type": "markdown",
   "id": "70679854-1b2b-48fb-ad69-d3f163867a2f",
   "metadata": {},
   "source": [
    "### $t$-Test mit einem Mittelwert: Ein Beispiel"
   ]
  },
  {
   "cell_type": "markdown",
   "id": "47e2d9ba-34c4-455d-afa1-d70b7ac40c33",
   "metadata": {},
   "source": [
    "Nun ist es an der Zeit, unsere Funktion `simple_ttest()` zu testen. Dazu wiederholen wir das Beispiel aus dem vorherigen Abschnitt. Wir verwenden den `students` Datensatz. Sie können die Datei `students.csv` <a href=\"https://userpage.fu-berlin.de/soga/200/2010_data_sets/students.csv\">hier</a> herunterladen. Importieren Sie den Datensatz und geben Sie ihm einen passenden Namen."
   ]
  },
  {
   "cell_type": "code",
   "execution_count": 27,
   "id": "6552184f-43a6-419d-830b-6828868c8a9e",
   "metadata": {},
   "outputs": [],
   "source": [
    "# Lese Datei students.csv als Dataframe ein; Indexspalte wird übersprungen\n",
    "students = pd.read_csv(\"../../data/students.csv\", index_col=0)"
   ]
  },
  {
   "cell_type": "markdown",
   "id": "e4213938-906d-408f-b2b7-a41481562018",
   "metadata": {},
   "source": [
    "Der `students` Datensatz besteht aus $8239$ Zeilen, von denen jede einen bestimmten Studenten repräsentiert, und $16$ Spalten, von denen jede einer Variable/einem Merkmal entspricht, das sich auf diesen bestimmten Studenten bezieht. Diese selbsterklärenden Variablen sind: *stud_id, name, gender, age, height, weight, religion, nc_score, semester, major, minor, score1, score2, online_tutorial, graduated, salary.*"
   ]
  },
  {
   "cell_type": "markdown",
   "id": "a14b69f4-f781-45a1-aa6b-c1f2992c3e9c",
   "metadata": {},
   "source": [
    "Wir untersuchen das Durchschnittsgewicht einer Zufallsstichprobe von Studenten aus dem `students` Datensatz und vergleichen es mit dem Durchschnittsgewicht aller erwachsenen Europäer. <a href=\"https://bmcpublichealth.biomedcentral.com/articles/10.1186/1471-2458-12-439\">Walpole et al. (2012)</a> veröffentlichten Daten über das durchschnittliche Körpergewicht (kg) pro Region, einschließlich Europa. Sie geben die durchschnittliche Körpermasse für die europäische erwachsene Bevölkerung mit $70,8$ kg an. Wir setzen daher $μ_0$, den Mittelwert der Grundgesamtheit, entsprechend fest ($μ_0=70,8$). Ferner ziehen wir eine Zufallsstichprobe ($x$) mit einem Umfang von $n=9$. Die Stichprobe besteht aus den Gewichten in kg von $9$ zufällig ausgewählten Studenten."
   ]
  },
  {
   "cell_type": "code",
   "execution_count": 28,
   "id": "0ce5b0f8-aba6-41d9-bbf4-a8004113b632",
   "metadata": {},
   "outputs": [
    {
     "data": {
      "text/plain": [
       "stud_id\n",
       "883146    56.5\n",
       "677171    86.5\n",
       "141515    62.9\n",
       "159416    62.4\n",
       "175825    64.4\n",
       "804998    76.3\n",
       "746386    65.7\n",
       "949645    61.4\n",
       "847488    66.6\n",
       "Name: weight, dtype: float64"
      ]
     },
     "execution_count": 28,
     "metadata": {},
     "output_type": "execute_result"
    }
   ],
   "source": [
    "mu0 = 70.8\n",
    "n = 9\n",
    "\n",
    "x = students.weight.sample(n, random_state=1)\n",
    "x.head(10)"
   ]
  },
  {
   "cell_type": "markdown",
   "id": "dfc015ca-bd82-4b5f-9880-e839e0db1b4f",
   "metadata": {},
   "source": [
    "### Überprüfen der Hypothesen"
   ]
  },
  {
   "cell_type": "markdown",
   "id": "45d4f786-6ac9-480d-a16d-115271a6be9d",
   "metadata": {},
   "source": [
    "**Schritt 1 : Geben Sie die Nullhypothese $H_0$ und alternative Hypothese $H_A$ an**"
   ]
  },
  {
   "cell_type": "markdown",
   "id": "0ab34845-ba8c-4777-ac8c-3dbf29ad5b1b",
   "metadata": {},
   "source": [
    "Die Nullhypothese besagt, dass das Durchschnittsgewicht der Studenten dem Durchschnittsgewicht der europäischen Erwachsenen entspricht, wie von Walpole et al. (2012) berichtet. Mit anderen Worten: Es gibt keinen Unterschied zwischen dem Durchschnittsgewicht der Studenten und dem Durchschnittsgewicht der europäischen Erwachsenen."
   ]
  },
  {
   "cell_type": "markdown",
   "id": "d9b08e92-0171-47f4-af71-ea3d668411ee",
   "metadata": {},
   "source": [
    "$$H_0: \\quad \\mu = 70,8$$"
   ]
  },
  {
   "cell_type": "markdown",
   "id": "0bd69d05-50ee-41d6-9616-bf61c920f57d",
   "metadata": {},
   "source": [
    "Erinnern Sie sich daran, dass die Formulierung der Alternativhypothese vorgibt, ob wir einen zweiseitigen, einen links- oder einen rechtsseitigen Hypothesentest durchführen."
   ]
  },
  {
   "cell_type": "markdown",
   "id": "8303fdec-aec3-4abd-aab9-61235dbb3c22",
   "metadata": {},
   "source": [
    "**Alternativhypothese 1**"
   ]
  },
  {
   "cell_type": "markdown",
   "id": "ffb6644e-3439-47b8-b155-9d0e45454a1f",
   "metadata": {},
   "source": [
    "$$H_{A_1}: \\quad \\mu \\ne 70,8$$"
   ]
  },
  {
   "cell_type": "markdown",
   "id": "74769e12-c21f-4c43-bcf2-7287f5ce8a50",
   "metadata": {},
   "source": [
    "führt zu einem zweiseitigen Hypothesentest."
   ]
  },
  {
   "cell_type": "markdown",
   "id": "c3aa713a-3dbf-43da-bc20-d548d7c20caa",
   "metadata": {},
   "source": [
    "**Alternativhypothese 2**"
   ]
  },
  {
   "cell_type": "markdown",
   "id": "eb2ba50e-8862-4247-9e3d-d588f35803b9",
   "metadata": {
    "tags": []
   },
   "source": [
    "$$H_{A_2}: \\quad \\mu  < 70,8$$"
   ]
  },
  {
   "cell_type": "markdown",
   "id": "80efd05e-2730-4cbc-8dfe-296bc85797e3",
   "metadata": {},
   "source": [
    "zu einem linksseitigen Hypothesentest und"
   ]
  },
  {
   "cell_type": "markdown",
   "id": "4d788d02-a4a3-43e3-b8f3-cbf5b2b7af21",
   "metadata": {},
   "source": [
    "**Alternativhypothese 3**"
   ]
  },
  {
   "cell_type": "markdown",
   "id": "391541d1-adae-4ef5-8381-eab77430fdf5",
   "metadata": {},
   "source": [
    "$$H_{A_3}: \\quad \\mu > 70,8$$"
   ]
  },
  {
   "cell_type": "markdown",
   "id": "68b5ee33-1dba-47a5-b8fd-02849cd3c966",
   "metadata": {},
   "source": [
    "zu einem rechtsseitigen Hypothesentest"
   ]
  },
  {
   "cell_type": "markdown",
   "id": "54514eba-165c-4b0b-903e-7972e637f4c3",
   "metadata": {},
   "source": [
    "**Schritt 2: Legen Sie das Signifikanzniveau,$\\alpha$ fest.**"
   ]
  },
  {
   "cell_type": "markdown",
   "id": "8410b362-8b29-4298-87a3-6110e469b2fb",
   "metadata": {},
   "source": [
    "$$\\alpha = 0,05$$"
   ]
  },
  {
   "cell_type": "code",
   "execution_count": 29,
   "id": "41160390-502c-4f73-ada0-342997a08c7f",
   "metadata": {},
   "outputs": [],
   "source": [
    "alpha = 0.05"
   ]
  },
  {
   "cell_type": "markdown",
   "id": "fe46479a-6bb5-491a-8ab5-a405ce0c0869",
   "metadata": {},
   "source": [
    "**Schritt 3, 4 und 5: Berechnen Sie den Wert der Teststatistik, bestimmen Sie den kritischen Wert, und werten Sie den Wert der Teststatistik aus. Wenn er in den Verwerfungsbereich fällt, verwerfen Sie $H_0$; andernfalls verwerfen Sie $H_0$ nicht**"
   ]
  },
  {
   "cell_type": "markdown",
   "id": "8614146a-661c-40ba-8475-d91aff9d8a9a",
   "metadata": {},
   "source": [
    "Jetzt kommt unsere selbst erstellte Funktion `simple_ttest()` ins Spiel. Wir geben der Funktion eine Zufallsstichprobe in Form eines Vektors, einen Wert für $\\mu_0$, ein Signifikanzniveau $\\alpha$ und die Methode (`two-sided`, `left` oder `right`) an. Erinnern Sie sich daran, dass zweiseitig der Standardwert ist. Wenn wir also keine Methode angeben, wird die Funktion den zweiseitigen Hypothesentest anwenden."
   ]
  },
  {
   "cell_type": "code",
   "execution_count": 30,
   "id": "9681df11-3ce6-44b9-80aa-e7bc8a60527c",
   "metadata": {},
   "outputs": [
    {
     "name": "stdout",
     "output_type": "stream",
     "text": [
      "Significance level: 0.05\n",
      "Degrees of freedom: 8\n",
      "Test statistic: -1.271\n",
      "Critical value: 2.306\n",
      "Reject H0: False\n"
     ]
    }
   ],
   "source": [
    "simple_ttest(x, mu0, alpha)"
   ]
  },
  {
   "cell_type": "markdown",
   "id": "5ed9a17e-7a92-46b6-a3ab-40b22ef7967f",
   "metadata": {},
   "source": [
    "Cool! ;-)\n",
    "\n",
    "Ein rechtsseitiger $t$-Test"
   ]
  },
  {
   "cell_type": "code",
   "execution_count": 31,
   "id": "01c2591c-11ff-4773-9537-429856ad8e63",
   "metadata": {},
   "outputs": [
    {
     "name": "stdout",
     "output_type": "stream",
     "text": [
      "Significance level: 0.05\n",
      "Degrees of freedom: 8\n",
      "Test statistic: -1.271\n",
      "Critical value: 1.8595\n",
      "Reject H0: False\n"
     ]
    }
   ],
   "source": [
    "simple_ttest(x, mu0, alpha, method=\"right\")"
   ]
  },
  {
   "cell_type": "markdown",
   "id": "06e21066-f470-412d-82c6-909867730bc2",
   "metadata": {},
   "source": [
    "Ein linksseitiger $t$-Test"
   ]
  },
  {
   "cell_type": "code",
   "execution_count": 32,
   "id": "55ee928e-467d-4eda-8f09-e01c8bb8228c",
   "metadata": {},
   "outputs": [
    {
     "name": "stdout",
     "output_type": "stream",
     "text": [
      "Significance level: 0.05\n",
      "Degrees of freedom: 8\n",
      "Test statistic: -1.271\n",
      "Critical value: -1.8595\n",
      "Reject H0: False\n"
     ]
    }
   ],
   "source": [
    "simple_ttest(x, mu0, alpha, method=\"left\")"
   ]
  },
  {
   "cell_type": "markdown",
   "id": "fc866055-26c6-4bb1-8586-275c09ab806f",
   "metadata": {},
   "source": [
    "**Schritt 6: Interpretieren Sie das Ergebnis des Hypothesentests**"
   ]
  },
  {
   "cell_type": "markdown",
   "id": "c14fd99a-e67a-4b0f-93bb-2c5e60a67b29",
   "metadata": {},
   "source": [
    "Wenn die Teststatistik und damit der Stichprobenmittelwert so extrem ist, dass er über den kritischen Wert hinausgeht und damit in den Verwerfungsbereich fällt, schließen wir, dass die Daten bei einem Signifikanzniveau von $5 \\%$ genügend Beweise liefern, um $H_0$ zu verwerfen. Fällt die Teststatistik und damit der Stichprobenmittelwert dagegen in den Nicht-Verwerfungsbereich, so schließen wir, dass die Daten keine Beweise für die Ablehnung von $H_0$ liefern."
   ]
  },
  {
   "cell_type": "markdown",
   "id": "d3abb21a-8412-477b-a525-19231bc95a25",
   "metadata": {},
   "source": [
    "### Hypothesentests in Python: Der $p$-Wert Ansatz"
   ]
  },
  {
   "cell_type": "markdown",
   "id": "ee1b1605-c1f6-4063-8e33-03fe9d2c056d",
   "metadata": {},
   "source": [
    "Der zweite Ansatz basiert auf der Zuweisung einer Wahrscheinlichkeit für den Wert der Teststatistik. Wenn die Teststatistik sehr extrem ist und die Nullhypothese wahr ist, wird der Teststatistik eine geringe Wahrscheinlichkeit zugewiesen. Ist die Teststatistik dagegen überhaupt nicht extrem, so wird ihr eine viel höhere Wahrscheinlichkeit zugewiesen. Diese Wahrscheinlichkeit wird als $p$-Wert bezeichnet.\n",
    "\n",
    "Um den genauen $p$-Wert für einen gegebenen numerischen Wert zu berechnen, sind wir auf Software angewiesen, da die \"In-Tabellen-nachschlagen-Methode\" etwas mühsam ist, da nicht alle numerischen Werte der Teststatistik in einer solchen Tabelle angegeben sind. Dies führt zu Rundungsfehlern. Die Programmiersprache Python bietet jedoch einen sehr leistungsfähigen Mechanismus zur Durchführung von $t$-Tests. Die generische Funktion heißt `ttest_1samp`. Sie können mehr Details erfahren, indem Sie `help(ttest_1samp)` in Ihre Konsole eingeben. Obwohl die Funktion verschiedene Argumente liefert, ist der spezielle $t$-Test, für den wir uns jetzt interessieren, nämlich der Test eines Grundgesamtheitsmittelwertes, wenn $\\sigma$ unbekannt ist, ist recht einfach."
   ]
  },
  {
   "cell_type": "markdown",
   "id": "52c7bfb2-6099-4037-8d4b-71c895791433",
   "metadata": {},
   "source": [
    "Wir wiederholen das gleiche Problem wie im vorherigen Abschnitt, wobei wir die bereits definierten Variablen verwenden. Zur Erinnerung: Die Stichprobe ist ein Vektor von Gewichten ($x$), $\\mu_0=70,8$, angegeben als `mu0`, $n=9$, angegeben als `n`. Mit diesen Informationen wenden wir die Funktion `ttest_1samp` für einen zweiseitigen $t$-Test an, indem wir `ttest_1samp(x = x, mu = mu0, alternative = 'two-sided')` in Python eingeben. Wir vergleichen zur Auswertung ob der $p$-Wert unter $\\alpha=0,05$ liegt und damit statistisch Signifikant ist."
   ]
  },
  {
   "cell_type": "code",
   "execution_count": 33,
   "id": "b02c4fb9-33f2-40ca-b17c-9a02b3be7fd3",
   "metadata": {},
   "outputs": [
    {
     "data": {
      "text/plain": [
       "Ttest_1sampResult(statistic=-1.2710092384447174, pvalue=0.23943518262349406)"
      ]
     },
     "execution_count": 33,
     "metadata": {},
     "output_type": "execute_result"
    }
   ],
   "source": [
    "ttest_1samp(x, mu0, alternative=\"two-sided\")"
   ]
  },
  {
   "cell_type": "code",
   "execution_count": 34,
   "id": "d141132a-2e43-47b9-ad75-4d584a3be321",
   "metadata": {},
   "outputs": [
    {
     "data": {
      "text/plain": [
       "False"
      ]
     },
     "execution_count": 34,
     "metadata": {},
     "output_type": "execute_result"
    }
   ],
   "source": [
    "0.2394 < alpha"
   ]
  },
  {
   "cell_type": "markdown",
   "id": "86cb2267-a65e-42b7-a922-b8b0ddcff086",
   "metadata": {},
   "source": [
    "Wahnsinn! Python führt einen Hypothesentest in einer einzigen Codezeile durch und gibt zusätzliche Informationen kostenlos aus! Gehen wir die Ausgabe der Funktion `ttest_1samp()` durch.\n",
    "\n",
    "Die erste Zeile listet die Ergebnisse der Berechnungen für die Teststatistik $t$ und den $p$-Wert auf: $t = -1,271$, $p$-Wert $= 0,2394$.\n",
    "    Wir können die Alternativhypothese, die wir verwenden durch das Argument `alternative` = `less` , `greater` , `two-sided` ändern. In unserem Fall war sie zweiseitig. Versuchen Sie selbst, das Attribut in `less` oder `greater` zu ändern, um eine andere Alternativhypothese anzuwenden.\n",
    "\n",
    "Es ist erwähnenswert, dass die Funktion `ttest_1samp()` die Ergebnisse des $t$-Tests ausgibt. Wir können also die Ergebnisse der Funktion `ttest_1samp()` in einer Variablen speichern."
   ]
  },
  {
   "cell_type": "markdown",
   "id": "a549d7af-552c-42b2-8b48-5f37dc1f8912",
   "metadata": {},
   "source": [
    "Um den $p$-Wert abzurufen, geben wir ein"
   ]
  },
  {
   "cell_type": "code",
   "execution_count": 35,
   "id": "894b97eb-6f7e-4e38-98e7-58bc1159da38",
   "metadata": {},
   "outputs": [],
   "source": [
    "statistics, pvalue = ttest_1samp(x, mu0, alternative=\"two-sided\")"
   ]
  },
  {
   "cell_type": "code",
   "execution_count": 36,
   "id": "2773090c-92e2-4526-8a78-7a7b4295d7b7",
   "metadata": {},
   "outputs": [
    {
     "data": {
      "text/plain": [
       "0.23943518262349406"
      ]
     },
     "execution_count": 36,
     "metadata": {},
     "output_type": "execute_result"
    }
   ],
   "source": [
    "pvalue"
   ]
  },
  {
   "cell_type": "code",
   "execution_count": 37,
   "id": "c63dadfb-bc6c-4d8b-a621-8a73933c2845",
   "metadata": {},
   "outputs": [
    {
     "data": {
      "text/plain": [
       "-1.2710092384447174"
      ]
     },
     "execution_count": 37,
     "metadata": {},
     "output_type": "execute_result"
    }
   ],
   "source": [
    "statistics"
   ]
  }
 ],
 "metadata": {
  "kernelspec": {
   "display_name": "Python 3 (ipykernel)",
   "language": "python",
   "name": "python3"
  },
  "language_info": {
   "codemirror_mode": {
    "name": "ipython",
    "version": 3
   },
   "file_extension": ".py",
   "mimetype": "text/x-python",
   "name": "python",
   "nbconvert_exporter": "python",
   "pygments_lexer": "ipython3",
   "version": "3.10.9"
  },
  "vscode": {
   "interpreter": {
    "hash": "31f2aee4e71d21fbe5cf8b01ff0e069b9275f58929596ceb00d14d90e3e16cd6"
   }
  }
 },
 "nbformat": 4,
 "nbformat_minor": 5
}
